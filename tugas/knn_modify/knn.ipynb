{
 "cells": [
  {
   "cell_type": "code",
   "execution_count": 2,
   "id": "initial_id",
   "metadata": {
    "collapsed": true,
    "ExecuteTime": {
     "end_time": "2024-05-07T14:05:22.449007Z",
     "start_time": "2024-05-07T14:05:20.562525Z"
    }
   },
   "outputs": [],
   "source": [
    "import numpy as np\n",
    "import matplotlib.pyplot as plt\n",
    "import pandas as pd\n",
    "from sklearn.model_selection import train_test_split\n",
    "from sklearn.preprocessing import StandardScaler\n",
    "\n",
    "from sklearn.neighbors import KNeighborsClassifier\n",
    "from sklearn.metrics import confusion_matrix\n",
    "\n",
    "from matplotlib.colors import ListedColormap"
   ]
  },
  {
   "cell_type": "code",
   "outputs": [],
   "source": [
    "dataset = pd.read_csv('./../XAUUSD_2010-2023.csv')\n"
   ],
   "metadata": {
    "collapsed": false,
    "ExecuteTime": {
     "end_time": "2024-05-07T14:12:18.320173Z",
     "start_time": "2024-05-07T14:12:17.060876Z"
    }
   },
   "id": "dac0a7deabb5a5e6",
   "execution_count": 64
  },
  {
   "cell_type": "code",
   "outputs": [],
   "source": [
    "\n",
    "dataset=dataset.head(700)\n",
    "# dataset.head(200_000)"
   ],
   "metadata": {
    "collapsed": false,
    "ExecuteTime": {
     "end_time": "2024-05-07T14:19:41.962448Z",
     "start_time": "2024-05-07T14:19:41.953111Z"
    }
   },
   "id": "fa91a223083ce8b4",
   "execution_count": 128
  },
  {
   "cell_type": "code",
   "outputs": [],
   "source": [
    "# mengambil nilai High dan low \n",
    "x = dataset.iloc[:, [2, 3]].values\n",
    "# mengambil nilai open\n",
    "y = dataset.iloc[:, 1].values"
   ],
   "metadata": {
    "collapsed": false,
    "ExecuteTime": {
     "end_time": "2024-05-07T14:19:42.692480Z",
     "start_time": "2024-05-07T14:19:42.675526Z"
    }
   },
   "id": "76b0e39026b84efc",
   "execution_count": 129
  },
  {
   "cell_type": "code",
   "outputs": [
    {
     "data": {
      "text/plain": "array([[1100.  , 1098.05],\n       [1100.3 , 1099.45],\n       [1100.1 , 1099.3 ],\n       ...,\n       [1124.48, 1123.78],\n       [1124.83, 1124.1 ],\n       [1124.25, 1123.65]])"
     },
     "execution_count": 153,
     "metadata": {},
     "output_type": "execute_result"
    }
   ],
   "source": [
    "x"
   ],
   "metadata": {
    "collapsed": false,
    "ExecuteTime": {
     "end_time": "2024-05-07T14:24:33.550770Z",
     "start_time": "2024-05-07T14:24:33.532905Z"
    }
   },
   "id": "1a3cd07844644733",
   "execution_count": 153
  },
  {
   "cell_type": "code",
   "outputs": [
    {
     "data": {
      "text/plain": "array([1098.45, 1100.  , 1099.7 , 1099.5 , 1099.4 , 1098.95, 1098.85,\n       1098.55, 1097.2 , 1097.65, 1097.7 , 1096.85, 1095.73, 1094.63,\n       1094.43, 1093.48, 1094.63, 1095.28, 1095.38, 1095.08, 1094.98,\n       1095.65, 1096.03, 1094.6 , 1094.58, 1095.15, 1095.33, 1095.38,\n       1094.78, 1095.1 , 1095.1 , 1094.93, 1094.73, 1094.9 , 1095.23,\n       1095.35, 1095.35, 1096.1 , 1096.18, 1098.13, 1098.  , 1098.28,\n       1097.55, 1098.63, 1098.83, 1098.38, 1097.83, 1097.5 , 1098.03,\n       1098.08, 1098.38, 1098.38, 1098.73, 1097.63, 1097.53, 1098.08,\n       1097.98, 1097.68, 1097.98, 1098.48, 1098.78, 1099.28, 1100.68,\n       1100.13, 1099.88, 1099.73, 1100.38, 1100.48, 1101.68, 1101.73,\n       1101.88, 1101.53, 1101.78, 1101.78, 1102.08, 1101.78, 1101.78,\n       1101.83, 1102.73, 1102.05, 1102.35, 1102.5 , 1103.4 , 1102.73,\n       1102.58, 1102.95, 1103.28, 1103.55, 1102.75, 1102.05, 1101.73,\n       1102.95, 1103.13, 1102.98, 1102.18, 1102.53, 1102.58, 1101.95,\n       1102.53, 1101.5 , 1101.03, 1101.43, 1101.78, 1100.6 , 1100.83,\n       1101.2 , 1102.53, 1102.68, 1103.63, 1107.05, 1107.3 , 1107.43,\n       1106.3 , 1106.98, 1106.75, 1107.9 , 1108.25, 1108.3 , 1109.58,\n       1110.08, 1109.73, 1110.33, 1110.7 , 1110.6 , 1111.28, 1111.45,\n       1111.78, 1113.2 , 1113.23, 1112.68, 1112.53, 1113.7 , 1113.78,\n       1113.33, 1114.38, 1114.48, 1114.65, 1114.05, 1113.93, 1112.53,\n       1113.03, 1113.8 , 1113.8 , 1113.33, 1112.93, 1114.03, 1117.65,\n       1117.73, 1117.53, 1117.08, 1116.63, 1116.73, 1116.75, 1116.68,\n       1116.68, 1116.03, 1116.13, 1115.38, 1115.95, 1116.78, 1116.15,\n       1115.88, 1115.95, 1115.98, 1115.53, 1114.88, 1115.03, 1114.8 ,\n       1114.53, 1114.9 , 1114.88, 1115.18, 1116.93, 1116.6 , 1116.13,\n       1116.53, 1117.28, 1117.58, 1117.03, 1116.28, 1117.68, 1122.28,\n       1121.53, 1121.68, 1122.53, 1121.98, 1120.58, 1121.33, 1121.7 ,\n       1122.43, 1121.85, 1120.83, 1120.73, 1121.68, 1123.23, 1121.23,\n       1119.93, 1120.65, 1121.05, 1120.83, 1120.93, 1122.5 , 1121.68,\n       1122.08, 1121.93, 1122.35, 1122.05, 1122.4 , 1121.53, 1121.15,\n       1121.03, 1121.  , 1120.53, 1120.88, 1119.  , 1119.8 , 1118.55,\n       1118.55, 1118.95, 1118.35, 1118.13, 1117.23, 1117.4 , 1117.33,\n       1118.18, 1117.13, 1117.03, 1117.33, 1117.43, 1116.73, 1116.93,\n       1117.23, 1117.78, 1117.58, 1117.98, 1117.43, 1117.4 , 1117.6 ,\n       1117.5 , 1116.5 , 1116.13, 1116.48, 1116.88, 1117.4 , 1118.2 ,\n       1117.93, 1118.45, 1118.75, 1117.98, 1118.15, 1118.75, 1118.38,\n       1117.3 , 1117.05, 1117.85, 1118.45, 1118.6 , 1118.4 , 1118.73,\n       1118.53, 1118.4 , 1119.13, 1119.15, 1119.53, 1120.3 , 1119.93,\n       1120.43, 1120.  , 1120.03, 1120.98, 1121.15, 1121.13, 1121.05,\n       1121.1 , 1121.13, 1120.98, 1121.08, 1121.13, 1121.2 , 1121.18,\n       1121.23, 1121.23, 1121.43, 1122.1 , 1122.45, 1121.6 , 1120.05,\n       1120.15, 1121.35, 1121.98, 1121.18, 1120.98, 1120.93, 1120.33,\n       1120.93, 1121.15, 1121.65, 1121.93, 1121.58, 1121.3 , 1121.33,\n       1121.13, 1121.33, 1121.63, 1120.95, 1120.78, 1120.93, 1120.88,\n       1122.03, 1121.43, 1121.63, 1121.58, 1121.18, 1121.23, 1121.3 ,\n       1121.75, 1121.53, 1121.55, 1121.63, 1121.5 , 1120.93, 1120.75,\n       1120.7 , 1121.08, 1120.93, 1120.83, 1121.33, 1120.83, 1120.9 ,\n       1120.85, 1121.35, 1121.25, 1121.55, 1122.88, 1123.58, 1123.18,\n       1123.4 , 1123.28, 1123.48, 1123.28, 1122.7 , 1122.35, 1122.75,\n       1122.9 , 1122.8 , 1122.88, 1123.2 , 1123.55, 1123.38, 1123.5 ,\n       1123.48, 1123.08, 1123.38, 1122.93, 1122.73, 1122.13, 1122.43,\n       1122.33, 1122.  , 1122.33, 1122.28, 1122.73, 1123.15, 1123.35,\n       1123.68, 1123.63, 1123.53, 1122.88, 1123.38, 1123.38, 1123.05,\n       1122.75, 1122.93, 1123.68, 1123.45, 1124.13, 1124.15, 1127.33,\n       1126.68, 1127.8 , 1127.15, 1126.8 , 1126.83, 1127.55, 1127.  ,\n       1126.88, 1127.  , 1127.18, 1127.28, 1127.43, 1127.58, 1124.78,\n       1125.85, 1124.63, 1125.65, 1125.33, 1126.73, 1125.68, 1125.63,\n       1125.73, 1126.13, 1126.13, 1125.58, 1125.78, 1125.83, 1126.33,\n       1125.95, 1126.63, 1126.48, 1125.93, 1126.23, 1126.43, 1126.53,\n       1126.68, 1126.2 , 1125.83, 1125.43, 1125.88, 1125.68, 1125.38,\n       1126.3 , 1125.28, 1125.1 , 1124.75, 1124.15, 1124.23, 1122.43,\n       1122.2 , 1122.45, 1122.23, 1120.88, 1120.5 , 1121.25, 1122.03,\n       1121.95, 1122.43, 1122.45, 1121.53, 1121.25, 1121.9 , 1122.53,\n       1122.68, 1123.38, 1123.18, 1124.68, 1124.68, 1124.8 , 1127.73,\n       1126.13, 1126.25, 1126.5 , 1126.18, 1126.23, 1126.18, 1125.  ,\n       1124.95, 1123.15, 1122.65, 1121.43, 1119.4 , 1120.28, 1119.73,\n       1120.25, 1119.78, 1121.23, 1121.85, 1120.35, 1120.  , 1120.8 ,\n       1119.18, 1118.48, 1118.48, 1119.83, 1120.9 , 1120.13, 1123.23,\n       1122.6 , 1124.5 , 1125.38, 1124.28, 1125.18, 1125.53, 1124.38,\n       1123.43, 1122.43, 1123.63, 1124.68, 1124.48, 1126.08, 1124.6 ,\n       1123.93, 1123.78, 1123.13, 1122.68, 1122.78, 1123.08, 1122.93,\n       1122.48, 1123.45, 1123.58, 1122.98, 1122.98, 1122.78, 1122.23,\n       1121.98, 1122.05, 1122.05, 1121.45, 1120.98, 1121.05, 1121.1 ,\n       1120.8 , 1120.13, 1119.83, 1119.83, 1118.93, 1118.18, 1115.53,\n       1115.9 , 1115.33, 1116.75, 1117.48, 1117.03, 1115.93, 1115.73,\n       1116.08, 1116.03, 1116.63, 1117.53, 1117.18, 1117.38, 1117.48,\n       1117.33, 1117.03, 1117.93, 1117.73, 1119.  , 1117.93, 1118.83,\n       1119.03, 1119.45, 1119.48, 1119.08, 1119.18, 1119.83, 1119.85,\n       1119.38, 1119.28, 1119.28, 1119.03, 1118.73, 1118.88, 1118.68,\n       1118.63, 1118.48, 1118.53, 1118.13, 1117.93, 1117.8 , 1117.95,\n       1117.95, 1117.83, 1117.83, 1116.8 , 1117.03, 1116.65, 1117.03,\n       1117.28, 1118.08, 1118.95, 1118.53, 1118.25, 1118.45, 1117.43,\n       1118.7 , 1118.98, 1119.43, 1118.83, 1118.98, 1118.63, 1118.  ,\n       1118.  , 1117.25, 1117.48, 1117.28, 1118.15, 1118.65, 1120.08,\n       1120.5 , 1119.98, 1119.53, 1119.43, 1119.55, 1120.  , 1119.78,\n       1120.03, 1120.38, 1121.08, 1121.88, 1121.58, 1121.73, 1121.83,\n       1121.43, 1121.18, 1121.18, 1121.5 , 1121.35, 1121.95, 1122.2 ,\n       1123.3 , 1123.73, 1124.33, 1123.83, 1122.98, 1122.68, 1122.73,\n       1123.38, 1123.78, 1123.83, 1123.23, 1123.23, 1123.58, 1123.43,\n       1123.53, 1123.38, 1123.83, 1124.38, 1123.95, 1124.25, 1124.58,\n       1124.03, 1123.83, 1124.08, 1123.88, 1123.58, 1123.58, 1123.15,\n       1123.08, 1122.65, 1122.08, 1122.6 , 1123.08, 1122.73, 1123.75,\n       1123.53, 1122.8 , 1122.63, 1122.68, 1122.88, 1123.45, 1123.58,\n       1123.98, 1124.2 , 1123.48, 1123.53, 1123.18, 1121.05, 1120.38,\n       1121.13, 1120.45, 1119.28, 1119.28, 1119.98, 1119.85, 1120.18,\n       1121.43, 1121.75, 1122.78, 1121.98, 1123.43, 1123.75, 1123.4 ,\n       1124.58, 1125.38, 1124.28, 1124.  , 1123.08, 1123.5 , 1123.95,\n       1124.63, 1125.25, 1124.4 , 1124.83, 1124.85, 1124.98, 1124.95,\n       1123.83, 1124.43, 1124.85, 1125.73, 1125.43, 1125.88, 1126.15,\n       1125.48, 1125.85, 1126.33, 1125.2 , 1123.93, 1124.48, 1124.23])"
     },
     "execution_count": 154,
     "metadata": {},
     "output_type": "execute_result"
    }
   ],
   "source": [
    "y"
   ],
   "metadata": {
    "collapsed": false,
    "ExecuteTime": {
     "end_time": "2024-05-07T14:24:37.419942Z",
     "start_time": "2024-05-07T14:24:37.402202Z"
    }
   },
   "id": "6b34491df5b4336",
   "execution_count": 154
  },
  {
   "cell_type": "code",
   "outputs": [],
   "source": [
    "x_train, x_test, y_train, y_test = train_test_split(\n",
    "    x,  # memasukan data x low dan high\n",
    "    y,  # memasukan data y open\n",
    "    test_size=0.25,  # adalah berapa persen data yang akan di test\n",
    "    random_state=0\n",
    ")"
   ],
   "metadata": {
    "collapsed": false,
    "ExecuteTime": {
     "end_time": "2024-05-07T14:19:46.281113Z",
     "start_time": "2024-05-07T14:19:46.271836Z"
    }
   },
   "id": "337ef5b92dbb06fd",
   "execution_count": 132
  },
  {
   "cell_type": "code",
   "outputs": [
    {
     "name": "stdout",
     "output_type": "stream",
     "text": [
      "[[1115.1  1114.75]\n",
      " [1118.68 1118.48]\n",
      " [1095.43 1095.2 ]\n",
      " ...\n",
      " [1124.65 1123.98]\n",
      " [1117.98 1117.93]\n",
      " [1125.05 1124.68]]\n"
     ]
    }
   ],
   "source": [
    "print(x_train)"
   ],
   "metadata": {
    "collapsed": false,
    "ExecuteTime": {
     "end_time": "2024-05-07T14:19:47.372982Z",
     "start_time": "2024-05-07T14:19:47.361608Z"
    }
   },
   "id": "8bb71e1a3b96b990",
   "execution_count": 133
  },
  {
   "cell_type": "code",
   "outputs": [
    {
     "data": {
      "text/plain": "525"
     },
     "execution_count": 134,
     "metadata": {},
     "output_type": "execute_result"
    }
   ],
   "source": [
    "len(x_train)"
   ],
   "metadata": {
    "collapsed": false,
    "ExecuteTime": {
     "end_time": "2024-05-07T14:19:47.856601Z",
     "start_time": "2024-05-07T14:19:47.843243Z"
    }
   },
   "id": "c6d8c3bfd1ea56c9",
   "execution_count": 134
  },
  {
   "cell_type": "code",
   "outputs": [
    {
     "data": {
      "text/plain": "700"
     },
     "execution_count": 135,
     "metadata": {},
     "output_type": "execute_result"
    }
   ],
   "source": [
    "len(x)"
   ],
   "metadata": {
    "collapsed": false,
    "ExecuteTime": {
     "end_time": "2024-05-07T14:19:48.516555Z",
     "start_time": "2024-05-07T14:19:48.508749Z"
    }
   },
   "id": "d654d0ac543382a1",
   "execution_count": 135
  },
  {
   "cell_type": "code",
   "outputs": [
    {
     "data": {
      "text/plain": "175"
     },
     "execution_count": 136,
     "metadata": {},
     "output_type": "execute_result"
    }
   ],
   "source": [
    "len(x_test)"
   ],
   "metadata": {
    "collapsed": false,
    "ExecuteTime": {
     "end_time": "2024-05-07T14:19:49.035295Z",
     "start_time": "2024-05-07T14:19:49.014952Z"
    }
   },
   "id": "66c1a2555aac3fd7",
   "execution_count": 136
  },
  {
   "cell_type": "code",
   "outputs": [
    {
     "data": {
      "text/plain": "700"
     },
     "execution_count": 137,
     "metadata": {},
     "output_type": "execute_result"
    }
   ],
   "source": [
    "len(y)"
   ],
   "metadata": {
    "collapsed": false,
    "ExecuteTime": {
     "end_time": "2024-05-07T14:19:49.616786Z",
     "start_time": "2024-05-07T14:19:49.599431Z"
    }
   },
   "id": "9ded1103b7552658",
   "execution_count": 137
  },
  {
   "cell_type": "code",
   "outputs": [
    {
     "data": {
      "text/plain": "175"
     },
     "execution_count": 138,
     "metadata": {},
     "output_type": "execute_result"
    }
   ],
   "source": [
    "len(y_test)"
   ],
   "metadata": {
    "collapsed": false,
    "ExecuteTime": {
     "end_time": "2024-05-07T14:19:50.069879Z",
     "start_time": "2024-05-07T14:19:50.048876Z"
    }
   },
   "id": "7b8edebeae93375f",
   "execution_count": 138
  },
  {
   "cell_type": "code",
   "outputs": [
    {
     "data": {
      "text/plain": "525"
     },
     "execution_count": 139,
     "metadata": {},
     "output_type": "execute_result"
    }
   ],
   "source": [
    "len(y_train)"
   ],
   "metadata": {
    "collapsed": false,
    "ExecuteTime": {
     "end_time": "2024-05-07T14:19:50.527078Z",
     "start_time": "2024-05-07T14:19:50.512150Z"
    }
   },
   "id": "97249a641ad127bd",
   "execution_count": 139
  },
  {
   "cell_type": "code",
   "outputs": [],
   "source": [
    "sc = StandardScaler()\n",
    "x_train = sc.fit_transform(x_train)\n",
    "x_test = sc.transform(x_test)"
   ],
   "metadata": {
    "collapsed": false,
    "ExecuteTime": {
     "end_time": "2024-05-07T14:19:51.353363Z",
     "start_time": "2024-05-07T14:19:51.347992Z"
    }
   },
   "id": "8a7e13d24bc083e2",
   "execution_count": 140
  },
  {
   "cell_type": "code",
   "outputs": [
    {
     "name": "stdout",
     "output_type": "stream",
     "text": [
      "[[-0.3285853  -0.262127  ]\n",
      " [ 0.08850138  0.1724066 ]\n",
      " [-2.62023196 -2.53964227]\n",
      " ...\n",
      " [ 0.7840342   0.8131398 ]\n",
      " [ 0.00694812  0.10833328]\n",
      " [ 0.83063606  0.89468766]]\n",
      "------------\n"
     ]
    }
   ],
   "source": [
    "print(x_train)\n",
    "print('------------')"
   ],
   "metadata": {
    "collapsed": false,
    "ExecuteTime": {
     "end_time": "2024-05-07T14:22:27.154666Z",
     "start_time": "2024-05-07T14:22:27.144667Z"
    }
   },
   "id": "4d7fca470c6a2922",
   "execution_count": 150
  },
  {
   "cell_type": "code",
   "outputs": [
    {
     "name": "stdout",
     "output_type": "stream",
     "text": [
      "[[ 3.50636862e-01  4.25204973e-01]\n",
      " [ 4.26364891e-01  4.75298659e-01]\n",
      " [-2.24741705e+00 -2.21345083e+00]\n",
      " [ 5.83646182e-01  5.56846520e-01]\n",
      " [-2.73673662e+00 -2.77496610e+00]\n",
      " [ 1.66559500e-01  2.32985014e-01]\n",
      " [ 2.69083601e-01  3.49481958e-01]\n",
      " [-2.67032897e+00 -2.61536529e+00]\n",
      " [-6.29546799e-02 -1.16585704e-02]\n",
      " [-1.93867970e+00 -1.91055877e+00]\n",
      " [ 7.08306168e-01  6.98972793e-01]\n",
      " [ 3.85588260e-01  4.81123506e-01]\n",
      " [ 1.35103242e-01  1.10663222e-01]\n",
      " [ 4.32190124e-01  4.69473812e-01]\n",
      " [-1.68819468e+00 -1.63912089e+00]\n",
      " [ 6.38403372e-01  6.69848557e-01]\n",
      " [ 6.26752906e-01  5.76651001e-01]\n",
      " [ 5.37044318e-01  6.03445298e-01]\n",
      " [ 6.94811600e-03 -2.33881485e-03]\n",
      " [ 5.77820949e-01  5.53351612e-01]\n",
      " [ 2.36462296e-01  2.73758944e-01]\n",
      " [ 6.03451974e-01  6.67518618e-01]\n",
      " [ 6.96655702e-01  7.39746723e-01]\n",
      " [ 6.59374211e-01  7.10622487e-01]\n",
      " [-4.70234998e-03  2.67854213e-02]\n",
      " [ 1.43258568e-01  2.09685625e-01]\n",
      " [-1.63528160e-02 -4.31127455e-02]\n",
      " [ 1.51034422e-02 -5.83372320e-03]\n",
      " [ 6.26752906e-01  6.64023709e-01]\n",
      " [-2.05285427e+00 -2.04453026e+00]\n",
      " [ 1.89860432e-01  2.50459555e-01]\n",
      " [-1.05275830e-02  2.67854213e-02]\n",
      " [ 4.77247469e-02 -9.55363707e-02]\n",
      " [-1.86877691e+00 -1.80804146e+00]\n",
      " [-4.54789809e-02 -8.16366209e-03]\n",
      " [-2.80032819e-02 -1.98133566e-02]\n",
      " [ 1.02636389e+00  1.00768970e+00]\n",
      " [ 4.78791988e-01  2.44634708e-01]\n",
      " [ 3.25791411e-02  1.51357269e-02]\n",
      " [-1.13051684e-01 -4.66076539e-02]\n",
      " [ 5.45199644e-01  5.00927987e-01]\n",
      " [-2.62023196e+00 -2.62352007e+00]\n",
      " [ 4.22869751e-01  4.51999270e-01]\n",
      " [ 9.85587258e-01  9.12162202e-01]\n",
      " [ 7.23451774e-01  7.39746723e-01]\n",
      " [ 4.63646382e-01  3.70451408e-01]\n",
      " [ 2.36462296e-01  1.25807824e-01]\n",
      " [ 1.37433335e-01  1.37457519e-01]\n",
      " [ 5.37044318e-01  3.23852631e-01]\n",
      " [ 2.45782669e-01  2.83078700e-01]\n",
      " [ 5.45199644e-01  5.99950390e-01]\n",
      " [ 5.66170483e-01  6.20919840e-01]\n",
      " [ 6.59374211e-01  6.79168312e-01]\n",
      " [ 6.12772347e-01  6.52374015e-01]\n",
      " [ 1.02286875e+00  1.04263878e+00]\n",
      " [ 3.93743586e-01  4.54329209e-01]\n",
      " [ 5.80151042e-01  6.11600084e-01]\n",
      " [-4.68390896e-01 -4.25222724e-01]\n",
      " [-2.33829069e+00 -2.31829808e+00]\n",
      " [-1.81401972e+00 -1.75911274e+00]\n",
      " [ 7.29277007e-01  7.33921876e-01]\n",
      " [-5.71294469e-02 -6.64121345e-02]\n",
      " [ 6.59374211e-01  4.92773201e-01]\n",
      " [ 5.60345250e-01  5.59176459e-01]\n",
      " [-2.27071798e+00 -2.18665653e+00]\n",
      " [ 3.64617422e-01  3.06378089e-01]\n",
      " [ 7.14131401e-01  7.28097029e-01]\n",
      " [ 5.07918153e-01  5.68496215e-01]\n",
      " [ 8.18985595e-01  6.90818007e-01]\n",
      " [ 4.38015357e-01  4.98598048e-01]\n",
      " [ 4.03063959e-01  4.75298659e-01]\n",
      " [-2.31498975e+00 -2.33577262e+00]\n",
      " [-1.85130121e+00 -1.83134085e+00]\n",
      " [ 3.38986396e-01  2.44634708e-01]\n",
      " [ 9.85587258e-01  9.82060369e-01]\n",
      " [-1.56158408e-01 -1.77084232e-01]\n",
      " [ 4.03063959e-01  3.12202936e-01]\n",
      " [-2.26061204e-01 -2.06208468e-01]\n",
      " [-6.64498197e-02 -2.33082649e-02]\n",
      " [ 2.28306970e-01  1.68911694e-01]\n",
      " [ 7.19956634e-01  7.66541021e-01]\n",
      " [ 5.16073479e-01  5.80145909e-01]\n",
      " [ 4.55491056e-01  5.18402528e-01]\n",
      " [ 3.73937794e-01  3.52976867e-01]\n",
      " [ 6.59374211e-01  6.75673404e-01]\n",
      " [ 5.51024877e-01  4.13555278e-01]\n",
      " [-8.02759270e-01 -8.06167734e-01]\n",
      " [ 4.26364891e-01  4.75298659e-01]\n",
      " [ 6.52004459e-02  3.26102686e-02]\n",
      " [ 7.54908032e-01  8.01490104e-01]\n",
      " [-1.73634107e-01 -2.00383621e-01]\n",
      " [ 9.56461093e-01  9.61090919e-01]\n",
      " [ 1.11607248e+00  1.17661027e+00]\n",
      " [ 6.65199444e-01  7.22272182e-01]\n",
      " [-2.48042637e+00 -2.43479502e+00]\n",
      " [ 8.50062381e-02  3.84351158e-02]\n",
      " [-2.29984415e+00 -2.25655470e+00]\n",
      " [ 8.98208763e-01  8.18964646e-01]\n",
      " [ 8.83063158e-01  8.44593974e-01]\n",
      " [-1.44507942e-01 -1.36310301e-01]\n",
      " [-2.17905877e-01 -1.65434538e-01]\n",
      " [ 3.87918354e-01  4.31029820e-01]\n",
      " [-1.85712644e+00 -1.80221661e+00]\n",
      " [-2.10178623e+00 -2.05268504e+00]\n",
      " [-2.23576658e+00 -2.25072985e+00]\n",
      " [ 1.27733490e-02  9.08587410e-02]\n",
      " [ 6.73354770e-01  7.19942243e-01]\n",
      " [-8.19748978e-03  4.42599631e-02]\n",
      " [ 7.64228405e-01  7.74695807e-01]\n",
      " [-6.87799129e-02 -6.05872872e-02]\n",
      " [ 5.39374411e-01  6.11600084e-01]\n",
      " [ 4.98597780e-01  4.92773201e-01]\n",
      " [ 4.38015357e-01  4.86948353e-01]\n",
      " [-1.85284573e-01 -2.17858163e-01]\n",
      " [ 6.73354770e-01  7.39746723e-01]\n",
      " [ 3.99568819e-01  4.42679514e-01]\n",
      " [-1.98479558e-02  5.81597128e-03]\n",
      " [ 5.85976275e-01  6.03445298e-01]\n",
      " [ 6.47723745e-01  5.97620451e-01]\n",
      " [ 1.66559500e-01  9.90135271e-02]\n",
      " [-1.26295268e+00 -1.24885612e+00]\n",
      " [ 7.64228405e-01  7.89840410e-01]\n",
      " [-1.80236925e+00 -1.76493759e+00]\n",
      " [-2.62605720e+00 -2.56527160e+00]\n",
      " [ 4.86947314e-01  5.24227376e-01]\n",
      " [ 4.05394052e-01  4.51999270e-01]\n",
      " [-2.29984415e+00 -2.22160561e+00]\n",
      " [-2.26489275e+00 -2.22743046e+00]\n",
      " [ 1.07529585e+00  1.11603186e+00]\n",
      " [ 3.38986396e-01  3.49481958e-01]\n",
      " [ 3.91413493e-01  3.99575645e-01]\n",
      " [-2.53285347e+00 -2.53032252e+00]\n",
      " [ 5.10248246e-01  5.30052223e-01]\n",
      " [ 5.66170483e-01  5.24227376e-01]\n",
      " [ 7.91810051e-02  1.16488069e-01]\n",
      " [ 6.55879071e-01  7.22272182e-01]\n",
      " [ 2.98209765e-01  3.23852631e-01]\n",
      " [ 5.97626741e-01  6.52374015e-01]\n",
      " [ 5.21898712e-01  5.53351612e-01]\n",
      " [ 9.29665022e-01  9.87885216e-01]\n",
      " [-2.27421312e+00 -2.29150378e+00]\n",
      " [ 4.28694984e-01  3.08708028e-01]\n",
      " [-2.00858250e+00 -1.99443657e+00]\n",
      " [ 1.11956762e+00  1.15331088e+00]\n",
      " [ 6.61704304e-01  5.62671367e-01]\n",
      " [ 4.20539658e-01  4.71803750e-01]\n",
      " [-4.41594824e-01 -4.65996655e-01]\n",
      " [ 2.09286752e-02  2.67854213e-02]\n",
      " [ 7.93354570e-01  7.95665257e-01]\n",
      " [-4.82371455e-01 -4.54346961e-01]\n",
      " [ 4.96267687e-01  5.12577681e-01]\n",
      " [-4.53245290e-01 -4.83471197e-01]\n",
      " [-2.48392151e+00 -2.48721865e+00]\n",
      " [ 9.04033996e-01  7.78190715e-01]\n",
      " [ 3.35491257e-01  3.37832264e-01]\n",
      " [-2.60625140e+00 -2.52799258e+00]\n",
      " [ 1.02869398e+00  1.08923756e+00]\n",
      " [ 3.79763027e-01  4.46174423e-01]\n",
      " [-1.77557318e+00 -1.77309238e+00]\n",
      " [ 9.43266108e-02  1.31632672e-01]\n",
      " [ 6.61704304e-01  6.69848557e-01]\n",
      " [ 7.25781867e-01  7.49066479e-01]\n",
      " [ 2.86559299e-01  2.94728394e-01]\n",
      " [-1.85712644e+00 -1.86628993e+00]\n",
      " [ 3.79763027e-01  4.86948353e-01]\n",
      " [ 3.33161163e-01  3.32007417e-01]\n",
      " [ 4.63646382e-01  4.57824117e-01]\n",
      " [-3.11109605e-01 -2.67951849e-01]\n",
      " [ 3.15685464e-01  2.48129616e-01]\n",
      " [ 1.99180805e-01  2.38809861e-01]\n",
      " [ 9.70441652e-01  1.03448399e+00]\n",
      " [ 9.27334928e-01  8.73718210e-01]\n",
      " [ 1.00306296e+00  1.01933939e+00]\n",
      " [ 8.48111760e-01  8.24789493e-01]\n",
      " [ 2.22481737e-01  1.89881144e-01]]\n",
      "------------\n"
     ]
    }
   ],
   "source": [
    "print(x_test)\n",
    "print('------------')"
   ],
   "metadata": {
    "collapsed": false,
    "ExecuteTime": {
     "end_time": "2024-05-07T14:22:27.976729Z",
     "start_time": "2024-05-07T14:22:27.958465Z"
    }
   },
   "id": "934c4280557898ba",
   "execution_count": 151
  },
  {
   "cell_type": "code",
   "outputs": [],
   "source": [
    "classifier = KNeighborsClassifier(\n",
    "    n_neighbors=5,\n",
    "    metric='euclidean',\n",
    "    p=2,\n",
    "    \n",
    "    \n",
    ")"
   ],
   "metadata": {
    "collapsed": false,
    "ExecuteTime": {
     "end_time": "2024-05-07T14:22:30.548212Z",
     "start_time": "2024-05-07T14:22:30.541822Z"
    }
   },
   "id": "dc0b93a61824dd94",
   "execution_count": 152
  },
  {
   "cell_type": "code",
   "outputs": [
    {
     "ename": "ValueError",
     "evalue": "Unknown label type: continuous. Maybe you are trying to fit a classifier, which expects discrete classes on a regression target with continuous values.",
     "output_type": "error",
     "traceback": [
      "\u001B[1;31m---------------------------------------------------------------------------\u001B[0m",
      "\u001B[1;31mValueError\u001B[0m                                Traceback (most recent call last)",
      "Cell \u001B[1;32mIn[147], line 1\u001B[0m\n\u001B[1;32m----> 1\u001B[0m \u001B[43mclassifier\u001B[49m\u001B[38;5;241;43m.\u001B[39;49m\u001B[43mfit\u001B[49m\u001B[43m(\u001B[49m\u001B[43mx_train\u001B[49m\u001B[43m,\u001B[49m\u001B[43m \u001B[49m\u001B[43my_train\u001B[49m\u001B[43m)\u001B[49m\n",
      "File \u001B[1;32mC:\\laragon\\bin\\python\\python-3.10\\lib\\site-packages\\sklearn\\base.py:1474\u001B[0m, in \u001B[0;36m_fit_context.<locals>.decorator.<locals>.wrapper\u001B[1;34m(estimator, *args, **kwargs)\u001B[0m\n\u001B[0;32m   1467\u001B[0m     estimator\u001B[38;5;241m.\u001B[39m_validate_params()\n\u001B[0;32m   1469\u001B[0m \u001B[38;5;28;01mwith\u001B[39;00m config_context(\n\u001B[0;32m   1470\u001B[0m     skip_parameter_validation\u001B[38;5;241m=\u001B[39m(\n\u001B[0;32m   1471\u001B[0m         prefer_skip_nested_validation \u001B[38;5;129;01mor\u001B[39;00m global_skip_validation\n\u001B[0;32m   1472\u001B[0m     )\n\u001B[0;32m   1473\u001B[0m ):\n\u001B[1;32m-> 1474\u001B[0m     \u001B[38;5;28;01mreturn\u001B[39;00m fit_method(estimator, \u001B[38;5;241m*\u001B[39margs, \u001B[38;5;241m*\u001B[39m\u001B[38;5;241m*\u001B[39mkwargs)\n",
      "File \u001B[1;32mC:\\laragon\\bin\\python\\python-3.10\\lib\\site-packages\\sklearn\\neighbors\\_classification.py:238\u001B[0m, in \u001B[0;36mKNeighborsClassifier.fit\u001B[1;34m(self, X, y)\u001B[0m\n\u001B[0;32m    216\u001B[0m \u001B[38;5;129m@_fit_context\u001B[39m(\n\u001B[0;32m    217\u001B[0m     \u001B[38;5;66;03m# KNeighborsClassifier.metric is not validated yet\u001B[39;00m\n\u001B[0;32m    218\u001B[0m     prefer_skip_nested_validation\u001B[38;5;241m=\u001B[39m\u001B[38;5;28;01mFalse\u001B[39;00m\n\u001B[0;32m    219\u001B[0m )\n\u001B[0;32m    220\u001B[0m \u001B[38;5;28;01mdef\u001B[39;00m \u001B[38;5;21mfit\u001B[39m(\u001B[38;5;28mself\u001B[39m, X, y):\n\u001B[0;32m    221\u001B[0m \u001B[38;5;250m    \u001B[39m\u001B[38;5;124;03m\"\"\"Fit the k-nearest neighbors classifier from the training dataset.\u001B[39;00m\n\u001B[0;32m    222\u001B[0m \n\u001B[0;32m    223\u001B[0m \u001B[38;5;124;03m    Parameters\u001B[39;00m\n\u001B[1;32m   (...)\u001B[0m\n\u001B[0;32m    236\u001B[0m \u001B[38;5;124;03m        The fitted k-nearest neighbors classifier.\u001B[39;00m\n\u001B[0;32m    237\u001B[0m \u001B[38;5;124;03m    \"\"\"\u001B[39;00m\n\u001B[1;32m--> 238\u001B[0m     \u001B[38;5;28;01mreturn\u001B[39;00m \u001B[38;5;28;43mself\u001B[39;49m\u001B[38;5;241;43m.\u001B[39;49m\u001B[43m_fit\u001B[49m\u001B[43m(\u001B[49m\u001B[43mX\u001B[49m\u001B[43m,\u001B[49m\u001B[43m \u001B[49m\u001B[43my\u001B[49m\u001B[43m)\u001B[49m\n",
      "File \u001B[1;32mC:\\laragon\\bin\\python\\python-3.10\\lib\\site-packages\\sklearn\\neighbors\\_base.py:500\u001B[0m, in \u001B[0;36mNeighborsBase._fit\u001B[1;34m(self, X, y)\u001B[0m\n\u001B[0;32m    497\u001B[0m \u001B[38;5;28;01melse\u001B[39;00m:\n\u001B[0;32m    498\u001B[0m     \u001B[38;5;28mself\u001B[39m\u001B[38;5;241m.\u001B[39moutputs_2d_ \u001B[38;5;241m=\u001B[39m \u001B[38;5;28;01mTrue\u001B[39;00m\n\u001B[1;32m--> 500\u001B[0m \u001B[43mcheck_classification_targets\u001B[49m\u001B[43m(\u001B[49m\u001B[43my\u001B[49m\u001B[43m)\u001B[49m\n\u001B[0;32m    501\u001B[0m \u001B[38;5;28mself\u001B[39m\u001B[38;5;241m.\u001B[39mclasses_ \u001B[38;5;241m=\u001B[39m []\n\u001B[0;32m    502\u001B[0m \u001B[38;5;66;03m# Using `dtype=np.intp` is necessary since `np.bincount`\u001B[39;00m\n\u001B[0;32m    503\u001B[0m \u001B[38;5;66;03m# (called in _classification.py) fails when dealing\u001B[39;00m\n\u001B[0;32m    504\u001B[0m \u001B[38;5;66;03m# with a float64 array on 32bit systems.\u001B[39;00m\n",
      "File \u001B[1;32mC:\\laragon\\bin\\python\\python-3.10\\lib\\site-packages\\sklearn\\utils\\multiclass.py:221\u001B[0m, in \u001B[0;36mcheck_classification_targets\u001B[1;34m(y)\u001B[0m\n\u001B[0;32m    213\u001B[0m y_type \u001B[38;5;241m=\u001B[39m type_of_target(y, input_name\u001B[38;5;241m=\u001B[39m\u001B[38;5;124m\"\u001B[39m\u001B[38;5;124my\u001B[39m\u001B[38;5;124m\"\u001B[39m)\n\u001B[0;32m    214\u001B[0m \u001B[38;5;28;01mif\u001B[39;00m y_type \u001B[38;5;129;01mnot\u001B[39;00m \u001B[38;5;129;01min\u001B[39;00m [\n\u001B[0;32m    215\u001B[0m     \u001B[38;5;124m\"\u001B[39m\u001B[38;5;124mbinary\u001B[39m\u001B[38;5;124m\"\u001B[39m,\n\u001B[0;32m    216\u001B[0m     \u001B[38;5;124m\"\u001B[39m\u001B[38;5;124mmulticlass\u001B[39m\u001B[38;5;124m\"\u001B[39m,\n\u001B[1;32m   (...)\u001B[0m\n\u001B[0;32m    219\u001B[0m     \u001B[38;5;124m\"\u001B[39m\u001B[38;5;124mmultilabel-sequences\u001B[39m\u001B[38;5;124m\"\u001B[39m,\n\u001B[0;32m    220\u001B[0m ]:\n\u001B[1;32m--> 221\u001B[0m     \u001B[38;5;28;01mraise\u001B[39;00m \u001B[38;5;167;01mValueError\u001B[39;00m(\n\u001B[0;32m    222\u001B[0m         \u001B[38;5;124mf\u001B[39m\u001B[38;5;124m\"\u001B[39m\u001B[38;5;124mUnknown label type: \u001B[39m\u001B[38;5;132;01m{\u001B[39;00my_type\u001B[38;5;132;01m}\u001B[39;00m\u001B[38;5;124m. Maybe you are trying to fit a \u001B[39m\u001B[38;5;124m\"\u001B[39m\n\u001B[0;32m    223\u001B[0m         \u001B[38;5;124m\"\u001B[39m\u001B[38;5;124mclassifier, which expects discrete classes on a \u001B[39m\u001B[38;5;124m\"\u001B[39m\n\u001B[0;32m    224\u001B[0m         \u001B[38;5;124m\"\u001B[39m\u001B[38;5;124mregression target with continuous values.\u001B[39m\u001B[38;5;124m\"\u001B[39m\n\u001B[0;32m    225\u001B[0m     )\n",
      "\u001B[1;31mValueError\u001B[0m: Unknown label type: continuous. Maybe you are trying to fit a classifier, which expects discrete classes on a regression target with continuous values."
     ]
    }
   ],
   "source": [
    "classifier.fit(x_train, y_train)"
   ],
   "metadata": {
    "collapsed": false,
    "ExecuteTime": {
     "end_time": "2024-05-07T14:20:42.253761Z",
     "start_time": "2024-05-07T14:20:42.185578Z"
    }
   },
   "id": "9d8816d34e3adf95",
   "execution_count": 147
  },
  {
   "cell_type": "code",
   "outputs": [
    {
     "data": {
      "text/plain": "KNeighborsClassifier()",
      "text/html": "<style>#sk-container-id-4 {\n  /* Definition of color scheme common for light and dark mode */\n  --sklearn-color-text: black;\n  --sklearn-color-line: gray;\n  /* Definition of color scheme for unfitted estimators */\n  --sklearn-color-unfitted-level-0: #fff5e6;\n  --sklearn-color-unfitted-level-1: #f6e4d2;\n  --sklearn-color-unfitted-level-2: #ffe0b3;\n  --sklearn-color-unfitted-level-3: chocolate;\n  /* Definition of color scheme for fitted estimators */\n  --sklearn-color-fitted-level-0: #f0f8ff;\n  --sklearn-color-fitted-level-1: #d4ebff;\n  --sklearn-color-fitted-level-2: #b3dbfd;\n  --sklearn-color-fitted-level-3: cornflowerblue;\n\n  /* Specific color for light theme */\n  --sklearn-color-text-on-default-background: var(--sg-text-color, var(--theme-code-foreground, var(--jp-content-font-color1, black)));\n  --sklearn-color-background: var(--sg-background-color, var(--theme-background, var(--jp-layout-color0, white)));\n  --sklearn-color-border-box: var(--sg-text-color, var(--theme-code-foreground, var(--jp-content-font-color1, black)));\n  --sklearn-color-icon: #696969;\n\n  @media (prefers-color-scheme: dark) {\n    /* Redefinition of color scheme for dark theme */\n    --sklearn-color-text-on-default-background: var(--sg-text-color, var(--theme-code-foreground, var(--jp-content-font-color1, white)));\n    --sklearn-color-background: var(--sg-background-color, var(--theme-background, var(--jp-layout-color0, #111)));\n    --sklearn-color-border-box: var(--sg-text-color, var(--theme-code-foreground, var(--jp-content-font-color1, white)));\n    --sklearn-color-icon: #878787;\n  }\n}\n\n#sk-container-id-4 {\n  color: var(--sklearn-color-text);\n}\n\n#sk-container-id-4 pre {\n  padding: 0;\n}\n\n#sk-container-id-4 input.sk-hidden--visually {\n  border: 0;\n  clip: rect(1px 1px 1px 1px);\n  clip: rect(1px, 1px, 1px, 1px);\n  height: 1px;\n  margin: -1px;\n  overflow: hidden;\n  padding: 0;\n  position: absolute;\n  width: 1px;\n}\n\n#sk-container-id-4 div.sk-dashed-wrapped {\n  border: 1px dashed var(--sklearn-color-line);\n  margin: 0 0.4em 0.5em 0.4em;\n  box-sizing: border-box;\n  padding-bottom: 0.4em;\n  background-color: var(--sklearn-color-background);\n}\n\n#sk-container-id-4 div.sk-container {\n  /* jupyter's `normalize.less` sets `[hidden] { display: none; }`\n     but bootstrap.min.css set `[hidden] { display: none !important; }`\n     so we also need the `!important` here to be able to override the\n     default hidden behavior on the sphinx rendered scikit-learn.org.\n     See: https://github.com/scikit-learn/scikit-learn/issues/21755 */\n  display: inline-block !important;\n  position: relative;\n}\n\n#sk-container-id-4 div.sk-text-repr-fallback {\n  display: none;\n}\n\ndiv.sk-parallel-item,\ndiv.sk-serial,\ndiv.sk-item {\n  /* draw centered vertical line to link estimators */\n  background-image: linear-gradient(var(--sklearn-color-text-on-default-background), var(--sklearn-color-text-on-default-background));\n  background-size: 2px 100%;\n  background-repeat: no-repeat;\n  background-position: center center;\n}\n\n/* Parallel-specific style estimator block */\n\n#sk-container-id-4 div.sk-parallel-item::after {\n  content: \"\";\n  width: 100%;\n  border-bottom: 2px solid var(--sklearn-color-text-on-default-background);\n  flex-grow: 1;\n}\n\n#sk-container-id-4 div.sk-parallel {\n  display: flex;\n  align-items: stretch;\n  justify-content: center;\n  background-color: var(--sklearn-color-background);\n  position: relative;\n}\n\n#sk-container-id-4 div.sk-parallel-item {\n  display: flex;\n  flex-direction: column;\n}\n\n#sk-container-id-4 div.sk-parallel-item:first-child::after {\n  align-self: flex-end;\n  width: 50%;\n}\n\n#sk-container-id-4 div.sk-parallel-item:last-child::after {\n  align-self: flex-start;\n  width: 50%;\n}\n\n#sk-container-id-4 div.sk-parallel-item:only-child::after {\n  width: 0;\n}\n\n/* Serial-specific style estimator block */\n\n#sk-container-id-4 div.sk-serial {\n  display: flex;\n  flex-direction: column;\n  align-items: center;\n  background-color: var(--sklearn-color-background);\n  padding-right: 1em;\n  padding-left: 1em;\n}\n\n\n/* Toggleable style: style used for estimator/Pipeline/ColumnTransformer box that is\nclickable and can be expanded/collapsed.\n- Pipeline and ColumnTransformer use this feature and define the default style\n- Estimators will overwrite some part of the style using the `sk-estimator` class\n*/\n\n/* Pipeline and ColumnTransformer style (default) */\n\n#sk-container-id-4 div.sk-toggleable {\n  /* Default theme specific background. It is overwritten whether we have a\n  specific estimator or a Pipeline/ColumnTransformer */\n  background-color: var(--sklearn-color-background);\n}\n\n/* Toggleable label */\n#sk-container-id-4 label.sk-toggleable__label {\n  cursor: pointer;\n  display: block;\n  width: 100%;\n  margin-bottom: 0;\n  padding: 0.5em;\n  box-sizing: border-box;\n  text-align: center;\n}\n\n#sk-container-id-4 label.sk-toggleable__label-arrow:before {\n  /* Arrow on the left of the label */\n  content: \"▸\";\n  float: left;\n  margin-right: 0.25em;\n  color: var(--sklearn-color-icon);\n}\n\n#sk-container-id-4 label.sk-toggleable__label-arrow:hover:before {\n  color: var(--sklearn-color-text);\n}\n\n/* Toggleable content - dropdown */\n\n#sk-container-id-4 div.sk-toggleable__content {\n  max-height: 0;\n  max-width: 0;\n  overflow: hidden;\n  text-align: left;\n  /* unfitted */\n  background-color: var(--sklearn-color-unfitted-level-0);\n}\n\n#sk-container-id-4 div.sk-toggleable__content.fitted {\n  /* fitted */\n  background-color: var(--sklearn-color-fitted-level-0);\n}\n\n#sk-container-id-4 div.sk-toggleable__content pre {\n  margin: 0.2em;\n  border-radius: 0.25em;\n  color: var(--sklearn-color-text);\n  /* unfitted */\n  background-color: var(--sklearn-color-unfitted-level-0);\n}\n\n#sk-container-id-4 div.sk-toggleable__content.fitted pre {\n  /* unfitted */\n  background-color: var(--sklearn-color-fitted-level-0);\n}\n\n#sk-container-id-4 input.sk-toggleable__control:checked~div.sk-toggleable__content {\n  /* Expand drop-down */\n  max-height: 200px;\n  max-width: 100%;\n  overflow: auto;\n}\n\n#sk-container-id-4 input.sk-toggleable__control:checked~label.sk-toggleable__label-arrow:before {\n  content: \"▾\";\n}\n\n/* Pipeline/ColumnTransformer-specific style */\n\n#sk-container-id-4 div.sk-label input.sk-toggleable__control:checked~label.sk-toggleable__label {\n  color: var(--sklearn-color-text);\n  background-color: var(--sklearn-color-unfitted-level-2);\n}\n\n#sk-container-id-4 div.sk-label.fitted input.sk-toggleable__control:checked~label.sk-toggleable__label {\n  background-color: var(--sklearn-color-fitted-level-2);\n}\n\n/* Estimator-specific style */\n\n/* Colorize estimator box */\n#sk-container-id-4 div.sk-estimator input.sk-toggleable__control:checked~label.sk-toggleable__label {\n  /* unfitted */\n  background-color: var(--sklearn-color-unfitted-level-2);\n}\n\n#sk-container-id-4 div.sk-estimator.fitted input.sk-toggleable__control:checked~label.sk-toggleable__label {\n  /* fitted */\n  background-color: var(--sklearn-color-fitted-level-2);\n}\n\n#sk-container-id-4 div.sk-label label.sk-toggleable__label,\n#sk-container-id-4 div.sk-label label {\n  /* The background is the default theme color */\n  color: var(--sklearn-color-text-on-default-background);\n}\n\n/* On hover, darken the color of the background */\n#sk-container-id-4 div.sk-label:hover label.sk-toggleable__label {\n  color: var(--sklearn-color-text);\n  background-color: var(--sklearn-color-unfitted-level-2);\n}\n\n/* Label box, darken color on hover, fitted */\n#sk-container-id-4 div.sk-label.fitted:hover label.sk-toggleable__label.fitted {\n  color: var(--sklearn-color-text);\n  background-color: var(--sklearn-color-fitted-level-2);\n}\n\n/* Estimator label */\n\n#sk-container-id-4 div.sk-label label {\n  font-family: monospace;\n  font-weight: bold;\n  display: inline-block;\n  line-height: 1.2em;\n}\n\n#sk-container-id-4 div.sk-label-container {\n  text-align: center;\n}\n\n/* Estimator-specific */\n#sk-container-id-4 div.sk-estimator {\n  font-family: monospace;\n  border: 1px dotted var(--sklearn-color-border-box);\n  border-radius: 0.25em;\n  box-sizing: border-box;\n  margin-bottom: 0.5em;\n  /* unfitted */\n  background-color: var(--sklearn-color-unfitted-level-0);\n}\n\n#sk-container-id-4 div.sk-estimator.fitted {\n  /* fitted */\n  background-color: var(--sklearn-color-fitted-level-0);\n}\n\n/* on hover */\n#sk-container-id-4 div.sk-estimator:hover {\n  /* unfitted */\n  background-color: var(--sklearn-color-unfitted-level-2);\n}\n\n#sk-container-id-4 div.sk-estimator.fitted:hover {\n  /* fitted */\n  background-color: var(--sklearn-color-fitted-level-2);\n}\n\n/* Specification for estimator info (e.g. \"i\" and \"?\") */\n\n/* Common style for \"i\" and \"?\" */\n\n.sk-estimator-doc-link,\na:link.sk-estimator-doc-link,\na:visited.sk-estimator-doc-link {\n  float: right;\n  font-size: smaller;\n  line-height: 1em;\n  font-family: monospace;\n  background-color: var(--sklearn-color-background);\n  border-radius: 1em;\n  height: 1em;\n  width: 1em;\n  text-decoration: none !important;\n  margin-left: 1ex;\n  /* unfitted */\n  border: var(--sklearn-color-unfitted-level-1) 1pt solid;\n  color: var(--sklearn-color-unfitted-level-1);\n}\n\n.sk-estimator-doc-link.fitted,\na:link.sk-estimator-doc-link.fitted,\na:visited.sk-estimator-doc-link.fitted {\n  /* fitted */\n  border: var(--sklearn-color-fitted-level-1) 1pt solid;\n  color: var(--sklearn-color-fitted-level-1);\n}\n\n/* On hover */\ndiv.sk-estimator:hover .sk-estimator-doc-link:hover,\n.sk-estimator-doc-link:hover,\ndiv.sk-label-container:hover .sk-estimator-doc-link:hover,\n.sk-estimator-doc-link:hover {\n  /* unfitted */\n  background-color: var(--sklearn-color-unfitted-level-3);\n  color: var(--sklearn-color-background);\n  text-decoration: none;\n}\n\ndiv.sk-estimator.fitted:hover .sk-estimator-doc-link.fitted:hover,\n.sk-estimator-doc-link.fitted:hover,\ndiv.sk-label-container:hover .sk-estimator-doc-link.fitted:hover,\n.sk-estimator-doc-link.fitted:hover {\n  /* fitted */\n  background-color: var(--sklearn-color-fitted-level-3);\n  color: var(--sklearn-color-background);\n  text-decoration: none;\n}\n\n/* Span, style for the box shown on hovering the info icon */\n.sk-estimator-doc-link span {\n  display: none;\n  z-index: 9999;\n  position: relative;\n  font-weight: normal;\n  right: .2ex;\n  padding: .5ex;\n  margin: .5ex;\n  width: min-content;\n  min-width: 20ex;\n  max-width: 50ex;\n  color: var(--sklearn-color-text);\n  box-shadow: 2pt 2pt 4pt #999;\n  /* unfitted */\n  background: var(--sklearn-color-unfitted-level-0);\n  border: .5pt solid var(--sklearn-color-unfitted-level-3);\n}\n\n.sk-estimator-doc-link.fitted span {\n  /* fitted */\n  background: var(--sklearn-color-fitted-level-0);\n  border: var(--sklearn-color-fitted-level-3);\n}\n\n.sk-estimator-doc-link:hover span {\n  display: block;\n}\n\n/* \"?\"-specific style due to the `<a>` HTML tag */\n\n#sk-container-id-4 a.estimator_doc_link {\n  float: right;\n  font-size: 1rem;\n  line-height: 1em;\n  font-family: monospace;\n  background-color: var(--sklearn-color-background);\n  border-radius: 1rem;\n  height: 1rem;\n  width: 1rem;\n  text-decoration: none;\n  /* unfitted */\n  color: var(--sklearn-color-unfitted-level-1);\n  border: var(--sklearn-color-unfitted-level-1) 1pt solid;\n}\n\n#sk-container-id-4 a.estimator_doc_link.fitted {\n  /* fitted */\n  border: var(--sklearn-color-fitted-level-1) 1pt solid;\n  color: var(--sklearn-color-fitted-level-1);\n}\n\n/* On hover */\n#sk-container-id-4 a.estimator_doc_link:hover {\n  /* unfitted */\n  background-color: var(--sklearn-color-unfitted-level-3);\n  color: var(--sklearn-color-background);\n  text-decoration: none;\n}\n\n#sk-container-id-4 a.estimator_doc_link.fitted:hover {\n  /* fitted */\n  background-color: var(--sklearn-color-fitted-level-3);\n}\n</style><div id=\"sk-container-id-4\" class=\"sk-top-container\"><div class=\"sk-text-repr-fallback\"><pre>KNeighborsClassifier()</pre><b>In a Jupyter environment, please rerun this cell to show the HTML representation or trust the notebook. <br />On GitHub, the HTML representation is unable to render, please try loading this page with nbviewer.org.</b></div><div class=\"sk-container\" hidden><div class=\"sk-item\"><div class=\"sk-estimator  sk-toggleable\"><input class=\"sk-toggleable__control sk-hidden--visually\" id=\"sk-estimator-id-4\" type=\"checkbox\" checked><label for=\"sk-estimator-id-4\" class=\"sk-toggleable__label  sk-toggleable__label-arrow \">&nbsp;&nbsp;KNeighborsClassifier<a class=\"sk-estimator-doc-link \" rel=\"noreferrer\" target=\"_blank\" href=\"https://scikit-learn.org/1.4/modules/generated/sklearn.neighbors.KNeighborsClassifier.html\">?<span>Documentation for KNeighborsClassifier</span></a><span class=\"sk-estimator-doc-link \">i<span>Not fitted</span></span></label><div class=\"sk-toggleable__content \"><pre>KNeighborsClassifier()</pre></div> </div></div></div></div>"
     },
     "execution_count": 148,
     "metadata": {},
     "output_type": "execute_result"
    }
   ],
   "source": [
    "KNeighborsClassifier(algorithm='auto',\n",
    "                     leaf_size=30,\n",
    "                     metric='minkowski',\n",
    "                     metric_params=None,\n",
    "                     n_jobs=None,\n",
    "                     n_neighbors=5,\n",
    "                     p=2,\n",
    "                     weights='uniform')"
   ],
   "metadata": {
    "collapsed": false,
    "ExecuteTime": {
     "end_time": "2024-05-07T14:21:29.536252Z",
     "start_time": "2024-05-07T14:21:29.525329Z"
    }
   },
   "id": "a03b0b675810cd82",
   "execution_count": 148
  },
  {
   "cell_type": "code",
   "outputs": [
    {
     "ename": "NotFittedError",
     "evalue": "This KNeighborsClassifier instance is not fitted yet. Call 'fit' with appropriate arguments before using this estimator.",
     "output_type": "error",
     "traceback": [
      "\u001B[1;31m---------------------------------------------------------------------------\u001B[0m",
      "\u001B[1;31mNotFittedError\u001B[0m                            Traceback (most recent call last)",
      "Cell \u001B[1;32mIn[149], line 1\u001B[0m\n\u001B[1;32m----> 1\u001B[0m y_pred \u001B[38;5;241m=\u001B[39m \u001B[43mclassifier\u001B[49m\u001B[38;5;241;43m.\u001B[39;49m\u001B[43mpredict\u001B[49m\u001B[43m(\u001B[49m\u001B[43mx_test\u001B[49m\u001B[43m)\u001B[49m\n\u001B[0;32m      2\u001B[0m y_pred\n",
      "File \u001B[1;32mC:\\laragon\\bin\\python\\python-3.10\\lib\\site-packages\\sklearn\\neighbors\\_classification.py:254\u001B[0m, in \u001B[0;36mKNeighborsClassifier.predict\u001B[1;34m(self, X)\u001B[0m\n\u001B[0;32m    240\u001B[0m \u001B[38;5;28;01mdef\u001B[39;00m \u001B[38;5;21mpredict\u001B[39m(\u001B[38;5;28mself\u001B[39m, X):\n\u001B[0;32m    241\u001B[0m \u001B[38;5;250m    \u001B[39m\u001B[38;5;124;03m\"\"\"Predict the class labels for the provided data.\u001B[39;00m\n\u001B[0;32m    242\u001B[0m \n\u001B[0;32m    243\u001B[0m \u001B[38;5;124;03m    Parameters\u001B[39;00m\n\u001B[1;32m   (...)\u001B[0m\n\u001B[0;32m    252\u001B[0m \u001B[38;5;124;03m        Class labels for each data sample.\u001B[39;00m\n\u001B[0;32m    253\u001B[0m \u001B[38;5;124;03m    \"\"\"\u001B[39;00m\n\u001B[1;32m--> 254\u001B[0m     \u001B[43mcheck_is_fitted\u001B[49m\u001B[43m(\u001B[49m\u001B[38;5;28;43mself\u001B[39;49m\u001B[43m,\u001B[49m\u001B[43m \u001B[49m\u001B[38;5;124;43m\"\u001B[39;49m\u001B[38;5;124;43m_fit_method\u001B[39;49m\u001B[38;5;124;43m\"\u001B[39;49m\u001B[43m)\u001B[49m\n\u001B[0;32m    255\u001B[0m     \u001B[38;5;28;01mif\u001B[39;00m \u001B[38;5;28mself\u001B[39m\u001B[38;5;241m.\u001B[39mweights \u001B[38;5;241m==\u001B[39m \u001B[38;5;124m\"\u001B[39m\u001B[38;5;124muniform\u001B[39m\u001B[38;5;124m\"\u001B[39m:\n\u001B[0;32m    256\u001B[0m         \u001B[38;5;28;01mif\u001B[39;00m \u001B[38;5;28mself\u001B[39m\u001B[38;5;241m.\u001B[39m_fit_method \u001B[38;5;241m==\u001B[39m \u001B[38;5;124m\"\u001B[39m\u001B[38;5;124mbrute\u001B[39m\u001B[38;5;124m\"\u001B[39m \u001B[38;5;129;01mand\u001B[39;00m ArgKminClassMode\u001B[38;5;241m.\u001B[39mis_usable_for(\n\u001B[0;32m    257\u001B[0m             X, \u001B[38;5;28mself\u001B[39m\u001B[38;5;241m.\u001B[39m_fit_X, \u001B[38;5;28mself\u001B[39m\u001B[38;5;241m.\u001B[39mmetric\n\u001B[0;32m    258\u001B[0m         ):\n",
      "File \u001B[1;32mC:\\laragon\\bin\\python\\python-3.10\\lib\\site-packages\\sklearn\\utils\\validation.py:1622\u001B[0m, in \u001B[0;36mcheck_is_fitted\u001B[1;34m(estimator, attributes, msg, all_or_any)\u001B[0m\n\u001B[0;32m   1619\u001B[0m     \u001B[38;5;28;01mraise\u001B[39;00m \u001B[38;5;167;01mTypeError\u001B[39;00m(\u001B[38;5;124m\"\u001B[39m\u001B[38;5;132;01m%s\u001B[39;00m\u001B[38;5;124m is not an estimator instance.\u001B[39m\u001B[38;5;124m\"\u001B[39m \u001B[38;5;241m%\u001B[39m (estimator))\n\u001B[0;32m   1621\u001B[0m \u001B[38;5;28;01mif\u001B[39;00m \u001B[38;5;129;01mnot\u001B[39;00m _is_fitted(estimator, attributes, all_or_any):\n\u001B[1;32m-> 1622\u001B[0m     \u001B[38;5;28;01mraise\u001B[39;00m NotFittedError(msg \u001B[38;5;241m%\u001B[39m {\u001B[38;5;124m\"\u001B[39m\u001B[38;5;124mname\u001B[39m\u001B[38;5;124m\"\u001B[39m: \u001B[38;5;28mtype\u001B[39m(estimator)\u001B[38;5;241m.\u001B[39m\u001B[38;5;18m__name__\u001B[39m})\n",
      "\u001B[1;31mNotFittedError\u001B[0m: This KNeighborsClassifier instance is not fitted yet. Call 'fit' with appropriate arguments before using this estimator."
     ]
    }
   ],
   "source": [
    "y_pred = classifier.predict(x_test)\n",
    "y_pred"
   ],
   "metadata": {
    "collapsed": false,
    "ExecuteTime": {
     "end_time": "2024-05-07T14:21:30.413322Z",
     "start_time": "2024-05-07T14:21:30.367311Z"
    }
   },
   "id": "5ca84685b4b0e727",
   "execution_count": 149
  },
  {
   "cell_type": "code",
   "outputs": [
    {
     "ename": "NameError",
     "evalue": "name 'y_pred' is not defined",
     "output_type": "error",
     "traceback": [
      "\u001B[1;31m---------------------------------------------------------------------------\u001B[0m",
      "\u001B[1;31mNameError\u001B[0m                                 Traceback (most recent call last)",
      "Cell \u001B[1;32mIn[121], line 1\u001B[0m\n\u001B[1;32m----> 1\u001B[0m cm \u001B[38;5;241m=\u001B[39m confusion_matrix(y_test, \u001B[43my_pred\u001B[49m)\n\u001B[0;32m      2\u001B[0m cm\n",
      "\u001B[1;31mNameError\u001B[0m: name 'y_pred' is not defined"
     ]
    }
   ],
   "source": [
    "cm = confusion_matrix(y_test, y_pred)\n",
    "cm"
   ],
   "metadata": {
    "collapsed": false,
    "ExecuteTime": {
     "end_time": "2024-05-07T14:17:42.287545Z",
     "start_time": "2024-05-07T14:17:42.254344Z"
    }
   },
   "id": "7ddb2d63c9dac927",
   "execution_count": 121
  },
  {
   "cell_type": "code",
   "outputs": [
    {
     "ename": "NotFittedError",
     "evalue": "This KNeighborsClassifier instance is not fitted yet. Call 'fit' with appropriate arguments before using this estimator.",
     "output_type": "error",
     "traceback": [
      "\u001B[1;31m---------------------------------------------------------------------------\u001B[0m",
      "\u001B[1;31mNotFittedError\u001B[0m                            Traceback (most recent call last)",
      "Cell \u001B[1;32mIn[122], line 15\u001B[0m\n\u001B[0;32m      1\u001B[0m x_set, y_set \u001B[38;5;241m=\u001B[39m x_train, y_train\n\u001B[0;32m      2\u001B[0m x1, x2 \u001B[38;5;241m=\u001B[39m np\u001B[38;5;241m.\u001B[39mmeshgrid(\n\u001B[0;32m      3\u001B[0m     np\u001B[38;5;241m.\u001B[39marange(\n\u001B[0;32m      4\u001B[0m         start\u001B[38;5;241m=\u001B[39mx_set[:, \u001B[38;5;241m0\u001B[39m]\u001B[38;5;241m.\u001B[39mmin() \u001B[38;5;241m-\u001B[39m \u001B[38;5;241m1\u001B[39m,\n\u001B[1;32m   (...)\u001B[0m\n\u001B[0;32m     12\u001B[0m     ),\n\u001B[0;32m     13\u001B[0m )\n\u001B[0;32m     14\u001B[0m plt\u001B[38;5;241m.\u001B[39mcontourf(x1, x2, \u001B[43mclassifier\u001B[49m\n\u001B[1;32m---> 15\u001B[0m \u001B[43m             \u001B[49m\u001B[38;5;241;43m.\u001B[39;49m\u001B[43mpredict\u001B[49m\u001B[43m(\u001B[49m\n\u001B[0;32m     16\u001B[0m \u001B[43m    \u001B[49m\u001B[43mnp\u001B[49m\u001B[38;5;241;43m.\u001B[39;49m\u001B[43marray\u001B[49m\u001B[43m(\u001B[49m\u001B[43m[\u001B[49m\u001B[43mx1\u001B[49m\u001B[38;5;241;43m.\u001B[39;49m\u001B[43mravel\u001B[49m\u001B[43m(\u001B[49m\u001B[43m)\u001B[49m\u001B[43m,\u001B[49m\u001B[43m \u001B[49m\u001B[43mx2\u001B[49m\u001B[38;5;241;43m.\u001B[39;49m\u001B[43mravel\u001B[49m\u001B[43m(\u001B[49m\u001B[43m)\u001B[49m\u001B[43m]\u001B[49m\u001B[43m)\u001B[49m\u001B[38;5;241;43m.\u001B[39;49m\u001B[43mT\u001B[49m\n\u001B[0;32m     17\u001B[0m \u001B[43m)\u001B[49m\n\u001B[0;32m     18\u001B[0m              \u001B[38;5;241m.\u001B[39mreshape(x1\u001B[38;5;241m.\u001B[39mshape),\n\u001B[0;32m     19\u001B[0m              alpha\u001B[38;5;241m=\u001B[39m\u001B[38;5;241m0.75\u001B[39m,\n\u001B[0;32m     20\u001B[0m              cmap\u001B[38;5;241m=\u001B[39mListedColormap((\u001B[38;5;124m'\u001B[39m\u001B[38;5;124mred\u001B[39m\u001B[38;5;124m'\u001B[39m, \u001B[38;5;124m'\u001B[39m\u001B[38;5;124mgreen\u001B[39m\u001B[38;5;124m'\u001B[39m))\n\u001B[0;32m     21\u001B[0m              )\n\u001B[0;32m     23\u001B[0m plt\u001B[38;5;241m.\u001B[39mxlim(x1\u001B[38;5;241m.\u001B[39mmin(), x1\u001B[38;5;241m.\u001B[39mmax())\n\u001B[0;32m     24\u001B[0m plt\u001B[38;5;241m.\u001B[39mylim(x2\u001B[38;5;241m.\u001B[39mmin(), x2\u001B[38;5;241m.\u001B[39mmax())\n",
      "File \u001B[1;32mC:\\laragon\\bin\\python\\python-3.10\\lib\\site-packages\\sklearn\\neighbors\\_classification.py:254\u001B[0m, in \u001B[0;36mKNeighborsClassifier.predict\u001B[1;34m(self, X)\u001B[0m\n\u001B[0;32m    240\u001B[0m \u001B[38;5;28;01mdef\u001B[39;00m \u001B[38;5;21mpredict\u001B[39m(\u001B[38;5;28mself\u001B[39m, X):\n\u001B[0;32m    241\u001B[0m \u001B[38;5;250m    \u001B[39m\u001B[38;5;124;03m\"\"\"Predict the class labels for the provided data.\u001B[39;00m\n\u001B[0;32m    242\u001B[0m \n\u001B[0;32m    243\u001B[0m \u001B[38;5;124;03m    Parameters\u001B[39;00m\n\u001B[1;32m   (...)\u001B[0m\n\u001B[0;32m    252\u001B[0m \u001B[38;5;124;03m        Class labels for each data sample.\u001B[39;00m\n\u001B[0;32m    253\u001B[0m \u001B[38;5;124;03m    \"\"\"\u001B[39;00m\n\u001B[1;32m--> 254\u001B[0m     \u001B[43mcheck_is_fitted\u001B[49m\u001B[43m(\u001B[49m\u001B[38;5;28;43mself\u001B[39;49m\u001B[43m,\u001B[49m\u001B[43m \u001B[49m\u001B[38;5;124;43m\"\u001B[39;49m\u001B[38;5;124;43m_fit_method\u001B[39;49m\u001B[38;5;124;43m\"\u001B[39;49m\u001B[43m)\u001B[49m\n\u001B[0;32m    255\u001B[0m     \u001B[38;5;28;01mif\u001B[39;00m \u001B[38;5;28mself\u001B[39m\u001B[38;5;241m.\u001B[39mweights \u001B[38;5;241m==\u001B[39m \u001B[38;5;124m\"\u001B[39m\u001B[38;5;124muniform\u001B[39m\u001B[38;5;124m\"\u001B[39m:\n\u001B[0;32m    256\u001B[0m         \u001B[38;5;28;01mif\u001B[39;00m \u001B[38;5;28mself\u001B[39m\u001B[38;5;241m.\u001B[39m_fit_method \u001B[38;5;241m==\u001B[39m \u001B[38;5;124m\"\u001B[39m\u001B[38;5;124mbrute\u001B[39m\u001B[38;5;124m\"\u001B[39m \u001B[38;5;129;01mand\u001B[39;00m ArgKminClassMode\u001B[38;5;241m.\u001B[39mis_usable_for(\n\u001B[0;32m    257\u001B[0m             X, \u001B[38;5;28mself\u001B[39m\u001B[38;5;241m.\u001B[39m_fit_X, \u001B[38;5;28mself\u001B[39m\u001B[38;5;241m.\u001B[39mmetric\n\u001B[0;32m    258\u001B[0m         ):\n",
      "File \u001B[1;32mC:\\laragon\\bin\\python\\python-3.10\\lib\\site-packages\\sklearn\\utils\\validation.py:1622\u001B[0m, in \u001B[0;36mcheck_is_fitted\u001B[1;34m(estimator, attributes, msg, all_or_any)\u001B[0m\n\u001B[0;32m   1619\u001B[0m     \u001B[38;5;28;01mraise\u001B[39;00m \u001B[38;5;167;01mTypeError\u001B[39;00m(\u001B[38;5;124m\"\u001B[39m\u001B[38;5;132;01m%s\u001B[39;00m\u001B[38;5;124m is not an estimator instance.\u001B[39m\u001B[38;5;124m\"\u001B[39m \u001B[38;5;241m%\u001B[39m (estimator))\n\u001B[0;32m   1621\u001B[0m \u001B[38;5;28;01mif\u001B[39;00m \u001B[38;5;129;01mnot\u001B[39;00m _is_fitted(estimator, attributes, all_or_any):\n\u001B[1;32m-> 1622\u001B[0m     \u001B[38;5;28;01mraise\u001B[39;00m NotFittedError(msg \u001B[38;5;241m%\u001B[39m {\u001B[38;5;124m\"\u001B[39m\u001B[38;5;124mname\u001B[39m\u001B[38;5;124m\"\u001B[39m: \u001B[38;5;28mtype\u001B[39m(estimator)\u001B[38;5;241m.\u001B[39m\u001B[38;5;18m__name__\u001B[39m})\n",
      "\u001B[1;31mNotFittedError\u001B[0m: This KNeighborsClassifier instance is not fitted yet. Call 'fit' with appropriate arguments before using this estimator."
     ]
    }
   ],
   "source": [
    "x_set, y_set = x_train, y_train\n",
    "x1, x2 = np.meshgrid(\n",
    "    np.arange(\n",
    "        start=x_set[:, 0].min() - 1,\n",
    "        stop=x_set[:, 0].max() + 1,\n",
    "        step=0.01\n",
    "    ),\n",
    "    np.arange(\n",
    "        start=x_set[:, 1].min() - 1,\n",
    "        stop=x_set[:, 1].max() + 1,\n",
    "        step=0.01\n",
    "    ),\n",
    ")\n",
    "plt.contourf(x1, x2, classifier\n",
    "             .predict(\n",
    "    np.array([x1.ravel(), x2.ravel()]).T\n",
    ")\n",
    "             .reshape(x1.shape),\n",
    "             alpha=0.75,\n",
    "             cmap=ListedColormap(('red', 'green'))\n",
    "             )\n",
    "\n",
    "plt.xlim(x1.min(), x1.max())\n",
    "plt.ylim(x2.min(), x2.max())\n",
    "\n",
    "for i, j in enumerate(np.unique(y_set)):\n",
    "    plt.scatter(x_set[y_set == j, 0],\n",
    "                x_set[y_set == j, 1],\n",
    "                c=ListedColormap(('red', 'green'))(i),\n",
    "                label=j)\n",
    "\n",
    "plt.title('Klasifikasi Data dengan K-NN (Data Training)')\n",
    "plt.xlabel('Umur')\n",
    "plt.ylabel('Estimasi Gaji')\n",
    "plt.legend()\n",
    "plt.show()"
   ],
   "metadata": {
    "collapsed": false,
    "ExecuteTime": {
     "end_time": "2024-05-07T14:17:42.974030Z",
     "start_time": "2024-05-07T14:17:42.914996Z"
    }
   },
   "id": "59fc93115406f8a8",
   "execution_count": 122
  },
  {
   "cell_type": "code",
   "outputs": [
    {
     "ename": "NotFittedError",
     "evalue": "This KNeighborsClassifier instance is not fitted yet. Call 'fit' with appropriate arguments before using this estimator.",
     "output_type": "error",
     "traceback": [
      "\u001B[1;31m---------------------------------------------------------------------------\u001B[0m",
      "\u001B[1;31mNotFittedError\u001B[0m                            Traceback (most recent call last)",
      "Cell \u001B[1;32mIn[123], line 15\u001B[0m\n\u001B[0;32m      1\u001B[0m x_set, y_set \u001B[38;5;241m=\u001B[39m x_test, y_test\n\u001B[0;32m      2\u001B[0m x1, x2 \u001B[38;5;241m=\u001B[39m np\u001B[38;5;241m.\u001B[39mmeshgrid(\n\u001B[0;32m      3\u001B[0m     np\u001B[38;5;241m.\u001B[39marange(\n\u001B[0;32m      4\u001B[0m         start\u001B[38;5;241m=\u001B[39mx_set[:, \u001B[38;5;241m0\u001B[39m]\u001B[38;5;241m.\u001B[39mmin() \u001B[38;5;241m-\u001B[39m \u001B[38;5;241m1\u001B[39m,\n\u001B[1;32m   (...)\u001B[0m\n\u001B[0;32m     12\u001B[0m     ),\n\u001B[0;32m     13\u001B[0m )\n\u001B[0;32m     14\u001B[0m plt\u001B[38;5;241m.\u001B[39mcontourf(x1, x2, \u001B[43mclassifier\u001B[49m\n\u001B[1;32m---> 15\u001B[0m \u001B[43m             \u001B[49m\u001B[38;5;241;43m.\u001B[39;49m\u001B[43mpredict\u001B[49m\u001B[43m(\u001B[49m\n\u001B[0;32m     16\u001B[0m \u001B[43m    \u001B[49m\u001B[43mnp\u001B[49m\u001B[38;5;241;43m.\u001B[39;49m\u001B[43marray\u001B[49m\u001B[43m(\u001B[49m\u001B[43m[\u001B[49m\u001B[43mx1\u001B[49m\u001B[38;5;241;43m.\u001B[39;49m\u001B[43mravel\u001B[49m\u001B[43m(\u001B[49m\u001B[43m)\u001B[49m\u001B[43m,\u001B[49m\u001B[43m \u001B[49m\u001B[43mx2\u001B[49m\u001B[38;5;241;43m.\u001B[39;49m\u001B[43mravel\u001B[49m\u001B[43m(\u001B[49m\u001B[43m)\u001B[49m\u001B[43m]\u001B[49m\u001B[43m)\u001B[49m\u001B[38;5;241;43m.\u001B[39;49m\u001B[43mT\u001B[49m\n\u001B[0;32m     17\u001B[0m \u001B[43m)\u001B[49m\n\u001B[0;32m     18\u001B[0m              \u001B[38;5;241m.\u001B[39mreshape(x1\u001B[38;5;241m.\u001B[39mshape),\n\u001B[0;32m     19\u001B[0m              alpha\u001B[38;5;241m=\u001B[39m\u001B[38;5;241m0.75\u001B[39m,\n\u001B[0;32m     20\u001B[0m              cmap\u001B[38;5;241m=\u001B[39mListedColormap((\u001B[38;5;124m'\u001B[39m\u001B[38;5;124mred\u001B[39m\u001B[38;5;124m'\u001B[39m, \u001B[38;5;124m'\u001B[39m\u001B[38;5;124mgreen\u001B[39m\u001B[38;5;124m'\u001B[39m))\n\u001B[0;32m     21\u001B[0m              )\n\u001B[0;32m     23\u001B[0m plt\u001B[38;5;241m.\u001B[39mxlim(x1\u001B[38;5;241m.\u001B[39mmin(), x1\u001B[38;5;241m.\u001B[39mmax())\n\u001B[0;32m     24\u001B[0m plt\u001B[38;5;241m.\u001B[39mylim(x2\u001B[38;5;241m.\u001B[39mmin(), x2\u001B[38;5;241m.\u001B[39mmax())\n",
      "File \u001B[1;32mC:\\laragon\\bin\\python\\python-3.10\\lib\\site-packages\\sklearn\\neighbors\\_classification.py:254\u001B[0m, in \u001B[0;36mKNeighborsClassifier.predict\u001B[1;34m(self, X)\u001B[0m\n\u001B[0;32m    240\u001B[0m \u001B[38;5;28;01mdef\u001B[39;00m \u001B[38;5;21mpredict\u001B[39m(\u001B[38;5;28mself\u001B[39m, X):\n\u001B[0;32m    241\u001B[0m \u001B[38;5;250m    \u001B[39m\u001B[38;5;124;03m\"\"\"Predict the class labels for the provided data.\u001B[39;00m\n\u001B[0;32m    242\u001B[0m \n\u001B[0;32m    243\u001B[0m \u001B[38;5;124;03m    Parameters\u001B[39;00m\n\u001B[1;32m   (...)\u001B[0m\n\u001B[0;32m    252\u001B[0m \u001B[38;5;124;03m        Class labels for each data sample.\u001B[39;00m\n\u001B[0;32m    253\u001B[0m \u001B[38;5;124;03m    \"\"\"\u001B[39;00m\n\u001B[1;32m--> 254\u001B[0m     \u001B[43mcheck_is_fitted\u001B[49m\u001B[43m(\u001B[49m\u001B[38;5;28;43mself\u001B[39;49m\u001B[43m,\u001B[49m\u001B[43m \u001B[49m\u001B[38;5;124;43m\"\u001B[39;49m\u001B[38;5;124;43m_fit_method\u001B[39;49m\u001B[38;5;124;43m\"\u001B[39;49m\u001B[43m)\u001B[49m\n\u001B[0;32m    255\u001B[0m     \u001B[38;5;28;01mif\u001B[39;00m \u001B[38;5;28mself\u001B[39m\u001B[38;5;241m.\u001B[39mweights \u001B[38;5;241m==\u001B[39m \u001B[38;5;124m\"\u001B[39m\u001B[38;5;124muniform\u001B[39m\u001B[38;5;124m\"\u001B[39m:\n\u001B[0;32m    256\u001B[0m         \u001B[38;5;28;01mif\u001B[39;00m \u001B[38;5;28mself\u001B[39m\u001B[38;5;241m.\u001B[39m_fit_method \u001B[38;5;241m==\u001B[39m \u001B[38;5;124m\"\u001B[39m\u001B[38;5;124mbrute\u001B[39m\u001B[38;5;124m\"\u001B[39m \u001B[38;5;129;01mand\u001B[39;00m ArgKminClassMode\u001B[38;5;241m.\u001B[39mis_usable_for(\n\u001B[0;32m    257\u001B[0m             X, \u001B[38;5;28mself\u001B[39m\u001B[38;5;241m.\u001B[39m_fit_X, \u001B[38;5;28mself\u001B[39m\u001B[38;5;241m.\u001B[39mmetric\n\u001B[0;32m    258\u001B[0m         ):\n",
      "File \u001B[1;32mC:\\laragon\\bin\\python\\python-3.10\\lib\\site-packages\\sklearn\\utils\\validation.py:1622\u001B[0m, in \u001B[0;36mcheck_is_fitted\u001B[1;34m(estimator, attributes, msg, all_or_any)\u001B[0m\n\u001B[0;32m   1619\u001B[0m     \u001B[38;5;28;01mraise\u001B[39;00m \u001B[38;5;167;01mTypeError\u001B[39;00m(\u001B[38;5;124m\"\u001B[39m\u001B[38;5;132;01m%s\u001B[39;00m\u001B[38;5;124m is not an estimator instance.\u001B[39m\u001B[38;5;124m\"\u001B[39m \u001B[38;5;241m%\u001B[39m (estimator))\n\u001B[0;32m   1621\u001B[0m \u001B[38;5;28;01mif\u001B[39;00m \u001B[38;5;129;01mnot\u001B[39;00m _is_fitted(estimator, attributes, all_or_any):\n\u001B[1;32m-> 1622\u001B[0m     \u001B[38;5;28;01mraise\u001B[39;00m NotFittedError(msg \u001B[38;5;241m%\u001B[39m {\u001B[38;5;124m\"\u001B[39m\u001B[38;5;124mname\u001B[39m\u001B[38;5;124m\"\u001B[39m: \u001B[38;5;28mtype\u001B[39m(estimator)\u001B[38;5;241m.\u001B[39m\u001B[38;5;18m__name__\u001B[39m})\n",
      "\u001B[1;31mNotFittedError\u001B[0m: This KNeighborsClassifier instance is not fitted yet. Call 'fit' with appropriate arguments before using this estimator."
     ]
    }
   ],
   "source": [
    "x_set, y_set = x_test, y_test\n",
    "x1, x2 = np.meshgrid(\n",
    "    np.arange(\n",
    "        start=x_set[:, 0].min() - 1,\n",
    "        stop=x_set[:, 0].max() + 1,\n",
    "        step=0.01\n",
    "    ),\n",
    "    np.arange(\n",
    "        start=x_set[:, 1].min() - 1,\n",
    "        stop=x_set[:, 1].max() + 1,\n",
    "        step=0.01\n",
    "    ),\n",
    ")\n",
    "plt.contourf(x1, x2, classifier\n",
    "             .predict(\n",
    "    np.array([x1.ravel(), x2.ravel()]).T\n",
    ")\n",
    "             .reshape(x1.shape),\n",
    "             alpha=0.75,\n",
    "             cmap=ListedColormap(('red', 'green'))\n",
    "             )\n",
    "\n",
    "plt.xlim(x1.min(), x1.max())\n",
    "plt.ylim(x2.min(), x2.max())\n",
    "\n",
    "for i, j in enumerate(np.unique(y_set)):\n",
    "    plt.scatter(x_set[y_set == j, 0],\n",
    "                x_set[y_set == j, 1],\n",
    "                c=ListedColormap(('red', 'green'))(i),\n",
    "                label=j)\n",
    "\n",
    "plt.title('Klasifikasi Data dengan K-NN (Data Testing)')\n",
    "plt.xlabel('Umur')\n",
    "plt.ylabel('Estimasi Gaji')\n",
    "plt.legend()\n",
    "plt.show()"
   ],
   "metadata": {
    "collapsed": false,
    "ExecuteTime": {
     "end_time": "2024-05-07T14:17:43.604320Z",
     "start_time": "2024-05-07T14:17:43.548419Z"
    }
   },
   "id": "66519c8c402357a3",
   "execution_count": 123
  },
  {
   "cell_type": "code",
   "outputs": [],
   "source": [],
   "metadata": {
    "collapsed": false,
    "ExecuteTime": {
     "end_time": "2024-05-07T14:17:44.653614Z",
     "start_time": "2024-05-07T14:17:44.644620Z"
    }
   },
   "id": "69df896045ec17ac",
   "execution_count": 123
  },
  {
   "cell_type": "code",
   "outputs": [],
   "source": [],
   "metadata": {
    "collapsed": false
   },
   "id": "5370a0a8e5710c0c"
  }
 ],
 "metadata": {
  "kernelspec": {
   "display_name": "Python 3",
   "language": "python",
   "name": "python3"
  },
  "language_info": {
   "codemirror_mode": {
    "name": "ipython",
    "version": 2
   },
   "file_extension": ".py",
   "mimetype": "text/x-python",
   "name": "python",
   "nbconvert_exporter": "python",
   "pygments_lexer": "ipython2",
   "version": "2.7.6"
  }
 },
 "nbformat": 4,
 "nbformat_minor": 5
}
