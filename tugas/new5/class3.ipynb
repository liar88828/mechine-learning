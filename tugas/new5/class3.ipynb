{
 "cells": [
  {
   "cell_type": "code",
   "outputs": [],
   "source": [
    "import numpy as np\n",
    "import pandas as pd\n",
    "from sklearn.model_selection import train_test_split\n",
    "from sklearn.linear_model import LogisticRegression\n",
    "from sklearn.metrics import accuracy_score\n",
    "# Import statistics Library\n",
    "import statistics"
   ],
   "metadata": {
    "collapsed": false,
    "ExecuteTime": {
     "end_time": "2024-06-30T12:56:33.295769Z",
     "start_time": "2024-06-30T12:56:33.283056Z"
    }
   },
   "id": "56982c5b4a43155d",
   "execution_count": 123
  },
  {
   "cell_type": "code",
   "outputs": [],
   "source": [
    "# Reading Dataset\n",
    "df = pd.read_csv('../../data/XAUUSD_2010-2023.csv').head(100_000)"
   ],
   "metadata": {
    "collapsed": false,
    "ExecuteTime": {
     "end_time": "2024-06-30T12:54:21.043479Z",
     "start_time": "2024-06-30T12:54:19.339565Z"
    }
   },
   "id": "82602601706ad0c5",
   "execution_count": 115
  },
  {
   "cell_type": "code",
   "outputs": [
    {
     "data": {
      "text/plain": "                  time     open    high      low    close  rsi14    sma14\n0  2010-01-03 18:00:00  1098.45  1100.0  1098.05  1099.95  81.98  1096.38\n1  2010-01-03 18:05:00  1100.00  1100.3  1099.45  1099.75  79.17  1096.72\n2  2010-01-03 18:10:00  1099.70  1100.1  1099.30  1099.45  75.02  1097.03\n3  2010-01-03 18:15:00  1099.50  1099.6  1098.50  1099.45  75.02  1097.30\n4  2010-01-03 18:20:00  1099.40  1099.6  1098.90  1098.90  67.50  1097.50",
      "text/html": "<div>\n<style scoped>\n    .dataframe tbody tr th:only-of-type {\n        vertical-align: middle;\n    }\n\n    .dataframe tbody tr th {\n        vertical-align: top;\n    }\n\n    .dataframe thead th {\n        text-align: right;\n    }\n</style>\n<table border=\"1\" class=\"dataframe\">\n  <thead>\n    <tr style=\"text-align: right;\">\n      <th></th>\n      <th>time</th>\n      <th>open</th>\n      <th>high</th>\n      <th>low</th>\n      <th>close</th>\n      <th>rsi14</th>\n      <th>sma14</th>\n    </tr>\n  </thead>\n  <tbody>\n    <tr>\n      <th>0</th>\n      <td>2010-01-03 18:00:00</td>\n      <td>1098.45</td>\n      <td>1100.0</td>\n      <td>1098.05</td>\n      <td>1099.95</td>\n      <td>81.98</td>\n      <td>1096.38</td>\n    </tr>\n    <tr>\n      <th>1</th>\n      <td>2010-01-03 18:05:00</td>\n      <td>1100.00</td>\n      <td>1100.3</td>\n      <td>1099.45</td>\n      <td>1099.75</td>\n      <td>79.17</td>\n      <td>1096.72</td>\n    </tr>\n    <tr>\n      <th>2</th>\n      <td>2010-01-03 18:10:00</td>\n      <td>1099.70</td>\n      <td>1100.1</td>\n      <td>1099.30</td>\n      <td>1099.45</td>\n      <td>75.02</td>\n      <td>1097.03</td>\n    </tr>\n    <tr>\n      <th>3</th>\n      <td>2010-01-03 18:15:00</td>\n      <td>1099.50</td>\n      <td>1099.6</td>\n      <td>1098.50</td>\n      <td>1099.45</td>\n      <td>75.02</td>\n      <td>1097.30</td>\n    </tr>\n    <tr>\n      <th>4</th>\n      <td>2010-01-03 18:20:00</td>\n      <td>1099.40</td>\n      <td>1099.6</td>\n      <td>1098.90</td>\n      <td>1098.90</td>\n      <td>67.50</td>\n      <td>1097.50</td>\n    </tr>\n  </tbody>\n</table>\n</div>"
     },
     "execution_count": 116,
     "metadata": {},
     "output_type": "execute_result"
    }
   ],
   "source": [
    "# Dataset Overview\n",
    "df.head(5)"
   ],
   "metadata": {
    "collapsed": false,
    "ExecuteTime": {
     "end_time": "2024-06-30T12:54:22.546413Z",
     "start_time": "2024-06-30T12:54:22.521776Z"
    }
   },
   "id": "7d13788f2406f4c9",
   "execution_count": 116
  },
  {
   "cell_type": "code",
   "outputs": [
    {
     "data": {
      "text/plain": "(100000, 7)"
     },
     "execution_count": 117,
     "metadata": {},
     "output_type": "execute_result"
    }
   ],
   "source": [
    "# number of rows and columns\n",
    "df.shape"
   ],
   "metadata": {
    "collapsed": false,
    "ExecuteTime": {
     "end_time": "2024-06-30T12:54:23.939993Z",
     "start_time": "2024-06-30T12:54:23.921509Z"
    }
   },
   "id": "31edd297cf0e778",
   "execution_count": 117
  },
  {
   "cell_type": "code",
   "outputs": [
    {
     "data": {
      "text/plain": "time     0\nopen     0\nhigh     0\nlow      0\nclose    0\nrsi14    0\nsma14    0\ndtype: int64"
     },
     "execution_count": 118,
     "metadata": {},
     "output_type": "execute_result"
    }
   ],
   "source": [
    "# check for missing values\n",
    "df.isnull().sum()"
   ],
   "metadata": {
    "collapsed": false,
    "ExecuteTime": {
     "end_time": "2024-06-30T12:54:24.748143Z",
     "start_time": "2024-06-30T12:54:24.716146Z"
    }
   },
   "id": "fc767cba2e370d1",
   "execution_count": 118
  },
  {
   "cell_type": "code",
   "outputs": [
    {
     "name": "stdout",
     "output_type": "stream",
     "text": [
      "<class 'pandas.core.frame.DataFrame'>\n",
      "RangeIndex: 100000 entries, 0 to 99999\n",
      "Data columns (total 7 columns):\n",
      " #   Column  Non-Null Count   Dtype  \n",
      "---  ------  --------------   -----  \n",
      " 0   time    100000 non-null  object \n",
      " 1   open    100000 non-null  float64\n",
      " 2   high    100000 non-null  float64\n",
      " 3   low     100000 non-null  float64\n",
      " 4   close   100000 non-null  float64\n",
      " 5   rsi14   100000 non-null  float64\n",
      " 6   sma14   100000 non-null  float64\n",
      "dtypes: float64(6), object(1)\n",
      "memory usage: 5.3+ MB\n"
     ]
    }
   ],
   "source": [
    "\n",
    "# getting some basic informations about the data\n",
    "df.info()"
   ],
   "metadata": {
    "collapsed": false,
    "ExecuteTime": {
     "end_time": "2024-06-30T12:54:26.460674Z",
     "start_time": "2024-06-30T12:54:26.432846Z"
    }
   },
   "id": "44bee7d84e4f217b",
   "execution_count": 119
  },
  {
   "cell_type": "code",
   "outputs": [
    {
     "data": {
      "text/plain": "time     0\nopen     0\nhigh     0\nlow      0\nclose    0\nrsi14    0\nsma14    0\ndtype: int64"
     },
     "execution_count": 120,
     "metadata": {},
     "output_type": "execute_result"
    }
   ],
   "source": [
    "# checking the number of missing values\n",
    "df.isnull().sum()"
   ],
   "metadata": {
    "collapsed": false,
    "ExecuteTime": {
     "end_time": "2024-06-30T12:54:28.269508Z",
     "start_time": "2024-06-30T12:54:28.240545Z"
    }
   },
   "id": "9ccce924d1032cc1",
   "execution_count": 120
  },
  {
   "cell_type": "code",
   "outputs": [
    {
     "data": {
      "text/plain": "1256.94"
     },
     "execution_count": 124,
     "metadata": {},
     "output_type": "execute_result"
    }
   ],
   "source": [
    "statistics.median(df['open'])"
   ],
   "metadata": {
    "collapsed": false,
    "ExecuteTime": {
     "end_time": "2024-06-30T12:56:38.266176Z",
     "start_time": "2024-06-30T12:56:38.227084Z"
    }
   },
   "id": "7d53607be08857be",
   "execution_count": 124
  },
  {
   "cell_type": "code",
   "outputs": [
    {
     "data": {
      "text/plain": "                open           high            low          close  \\\ncount  100000.000000  100000.000000  100000.000000  100000.000000   \nmean     1282.214728    1282.679546    1281.746151    1282.218261   \nstd       126.523868     126.553800     126.493120     126.524619   \nmin      1048.580000    1050.450000    1044.180000    1048.530000   \n25%      1176.630000    1177.080000    1176.117500    1176.630000   \n50%      1256.940000    1257.300000    1256.580000    1256.940000   \n75%      1385.350000    1385.780000    1384.930000    1385.350000   \nmax      1574.300000    1576.300000    1573.700000    1574.450000   \n\n               rsi14          sma14  \ncount  100000.000000  100000.000000  \nmean       50.929789    1282.191062  \nstd        11.197596     126.514056  \nmin         7.080000    1050.850000  \n25%        43.660000    1176.775000  \n50%        51.040000    1256.950000  \n75%        58.370000    1385.350000  \nmax        91.980000    1568.560000  ",
      "text/html": "<div>\n<style scoped>\n    .dataframe tbody tr th:only-of-type {\n        vertical-align: middle;\n    }\n\n    .dataframe tbody tr th {\n        vertical-align: top;\n    }\n\n    .dataframe thead th {\n        text-align: right;\n    }\n</style>\n<table border=\"1\" class=\"dataframe\">\n  <thead>\n    <tr style=\"text-align: right;\">\n      <th></th>\n      <th>open</th>\n      <th>high</th>\n      <th>low</th>\n      <th>close</th>\n      <th>rsi14</th>\n      <th>sma14</th>\n    </tr>\n  </thead>\n  <tbody>\n    <tr>\n      <th>count</th>\n      <td>100000.000000</td>\n      <td>100000.000000</td>\n      <td>100000.000000</td>\n      <td>100000.000000</td>\n      <td>100000.000000</td>\n      <td>100000.000000</td>\n    </tr>\n    <tr>\n      <th>mean</th>\n      <td>1282.214728</td>\n      <td>1282.679546</td>\n      <td>1281.746151</td>\n      <td>1282.218261</td>\n      <td>50.929789</td>\n      <td>1282.191062</td>\n    </tr>\n    <tr>\n      <th>std</th>\n      <td>126.523868</td>\n      <td>126.553800</td>\n      <td>126.493120</td>\n      <td>126.524619</td>\n      <td>11.197596</td>\n      <td>126.514056</td>\n    </tr>\n    <tr>\n      <th>min</th>\n      <td>1048.580000</td>\n      <td>1050.450000</td>\n      <td>1044.180000</td>\n      <td>1048.530000</td>\n      <td>7.080000</td>\n      <td>1050.850000</td>\n    </tr>\n    <tr>\n      <th>25%</th>\n      <td>1176.630000</td>\n      <td>1177.080000</td>\n      <td>1176.117500</td>\n      <td>1176.630000</td>\n      <td>43.660000</td>\n      <td>1176.775000</td>\n    </tr>\n    <tr>\n      <th>50%</th>\n      <td>1256.940000</td>\n      <td>1257.300000</td>\n      <td>1256.580000</td>\n      <td>1256.940000</td>\n      <td>51.040000</td>\n      <td>1256.950000</td>\n    </tr>\n    <tr>\n      <th>75%</th>\n      <td>1385.350000</td>\n      <td>1385.780000</td>\n      <td>1384.930000</td>\n      <td>1385.350000</td>\n      <td>58.370000</td>\n      <td>1385.350000</td>\n    </tr>\n    <tr>\n      <th>max</th>\n      <td>1574.300000</td>\n      <td>1576.300000</td>\n      <td>1573.700000</td>\n      <td>1574.450000</td>\n      <td>91.980000</td>\n      <td>1568.560000</td>\n    </tr>\n  </tbody>\n</table>\n</div>"
     },
     "execution_count": 125,
     "metadata": {},
     "output_type": "execute_result"
    }
   ],
   "source": [
    "# getting the statistical measures of the data\n",
    "df.describe()"
   ],
   "metadata": {
    "collapsed": false,
    "ExecuteTime": {
     "end_time": "2024-06-30T12:56:39.856935Z",
     "start_time": "2024-06-30T12:56:39.803879Z"
    }
   },
   "id": "58780f994e75c8d1",
   "execution_count": 125
  },
  {
   "cell_type": "code",
   "outputs": [
    {
     "data": {
      "text/plain": "0"
     },
     "execution_count": 126,
     "metadata": {},
     "output_type": "execute_result"
    }
   ],
   "source": [
    "# Checking Duplicates\n",
    "df.duplicated().sum()"
   ],
   "metadata": {
    "collapsed": false,
    "ExecuteTime": {
     "end_time": "2024-06-30T12:58:07.959845Z",
     "start_time": "2024-06-30T12:58:07.858819Z"
    }
   },
   "id": "d1eb6759fb26c1f9",
   "execution_count": 126
  },
  {
   "cell_type": "code",
   "outputs": [
    {
     "data": {
      "text/plain": "time     0\nopen     0\nhigh     0\nlow      0\nclose    0\nrsi14    0\nsma14    0\ndtype: int64"
     },
     "execution_count": 127,
     "metadata": {},
     "output_type": "execute_result"
    }
   ],
   "source": [
    "# Checking Missing Values\n",
    "df.isnull().sum()"
   ],
   "metadata": {
    "collapsed": false,
    "ExecuteTime": {
     "end_time": "2024-06-30T12:58:08.824626Z",
     "start_time": "2024-06-30T12:58:08.795829Z"
    }
   },
   "id": "ca0a7cbf9c189f6f",
   "execution_count": 127
  },
  {
   "cell_type": "code",
   "outputs": [],
   "source": [
    "# Preprocess the data\n",
    "df = df.dropna()  # Handle missing values"
   ],
   "metadata": {
    "collapsed": false,
    "ExecuteTime": {
     "end_time": "2024-06-30T12:58:10.720299Z",
     "start_time": "2024-06-30T12:58:10.698681Z"
    }
   },
   "id": "1a966c9661471458",
   "execution_count": 128
  },
  {
   "cell_type": "code",
   "outputs": [
    {
     "name": "stdout",
     "output_type": "stream",
     "text": [
      "<class 'pandas.core.frame.DataFrame'>\n",
      "RangeIndex: 100000 entries, 0 to 99999\n",
      "Data columns (total 7 columns):\n",
      " #   Column  Non-Null Count   Dtype         \n",
      "---  ------  --------------   -----         \n",
      " 0   time    100000 non-null  datetime64[ns]\n",
      " 1   open    100000 non-null  float64       \n",
      " 2   high    100000 non-null  float64       \n",
      " 3   low     100000 non-null  float64       \n",
      " 4   close   100000 non-null  float64       \n",
      " 5   rsi14   100000 non-null  float64       \n",
      " 6   sma14   100000 non-null  float64       \n",
      "dtypes: datetime64[ns](1), float64(6)\n",
      "memory usage: 5.3 MB\n"
     ]
    }
   ],
   "source": [
    "df['time'] = pd.to_datetime(df['time'])\n",
    "df.sort_values(by='time', ascending=True, inplace=True)\n",
    "df.reset_index(drop=True, inplace=True)\n",
    "# df.index = df['time']\n",
    "df.info()"
   ],
   "metadata": {
    "collapsed": false,
    "ExecuteTime": {
     "end_time": "2024-06-30T12:58:38.110064Z",
     "start_time": "2024-06-30T12:58:38.071065Z"
    }
   },
   "id": "ca5f289962189b01",
   "execution_count": 132
  },
  {
   "cell_type": "code",
   "outputs": [
    {
     "data": {
      "text/plain": "                 time     open    high      low    close  rsi14    sma14\n0 2010-01-03 18:00:00  1098.45  1100.0  1098.05  1099.95  81.98  1096.38\n1 2010-01-03 18:05:00  1100.00  1100.3  1099.45  1099.75  79.17  1096.72\n2 2010-01-03 18:10:00  1099.70  1100.1  1099.30  1099.45  75.02  1097.03\n3 2010-01-03 18:15:00  1099.50  1099.6  1098.50  1099.45  75.02  1097.30\n4 2010-01-03 18:20:00  1099.40  1099.6  1098.90  1098.90  67.50  1097.50",
      "text/html": "<div>\n<style scoped>\n    .dataframe tbody tr th:only-of-type {\n        vertical-align: middle;\n    }\n\n    .dataframe tbody tr th {\n        vertical-align: top;\n    }\n\n    .dataframe thead th {\n        text-align: right;\n    }\n</style>\n<table border=\"1\" class=\"dataframe\">\n  <thead>\n    <tr style=\"text-align: right;\">\n      <th></th>\n      <th>time</th>\n      <th>open</th>\n      <th>high</th>\n      <th>low</th>\n      <th>close</th>\n      <th>rsi14</th>\n      <th>sma14</th>\n    </tr>\n  </thead>\n  <tbody>\n    <tr>\n      <th>0</th>\n      <td>2010-01-03 18:00:00</td>\n      <td>1098.45</td>\n      <td>1100.0</td>\n      <td>1098.05</td>\n      <td>1099.95</td>\n      <td>81.98</td>\n      <td>1096.38</td>\n    </tr>\n    <tr>\n      <th>1</th>\n      <td>2010-01-03 18:05:00</td>\n      <td>1100.00</td>\n      <td>1100.3</td>\n      <td>1099.45</td>\n      <td>1099.75</td>\n      <td>79.17</td>\n      <td>1096.72</td>\n    </tr>\n    <tr>\n      <th>2</th>\n      <td>2010-01-03 18:10:00</td>\n      <td>1099.70</td>\n      <td>1100.1</td>\n      <td>1099.30</td>\n      <td>1099.45</td>\n      <td>75.02</td>\n      <td>1097.03</td>\n    </tr>\n    <tr>\n      <th>3</th>\n      <td>2010-01-03 18:15:00</td>\n      <td>1099.50</td>\n      <td>1099.6</td>\n      <td>1098.50</td>\n      <td>1099.45</td>\n      <td>75.02</td>\n      <td>1097.30</td>\n    </tr>\n    <tr>\n      <th>4</th>\n      <td>2010-01-03 18:20:00</td>\n      <td>1099.40</td>\n      <td>1099.6</td>\n      <td>1098.90</td>\n      <td>1098.90</td>\n      <td>67.50</td>\n      <td>1097.50</td>\n    </tr>\n  </tbody>\n</table>\n</div>"
     },
     "execution_count": 133,
     "metadata": {},
     "output_type": "execute_result"
    }
   ],
   "source": [
    "# Dataset Overview\n",
    "df.head(5)"
   ],
   "metadata": {
    "collapsed": false,
    "ExecuteTime": {
     "end_time": "2024-06-30T12:59:51.309341Z",
     "start_time": "2024-06-30T12:59:51.280377Z"
    }
   },
   "id": "193daab665b9ea78",
   "execution_count": 133
  },
  {
   "cell_type": "code",
   "outputs": [
    {
     "data": {
      "text/plain": "status_low\n3.0    89644\n2.0    10356\nName: count, dtype: int64"
     },
     "execution_count": 134,
     "metadata": {},
     "output_type": "execute_result"
    }
   ],
   "source": [
    "\n",
    "# Define the conditions for each possible combination\n",
    "conditions = [\n",
    "    (df['open'] < df['low']),\n",
    "    (df['open'] == df['low']),\n",
    "    (df['open'] > df['low']),\n",
    "]\n",
    "\n",
    "# Define the corresponding choices\n",
    "choices = [1, 2, 3]\n",
    "\n",
    "# Apply the conditions to create the result column\n",
    "df['status_low'] = np.select(conditions, choices, default=np.nan)\n",
    "df['status_low'].value_counts()"
   ],
   "metadata": {
    "collapsed": false,
    "ExecuteTime": {
     "end_time": "2024-06-30T13:00:35.079037Z",
     "start_time": "2024-06-30T13:00:35.061765Z"
    }
   },
   "id": "1206c2cd79cd6129",
   "execution_count": 134
  },
  {
   "cell_type": "code",
   "outputs": [
    {
     "data": {
      "text/plain": "status_high\n1.0    90328\n2.0     9672\nName: count, dtype: int64"
     },
     "execution_count": 135,
     "metadata": {},
     "output_type": "execute_result"
    }
   ],
   "source": [
    "# Define the conditions for each possible combination\n",
    "conditions = [\n",
    "    (df['open'] < df['high']),\n",
    "    (df['open'] == df['high']),\n",
    "    (df['open'] > df['high']),\n",
    "]\n",
    "\n",
    "# Define the corresponding choices\n",
    "choices = [1, 2, 3]\n",
    "\n",
    "# Apply the conditions to create the result column\n",
    "df['status_high'] = np.select(conditions, choices, default=np.nan)\n",
    "df['status_high'].value_counts()"
   ],
   "metadata": {
    "collapsed": false,
    "ExecuteTime": {
     "end_time": "2024-06-30T13:01:19.559295Z",
     "start_time": "2024-06-30T13:01:19.527601Z"
    }
   },
   "id": "7c94fa1851b330bc",
   "execution_count": 135
  },
  {
   "cell_type": "code",
   "outputs": [
    {
     "data": {
      "text/plain": "status_close\n1.0    48728\n3.0    47820\n2.0     3452\nName: count, dtype: int64"
     },
     "execution_count": 136,
     "metadata": {},
     "output_type": "execute_result"
    }
   ],
   "source": [
    "# Define the conditions for each possible combination\n",
    "conditions = [\n",
    "    (df['open'] < df['close']),\n",
    "    (df['open'] == df['close']),\n",
    "    (df['open'] > df['close']),\n",
    "]\n",
    "\n",
    "# Define the corresponding choices\n",
    "choices = [1, 2, 3]\n",
    "\n",
    "# Apply the conditions to create the result column\n",
    "df['status_close'] = np.select(conditions, choices, default=np.nan)\n",
    "df['status_close'].value_counts()"
   ],
   "metadata": {
    "collapsed": false,
    "ExecuteTime": {
     "end_time": "2024-06-30T13:01:26.872003Z",
     "start_time": "2024-06-30T13:01:26.848815Z"
    }
   },
   "id": "89e72837596f43da",
   "execution_count": 136
  },
  {
   "cell_type": "code",
   "outputs": [
    {
     "name": "stdout",
     "output_type": "stream",
     "text": [
      "<class 'pandas.core.frame.DataFrame'>\n",
      "RangeIndex: 100000 entries, 0 to 99999\n",
      "Data columns (total 6 columns):\n",
      " #   Column        Non-Null Count   Dtype  \n",
      "---  ------        --------------   -----  \n",
      " 0   high          100000 non-null  float64\n",
      " 1   low           100000 non-null  float64\n",
      " 2   close         100000 non-null  float64\n",
      " 3   status_low    100000 non-null  float64\n",
      " 4   status_high   100000 non-null  float64\n",
      " 5   status_close  100000 non-null  float64\n",
      "dtypes: float64(6)\n",
      "memory usage: 4.6 MB\n"
     ]
    },
    {
     "ename": "KeyError",
     "evalue": "\"['time', 'sma14', 'rsi14', 'open'] not found in axis\"",
     "output_type": "error",
     "traceback": [
      "\u001B[1;31m---------------------------------------------------------------------------\u001B[0m",
      "\u001B[1;31mKeyError\u001B[0m                                  Traceback (most recent call last)",
      "Cell \u001B[1;32mIn[138], line 6\u001B[0m\n\u001B[0;32m      1\u001B[0m \u001B[38;5;66;03m# df.drop(['time'], axis=1, inplace=True)\u001B[39;00m\n\u001B[0;32m      2\u001B[0m \u001B[38;5;66;03m# NumCols = df.columns.drop(['Date'])\u001B[39;00m\n\u001B[0;32m      3\u001B[0m \u001B[38;5;66;03m# df[NumCols] = df[NumCols].replace({',': ''}, regex=True)\u001B[39;00m\n\u001B[0;32m      4\u001B[0m \u001B[38;5;66;03m# df[NumCols] = df[NumCols].astype('float64')\u001B[39;00m\n\u001B[0;32m      5\u001B[0m df\u001B[38;5;241m.\u001B[39minfo()\n\u001B[1;32m----> 6\u001B[0m df \u001B[38;5;241m=\u001B[39m \u001B[43mdf\u001B[49m\u001B[38;5;241;43m.\u001B[39;49m\u001B[43mdrop\u001B[49m\u001B[43m(\u001B[49m\u001B[43mcolumns\u001B[49m\u001B[38;5;241;43m=\u001B[39;49m\u001B[43m[\u001B[49m\u001B[38;5;124;43m'\u001B[39;49m\u001B[38;5;124;43mtime\u001B[39;49m\u001B[38;5;124;43m'\u001B[39;49m\u001B[43m,\u001B[49m\u001B[43m \u001B[49m\u001B[38;5;124;43m'\u001B[39;49m\u001B[38;5;124;43msma14\u001B[39;49m\u001B[38;5;124;43m'\u001B[39;49m\u001B[43m,\u001B[49m\u001B[43m \u001B[49m\u001B[38;5;124;43m'\u001B[39;49m\u001B[38;5;124;43mrsi14\u001B[39;49m\u001B[38;5;124;43m'\u001B[39;49m\u001B[43m,\u001B[49m\u001B[43m \u001B[49m\u001B[38;5;124;43m'\u001B[39;49m\u001B[38;5;124;43mopen\u001B[39;49m\u001B[38;5;124;43m'\u001B[39;49m\u001B[43m]\u001B[49m\u001B[43m,\u001B[49m\u001B[43m \u001B[49m\u001B[43maxis\u001B[49m\u001B[38;5;241;43m=\u001B[39;49m\u001B[38;5;241;43m1\u001B[39;49m\u001B[43m)\u001B[49m\n\u001B[0;32m      7\u001B[0m df\n",
      "File \u001B[1;32mC:\\laragon\\bin\\python\\python-3.10\\lib\\site-packages\\pandas\\core\\frame.py:5568\u001B[0m, in \u001B[0;36mDataFrame.drop\u001B[1;34m(self, labels, axis, index, columns, level, inplace, errors)\u001B[0m\n\u001B[0;32m   5420\u001B[0m \u001B[38;5;28;01mdef\u001B[39;00m \u001B[38;5;21mdrop\u001B[39m(\n\u001B[0;32m   5421\u001B[0m     \u001B[38;5;28mself\u001B[39m,\n\u001B[0;32m   5422\u001B[0m     labels: IndexLabel \u001B[38;5;241m|\u001B[39m \u001B[38;5;28;01mNone\u001B[39;00m \u001B[38;5;241m=\u001B[39m \u001B[38;5;28;01mNone\u001B[39;00m,\n\u001B[1;32m   (...)\u001B[0m\n\u001B[0;32m   5429\u001B[0m     errors: IgnoreRaise \u001B[38;5;241m=\u001B[39m \u001B[38;5;124m\"\u001B[39m\u001B[38;5;124mraise\u001B[39m\u001B[38;5;124m\"\u001B[39m,\n\u001B[0;32m   5430\u001B[0m ) \u001B[38;5;241m-\u001B[39m\u001B[38;5;241m>\u001B[39m DataFrame \u001B[38;5;241m|\u001B[39m \u001B[38;5;28;01mNone\u001B[39;00m:\n\u001B[0;32m   5431\u001B[0m \u001B[38;5;250m    \u001B[39m\u001B[38;5;124;03m\"\"\"\u001B[39;00m\n\u001B[0;32m   5432\u001B[0m \u001B[38;5;124;03m    Drop specified labels from rows or columns.\u001B[39;00m\n\u001B[0;32m   5433\u001B[0m \n\u001B[1;32m   (...)\u001B[0m\n\u001B[0;32m   5566\u001B[0m \u001B[38;5;124;03m            weight  1.0     0.8\u001B[39;00m\n\u001B[0;32m   5567\u001B[0m \u001B[38;5;124;03m    \"\"\"\u001B[39;00m\n\u001B[1;32m-> 5568\u001B[0m     \u001B[38;5;28;01mreturn\u001B[39;00m \u001B[38;5;28;43msuper\u001B[39;49m\u001B[43m(\u001B[49m\u001B[43m)\u001B[49m\u001B[38;5;241;43m.\u001B[39;49m\u001B[43mdrop\u001B[49m\u001B[43m(\u001B[49m\n\u001B[0;32m   5569\u001B[0m \u001B[43m        \u001B[49m\u001B[43mlabels\u001B[49m\u001B[38;5;241;43m=\u001B[39;49m\u001B[43mlabels\u001B[49m\u001B[43m,\u001B[49m\n\u001B[0;32m   5570\u001B[0m \u001B[43m        \u001B[49m\u001B[43maxis\u001B[49m\u001B[38;5;241;43m=\u001B[39;49m\u001B[43maxis\u001B[49m\u001B[43m,\u001B[49m\n\u001B[0;32m   5571\u001B[0m \u001B[43m        \u001B[49m\u001B[43mindex\u001B[49m\u001B[38;5;241;43m=\u001B[39;49m\u001B[43mindex\u001B[49m\u001B[43m,\u001B[49m\n\u001B[0;32m   5572\u001B[0m \u001B[43m        \u001B[49m\u001B[43mcolumns\u001B[49m\u001B[38;5;241;43m=\u001B[39;49m\u001B[43mcolumns\u001B[49m\u001B[43m,\u001B[49m\n\u001B[0;32m   5573\u001B[0m \u001B[43m        \u001B[49m\u001B[43mlevel\u001B[49m\u001B[38;5;241;43m=\u001B[39;49m\u001B[43mlevel\u001B[49m\u001B[43m,\u001B[49m\n\u001B[0;32m   5574\u001B[0m \u001B[43m        \u001B[49m\u001B[43minplace\u001B[49m\u001B[38;5;241;43m=\u001B[39;49m\u001B[43minplace\u001B[49m\u001B[43m,\u001B[49m\n\u001B[0;32m   5575\u001B[0m \u001B[43m        \u001B[49m\u001B[43merrors\u001B[49m\u001B[38;5;241;43m=\u001B[39;49m\u001B[43merrors\u001B[49m\u001B[43m,\u001B[49m\n\u001B[0;32m   5576\u001B[0m \u001B[43m    \u001B[49m\u001B[43m)\u001B[49m\n",
      "File \u001B[1;32mC:\\laragon\\bin\\python\\python-3.10\\lib\\site-packages\\pandas\\core\\generic.py:4785\u001B[0m, in \u001B[0;36mNDFrame.drop\u001B[1;34m(self, labels, axis, index, columns, level, inplace, errors)\u001B[0m\n\u001B[0;32m   4783\u001B[0m \u001B[38;5;28;01mfor\u001B[39;00m axis, labels \u001B[38;5;129;01min\u001B[39;00m axes\u001B[38;5;241m.\u001B[39mitems():\n\u001B[0;32m   4784\u001B[0m     \u001B[38;5;28;01mif\u001B[39;00m labels \u001B[38;5;129;01mis\u001B[39;00m \u001B[38;5;129;01mnot\u001B[39;00m \u001B[38;5;28;01mNone\u001B[39;00m:\n\u001B[1;32m-> 4785\u001B[0m         obj \u001B[38;5;241m=\u001B[39m \u001B[43mobj\u001B[49m\u001B[38;5;241;43m.\u001B[39;49m\u001B[43m_drop_axis\u001B[49m\u001B[43m(\u001B[49m\u001B[43mlabels\u001B[49m\u001B[43m,\u001B[49m\u001B[43m \u001B[49m\u001B[43maxis\u001B[49m\u001B[43m,\u001B[49m\u001B[43m \u001B[49m\u001B[43mlevel\u001B[49m\u001B[38;5;241;43m=\u001B[39;49m\u001B[43mlevel\u001B[49m\u001B[43m,\u001B[49m\u001B[43m \u001B[49m\u001B[43merrors\u001B[49m\u001B[38;5;241;43m=\u001B[39;49m\u001B[43merrors\u001B[49m\u001B[43m)\u001B[49m\n\u001B[0;32m   4787\u001B[0m \u001B[38;5;28;01mif\u001B[39;00m inplace:\n\u001B[0;32m   4788\u001B[0m     \u001B[38;5;28mself\u001B[39m\u001B[38;5;241m.\u001B[39m_update_inplace(obj)\n",
      "File \u001B[1;32mC:\\laragon\\bin\\python\\python-3.10\\lib\\site-packages\\pandas\\core\\generic.py:4827\u001B[0m, in \u001B[0;36mNDFrame._drop_axis\u001B[1;34m(self, labels, axis, level, errors, only_slice)\u001B[0m\n\u001B[0;32m   4825\u001B[0m         new_axis \u001B[38;5;241m=\u001B[39m axis\u001B[38;5;241m.\u001B[39mdrop(labels, level\u001B[38;5;241m=\u001B[39mlevel, errors\u001B[38;5;241m=\u001B[39merrors)\n\u001B[0;32m   4826\u001B[0m     \u001B[38;5;28;01melse\u001B[39;00m:\n\u001B[1;32m-> 4827\u001B[0m         new_axis \u001B[38;5;241m=\u001B[39m \u001B[43maxis\u001B[49m\u001B[38;5;241;43m.\u001B[39;49m\u001B[43mdrop\u001B[49m\u001B[43m(\u001B[49m\u001B[43mlabels\u001B[49m\u001B[43m,\u001B[49m\u001B[43m \u001B[49m\u001B[43merrors\u001B[49m\u001B[38;5;241;43m=\u001B[39;49m\u001B[43merrors\u001B[49m\u001B[43m)\u001B[49m\n\u001B[0;32m   4828\u001B[0m     indexer \u001B[38;5;241m=\u001B[39m axis\u001B[38;5;241m.\u001B[39mget_indexer(new_axis)\n\u001B[0;32m   4830\u001B[0m \u001B[38;5;66;03m# Case for non-unique axis\u001B[39;00m\n\u001B[0;32m   4831\u001B[0m \u001B[38;5;28;01melse\u001B[39;00m:\n",
      "File \u001B[1;32mC:\\laragon\\bin\\python\\python-3.10\\lib\\site-packages\\pandas\\core\\indexes\\base.py:7070\u001B[0m, in \u001B[0;36mIndex.drop\u001B[1;34m(self, labels, errors)\u001B[0m\n\u001B[0;32m   7068\u001B[0m \u001B[38;5;28;01mif\u001B[39;00m mask\u001B[38;5;241m.\u001B[39many():\n\u001B[0;32m   7069\u001B[0m     \u001B[38;5;28;01mif\u001B[39;00m errors \u001B[38;5;241m!=\u001B[39m \u001B[38;5;124m\"\u001B[39m\u001B[38;5;124mignore\u001B[39m\u001B[38;5;124m\"\u001B[39m:\n\u001B[1;32m-> 7070\u001B[0m         \u001B[38;5;28;01mraise\u001B[39;00m \u001B[38;5;167;01mKeyError\u001B[39;00m(\u001B[38;5;124mf\u001B[39m\u001B[38;5;124m\"\u001B[39m\u001B[38;5;132;01m{\u001B[39;00mlabels[mask]\u001B[38;5;241m.\u001B[39mtolist()\u001B[38;5;132;01m}\u001B[39;00m\u001B[38;5;124m not found in axis\u001B[39m\u001B[38;5;124m\"\u001B[39m)\n\u001B[0;32m   7071\u001B[0m     indexer \u001B[38;5;241m=\u001B[39m indexer[\u001B[38;5;241m~\u001B[39mmask]\n\u001B[0;32m   7072\u001B[0m \u001B[38;5;28;01mreturn\u001B[39;00m \u001B[38;5;28mself\u001B[39m\u001B[38;5;241m.\u001B[39mdelete(indexer)\n",
      "\u001B[1;31mKeyError\u001B[0m: \"['time', 'sma14', 'rsi14', 'open'] not found in axis\""
     ]
    }
   ],
   "source": [
    "\n",
    "# df.drop(['time'], axis=1, inplace=True)\n",
    "# NumCols = df.columns.drop(['Date'])\n",
    "# df[NumCols] = df[NumCols].replace({',': ''}, regex=True)\n",
    "# df[NumCols] = df[NumCols].astype('float64')\n",
    "df.info()\n",
    "df = df.drop(columns=['time', 'sma14', 'rsi14', 'open'], axis=1)\n",
    "df"
   ],
   "metadata": {
    "collapsed": false,
    "ExecuteTime": {
     "end_time": "2024-06-30T13:02:23.347700Z",
     "start_time": "2024-06-30T13:02:23.250096Z"
    }
   },
   "id": "aeae3c53081b86f7",
   "execution_count": 138
  },
  {
   "cell_type": "code",
   "outputs": [],
   "source": [
    "X = df.drop(columns='status_close', axis=1)\n",
    "Y = df['status_close']"
   ],
   "metadata": {
    "collapsed": false,
    "ExecuteTime": {
     "end_time": "2024-06-30T13:02:53.070457Z",
     "start_time": "2024-06-30T13:02:53.056646Z"
    }
   },
   "id": "86125889a8c3ad9f",
   "execution_count": 139
  },
  {
   "cell_type": "code",
   "outputs": [],
   "source": [
    "X_train, X_test, Y_train, Y_test = train_test_split(X, Y, test_size=0.2, stratify=Y, random_state=2)"
   ],
   "metadata": {
    "collapsed": false,
    "ExecuteTime": {
     "end_time": "2024-06-30T13:02:55.603896Z",
     "start_time": "2024-06-30T13:02:55.539543Z"
    }
   },
   "id": "80f150c0f77bf27f",
   "execution_count": 140
  },
  {
   "cell_type": "code",
   "outputs": [
    {
     "name": "stdout",
     "output_type": "stream",
     "text": [
      "(100000, 5) (80000, 5) (20000, 5)\n"
     ]
    }
   ],
   "source": [
    "print(X.shape, X_train.shape, X_test.shape)"
   ],
   "metadata": {
    "collapsed": false,
    "ExecuteTime": {
     "end_time": "2024-06-30T13:02:57.690521Z",
     "start_time": "2024-06-30T13:02:57.673555Z"
    }
   },
   "id": "8e2c695cd50e55a8",
   "execution_count": 141
  },
  {
   "cell_type": "code",
   "outputs": [
    {
     "data": {
      "text/plain": "          high      low    close  status_low  status_high\n86158  1424.40  1423.58  1423.58         3.0          2.0\n33293  1257.18  1255.98  1257.08         3.0          1.0\n44964  1225.33  1224.38  1224.88         3.0          2.0\n9900   1115.95  1114.88  1115.33         3.0          1.0\n93567  1500.43  1500.13  1500.33         3.0          2.0\n...        ...      ...      ...         ...          ...\n78229  1338.55  1338.05  1338.48         3.0          1.0\n10746  1097.85  1095.80  1096.60         3.0          1.0\n96792  1482.03  1479.53  1479.88         3.0          1.0\n25825  1238.58  1236.23  1237.03         3.0          1.0\n94597  1501.88  1501.23  1501.38         3.0          1.0\n\n[20000 rows x 5 columns]",
      "text/html": "<div>\n<style scoped>\n    .dataframe tbody tr th:only-of-type {\n        vertical-align: middle;\n    }\n\n    .dataframe tbody tr th {\n        vertical-align: top;\n    }\n\n    .dataframe thead th {\n        text-align: right;\n    }\n</style>\n<table border=\"1\" class=\"dataframe\">\n  <thead>\n    <tr style=\"text-align: right;\">\n      <th></th>\n      <th>high</th>\n      <th>low</th>\n      <th>close</th>\n      <th>status_low</th>\n      <th>status_high</th>\n    </tr>\n  </thead>\n  <tbody>\n    <tr>\n      <th>86158</th>\n      <td>1424.40</td>\n      <td>1423.58</td>\n      <td>1423.58</td>\n      <td>3.0</td>\n      <td>2.0</td>\n    </tr>\n    <tr>\n      <th>33293</th>\n      <td>1257.18</td>\n      <td>1255.98</td>\n      <td>1257.08</td>\n      <td>3.0</td>\n      <td>1.0</td>\n    </tr>\n    <tr>\n      <th>44964</th>\n      <td>1225.33</td>\n      <td>1224.38</td>\n      <td>1224.88</td>\n      <td>3.0</td>\n      <td>2.0</td>\n    </tr>\n    <tr>\n      <th>9900</th>\n      <td>1115.95</td>\n      <td>1114.88</td>\n      <td>1115.33</td>\n      <td>3.0</td>\n      <td>1.0</td>\n    </tr>\n    <tr>\n      <th>93567</th>\n      <td>1500.43</td>\n      <td>1500.13</td>\n      <td>1500.33</td>\n      <td>3.0</td>\n      <td>2.0</td>\n    </tr>\n    <tr>\n      <th>...</th>\n      <td>...</td>\n      <td>...</td>\n      <td>...</td>\n      <td>...</td>\n      <td>...</td>\n    </tr>\n    <tr>\n      <th>78229</th>\n      <td>1338.55</td>\n      <td>1338.05</td>\n      <td>1338.48</td>\n      <td>3.0</td>\n      <td>1.0</td>\n    </tr>\n    <tr>\n      <th>10746</th>\n      <td>1097.85</td>\n      <td>1095.80</td>\n      <td>1096.60</td>\n      <td>3.0</td>\n      <td>1.0</td>\n    </tr>\n    <tr>\n      <th>96792</th>\n      <td>1482.03</td>\n      <td>1479.53</td>\n      <td>1479.88</td>\n      <td>3.0</td>\n      <td>1.0</td>\n    </tr>\n    <tr>\n      <th>25825</th>\n      <td>1238.58</td>\n      <td>1236.23</td>\n      <td>1237.03</td>\n      <td>3.0</td>\n      <td>1.0</td>\n    </tr>\n    <tr>\n      <th>94597</th>\n      <td>1501.88</td>\n      <td>1501.23</td>\n      <td>1501.38</td>\n      <td>3.0</td>\n      <td>1.0</td>\n    </tr>\n  </tbody>\n</table>\n<p>20000 rows × 5 columns</p>\n</div>"
     },
     "execution_count": 142,
     "metadata": {},
     "output_type": "execute_result"
    }
   ],
   "source": [
    "X_test"
   ],
   "metadata": {
    "collapsed": false,
    "ExecuteTime": {
     "end_time": "2024-06-30T13:03:20.485698Z",
     "start_time": "2024-06-30T13:03:20.467762Z"
    }
   },
   "id": "b6d590edea2b50e1",
   "execution_count": 142
  },
  {
   "cell_type": "code",
   "outputs": [
    {
     "name": "stdout",
     "output_type": "stream",
     "text": [
      "          high      low    close  status_low  status_high\n",
      "87585  1426.78  1426.68  1426.68         2.0          1.0\n",
      "78263  1336.43  1335.43  1335.53         3.0          1.0\n",
      "75182  1368.78  1368.03  1368.63         3.0          1.0\n",
      "86995  1404.58  1404.08  1404.08         3.0          2.0\n",
      "87999  1431.73  1430.25  1431.68         2.0          1.0\n",
      "...        ...      ...      ...         ...          ...\n",
      "22963  1163.38  1162.58  1162.58         3.0          2.0\n",
      "96909  1494.50  1493.25  1494.10         3.0          1.0\n",
      "38450  1211.68  1211.40  1211.43         3.0          1.0\n",
      "41873  1175.85  1174.48  1175.70         3.0          1.0\n",
      "48746  1248.28  1248.18  1248.28         3.0          1.0\n",
      "\n",
      "[80000 rows x 5 columns]\n"
     ]
    }
   ],
   "source": [
    "print(X_train)"
   ],
   "metadata": {
    "collapsed": false,
    "ExecuteTime": {
     "end_time": "2024-06-30T13:03:45.932668Z",
     "start_time": "2024-06-30T13:03:45.906371Z"
    }
   },
   "id": "f156c3d037c60b21",
   "execution_count": 143
  },
  {
   "cell_type": "code",
   "outputs": [],
   "source": [
    "model = LogisticRegression(solver='liblinear', random_state=0)"
   ],
   "metadata": {
    "collapsed": false,
    "ExecuteTime": {
     "end_time": "2024-06-30T13:04:45.481713Z",
     "start_time": "2024-06-30T13:04:45.471327Z"
    }
   },
   "id": "dd5923f122d07d9d",
   "execution_count": 146
  },
  {
   "cell_type": "code",
   "outputs": [
    {
     "data": {
      "text/plain": "LogisticRegression(random_state=0, solver='liblinear')",
      "text/html": "<style>#sk-container-id-5 {\n  /* Definition of color scheme common for light and dark mode */\n  --sklearn-color-text: black;\n  --sklearn-color-line: gray;\n  /* Definition of color scheme for unfitted estimators */\n  --sklearn-color-unfitted-level-0: #fff5e6;\n  --sklearn-color-unfitted-level-1: #f6e4d2;\n  --sklearn-color-unfitted-level-2: #ffe0b3;\n  --sklearn-color-unfitted-level-3: chocolate;\n  /* Definition of color scheme for fitted estimators */\n  --sklearn-color-fitted-level-0: #f0f8ff;\n  --sklearn-color-fitted-level-1: #d4ebff;\n  --sklearn-color-fitted-level-2: #b3dbfd;\n  --sklearn-color-fitted-level-3: cornflowerblue;\n\n  /* Specific color for light theme */\n  --sklearn-color-text-on-default-background: var(--sg-text-color, var(--theme-code-foreground, var(--jp-content-font-color1, black)));\n  --sklearn-color-background: var(--sg-background-color, var(--theme-background, var(--jp-layout-color0, white)));\n  --sklearn-color-border-box: var(--sg-text-color, var(--theme-code-foreground, var(--jp-content-font-color1, black)));\n  --sklearn-color-icon: #696969;\n\n  @media (prefers-color-scheme: dark) {\n    /* Redefinition of color scheme for dark theme */\n    --sklearn-color-text-on-default-background: var(--sg-text-color, var(--theme-code-foreground, var(--jp-content-font-color1, white)));\n    --sklearn-color-background: var(--sg-background-color, var(--theme-background, var(--jp-layout-color0, #111)));\n    --sklearn-color-border-box: var(--sg-text-color, var(--theme-code-foreground, var(--jp-content-font-color1, white)));\n    --sklearn-color-icon: #878787;\n  }\n}\n\n#sk-container-id-5 {\n  color: var(--sklearn-color-text);\n}\n\n#sk-container-id-5 pre {\n  padding: 0;\n}\n\n#sk-container-id-5 input.sk-hidden--visually {\n  border: 0;\n  clip: rect(1px 1px 1px 1px);\n  clip: rect(1px, 1px, 1px, 1px);\n  height: 1px;\n  margin: -1px;\n  overflow: hidden;\n  padding: 0;\n  position: absolute;\n  width: 1px;\n}\n\n#sk-container-id-5 div.sk-dashed-wrapped {\n  border: 1px dashed var(--sklearn-color-line);\n  margin: 0 0.4em 0.5em 0.4em;\n  box-sizing: border-box;\n  padding-bottom: 0.4em;\n  background-color: var(--sklearn-color-background);\n}\n\n#sk-container-id-5 div.sk-container {\n  /* jupyter's `normalize.less` sets `[hidden] { display: none; }`\n     but bootstrap.min.css set `[hidden] { display: none !important; }`\n     so we also need the `!important` here to be able to override the\n     default hidden behavior on the sphinx rendered scikit-learn.org.\n     See: https://github.com/scikit-learn/scikit-learn/issues/21755 */\n  display: inline-block !important;\n  position: relative;\n}\n\n#sk-container-id-5 div.sk-text-repr-fallback {\n  display: none;\n}\n\ndiv.sk-parallel-item,\ndiv.sk-serial,\ndiv.sk-item {\n  /* draw centered vertical line to link estimators */\n  background-image: linear-gradient(var(--sklearn-color-text-on-default-background), var(--sklearn-color-text-on-default-background));\n  background-size: 2px 100%;\n  background-repeat: no-repeat;\n  background-position: center center;\n}\n\n/* Parallel-specific style estimator block */\n\n#sk-container-id-5 div.sk-parallel-item::after {\n  content: \"\";\n  width: 100%;\n  border-bottom: 2px solid var(--sklearn-color-text-on-default-background);\n  flex-grow: 1;\n}\n\n#sk-container-id-5 div.sk-parallel {\n  display: flex;\n  align-items: stretch;\n  justify-content: center;\n  background-color: var(--sklearn-color-background);\n  position: relative;\n}\n\n#sk-container-id-5 div.sk-parallel-item {\n  display: flex;\n  flex-direction: column;\n}\n\n#sk-container-id-5 div.sk-parallel-item:first-child::after {\n  align-self: flex-end;\n  width: 50%;\n}\n\n#sk-container-id-5 div.sk-parallel-item:last-child::after {\n  align-self: flex-start;\n  width: 50%;\n}\n\n#sk-container-id-5 div.sk-parallel-item:only-child::after {\n  width: 0;\n}\n\n/* Serial-specific style estimator block */\n\n#sk-container-id-5 div.sk-serial {\n  display: flex;\n  flex-direction: column;\n  align-items: center;\n  background-color: var(--sklearn-color-background);\n  padding-right: 1em;\n  padding-left: 1em;\n}\n\n\n/* Toggleable style: style used for estimator/Pipeline/ColumnTransformer box that is\nclickable and can be expanded/collapsed.\n- Pipeline and ColumnTransformer use this feature and define the default style\n- Estimators will overwrite some part of the style using the `sk-estimator` class\n*/\n\n/* Pipeline and ColumnTransformer style (default) */\n\n#sk-container-id-5 div.sk-toggleable {\n  /* Default theme specific background. It is overwritten whether we have a\n  specific estimator or a Pipeline/ColumnTransformer */\n  background-color: var(--sklearn-color-background);\n}\n\n/* Toggleable label */\n#sk-container-id-5 label.sk-toggleable__label {\n  cursor: pointer;\n  display: block;\n  width: 100%;\n  margin-bottom: 0;\n  padding: 0.5em;\n  box-sizing: border-box;\n  text-align: center;\n}\n\n#sk-container-id-5 label.sk-toggleable__label-arrow:before {\n  /* Arrow on the left of the label */\n  content: \"▸\";\n  float: left;\n  margin-right: 0.25em;\n  color: var(--sklearn-color-icon);\n}\n\n#sk-container-id-5 label.sk-toggleable__label-arrow:hover:before {\n  color: var(--sklearn-color-text);\n}\n\n/* Toggleable content - dropdown */\n\n#sk-container-id-5 div.sk-toggleable__content {\n  max-height: 0;\n  max-width: 0;\n  overflow: hidden;\n  text-align: left;\n  /* unfitted */\n  background-color: var(--sklearn-color-unfitted-level-0);\n}\n\n#sk-container-id-5 div.sk-toggleable__content.fitted {\n  /* fitted */\n  background-color: var(--sklearn-color-fitted-level-0);\n}\n\n#sk-container-id-5 div.sk-toggleable__content pre {\n  margin: 0.2em;\n  border-radius: 0.25em;\n  color: var(--sklearn-color-text);\n  /* unfitted */\n  background-color: var(--sklearn-color-unfitted-level-0);\n}\n\n#sk-container-id-5 div.sk-toggleable__content.fitted pre {\n  /* unfitted */\n  background-color: var(--sklearn-color-fitted-level-0);\n}\n\n#sk-container-id-5 input.sk-toggleable__control:checked~div.sk-toggleable__content {\n  /* Expand drop-down */\n  max-height: 200px;\n  max-width: 100%;\n  overflow: auto;\n}\n\n#sk-container-id-5 input.sk-toggleable__control:checked~label.sk-toggleable__label-arrow:before {\n  content: \"▾\";\n}\n\n/* Pipeline/ColumnTransformer-specific style */\n\n#sk-container-id-5 div.sk-label input.sk-toggleable__control:checked~label.sk-toggleable__label {\n  color: var(--sklearn-color-text);\n  background-color: var(--sklearn-color-unfitted-level-2);\n}\n\n#sk-container-id-5 div.sk-label.fitted input.sk-toggleable__control:checked~label.sk-toggleable__label {\n  background-color: var(--sklearn-color-fitted-level-2);\n}\n\n/* Estimator-specific style */\n\n/* Colorize estimator box */\n#sk-container-id-5 div.sk-estimator input.sk-toggleable__control:checked~label.sk-toggleable__label {\n  /* unfitted */\n  background-color: var(--sklearn-color-unfitted-level-2);\n}\n\n#sk-container-id-5 div.sk-estimator.fitted input.sk-toggleable__control:checked~label.sk-toggleable__label {\n  /* fitted */\n  background-color: var(--sklearn-color-fitted-level-2);\n}\n\n#sk-container-id-5 div.sk-label label.sk-toggleable__label,\n#sk-container-id-5 div.sk-label label {\n  /* The background is the default theme color */\n  color: var(--sklearn-color-text-on-default-background);\n}\n\n/* On hover, darken the color of the background */\n#sk-container-id-5 div.sk-label:hover label.sk-toggleable__label {\n  color: var(--sklearn-color-text);\n  background-color: var(--sklearn-color-unfitted-level-2);\n}\n\n/* Label box, darken color on hover, fitted */\n#sk-container-id-5 div.sk-label.fitted:hover label.sk-toggleable__label.fitted {\n  color: var(--sklearn-color-text);\n  background-color: var(--sklearn-color-fitted-level-2);\n}\n\n/* Estimator label */\n\n#sk-container-id-5 div.sk-label label {\n  font-family: monospace;\n  font-weight: bold;\n  display: inline-block;\n  line-height: 1.2em;\n}\n\n#sk-container-id-5 div.sk-label-container {\n  text-align: center;\n}\n\n/* Estimator-specific */\n#sk-container-id-5 div.sk-estimator {\n  font-family: monospace;\n  border: 1px dotted var(--sklearn-color-border-box);\n  border-radius: 0.25em;\n  box-sizing: border-box;\n  margin-bottom: 0.5em;\n  /* unfitted */\n  background-color: var(--sklearn-color-unfitted-level-0);\n}\n\n#sk-container-id-5 div.sk-estimator.fitted {\n  /* fitted */\n  background-color: var(--sklearn-color-fitted-level-0);\n}\n\n/* on hover */\n#sk-container-id-5 div.sk-estimator:hover {\n  /* unfitted */\n  background-color: var(--sklearn-color-unfitted-level-2);\n}\n\n#sk-container-id-5 div.sk-estimator.fitted:hover {\n  /* fitted */\n  background-color: var(--sklearn-color-fitted-level-2);\n}\n\n/* Specification for estimator info (e.g. \"i\" and \"?\") */\n\n/* Common style for \"i\" and \"?\" */\n\n.sk-estimator-doc-link,\na:link.sk-estimator-doc-link,\na:visited.sk-estimator-doc-link {\n  float: right;\n  font-size: smaller;\n  line-height: 1em;\n  font-family: monospace;\n  background-color: var(--sklearn-color-background);\n  border-radius: 1em;\n  height: 1em;\n  width: 1em;\n  text-decoration: none !important;\n  margin-left: 1ex;\n  /* unfitted */\n  border: var(--sklearn-color-unfitted-level-1) 1pt solid;\n  color: var(--sklearn-color-unfitted-level-1);\n}\n\n.sk-estimator-doc-link.fitted,\na:link.sk-estimator-doc-link.fitted,\na:visited.sk-estimator-doc-link.fitted {\n  /* fitted */\n  border: var(--sklearn-color-fitted-level-1) 1pt solid;\n  color: var(--sklearn-color-fitted-level-1);\n}\n\n/* On hover */\ndiv.sk-estimator:hover .sk-estimator-doc-link:hover,\n.sk-estimator-doc-link:hover,\ndiv.sk-label-container:hover .sk-estimator-doc-link:hover,\n.sk-estimator-doc-link:hover {\n  /* unfitted */\n  background-color: var(--sklearn-color-unfitted-level-3);\n  color: var(--sklearn-color-background);\n  text-decoration: none;\n}\n\ndiv.sk-estimator.fitted:hover .sk-estimator-doc-link.fitted:hover,\n.sk-estimator-doc-link.fitted:hover,\ndiv.sk-label-container:hover .sk-estimator-doc-link.fitted:hover,\n.sk-estimator-doc-link.fitted:hover {\n  /* fitted */\n  background-color: var(--sklearn-color-fitted-level-3);\n  color: var(--sklearn-color-background);\n  text-decoration: none;\n}\n\n/* Span, style for the box shown on hovering the info icon */\n.sk-estimator-doc-link span {\n  display: none;\n  z-index: 9999;\n  position: relative;\n  font-weight: normal;\n  right: .2ex;\n  padding: .5ex;\n  margin: .5ex;\n  width: min-content;\n  min-width: 20ex;\n  max-width: 50ex;\n  color: var(--sklearn-color-text);\n  box-shadow: 2pt 2pt 4pt #999;\n  /* unfitted */\n  background: var(--sklearn-color-unfitted-level-0);\n  border: .5pt solid var(--sklearn-color-unfitted-level-3);\n}\n\n.sk-estimator-doc-link.fitted span {\n  /* fitted */\n  background: var(--sklearn-color-fitted-level-0);\n  border: var(--sklearn-color-fitted-level-3);\n}\n\n.sk-estimator-doc-link:hover span {\n  display: block;\n}\n\n/* \"?\"-specific style due to the `<a>` HTML tag */\n\n#sk-container-id-5 a.estimator_doc_link {\n  float: right;\n  font-size: 1rem;\n  line-height: 1em;\n  font-family: monospace;\n  background-color: var(--sklearn-color-background);\n  border-radius: 1rem;\n  height: 1rem;\n  width: 1rem;\n  text-decoration: none;\n  /* unfitted */\n  color: var(--sklearn-color-unfitted-level-1);\n  border: var(--sklearn-color-unfitted-level-1) 1pt solid;\n}\n\n#sk-container-id-5 a.estimator_doc_link.fitted {\n  /* fitted */\n  border: var(--sklearn-color-fitted-level-1) 1pt solid;\n  color: var(--sklearn-color-fitted-level-1);\n}\n\n/* On hover */\n#sk-container-id-5 a.estimator_doc_link:hover {\n  /* unfitted */\n  background-color: var(--sklearn-color-unfitted-level-3);\n  color: var(--sklearn-color-background);\n  text-decoration: none;\n}\n\n#sk-container-id-5 a.estimator_doc_link.fitted:hover {\n  /* fitted */\n  background-color: var(--sklearn-color-fitted-level-3);\n}\n</style><div id=\"sk-container-id-5\" class=\"sk-top-container\"><div class=\"sk-text-repr-fallback\"><pre>LogisticRegression(random_state=0, solver=&#x27;liblinear&#x27;)</pre><b>In a Jupyter environment, please rerun this cell to show the HTML representation or trust the notebook. <br />On GitHub, the HTML representation is unable to render, please try loading this page with nbviewer.org.</b></div><div class=\"sk-container\" hidden><div class=\"sk-item\"><div class=\"sk-estimator fitted sk-toggleable\"><input class=\"sk-toggleable__control sk-hidden--visually\" id=\"sk-estimator-id-5\" type=\"checkbox\" checked><label for=\"sk-estimator-id-5\" class=\"sk-toggleable__label fitted sk-toggleable__label-arrow fitted\">&nbsp;&nbsp;LogisticRegression<a class=\"sk-estimator-doc-link fitted\" rel=\"noreferrer\" target=\"_blank\" href=\"https://scikit-learn.org/1.4/modules/generated/sklearn.linear_model.LogisticRegression.html\">?<span>Documentation for LogisticRegression</span></a><span class=\"sk-estimator-doc-link fitted\">i<span>Fitted</span></span></label><div class=\"sk-toggleable__content fitted\"><pre>LogisticRegression(random_state=0, solver=&#x27;liblinear&#x27;)</pre></div> </div></div></div></div>"
     },
     "execution_count": 147,
     "metadata": {},
     "output_type": "execute_result"
    }
   ],
   "source": [
    "# training the LogisticRegression model with Training data\n",
    "model.fit(X_train, Y_train)"
   ],
   "metadata": {
    "collapsed": false,
    "ExecuteTime": {
     "end_time": "2024-06-30T13:04:47.515566Z",
     "start_time": "2024-06-30T13:04:46.911046Z"
    }
   },
   "id": "50d36dde241b4ef6",
   "execution_count": 147
  },
  {
   "cell_type": "code",
   "outputs": [],
   "source": [
    "# accuracy on training data\n",
    "X_train_prediction = model.predict(X_train)\n",
    "training_data_accuracy = accuracy_score(X_train_prediction, Y_train)"
   ],
   "metadata": {
    "collapsed": false,
    "ExecuteTime": {
     "end_time": "2024-06-30T13:16:56.523613Z",
     "start_time": "2024-06-30T13:16:56.409636Z"
    }
   },
   "id": "d09b10698a010c5d",
   "execution_count": 179
  },
  {
   "cell_type": "code",
   "outputs": [
    {
     "name": "stdout",
     "output_type": "stream",
     "text": [
      "Accuracy on Training data :  0.85565\n"
     ]
    }
   ],
   "source": [
    "print('Accuracy on Training data : ', training_data_accuracy)\n"
   ],
   "metadata": {
    "collapsed": false,
    "ExecuteTime": {
     "end_time": "2024-06-30T13:16:57.269901Z",
     "start_time": "2024-06-30T13:16:57.260828Z"
    }
   },
   "id": "75eb1c4136664e0d",
   "execution_count": 180
  },
  {
   "cell_type": "code",
   "outputs": [],
   "source": [
    "# accuracy on test data\n",
    "X_test_prediction = model.predict(X_test)\n",
    "test_data_accuracy = accuracy_score(X_test_prediction, Y_test)"
   ],
   "metadata": {
    "collapsed": false,
    "ExecuteTime": {
     "end_time": "2024-06-30T13:16:58.093164Z",
     "start_time": "2024-06-30T13:16:58.065768Z"
    }
   },
   "id": "4db4716cb9a5f5fc",
   "execution_count": 181
  },
  {
   "cell_type": "code",
   "outputs": [
    {
     "name": "stdout",
     "output_type": "stream",
     "text": [
      "Accuracy on Test data :  0.8537\n"
     ]
    }
   ],
   "source": [
    "print('Accuracy on Test data : ', test_data_accuracy)"
   ],
   "metadata": {
    "collapsed": false,
    "ExecuteTime": {
     "end_time": "2024-06-30T13:16:58.940005Z",
     "start_time": "2024-06-30T13:16:58.927488Z"
    }
   },
   "id": "d8551051c05c924d",
   "execution_count": 182
  },
  {
   "cell_type": "code",
   "outputs": [
    {
     "name": "stdout",
     "output_type": "stream",
     "text": [
      "min value\n",
      "high            1050.45\n",
      "low             1044.18\n",
      "close           1048.53\n",
      "status_low         2.00\n",
      "status_high        1.00\n",
      "status_close       1.00\n",
      "dtype: float64\n",
      "max value\n",
      "high            1576.30\n",
      "low             1573.70\n",
      "close           1574.45\n",
      "status_low         3.00\n",
      "status_high        2.00\n",
      "status_close       3.00\n",
      "dtype: float64\n"
     ]
    }
   ],
   "source": [
    "print('min value')\n",
    "print(df.min())\n",
    "print('max value')\n",
    "print(df.max())"
   ],
   "metadata": {
    "collapsed": false,
    "ExecuteTime": {
     "end_time": "2024-06-30T13:16:59.962068Z",
     "start_time": "2024-06-30T13:16:59.944070Z"
    }
   },
   "id": "e0c8cef62fdd6219",
   "execution_count": 183
  },
  {
   "cell_type": "code",
   "outputs": [
    {
     "name": "stdout",
     "output_type": "stream",
     "text": [
      "------\n",
      "[1.]\n",
      "------\n",
      "High is 1100\n",
      "Low is 114\n",
      "Close is 1048\n",
      "Status_low is 3\n",
      "Status_High is 1\n",
      "------\n",
      "high\n"
     ]
    },
    {
     "name": "stderr",
     "output_type": "stream",
     "text": [
      "C:\\laragon\\bin\\python\\python-3.10\\lib\\site-packages\\sklearn\\base.py:493: UserWarning: X does not have valid feature names, but LogisticRegression was fitted with feature names\n",
      "  warnings.warn(\n"
     ]
    }
   ],
   "source": [
    "\n",
    "# status\n",
    "# 1 high\n",
    "# 2 equals\n",
    "# 3 less\n",
    "#beli\n",
    "input_data = (\n",
    "    1100,  # high\n",
    "    114,  # low\n",
    "    1048,  # close\n",
    "    3,  # status_low\n",
    "    1,  # status_high\n",
    "    # 2.0,  #status_close\n",
    ")\n",
    "\n",
    "# change the input data to a numpy array\n",
    "input_data_as_numpy_array = np.asarray(input_data)\n",
    "\n",
    "# reshape the numpy array as we are predicting for only on instance\n",
    "input_data_reshaped = input_data_as_numpy_array.reshape(1, -1)\n",
    "\n",
    "prediction = model.predict(input_data_reshaped)\n",
    "\n",
    "print('------')\n",
    "print(prediction)\n",
    "print('------')\n",
    "print(f\"High is {input_data[0]}\")\n",
    "print(f\"Low is {input_data[1]}\")\n",
    "print(f\"Close is {input_data[2]}\")\n",
    "print(f\"Status_low is {input_data[3]}\")\n",
    "print(f\"Status_High is {input_data[4]}\")\n",
    "print('------')\n",
    "\n",
    "if (prediction[0] == 1):\n",
    "    print('high')\n",
    "elif (prediction[0] == 2):\n",
    "    print('medium')\n",
    "else:\n",
    "    print('low')\n",
    "    "
   ],
   "metadata": {
    "collapsed": false,
    "ExecuteTime": {
     "end_time": "2024-06-30T13:19:20.610291Z",
     "start_time": "2024-06-30T13:19:20.599272Z"
    }
   },
   "id": "2f51b331fd2f0f1d",
   "execution_count": 195
  },
  {
   "cell_type": "code",
   "outputs": [
    {
     "name": "stdout",
     "output_type": "stream",
     "text": [
      "------\n",
      "[3.]\n",
      "------\n",
      "High is 1050\n",
      "Low is 1050\n",
      "Close is 1050\n",
      "Status_low is 3\n",
      "Status_High is 2\n",
      "------\n",
      "low\n"
     ]
    },
    {
     "name": "stderr",
     "output_type": "stream",
     "text": [
      "C:\\laragon\\bin\\python\\python-3.10\\lib\\site-packages\\sklearn\\base.py:493: UserWarning: X does not have valid feature names, but LogisticRegression was fitted with feature names\n",
      "  warnings.warn(\n"
     ]
    }
   ],
   "source": [
    "\n",
    "# status\n",
    "# 1 high\n",
    "# 2 equals\n",
    "# 3 less\n",
    "#beli\n",
    "input_data = (\n",
    "    1050,  # high\n",
    "    1050,  # low\n",
    "    1050,  # close\n",
    "    3,  # status_low\n",
    "    2,  # status_high\n",
    "    # 2.0,  #status_close\n",
    ")\n",
    "\n",
    "# change the input data to a numpy array\n",
    "input_data_as_numpy_array = np.asarray(input_data)\n",
    "\n",
    "# reshape the numpy array as we are predicting for only on instance\n",
    "input_data_reshaped = input_data_as_numpy_array.reshape(1, -1)\n",
    "\n",
    "prediction = model.predict(input_data_reshaped)\n",
    "\n",
    "print('------')\n",
    "print(prediction)\n",
    "print('------')\n",
    "print(f\"High is {input_data[0]}\")\n",
    "print(f\"Low is {input_data[1]}\")\n",
    "print(f\"Close is {input_data[2]}\")\n",
    "print(f\"Status_low is {input_data[3]}\")\n",
    "print(f\"Status_High is {input_data[4]}\")\n",
    "print('------')\n",
    "\n",
    "if (prediction[0] == 1):\n",
    "    print('high')\n",
    "elif (prediction[0] == 2):\n",
    "    print('medium')\n",
    "else:\n",
    "    print('low')\n",
    "    "
   ],
   "metadata": {
    "collapsed": false,
    "ExecuteTime": {
     "end_time": "2024-06-30T13:17:01.284498Z",
     "start_time": "2024-06-30T13:17:01.267358Z"
    }
   },
   "id": "89b97f98c5b7e06f",
   "execution_count": 184
  },
  {
   "cell_type": "code",
   "outputs": [
    {
     "name": "stdout",
     "output_type": "stream",
     "text": [
      "------\n",
      "[2.]\n",
      "------\n",
      "High is 1000\n",
      "Low is 1100\n",
      "Close is 1050\n",
      "Status_low is 1\n",
      "Status_High is 2\n",
      "------\n",
      "medium\n"
     ]
    },
    {
     "name": "stderr",
     "output_type": "stream",
     "text": [
      "C:\\laragon\\bin\\python\\python-3.10\\lib\\site-packages\\sklearn\\base.py:493: UserWarning: X does not have valid feature names, but LogisticRegression was fitted with feature names\n",
      "  warnings.warn(\n"
     ]
    }
   ],
   "source": [
    "#sell\n",
    "input_data = (\n",
    "    1000,  # high\n",
    "    1100,  # low\n",
    "    1050,  # close\n",
    "    1,  # status_low\n",
    "    2,  # status_high\n",
    "    # 2.0,  #status_close\n",
    ")\n",
    "\n",
    "# change the input data to a numpy array\n",
    "input_data_as_numpy_array = np.asarray(input_data)\n",
    "\n",
    "# reshape the numpy array as we are predicting for only on instance\n",
    "input_data_reshaped = input_data_as_numpy_array.reshape(1, -1)\n",
    "\n",
    "prediction = model.predict(input_data_reshaped)\n",
    "\n",
    "print('------')\n",
    "print(prediction)\n",
    "print('------')\n",
    "print(f\"High is {input_data[0]}\")\n",
    "print(f\"Low is {input_data[1]}\")\n",
    "print(f\"Close is {input_data[2]}\")\n",
    "print(f\"Status_low is {input_data[3]}\")\n",
    "print(f\"Status_High is {input_data[4]}\")\n",
    "print('------')\n",
    "\n",
    "if (prediction[0] == 1):\n",
    "    print('low')\n",
    "elif (prediction[0] == 2):\n",
    "    print('medium')\n",
    "else:\n",
    "    print('high')\n",
    "    "
   ],
   "metadata": {
    "collapsed": false,
    "ExecuteTime": {
     "end_time": "2024-06-30T13:17:05.639557Z",
     "start_time": "2024-06-30T13:17:05.625217Z"
    }
   },
   "id": "ae8b4b8ef21da58b",
   "execution_count": 186
  }
 ],
 "metadata": {
  "kernelspec": {
   "display_name": "Python 3",
   "language": "python",
   "name": "python3"
  },
  "language_info": {
   "codemirror_mode": {
    "name": "ipython",
    "version": 2
   },
   "file_extension": ".py",
   "mimetype": "text/x-python",
   "name": "python",
   "nbconvert_exporter": "python",
   "pygments_lexer": "ipython2",
   "version": "2.7.6"
  }
 },
 "nbformat": 4,
 "nbformat_minor": 5
}
