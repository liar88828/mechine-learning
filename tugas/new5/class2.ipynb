{
 "cells": [
  {
   "cell_type": "code",
   "outputs": [],
   "source": [
    "import pandas as pd\n",
    "import matplotlib.pyplot as plt\n",
    "import seaborn as sns\n",
    "from sklearn.model_selection import train_test_split\n",
    "from xgboost import XGBRegressor\n",
    "from sklearn import metrics"
   ],
   "metadata": {
    "collapsed": false,
    "ExecuteTime": {
     "end_time": "2024-06-30T12:18:01.334181Z",
     "start_time": "2024-06-30T12:18:00.198763Z"
    }
   },
   "id": "56982c5b4a43155d",
   "execution_count": 1
  },
  {
   "cell_type": "code",
   "outputs": [],
   "source": [
    "# Reading Dataset\n",
    "df = pd.read_csv('../../data/XAUUSD_2010-2023.csv').head(100_00)"
   ],
   "metadata": {
    "collapsed": false,
    "ExecuteTime": {
     "end_time": "2024-06-30T12:18:05.598387Z",
     "start_time": "2024-06-30T12:18:03.413406Z"
    }
   },
   "id": "82602601706ad0c5",
   "execution_count": 2
  },
  {
   "cell_type": "code",
   "outputs": [
    {
     "data": {
      "text/plain": "                  time     open    high      low    close  rsi14    sma14\n0  2010-01-03 18:00:00  1098.45  1100.0  1098.05  1099.95  81.98  1096.38\n1  2010-01-03 18:05:00  1100.00  1100.3  1099.45  1099.75  79.17  1096.72\n2  2010-01-03 18:10:00  1099.70  1100.1  1099.30  1099.45  75.02  1097.03\n3  2010-01-03 18:15:00  1099.50  1099.6  1098.50  1099.45  75.02  1097.30\n4  2010-01-03 18:20:00  1099.40  1099.6  1098.90  1098.90  67.50  1097.50",
      "text/html": "<div>\n<style scoped>\n    .dataframe tbody tr th:only-of-type {\n        vertical-align: middle;\n    }\n\n    .dataframe tbody tr th {\n        vertical-align: top;\n    }\n\n    .dataframe thead th {\n        text-align: right;\n    }\n</style>\n<table border=\"1\" class=\"dataframe\">\n  <thead>\n    <tr style=\"text-align: right;\">\n      <th></th>\n      <th>time</th>\n      <th>open</th>\n      <th>high</th>\n      <th>low</th>\n      <th>close</th>\n      <th>rsi14</th>\n      <th>sma14</th>\n    </tr>\n  </thead>\n  <tbody>\n    <tr>\n      <th>0</th>\n      <td>2010-01-03 18:00:00</td>\n      <td>1098.45</td>\n      <td>1100.0</td>\n      <td>1098.05</td>\n      <td>1099.95</td>\n      <td>81.98</td>\n      <td>1096.38</td>\n    </tr>\n    <tr>\n      <th>1</th>\n      <td>2010-01-03 18:05:00</td>\n      <td>1100.00</td>\n      <td>1100.3</td>\n      <td>1099.45</td>\n      <td>1099.75</td>\n      <td>79.17</td>\n      <td>1096.72</td>\n    </tr>\n    <tr>\n      <th>2</th>\n      <td>2010-01-03 18:10:00</td>\n      <td>1099.70</td>\n      <td>1100.1</td>\n      <td>1099.30</td>\n      <td>1099.45</td>\n      <td>75.02</td>\n      <td>1097.03</td>\n    </tr>\n    <tr>\n      <th>3</th>\n      <td>2010-01-03 18:15:00</td>\n      <td>1099.50</td>\n      <td>1099.6</td>\n      <td>1098.50</td>\n      <td>1099.45</td>\n      <td>75.02</td>\n      <td>1097.30</td>\n    </tr>\n    <tr>\n      <th>4</th>\n      <td>2010-01-03 18:20:00</td>\n      <td>1099.40</td>\n      <td>1099.6</td>\n      <td>1098.90</td>\n      <td>1098.90</td>\n      <td>67.50</td>\n      <td>1097.50</td>\n    </tr>\n  </tbody>\n</table>\n</div>"
     },
     "execution_count": 3,
     "metadata": {},
     "output_type": "execute_result"
    }
   ],
   "source": [
    "# Dataset Overview\n",
    "df.head(5)"
   ],
   "metadata": {
    "collapsed": false,
    "ExecuteTime": {
     "end_time": "2024-06-30T12:18:06.542842Z",
     "start_time": "2024-06-30T12:18:06.397100Z"
    }
   },
   "id": "7d13788f2406f4c9",
   "execution_count": 3
  },
  {
   "cell_type": "code",
   "outputs": [
    {
     "data": {
      "text/plain": "(10000, 7)"
     },
     "execution_count": 4,
     "metadata": {},
     "output_type": "execute_result"
    }
   ],
   "source": [
    "# number of rows and columns\n",
    "df.shape"
   ],
   "metadata": {
    "collapsed": false,
    "ExecuteTime": {
     "end_time": "2024-06-30T12:18:07.957484Z",
     "start_time": "2024-06-30T12:18:07.945342Z"
    }
   },
   "id": "31edd297cf0e778",
   "execution_count": 4
  },
  {
   "cell_type": "code",
   "outputs": [
    {
     "data": {
      "text/plain": "time     0\nopen     0\nhigh     0\nlow      0\nclose    0\nrsi14    0\nsma14    0\ndtype: int64"
     },
     "execution_count": 5,
     "metadata": {},
     "output_type": "execute_result"
    }
   ],
   "source": [
    "# check for missing values\n",
    "df.isnull().sum()"
   ],
   "metadata": {
    "collapsed": false,
    "ExecuteTime": {
     "end_time": "2024-06-30T12:18:10.326357Z",
     "start_time": "2024-06-30T12:18:10.314173Z"
    }
   },
   "id": "fc767cba2e370d1",
   "execution_count": 5
  },
  {
   "cell_type": "code",
   "outputs": [
    {
     "name": "stdout",
     "output_type": "stream",
     "text": [
      "<class 'pandas.core.frame.DataFrame'>\n",
      "RangeIndex: 10000 entries, 0 to 9999\n",
      "Data columns (total 7 columns):\n",
      " #   Column  Non-Null Count  Dtype  \n",
      "---  ------  --------------  -----  \n",
      " 0   time    10000 non-null  object \n",
      " 1   open    10000 non-null  float64\n",
      " 2   high    10000 non-null  float64\n",
      " 3   low     10000 non-null  float64\n",
      " 4   close   10000 non-null  float64\n",
      " 5   rsi14   10000 non-null  float64\n",
      " 6   sma14   10000 non-null  float64\n",
      "dtypes: float64(6), object(1)\n",
      "memory usage: 547.0+ KB\n"
     ]
    }
   ],
   "source": [
    "\n",
    "# getting some basic informations about the data\n",
    "df.info()"
   ],
   "metadata": {
    "collapsed": false,
    "ExecuteTime": {
     "end_time": "2024-06-30T12:18:11.644419Z",
     "start_time": "2024-06-30T12:18:11.618420Z"
    }
   },
   "id": "44bee7d84e4f217b",
   "execution_count": 6
  },
  {
   "cell_type": "code",
   "outputs": [
    {
     "data": {
      "text/plain": "time     0\nopen     0\nhigh     0\nlow      0\nclose    0\nrsi14    0\nsma14    0\ndtype: int64"
     },
     "execution_count": 7,
     "metadata": {},
     "output_type": "execute_result"
    }
   ],
   "source": [
    "# checking the number of missing values\n",
    "df.isnull().sum()"
   ],
   "metadata": {
    "collapsed": false,
    "ExecuteTime": {
     "end_time": "2024-06-30T12:18:12.672929Z",
     "start_time": "2024-06-30T12:18:12.651524Z"
    }
   },
   "id": "9ccce924d1032cc1",
   "execution_count": 7
  },
  {
   "cell_type": "code",
   "outputs": [
    {
     "data": {
      "text/plain": "               open          high           low         close         rsi14  \\\ncount  10000.000000  10000.000000  10000.000000  10000.000000  10000.000000   \nmean    1108.263349   1108.794160   1107.731987   1108.263112     50.438189   \nstd       24.118269     24.069989     24.173850     24.115152     11.350697   \nmin     1048.580000   1050.450000   1044.180000   1048.530000      9.130000   \n25%     1090.922500   1091.500000   1090.372500   1090.930000     42.790000   \n50%     1109.365000   1109.850000   1108.965000   1109.350000     50.400000   \n75%     1128.000000   1128.500000   1127.380000   1127.985000     58.160000   \nmax     1160.250000   1161.880000   1158.950000   1160.330000     91.980000   \n\n              sma14  \ncount  10000.000000  \nmean    1108.251465  \nstd       24.081460  \nmin     1050.850000  \n25%     1090.830000  \n50%     1109.480000  \n75%     1128.117500  \nmax     1158.230000  ",
      "text/html": "<div>\n<style scoped>\n    .dataframe tbody tr th:only-of-type {\n        vertical-align: middle;\n    }\n\n    .dataframe tbody tr th {\n        vertical-align: top;\n    }\n\n    .dataframe thead th {\n        text-align: right;\n    }\n</style>\n<table border=\"1\" class=\"dataframe\">\n  <thead>\n    <tr style=\"text-align: right;\">\n      <th></th>\n      <th>open</th>\n      <th>high</th>\n      <th>low</th>\n      <th>close</th>\n      <th>rsi14</th>\n      <th>sma14</th>\n    </tr>\n  </thead>\n  <tbody>\n    <tr>\n      <th>count</th>\n      <td>10000.000000</td>\n      <td>10000.000000</td>\n      <td>10000.000000</td>\n      <td>10000.000000</td>\n      <td>10000.000000</td>\n      <td>10000.000000</td>\n    </tr>\n    <tr>\n      <th>mean</th>\n      <td>1108.263349</td>\n      <td>1108.794160</td>\n      <td>1107.731987</td>\n      <td>1108.263112</td>\n      <td>50.438189</td>\n      <td>1108.251465</td>\n    </tr>\n    <tr>\n      <th>std</th>\n      <td>24.118269</td>\n      <td>24.069989</td>\n      <td>24.173850</td>\n      <td>24.115152</td>\n      <td>11.350697</td>\n      <td>24.081460</td>\n    </tr>\n    <tr>\n      <th>min</th>\n      <td>1048.580000</td>\n      <td>1050.450000</td>\n      <td>1044.180000</td>\n      <td>1048.530000</td>\n      <td>9.130000</td>\n      <td>1050.850000</td>\n    </tr>\n    <tr>\n      <th>25%</th>\n      <td>1090.922500</td>\n      <td>1091.500000</td>\n      <td>1090.372500</td>\n      <td>1090.930000</td>\n      <td>42.790000</td>\n      <td>1090.830000</td>\n    </tr>\n    <tr>\n      <th>50%</th>\n      <td>1109.365000</td>\n      <td>1109.850000</td>\n      <td>1108.965000</td>\n      <td>1109.350000</td>\n      <td>50.400000</td>\n      <td>1109.480000</td>\n    </tr>\n    <tr>\n      <th>75%</th>\n      <td>1128.000000</td>\n      <td>1128.500000</td>\n      <td>1127.380000</td>\n      <td>1127.985000</td>\n      <td>58.160000</td>\n      <td>1128.117500</td>\n    </tr>\n    <tr>\n      <th>max</th>\n      <td>1160.250000</td>\n      <td>1161.880000</td>\n      <td>1158.950000</td>\n      <td>1160.330000</td>\n      <td>91.980000</td>\n      <td>1158.230000</td>\n    </tr>\n  </tbody>\n</table>\n</div>"
     },
     "execution_count": 8,
     "metadata": {},
     "output_type": "execute_result"
    }
   ],
   "source": [
    "# getting the statistical measures of the data\n",
    "df.describe()"
   ],
   "metadata": {
    "collapsed": false,
    "ExecuteTime": {
     "end_time": "2024-06-30T12:18:13.793336Z",
     "start_time": "2024-06-30T12:18:13.760756Z"
    }
   },
   "id": "58780f994e75c8d1",
   "execution_count": 8
  },
  {
   "cell_type": "code",
   "outputs": [
    {
     "data": {
      "text/plain": "0"
     },
     "execution_count": 9,
     "metadata": {},
     "output_type": "execute_result"
    }
   ],
   "source": [
    "# Checking Duplicates\n",
    "df.duplicated().sum()"
   ],
   "metadata": {
    "collapsed": false,
    "ExecuteTime": {
     "end_time": "2024-06-30T12:18:14.869585Z",
     "start_time": "2024-06-30T12:18:14.783429Z"
    }
   },
   "id": "d1eb6759fb26c1f9",
   "execution_count": 9
  },
  {
   "cell_type": "code",
   "outputs": [
    {
     "data": {
      "text/plain": "0"
     },
     "execution_count": 10,
     "metadata": {},
     "output_type": "execute_result"
    }
   ],
   "source": [
    "# Checking Missing Values\n",
    "df.isnull().sum().sum()"
   ],
   "metadata": {
    "collapsed": false,
    "ExecuteTime": {
     "end_time": "2024-06-30T12:18:15.877562Z",
     "start_time": "2024-06-30T12:18:15.853014Z"
    }
   },
   "id": "ca0a7cbf9c189f6f",
   "execution_count": 10
  },
  {
   "cell_type": "code",
   "outputs": [],
   "source": [
    "# Preprocess the data\n",
    "df = df.dropna()  # Handle missing values"
   ],
   "metadata": {
    "collapsed": false,
    "ExecuteTime": {
     "end_time": "2024-06-30T12:18:16.858262Z",
     "start_time": "2024-06-30T12:18:16.851255Z"
    }
   },
   "id": "1a966c9661471458",
   "execution_count": 11
  },
  {
   "cell_type": "code",
   "outputs": [],
   "source": [
    "df['time'] = pd.to_datetime(df['time'])\n",
    "df.sort_values(by='time', ascending=True, inplace=True)\n",
    "df.reset_index(drop=True, inplace=True)\n",
    "df.index = df['time']"
   ],
   "metadata": {
    "collapsed": false,
    "ExecuteTime": {
     "end_time": "2024-06-30T12:18:17.920484Z",
     "start_time": "2024-06-30T12:18:17.839451Z"
    }
   },
   "id": "1206c2cd79cd6129",
   "execution_count": 12
  },
  {
   "cell_type": "code",
   "outputs": [
    {
     "name": "stdout",
     "output_type": "stream",
     "text": [
      "<class 'pandas.core.frame.DataFrame'>\n",
      "DatetimeIndex: 10000 entries, 2010-01-03 18:00:00 to 2010-02-22 19:30:00\n",
      "Data columns (total 7 columns):\n",
      " #   Column  Non-Null Count  Dtype         \n",
      "---  ------  --------------  -----         \n",
      " 0   time    10000 non-null  datetime64[ns]\n",
      " 1   open    10000 non-null  float64       \n",
      " 2   high    10000 non-null  float64       \n",
      " 3   low     10000 non-null  float64       \n",
      " 4   close   10000 non-null  float64       \n",
      " 5   rsi14   10000 non-null  float64       \n",
      " 6   sma14   10000 non-null  float64       \n",
      "dtypes: datetime64[ns](1), float64(6)\n",
      "memory usage: 625.0 KB\n"
     ]
    },
    {
     "data": {
      "text/plain": "                                   time     open     high      low    close  \\\ntime                                                                          \n2010-01-03 18:00:00 2010-01-03 18:00:00  1098.45  1100.00  1098.05  1099.95   \n2010-01-03 18:05:00 2010-01-03 18:05:00  1100.00  1100.30  1099.45  1099.75   \n2010-01-03 18:10:00 2010-01-03 18:10:00  1099.70  1100.10  1099.30  1099.45   \n2010-01-03 18:15:00 2010-01-03 18:15:00  1099.50  1099.60  1098.50  1099.45   \n2010-01-03 18:20:00 2010-01-03 18:20:00  1099.40  1099.60  1098.90  1098.90   \n...                                 ...      ...      ...      ...      ...   \n2010-02-22 19:10:00 2010-02-22 19:10:00  1115.58  1115.70  1115.13  1115.38   \n2010-02-22 19:15:00 2010-02-22 19:15:00  1115.35  1115.35  1113.78  1114.38   \n2010-02-22 19:20:00 2010-02-22 19:20:00  1114.40  1114.88  1114.28  1114.45   \n2010-02-22 19:25:00 2010-02-22 19:25:00  1114.48  1114.55  1114.15  1114.20   \n2010-02-22 19:30:00 2010-02-22 19:30:00  1114.23  1115.25  1114.20  1115.15   \n\n                     rsi14    sma14  \ntime                                 \n2010-01-03 18:00:00  81.98  1096.38  \n2010-01-03 18:05:00  79.17  1096.72  \n2010-01-03 18:10:00  75.02  1097.03  \n2010-01-03 18:15:00  75.02  1097.30  \n2010-01-03 18:20:00  67.50  1097.50  \n...                    ...      ...  \n2010-02-22 19:10:00  65.11  1113.17  \n2010-02-22 19:15:00  55.44  1113.27  \n2010-02-22 19:20:00  55.93  1113.43  \n2010-02-22 19:25:00  53.65  1113.55  \n2010-02-22 19:30:00  60.29  1113.75  \n\n[10000 rows x 7 columns]",
      "text/html": "<div>\n<style scoped>\n    .dataframe tbody tr th:only-of-type {\n        vertical-align: middle;\n    }\n\n    .dataframe tbody tr th {\n        vertical-align: top;\n    }\n\n    .dataframe thead th {\n        text-align: right;\n    }\n</style>\n<table border=\"1\" class=\"dataframe\">\n  <thead>\n    <tr style=\"text-align: right;\">\n      <th></th>\n      <th>time</th>\n      <th>open</th>\n      <th>high</th>\n      <th>low</th>\n      <th>close</th>\n      <th>rsi14</th>\n      <th>sma14</th>\n    </tr>\n    <tr>\n      <th>time</th>\n      <th></th>\n      <th></th>\n      <th></th>\n      <th></th>\n      <th></th>\n      <th></th>\n      <th></th>\n    </tr>\n  </thead>\n  <tbody>\n    <tr>\n      <th>2010-01-03 18:00:00</th>\n      <td>2010-01-03 18:00:00</td>\n      <td>1098.45</td>\n      <td>1100.00</td>\n      <td>1098.05</td>\n      <td>1099.95</td>\n      <td>81.98</td>\n      <td>1096.38</td>\n    </tr>\n    <tr>\n      <th>2010-01-03 18:05:00</th>\n      <td>2010-01-03 18:05:00</td>\n      <td>1100.00</td>\n      <td>1100.30</td>\n      <td>1099.45</td>\n      <td>1099.75</td>\n      <td>79.17</td>\n      <td>1096.72</td>\n    </tr>\n    <tr>\n      <th>2010-01-03 18:10:00</th>\n      <td>2010-01-03 18:10:00</td>\n      <td>1099.70</td>\n      <td>1100.10</td>\n      <td>1099.30</td>\n      <td>1099.45</td>\n      <td>75.02</td>\n      <td>1097.03</td>\n    </tr>\n    <tr>\n      <th>2010-01-03 18:15:00</th>\n      <td>2010-01-03 18:15:00</td>\n      <td>1099.50</td>\n      <td>1099.60</td>\n      <td>1098.50</td>\n      <td>1099.45</td>\n      <td>75.02</td>\n      <td>1097.30</td>\n    </tr>\n    <tr>\n      <th>2010-01-03 18:20:00</th>\n      <td>2010-01-03 18:20:00</td>\n      <td>1099.40</td>\n      <td>1099.60</td>\n      <td>1098.90</td>\n      <td>1098.90</td>\n      <td>67.50</td>\n      <td>1097.50</td>\n    </tr>\n    <tr>\n      <th>...</th>\n      <td>...</td>\n      <td>...</td>\n      <td>...</td>\n      <td>...</td>\n      <td>...</td>\n      <td>...</td>\n      <td>...</td>\n    </tr>\n    <tr>\n      <th>2010-02-22 19:10:00</th>\n      <td>2010-02-22 19:10:00</td>\n      <td>1115.58</td>\n      <td>1115.70</td>\n      <td>1115.13</td>\n      <td>1115.38</td>\n      <td>65.11</td>\n      <td>1113.17</td>\n    </tr>\n    <tr>\n      <th>2010-02-22 19:15:00</th>\n      <td>2010-02-22 19:15:00</td>\n      <td>1115.35</td>\n      <td>1115.35</td>\n      <td>1113.78</td>\n      <td>1114.38</td>\n      <td>55.44</td>\n      <td>1113.27</td>\n    </tr>\n    <tr>\n      <th>2010-02-22 19:20:00</th>\n      <td>2010-02-22 19:20:00</td>\n      <td>1114.40</td>\n      <td>1114.88</td>\n      <td>1114.28</td>\n      <td>1114.45</td>\n      <td>55.93</td>\n      <td>1113.43</td>\n    </tr>\n    <tr>\n      <th>2010-02-22 19:25:00</th>\n      <td>2010-02-22 19:25:00</td>\n      <td>1114.48</td>\n      <td>1114.55</td>\n      <td>1114.15</td>\n      <td>1114.20</td>\n      <td>53.65</td>\n      <td>1113.55</td>\n    </tr>\n    <tr>\n      <th>2010-02-22 19:30:00</th>\n      <td>2010-02-22 19:30:00</td>\n      <td>1114.23</td>\n      <td>1115.25</td>\n      <td>1114.20</td>\n      <td>1115.15</td>\n      <td>60.29</td>\n      <td>1113.75</td>\n    </tr>\n  </tbody>\n</table>\n<p>10000 rows × 7 columns</p>\n</div>"
     },
     "execution_count": 13,
     "metadata": {},
     "output_type": "execute_result"
    }
   ],
   "source": [
    "# df.drop(['time'], axis=1, inplace=True)\n",
    "# NumCols = df.columns.drop(['Date'])\n",
    "# df[NumCols] = df[NumCols].replace({',': ''}, regex=True)\n",
    "# df[NumCols] = df[NumCols].astype('float64')\n",
    "df.info()\n",
    "df"
   ],
   "metadata": {
    "collapsed": false,
    "ExecuteTime": {
     "end_time": "2024-06-30T12:18:19.715693Z",
     "start_time": "2024-06-30T12:18:19.662456Z"
    }
   },
   "id": "aeae3c53081b86f7",
   "execution_count": 13
  },
  {
   "cell_type": "code",
   "outputs": [],
   "source": [
    "df_cp = df.copy()\n",
    "df = df.drop(\n",
    "    columns=['rsi14', 'sma14', 'time'], axis=1\n",
    ")"
   ],
   "metadata": {
    "collapsed": false,
    "ExecuteTime": {
     "end_time": "2024-06-30T12:18:21.993341Z",
     "start_time": "2024-06-30T12:18:21.935906Z"
    }
   },
   "id": "86125889a8c3ad9f",
   "execution_count": 14
  },
  {
   "cell_type": "code",
   "outputs": [],
   "source": [
    "correlation = df.corr()"
   ],
   "metadata": {
    "collapsed": false,
    "ExecuteTime": {
     "end_time": "2024-06-30T12:18:26.362492Z",
     "start_time": "2024-06-30T12:18:26.291443Z"
    }
   },
   "id": "80f150c0f77bf27f",
   "execution_count": 15
  },
  {
   "cell_type": "code",
   "outputs": [
    {
     "data": {
      "text/plain": "<Axes: >"
     },
     "execution_count": 16,
     "metadata": {},
     "output_type": "execute_result"
    },
    {
     "data": {
      "text/plain": "<Figure size 800x800 with 2 Axes>",
      "image/png": "[encoded data removed]"
     },
     "metadata": {},
     "output_type": "display_data"
    }
   ],
   "source": [
    "# constructing a heatmap to understand the correlatiom\n",
    "plt.figure(figsize=(8, 8))\n",
    "sns.heatmap(\n",
    "    correlation,\n",
    "    cbar=True,\n",
    "    square=True,\n",
    "    fmt='.1f',\n",
    "    annot=True,\n",
    "    annot_kws={'size': 8},\n",
    "    cmap='Blues'\n",
    ")"
   ],
   "metadata": {
    "collapsed": false,
    "ExecuteTime": {
     "end_time": "2024-06-30T12:18:34.687600Z",
     "start_time": "2024-06-30T12:18:34.143800Z"
    }
   },
   "id": "f156c3d037c60b21",
   "execution_count": 16
  },
  {
   "cell_type": "code",
   "outputs": [
    {
     "name": "stdout",
     "output_type": "stream",
     "text": [
      "open     0.999387\n",
      "high     0.999701\n",
      "low      0.999699\n",
      "close    1.000000\n",
      "Name: close, dtype: float64\n"
     ]
    }
   ],
   "source": [
    "# correlation values of GLD\n",
    "print(correlation['close'])"
   ],
   "metadata": {
    "collapsed": false,
    "ExecuteTime": {
     "end_time": "2024-06-30T12:18:36.920485Z",
     "start_time": "2024-06-30T12:18:36.898968Z"
    }
   },
   "id": "dd5923f122d07d9d",
   "execution_count": 17
  },
  {
   "cell_type": "code",
   "outputs": [],
   "source": [
    "X = df.drop(['open'], axis=1)\n",
    "Y = df['open']"
   ],
   "metadata": {
    "collapsed": false,
    "ExecuteTime": {
     "end_time": "2024-06-30T12:18:38.454927Z",
     "start_time": "2024-06-30T12:18:38.435719Z"
    }
   },
   "id": "50d36dde241b4ef6",
   "execution_count": 18
  },
  {
   "cell_type": "code",
   "outputs": [],
   "source": [
    "X_train, X_test, Y_train, Y_test = train_test_split(X, Y, test_size=0.2, random_state=2)"
   ],
   "metadata": {
    "collapsed": false,
    "ExecuteTime": {
     "end_time": "2024-06-30T12:18:42.259624Z",
     "start_time": "2024-06-30T12:18:42.186655Z"
    }
   },
   "id": "d09b10698a010c5d",
   "execution_count": 19
  },
  {
   "cell_type": "code",
   "outputs": [],
   "source": [
    "# loading the model\n",
    "model = XGBRegressor()"
   ],
   "metadata": {
    "collapsed": false,
    "ExecuteTime": {
     "end_time": "2024-06-30T12:18:43.573796Z",
     "start_time": "2024-06-30T12:18:43.563178Z"
    }
   },
   "id": "75eb1c4136664e0d",
   "execution_count": 20
  },
  {
   "cell_type": "code",
   "outputs": [
    {
     "data": {
      "text/plain": "XGBRegressor(base_score=None, booster=None, callbacks=None,\n             colsample_bylevel=None, colsample_bynode=None,\n             colsample_bytree=None, device=None, early_stopping_rounds=None,\n             enable_categorical=False, eval_metric=None, feature_types=None,\n             gamma=None, grow_policy=None, importance_type=None,\n             interaction_constraints=None, learning_rate=None, max_bin=None,\n             max_cat_threshold=None, max_cat_to_onehot=None,\n             max_delta_step=None, max_depth=None, max_leaves=None,\n             min_child_weight=None, missing=nan, monotone_constraints=None,\n             multi_strategy=None, n_estimators=None, n_jobs=None,\n             num_parallel_tree=None, random_state=None, ...)",
      "text/html": "<style>#sk-container-id-1 {\n  /* Definition of color scheme common for light and dark mode */\n  --sklearn-color-text: black;\n  --sklearn-color-line: gray;\n  /* Definition of color scheme for unfitted estimators */\n  --sklearn-color-unfitted-level-0: #fff5e6;\n  --sklearn-color-unfitted-level-1: #f6e4d2;\n  --sklearn-color-unfitted-level-2: #ffe0b3;\n  --sklearn-color-unfitted-level-3: chocolate;\n  /* Definition of color scheme for fitted estimators */\n  --sklearn-color-fitted-level-0: #f0f8ff;\n  --sklearn-color-fitted-level-1: #d4ebff;\n  --sklearn-color-fitted-level-2: #b3dbfd;\n  --sklearn-color-fitted-level-3: cornflowerblue;\n\n  /* Specific color for light theme */\n  --sklearn-color-text-on-default-background: var(--sg-text-color, var(--theme-code-foreground, var(--jp-content-font-color1, black)));\n  --sklearn-color-background: var(--sg-background-color, var(--theme-background, var(--jp-layout-color0, white)));\n  --sklearn-color-border-box: var(--sg-text-color, var(--theme-code-foreground, var(--jp-content-font-color1, black)));\n  --sklearn-color-icon: #696969;\n\n  @media (prefers-color-scheme: dark) {\n    /* Redefinition of color scheme for dark theme */\n    --sklearn-color-text-on-default-background: var(--sg-text-color, var(--theme-code-foreground, var(--jp-content-font-color1, white)));\n    --sklearn-color-background: var(--sg-background-color, var(--theme-background, var(--jp-layout-color0, #111)));\n    --sklearn-color-border-box: var(--sg-text-color, var(--theme-code-foreground, var(--jp-content-font-color1, white)));\n    --sklearn-color-icon: #878787;\n  }\n}\n\n#sk-container-id-1 {\n  color: var(--sklearn-color-text);\n}\n\n#sk-container-id-1 pre {\n  padding: 0;\n}\n\n#sk-container-id-1 input.sk-hidden--visually {\n  border: 0;\n  clip: rect(1px 1px 1px 1px);\n  clip: rect(1px, 1px, 1px, 1px);\n  height: 1px;\n  margin: -1px;\n  overflow: hidden;\n  padding: 0;\n  position: absolute;\n  width: 1px;\n}\n\n#sk-container-id-1 div.sk-dashed-wrapped {\n  border: 1px dashed var(--sklearn-color-line);\n  margin: 0 0.4em 0.5em 0.4em;\n  box-sizing: border-box;\n  padding-bottom: 0.4em;\n  background-color: var(--sklearn-color-background);\n}\n\n#sk-container-id-1 div.sk-container {\n  /* jupyter's `normalize.less` sets `[hidden] { display: none; }`\n     but bootstrap.min.css set `[hidden] { display: none !important; }`\n     so we also need the `!important` here to be able to override the\n     default hidden behavior on the sphinx rendered scikit-learn.org.\n     See: https://github.com/scikit-learn/scikit-learn/issues/21755 */\n  display: inline-block !important;\n  position: relative;\n}\n\n#sk-container-id-1 div.sk-text-repr-fallback {\n  display: none;\n}\n\ndiv.sk-parallel-item,\ndiv.sk-serial,\ndiv.sk-item {\n  /* draw centered vertical line to link estimators */\n  background-image: linear-gradient(var(--sklearn-color-text-on-default-background), var(--sklearn-color-text-on-default-background));\n  background-size: 2px 100%;\n  background-repeat: no-repeat;\n  background-position: center center;\n}\n\n/* Parallel-specific style estimator block */\n\n#sk-container-id-1 div.sk-parallel-item::after {\n  content: \"\";\n  width: 100%;\n  border-bottom: 2px solid var(--sklearn-color-text-on-default-background);\n  flex-grow: 1;\n}\n\n#sk-container-id-1 div.sk-parallel {\n  display: flex;\n  align-items: stretch;\n  justify-content: center;\n  background-color: var(--sklearn-color-background);\n  position: relative;\n}\n\n#sk-container-id-1 div.sk-parallel-item {\n  display: flex;\n  flex-direction: column;\n}\n\n#sk-container-id-1 div.sk-parallel-item:first-child::after {\n  align-self: flex-end;\n  width: 50%;\n}\n\n#sk-container-id-1 div.sk-parallel-item:last-child::after {\n  align-self: flex-start;\n  width: 50%;\n}\n\n#sk-container-id-1 div.sk-parallel-item:only-child::after {\n  width: 0;\n}\n\n/* Serial-specific style estimator block */\n\n#sk-container-id-1 div.sk-serial {\n  display: flex;\n  flex-direction: column;\n  align-items: center;\n  background-color: var(--sklearn-color-background);\n  padding-right: 1em;\n  padding-left: 1em;\n}\n\n\n/* Toggleable style: style used for estimator/Pipeline/ColumnTransformer box that is\nclickable and can be expanded/collapsed.\n- Pipeline and ColumnTransformer use this feature and define the default style\n- Estimators will overwrite some part of the style using the `sk-estimator` class\n*/\n\n/* Pipeline and ColumnTransformer style (default) */\n\n#sk-container-id-1 div.sk-toggleable {\n  /* Default theme specific background. It is overwritten whether we have a\n  specific estimator or a Pipeline/ColumnTransformer */\n  background-color: var(--sklearn-color-background);\n}\n\n/* Toggleable label */\n#sk-container-id-1 label.sk-toggleable__label {\n  cursor: pointer;\n  display: block;\n  width: 100%;\n  margin-bottom: 0;\n  padding: 0.5em;\n  box-sizing: border-box;\n  text-align: center;\n}\n\n#sk-container-id-1 label.sk-toggleable__label-arrow:before {\n  /* Arrow on the left of the label */\n  content: \"▸\";\n  float: left;\n  margin-right: 0.25em;\n  color: var(--sklearn-color-icon);\n}\n\n#sk-container-id-1 label.sk-toggleable__label-arrow:hover:before {\n  color: var(--sklearn-color-text);\n}\n\n/* Toggleable content - dropdown */\n\n#sk-container-id-1 div.sk-toggleable__content {\n  max-height: 0;\n  max-width: 0;\n  overflow: hidden;\n  text-align: left;\n  /* unfitted */\n  background-color: var(--sklearn-color-unfitted-level-0);\n}\n\n#sk-container-id-1 div.sk-toggleable__content.fitted {\n  /* fitted */\n  background-color: var(--sklearn-color-fitted-level-0);\n}\n\n#sk-container-id-1 div.sk-toggleable__content pre {\n  margin: 0.2em;\n  border-radius: 0.25em;\n  color: var(--sklearn-color-text);\n  /* unfitted */\n  background-color: var(--sklearn-color-unfitted-level-0);\n}\n\n#sk-container-id-1 div.sk-toggleable__content.fitted pre {\n  /* unfitted */\n  background-color: var(--sklearn-color-fitted-level-0);\n}\n\n#sk-container-id-1 input.sk-toggleable__control:checked~div.sk-toggleable__content {\n  /* Expand drop-down */\n  max-height: 200px;\n  max-width: 100%;\n  overflow: auto;\n}\n\n#sk-container-id-1 input.sk-toggleable__control:checked~label.sk-toggleable__label-arrow:before {\n  content: \"▾\";\n}\n\n/* Pipeline/ColumnTransformer-specific style */\n\n#sk-container-id-1 div.sk-label input.sk-toggleable__control:checked~label.sk-toggleable__label {\n  color: var(--sklearn-color-text);\n  background-color: var(--sklearn-color-unfitted-level-2);\n}\n\n#sk-container-id-1 div.sk-label.fitted input.sk-toggleable__control:checked~label.sk-toggleable__label {\n  background-color: var(--sklearn-color-fitted-level-2);\n}\n\n/* Estimator-specific style */\n\n/* Colorize estimator box */\n#sk-container-id-1 div.sk-estimator input.sk-toggleable__control:checked~label.sk-toggleable__label {\n  /* unfitted */\n  background-color: var(--sklearn-color-unfitted-level-2);\n}\n\n#sk-container-id-1 div.sk-estimator.fitted input.sk-toggleable__control:checked~label.sk-toggleable__label {\n  /* fitted */\n  background-color: var(--sklearn-color-fitted-level-2);\n}\n\n#sk-container-id-1 div.sk-label label.sk-toggleable__label,\n#sk-container-id-1 div.sk-label label {\n  /* The background is the default theme color */\n  color: var(--sklearn-color-text-on-default-background);\n}\n\n/* On hover, darken the color of the background */\n#sk-container-id-1 div.sk-label:hover label.sk-toggleable__label {\n  color: var(--sklearn-color-text);\n  background-color: var(--sklearn-color-unfitted-level-2);\n}\n\n/* Label box, darken color on hover, fitted */\n#sk-container-id-1 div.sk-label.fitted:hover label.sk-toggleable__label.fitted {\n  color: var(--sklearn-color-text);\n  background-color: var(--sklearn-color-fitted-level-2);\n}\n\n/* Estimator label */\n\n#sk-container-id-1 div.sk-label label {\n  font-family: monospace;\n  font-weight: bold;\n  display: inline-block;\n  line-height: 1.2em;\n}\n\n#sk-container-id-1 div.sk-label-container {\n  text-align: center;\n}\n\n/* Estimator-specific */\n#sk-container-id-1 div.sk-estimator {\n  font-family: monospace;\n  border: 1px dotted var(--sklearn-color-border-box);\n  border-radius: 0.25em;\n  box-sizing: border-box;\n  margin-bottom: 0.5em;\n  /* unfitted */\n  background-color: var(--sklearn-color-unfitted-level-0);\n}\n\n#sk-container-id-1 div.sk-estimator.fitted {\n  /* fitted */\n  background-color: var(--sklearn-color-fitted-level-0);\n}\n\n/* on hover */\n#sk-container-id-1 div.sk-estimator:hover {\n  /* unfitted */\n  background-color: var(--sklearn-color-unfitted-level-2);\n}\n\n#sk-container-id-1 div.sk-estimator.fitted:hover {\n  /* fitted */\n  background-color: var(--sklearn-color-fitted-level-2);\n}\n\n/* Specification for estimator info (e.g. \"i\" and \"?\") */\n\n/* Common style for \"i\" and \"?\" */\n\n.sk-estimator-doc-link,\na:link.sk-estimator-doc-link,\na:visited.sk-estimator-doc-link {\n  float: right;\n  font-size: smaller;\n  line-height: 1em;\n  font-family: monospace;\n  background-color: var(--sklearn-color-background);\n  border-radius: 1em;\n  height: 1em;\n  width: 1em;\n  text-decoration: none !important;\n  margin-left: 1ex;\n  /* unfitted */\n  border: var(--sklearn-color-unfitted-level-1) 1pt solid;\n  color: var(--sklearn-color-unfitted-level-1);\n}\n\n.sk-estimator-doc-link.fitted,\na:link.sk-estimator-doc-link.fitted,\na:visited.sk-estimator-doc-link.fitted {\n  /* fitted */\n  border: var(--sklearn-color-fitted-level-1) 1pt solid;\n  color: var(--sklearn-color-fitted-level-1);\n}\n\n/* On hover */\ndiv.sk-estimator:hover .sk-estimator-doc-link:hover,\n.sk-estimator-doc-link:hover,\ndiv.sk-label-container:hover .sk-estimator-doc-link:hover,\n.sk-estimator-doc-link:hover {\n  /* unfitted */\n  background-color: var(--sklearn-color-unfitted-level-3);\n  color: var(--sklearn-color-background);\n  text-decoration: none;\n}\n\ndiv.sk-estimator.fitted:hover .sk-estimator-doc-link.fitted:hover,\n.sk-estimator-doc-link.fitted:hover,\ndiv.sk-label-container:hover .sk-estimator-doc-link.fitted:hover,\n.sk-estimator-doc-link.fitted:hover {\n  /* fitted */\n  background-color: var(--sklearn-color-fitted-level-3);\n  color: var(--sklearn-color-background);\n  text-decoration: none;\n}\n\n/* Span, style for the box shown on hovering the info icon */\n.sk-estimator-doc-link span {\n  display: none;\n  z-index: 9999;\n  position: relative;\n  font-weight: normal;\n  right: .2ex;\n  padding: .5ex;\n  margin: .5ex;\n  width: min-content;\n  min-width: 20ex;\n  max-width: 50ex;\n  color: var(--sklearn-color-text);\n  box-shadow: 2pt 2pt 4pt #999;\n  /* unfitted */\n  background: var(--sklearn-color-unfitted-level-0);\n  border: .5pt solid var(--sklearn-color-unfitted-level-3);\n}\n\n.sk-estimator-doc-link.fitted span {\n  /* fitted */\n  background: var(--sklearn-color-fitted-level-0);\n  border: var(--sklearn-color-fitted-level-3);\n}\n\n.sk-estimator-doc-link:hover span {\n  display: block;\n}\n\n/* \"?\"-specific style due to the `<a>` HTML tag */\n\n#sk-container-id-1 a.estimator_doc_link {\n  float: right;\n  font-size: 1rem;\n  line-height: 1em;\n  font-family: monospace;\n  background-color: var(--sklearn-color-background);\n  border-radius: 1rem;\n  height: 1rem;\n  width: 1rem;\n  text-decoration: none;\n  /* unfitted */\n  color: var(--sklearn-color-unfitted-level-1);\n  border: var(--sklearn-color-unfitted-level-1) 1pt solid;\n}\n\n#sk-container-id-1 a.estimator_doc_link.fitted {\n  /* fitted */\n  border: var(--sklearn-color-fitted-level-1) 1pt solid;\n  color: var(--sklearn-color-fitted-level-1);\n}\n\n/* On hover */\n#sk-container-id-1 a.estimator_doc_link:hover {\n  /* unfitted */\n  background-color: var(--sklearn-color-unfitted-level-3);\n  color: var(--sklearn-color-background);\n  text-decoration: none;\n}\n\n#sk-container-id-1 a.estimator_doc_link.fitted:hover {\n  /* fitted */\n  background-color: var(--sklearn-color-fitted-level-3);\n}\n</style><div id=\"sk-container-id-1\" class=\"sk-top-container\"><div class=\"sk-text-repr-fallback\"><pre>XGBRegressor(base_score=None, booster=None, callbacks=None,\n             colsample_bylevel=None, colsample_bynode=None,\n             colsample_bytree=None, device=None, early_stopping_rounds=None,\n             enable_categorical=False, eval_metric=None, feature_types=None,\n             gamma=None, grow_policy=None, importance_type=None,\n             interaction_constraints=None, learning_rate=None, max_bin=None,\n             max_cat_threshold=None, max_cat_to_onehot=None,\n             max_delta_step=None, max_depth=None, max_leaves=None,\n             min_child_weight=None, missing=nan, monotone_constraints=None,\n             multi_strategy=None, n_estimators=None, n_jobs=None,\n             num_parallel_tree=None, random_state=None, ...)</pre><b>In a Jupyter environment, please rerun this cell to show the HTML representation or trust the notebook. <br />On GitHub, the HTML representation is unable to render, please try loading this page with nbviewer.org.</b></div><div class=\"sk-container\" hidden><div class=\"sk-item\"><div class=\"sk-estimator fitted sk-toggleable\"><input class=\"sk-toggleable__control sk-hidden--visually\" id=\"sk-estimator-id-1\" type=\"checkbox\" checked><label for=\"sk-estimator-id-1\" class=\"sk-toggleable__label fitted sk-toggleable__label-arrow fitted\">&nbsp;XGBRegressor<span class=\"sk-estimator-doc-link fitted\">i<span>Fitted</span></span></label><div class=\"sk-toggleable__content fitted\"><pre>XGBRegressor(base_score=None, booster=None, callbacks=None,\n             colsample_bylevel=None, colsample_bynode=None,\n             colsample_bytree=None, device=None, early_stopping_rounds=None,\n             enable_categorical=False, eval_metric=None, feature_types=None,\n             gamma=None, grow_policy=None, importance_type=None,\n             interaction_constraints=None, learning_rate=None, max_bin=None,\n             max_cat_threshold=None, max_cat_to_onehot=None,\n             max_delta_step=None, max_depth=None, max_leaves=None,\n             min_child_weight=None, missing=nan, monotone_constraints=None,\n             multi_strategy=None, n_estimators=None, n_jobs=None,\n             num_parallel_tree=None, random_state=None, ...)</pre></div> </div></div></div></div>"
     },
     "execution_count": 21,
     "metadata": {},
     "output_type": "execute_result"
    }
   ],
   "source": [
    "# training the model with X_train\n",
    "model.fit(X_train, Y_train)"
   ],
   "metadata": {
    "collapsed": false,
    "ExecuteTime": {
     "end_time": "2024-06-30T12:18:46.021574Z",
     "start_time": "2024-06-30T12:18:44.669074Z"
    }
   },
   "id": "4db4716cb9a5f5fc",
   "execution_count": 21
  },
  {
   "cell_type": "code",
   "outputs": [],
   "source": [
    "# accuracy for prediction on training data\n",
    "training_data_prediction = model.predict(X_train)"
   ],
   "metadata": {
    "collapsed": false,
    "ExecuteTime": {
     "end_time": "2024-06-30T12:18:48.338784Z",
     "start_time": "2024-06-30T12:18:48.303813Z"
    }
   },
   "id": "d8551051c05c924d",
   "execution_count": 22
  },
  {
   "cell_type": "code",
   "outputs": [
    {
     "name": "stdout",
     "output_type": "stream",
     "text": [
      "[1118.3839 1158.0098 1089.9475 ... 1062.607  1139.4692 1069.2278]\n"
     ]
    }
   ],
   "source": [
    "print(training_data_prediction)"
   ],
   "metadata": {
    "collapsed": false,
    "ExecuteTime": {
     "end_time": "2024-06-30T12:18:49.786826Z",
     "start_time": "2024-06-30T12:18:49.769826Z"
    }
   },
   "id": "6b8a8d9457b5e7bf",
   "execution_count": 23
  },
  {
   "cell_type": "code",
   "outputs": [
    {
     "name": "stdout",
     "output_type": "stream",
     "text": [
      "R squared error :  0.9997949387911853\n",
      "Mean Absolute Error :  0.2585109185791033\n"
     ]
    }
   ],
   "source": [
    "# R squared error\n",
    "score_1 = metrics.r2_score(Y_train, training_data_prediction)\n",
    "\n",
    "# Mean Absolute Error\n",
    "score_2 = metrics.mean_absolute_error(Y_train, training_data_prediction)\n",
    "\n",
    "print(\"R squared error : \", score_1)\n",
    "print('Mean Absolute Error : ', score_2)"
   ],
   "metadata": {
    "collapsed": false,
    "ExecuteTime": {
     "end_time": "2024-06-30T12:18:52.645883Z",
     "start_time": "2024-06-30T12:18:52.585210Z"
    }
   },
   "id": "e0e6a831c6ab4351",
   "execution_count": 24
  },
  {
   "cell_type": "code",
   "outputs": [
    {
     "data": {
      "text/plain": "<Figure size 640x480 with 1 Axes>",
      "image/png": "[encoded data removed]"
     },
     "metadata": {},
     "output_type": "display_data"
    }
   ],
   "source": [
    "plt.scatter(\n",
    "    Y_train[:100],\n",
    "    training_data_prediction[:100],\n",
    ")\n",
    "plt.xlabel(\"Actual Prices\")\n",
    "plt.ylabel(\"Predicted Prices\")\n",
    "plt.title(\"Actual Price vs Predicted Price\")\n",
    "plt.show()"
   ],
   "metadata": {
    "collapsed": false,
    "ExecuteTime": {
     "end_time": "2024-06-30T12:19:19.348256Z",
     "start_time": "2024-06-30T12:19:19.077072Z"
    }
   },
   "id": "8c2ee822d4430f08",
   "execution_count": 26
  },
  {
   "cell_type": "code",
   "outputs": [],
   "source": [
    "# accuracy for prediction on test data\n",
    "test_data_prediction = model.predict(X_test)"
   ],
   "metadata": {
    "collapsed": false,
    "ExecuteTime": {
     "end_time": "2024-06-30T12:19:31.072752Z",
     "start_time": "2024-06-30T12:19:31.057104Z"
    }
   },
   "id": "c4e9b207cca5b7c3",
   "execution_count": 27
  },
  {
   "cell_type": "code",
   "outputs": [
    {
     "name": "stdout",
     "output_type": "stream",
     "text": [
      "R squared error :  0.9995879624094643\n",
      "Mean Absolute Error :  0.33937281005859393\n"
     ]
    }
   ],
   "source": [
    "# R squared error\n",
    "score_1 = metrics.r2_score(Y_test, test_data_prediction)\n",
    "\n",
    "# Mean Absolute Error\n",
    "score_2 = metrics.mean_absolute_error(Y_test, test_data_prediction)\n",
    "\n",
    "print(\"R squared error : \", score_1)\n",
    "print('Mean Absolute Error : ', score_2)"
   ],
   "metadata": {
    "collapsed": false,
    "ExecuteTime": {
     "end_time": "2024-06-30T12:19:35.648724Z",
     "start_time": "2024-06-30T12:19:35.628594Z"
    }
   },
   "id": "f15b1f24952084e3",
   "execution_count": 28
  }
 ],
 "metadata": {
  "kernelspec": {
   "display_name": "Python 3",
   "language": "python",
   "name": "python3"
  },
  "language_info": {
   "codemirror_mode": {
    "name": "ipython",
    "version": 2
   },
   "file_extension": ".py",
   "mimetype": "text/x-python",
   "name": "python",
   "nbconvert_exporter": "python",
   "pygments_lexer": "ipython2",
   "version": "2.7.6"
  }
 },
 "nbformat": 4,
 "nbformat_minor": 5
}
