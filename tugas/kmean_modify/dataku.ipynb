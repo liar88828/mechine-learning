{
 "cells": [
  {
   "cell_type": "code",
   "execution_count": 1,
   "id": "initial_id",
   "metadata": {
    "collapsed": true,
    "ExecuteTime": {
     "end_time": "2024-04-01T01:49:01.924630Z",
     "start_time": "2024-04-01T01:49:01.205266Z"
    }
   },
   "outputs": [],
   "source": [
    "import numpy as np\n",
    "from matplotlib import pyplot as plt\n",
    "from matplotlib.pyplot import cm\n",
    "import time\n",
    "import itertools\n"
   ]
  },
  {
   "cell_type": "code",
   "outputs": [],
   "source": [
    "dataset = np.loadtxt('./../../data/dataku.txt', delimiter=' ')"
   ],
   "metadata": {
    "collapsed": false,
    "ExecuteTime": {
     "end_time": "2024-04-01T01:49:58.825379Z",
     "start_time": "2024-04-01T01:49:58.739516Z"
    }
   },
   "id": "f4add37bc3067718",
   "execution_count": 3
  },
  {
   "cell_type": "code",
   "outputs": [],
   "source": [
    "# mengidentifikasi parameter k means klastering\n",
    "k = 2  # jumlah klaster yang di inginkan\n",
    "interCounter = 0  # counter untuk iterasi\n",
    "input = dataset  #input Data"
   ],
   "metadata": {
    "collapsed": false,
    "ExecuteTime": {
     "end_time": "2024-04-01T01:51:31.413215Z",
     "start_time": "2024-04-01T01:51:31.405592Z"
    }
   },
   "id": "70ef8ffdbe1c5578",
   "execution_count": 4
  },
  {
   "cell_type": "code",
   "outputs": [],
   "source": [
    "# fungsi untuk inisalisasi titik pusat klaster (random)\n",
    "def initCenteroid(dataIn, k):\n",
    "    result = dataIn[np.random.choice(\n",
    "        dataIn.shape[0],\n",
    "        k,\n",
    "        replace=False)]\n",
    "    return result"
   ],
   "metadata": {
    "collapsed": false,
    "ExecuteTime": {
     "end_time": "2024-04-01T01:54:31.722609Z",
     "start_time": "2024-04-01T01:54:31.699772Z"
    }
   },
   "id": "e38e92fa5dc1ab0c",
   "execution_count": 5
  },
  {
   "cell_type": "code",
   "outputs": [],
   "source": [
    "# fungi untuk plot hasil klasifikasi per iterasi\n",
    "def plotClustersResult(\n",
    "        listClusterMember,\n",
    "        centeroid,\n",
    "        iteration,\n",
    "        converged\n",
    "):\n",
    "    n = listClusterMember.__len__()\n",
    "    color = iter(cm.rainbow(np.linspace(0, 1, n)))\n",
    "    plt.figure('Result')\n",
    "    plt.clf()\n",
    "    plt.title('Iteration' + str(iteration))\n",
    "    marker = itertools.cycle((',', '*', '^', 'x', '+'))\n",
    "\n",
    "    for i in range(n):\n",
    "        col = next(color)\n",
    "        memberCluster = np.asmatrix(listClusterMember[i])\n",
    "        plt.scatter(\n",
    "            np.ravel(memberCluster[:, 0]),\n",
    "            np.ravel(memberCluster[:, 1]),\n",
    "            marker=marker.__next__(),\n",
    "            s=100,\n",
    "            c=col,\n",
    "            label='kaster-' + str(i + 1)\n",
    "        )\n",
    "        for i in range(n):\n",
    "            plt.scatter(\n",
    "                (centeroid[i, 0]),\n",
    "                (centeroid[i, 1]),\n",
    "                marker=marker.__next__(),\n",
    "                c=col,\n",
    "                label='Centeroid-' + str(i + 1)\n",
    "            )\n",
    "        if (converged == 0):\n",
    "            plt.legend()\n",
    "            plt.ion()\n",
    "            plt.show()\n",
    "            plt.pause(0.1)\n",
    "\n",
    "        if (converged == 1):\n",
    "            plt.legend()\n",
    "            plt.show(block=True)\n"
   ],
   "metadata": {
    "collapsed": false,
    "ExecuteTime": {
     "end_time": "2024-04-01T02:08:54.071503Z",
     "start_time": "2024-04-01T02:08:54.050480Z"
    }
   },
   "id": "33dc042e7d856a7a",
   "execution_count": 6
  },
  {
   "cell_type": "code",
   "outputs": [],
   "source": [
    "# fungsi utama algoritma k-mean\n",
    "def Kmean(data, centeroidInit):\n",
    "    nCluters = k  # kebanyakan klaster\n",
    "    global interCounter\n",
    "    centeroidInit = np.matrix(centeroidInit)\n",
    "    # loop hingga konvergern\n",
    "    while (True):\n",
    "        interCounter += 1\n",
    "        euclideanDistance = np.ndarray(\n",
    "            shape=(data.shape[0], 0))\n",
    "\n",
    "    # ulang proses untuk klaster    \n",
    "    # for i in range(0, nClaster):\n",
    "    #     centeroidRepeated = np.repeat(\n",
    "    #         centeroidInit[i, :],\n",
    "    #         data.shape[0],\n",
    "    #         axis=0)\n",
    "    # \n",
    "    #     delteMatik = abs(np.subtract(\n",
    "    #         data,\n",
    "    #         centeroidRepeated)\n",
    "    #     )\n",
    "    # \n",
    "    #     # hitung jarak Enclian \n",
    "    #     eunclianMatrik = np\n",
    "    #                       .sqrt(delteMatik)\n",
    "    #                       .sum(axis=1)\n",
    "    #     eunclianMatrikCluster=\\\n",
    "    #     np.concatenate()\n",
    "        "
   ],
   "metadata": {
    "collapsed": false
   },
   "id": "aa679c2e78dbb0ae"
  }
 ],
 "metadata": {
  "kernelspec": {
   "display_name": "Python 3",
   "language": "python",
   "name": "python3"
  },
  "language_info": {
   "codemirror_mode": {
    "name": "ipython",
    "version": 2
   },
   "file_extension": ".py",
   "mimetype": "text/x-python",
   "name": "python",
   "nbconvert_exporter": "python",
   "pygments_lexer": "ipython2",
   "version": "2.7.6"
  }
 },
 "nbformat": 4,
 "nbformat_minor": 5
}
