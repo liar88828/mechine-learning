{
 "cells": [
  {
   "cell_type": "code",
   "outputs": [],
   "source": [
    "import pandas as pd\n",
    "from sklearn.model_selection import train_test_split\n",
    "from sklearn.linear_model import LogisticRegression\n",
    "from sklearn.metrics import classification_report, confusion_matrix, accuracy_score, roc_curve, auc\n",
    "from sklearn.preprocessing import StandardScaler\n",
    "import matplotlib.pyplot as plt\n",
    "import seaborn as sns\n",
    "import numpy as np"
   ],
   "metadata": {
    "collapsed": false,
    "ExecuteTime": {
     "end_time": "2024-06-26T13:40:57.044822Z",
     "start_time": "2024-06-26T13:40:57.029823Z"
    }
   },
   "id": "eab42768b8d55064",
   "execution_count": 11
  },
  {
   "cell_type": "code",
   "outputs": [
    {
     "data": {
      "text/plain": "                      time     open     high      low    close  rsi14    sma14\n0      2010-01-03 18:00:00  1098.45  1100.00  1098.05  1099.95  81.98  1096.38\n1      2010-01-03 18:05:00  1100.00  1100.30  1099.45  1099.75  79.17  1096.72\n2      2010-01-03 18:10:00  1099.70  1100.10  1099.30  1099.45  75.02  1097.03\n3      2010-01-03 18:15:00  1099.50  1099.60  1098.50  1099.45  75.02  1097.30\n4      2010-01-03 18:20:00  1099.40  1099.60  1098.90  1098.90  67.50  1097.50\n...                    ...      ...      ...      ...      ...    ...      ...\n99995  2011-05-23 20:00:00  1514.23  1514.83  1513.88  1514.73  44.35  1514.50\n99996  2011-05-23 20:05:00  1514.78  1515.53  1514.58  1515.23  51.24  1514.50\n99997  2011-05-23 20:10:00  1515.18  1515.88  1515.13  1515.43  53.71  1514.51\n99998  2011-05-23 20:15:00  1515.38  1516.78  1515.38  1516.63  65.12  1514.62\n99999  2011-05-23 20:20:00  1516.58  1517.38  1516.48  1517.23  69.21  1514.78\n\n[100000 rows x 7 columns]",
      "text/html": "<div>\n<style scoped>\n    .dataframe tbody tr th:only-of-type {\n        vertical-align: middle;\n    }\n\n    .dataframe tbody tr th {\n        vertical-align: top;\n    }\n\n    .dataframe thead th {\n        text-align: right;\n    }\n</style>\n<table border=\"1\" class=\"dataframe\">\n  <thead>\n    <tr style=\"text-align: right;\">\n      <th></th>\n      <th>time</th>\n      <th>open</th>\n      <th>high</th>\n      <th>low</th>\n      <th>close</th>\n      <th>rsi14</th>\n      <th>sma14</th>\n    </tr>\n  </thead>\n  <tbody>\n    <tr>\n      <th>0</th>\n      <td>2010-01-03 18:00:00</td>\n      <td>1098.45</td>\n      <td>1100.00</td>\n      <td>1098.05</td>\n      <td>1099.95</td>\n      <td>81.98</td>\n      <td>1096.38</td>\n    </tr>\n    <tr>\n      <th>1</th>\n      <td>2010-01-03 18:05:00</td>\n      <td>1100.00</td>\n      <td>1100.30</td>\n      <td>1099.45</td>\n      <td>1099.75</td>\n      <td>79.17</td>\n      <td>1096.72</td>\n    </tr>\n    <tr>\n      <th>2</th>\n      <td>2010-01-03 18:10:00</td>\n      <td>1099.70</td>\n      <td>1100.10</td>\n      <td>1099.30</td>\n      <td>1099.45</td>\n      <td>75.02</td>\n      <td>1097.03</td>\n    </tr>\n    <tr>\n      <th>3</th>\n      <td>2010-01-03 18:15:00</td>\n      <td>1099.50</td>\n      <td>1099.60</td>\n      <td>1098.50</td>\n      <td>1099.45</td>\n      <td>75.02</td>\n      <td>1097.30</td>\n    </tr>\n    <tr>\n      <th>4</th>\n      <td>2010-01-03 18:20:00</td>\n      <td>1099.40</td>\n      <td>1099.60</td>\n      <td>1098.90</td>\n      <td>1098.90</td>\n      <td>67.50</td>\n      <td>1097.50</td>\n    </tr>\n    <tr>\n      <th>...</th>\n      <td>...</td>\n      <td>...</td>\n      <td>...</td>\n      <td>...</td>\n      <td>...</td>\n      <td>...</td>\n      <td>...</td>\n    </tr>\n    <tr>\n      <th>99995</th>\n      <td>2011-05-23 20:00:00</td>\n      <td>1514.23</td>\n      <td>1514.83</td>\n      <td>1513.88</td>\n      <td>1514.73</td>\n      <td>44.35</td>\n      <td>1514.50</td>\n    </tr>\n    <tr>\n      <th>99996</th>\n      <td>2011-05-23 20:05:00</td>\n      <td>1514.78</td>\n      <td>1515.53</td>\n      <td>1514.58</td>\n      <td>1515.23</td>\n      <td>51.24</td>\n      <td>1514.50</td>\n    </tr>\n    <tr>\n      <th>99997</th>\n      <td>2011-05-23 20:10:00</td>\n      <td>1515.18</td>\n      <td>1515.88</td>\n      <td>1515.13</td>\n      <td>1515.43</td>\n      <td>53.71</td>\n      <td>1514.51</td>\n    </tr>\n    <tr>\n      <th>99998</th>\n      <td>2011-05-23 20:15:00</td>\n      <td>1515.38</td>\n      <td>1516.78</td>\n      <td>1515.38</td>\n      <td>1516.63</td>\n      <td>65.12</td>\n      <td>1514.62</td>\n    </tr>\n    <tr>\n      <th>99999</th>\n      <td>2011-05-23 20:20:00</td>\n      <td>1516.58</td>\n      <td>1517.38</td>\n      <td>1516.48</td>\n      <td>1517.23</td>\n      <td>69.21</td>\n      <td>1514.78</td>\n    </tr>\n  </tbody>\n</table>\n<p>100000 rows × 7 columns</p>\n</div>"
     },
     "execution_count": 3,
     "metadata": {},
     "output_type": "execute_result"
    }
   ],
   "source": [
    "\n",
    "# Load the dataset\n",
    "df = pd.read_csv('../../data/XAUUSD_2010-2023.csv').head(100_000)\n",
    "df"
   ],
   "metadata": {
    "collapsed": false,
    "ExecuteTime": {
     "end_time": "2024-06-26T13:18:11.850791Z",
     "start_time": "2024-06-26T13:18:10.523458Z"
    }
   },
   "id": "c41d11a3dc9110ae",
   "execution_count": 3
  },
  {
   "cell_type": "code",
   "outputs": [
    {
     "data": {
      "text/plain": "                      time     open     high      low    close  price_high  \\\n0      2010-01-03 18:00:00  1098.45  1100.00  1098.05  1099.95        True   \n1      2010-01-03 18:05:00  1100.00  1100.30  1099.45  1099.75        True   \n2      2010-01-03 18:10:00  1099.70  1100.10  1099.30  1099.45        True   \n3      2010-01-03 18:15:00  1099.50  1099.60  1098.50  1099.45        True   \n4      2010-01-03 18:20:00  1099.40  1099.60  1098.90  1098.90        True   \n...                    ...      ...      ...      ...      ...         ...   \n99995  2011-05-23 20:00:00  1514.23  1514.83  1513.88  1514.73        True   \n99996  2011-05-23 20:05:00  1514.78  1515.53  1514.58  1515.23        True   \n99997  2011-05-23 20:10:00  1515.18  1515.88  1515.13  1515.43        True   \n99998  2011-05-23 20:15:00  1515.38  1516.78  1515.38  1516.63        True   \n99999  2011-05-23 20:20:00  1516.58  1517.38  1516.48  1517.23        True   \n\n       price_low  price_close  \n0           True         True  \n1           True        False  \n2           True        False  \n3           True        False  \n4           True        False  \n...          ...          ...  \n99995       True         True  \n99996       True         True  \n99997       True         True  \n99998      False         True  \n99999       True         True  \n\n[100000 rows x 8 columns]",
      "text/html": "<div>\n<style scoped>\n    .dataframe tbody tr th:only-of-type {\n        vertical-align: middle;\n    }\n\n    .dataframe tbody tr th {\n        vertical-align: top;\n    }\n\n    .dataframe thead th {\n        text-align: right;\n    }\n</style>\n<table border=\"1\" class=\"dataframe\">\n  <thead>\n    <tr style=\"text-align: right;\">\n      <th></th>\n      <th>time</th>\n      <th>open</th>\n      <th>high</th>\n      <th>low</th>\n      <th>close</th>\n      <th>price_high</th>\n      <th>price_low</th>\n      <th>price_close</th>\n    </tr>\n  </thead>\n  <tbody>\n    <tr>\n      <th>0</th>\n      <td>2010-01-03 18:00:00</td>\n      <td>1098.45</td>\n      <td>1100.00</td>\n      <td>1098.05</td>\n      <td>1099.95</td>\n      <td>True</td>\n      <td>True</td>\n      <td>True</td>\n    </tr>\n    <tr>\n      <th>1</th>\n      <td>2010-01-03 18:05:00</td>\n      <td>1100.00</td>\n      <td>1100.30</td>\n      <td>1099.45</td>\n      <td>1099.75</td>\n      <td>True</td>\n      <td>True</td>\n      <td>False</td>\n    </tr>\n    <tr>\n      <th>2</th>\n      <td>2010-01-03 18:10:00</td>\n      <td>1099.70</td>\n      <td>1100.10</td>\n      <td>1099.30</td>\n      <td>1099.45</td>\n      <td>True</td>\n      <td>True</td>\n      <td>False</td>\n    </tr>\n    <tr>\n      <th>3</th>\n      <td>2010-01-03 18:15:00</td>\n      <td>1099.50</td>\n      <td>1099.60</td>\n      <td>1098.50</td>\n      <td>1099.45</td>\n      <td>True</td>\n      <td>True</td>\n      <td>False</td>\n    </tr>\n    <tr>\n      <th>4</th>\n      <td>2010-01-03 18:20:00</td>\n      <td>1099.40</td>\n      <td>1099.60</td>\n      <td>1098.90</td>\n      <td>1098.90</td>\n      <td>True</td>\n      <td>True</td>\n      <td>False</td>\n    </tr>\n    <tr>\n      <th>...</th>\n      <td>...</td>\n      <td>...</td>\n      <td>...</td>\n      <td>...</td>\n      <td>...</td>\n      <td>...</td>\n      <td>...</td>\n      <td>...</td>\n    </tr>\n    <tr>\n      <th>99995</th>\n      <td>2011-05-23 20:00:00</td>\n      <td>1514.23</td>\n      <td>1514.83</td>\n      <td>1513.88</td>\n      <td>1514.73</td>\n      <td>True</td>\n      <td>True</td>\n      <td>True</td>\n    </tr>\n    <tr>\n      <th>99996</th>\n      <td>2011-05-23 20:05:00</td>\n      <td>1514.78</td>\n      <td>1515.53</td>\n      <td>1514.58</td>\n      <td>1515.23</td>\n      <td>True</td>\n      <td>True</td>\n      <td>True</td>\n    </tr>\n    <tr>\n      <th>99997</th>\n      <td>2011-05-23 20:10:00</td>\n      <td>1515.18</td>\n      <td>1515.88</td>\n      <td>1515.13</td>\n      <td>1515.43</td>\n      <td>True</td>\n      <td>True</td>\n      <td>True</td>\n    </tr>\n    <tr>\n      <th>99998</th>\n      <td>2011-05-23 20:15:00</td>\n      <td>1515.38</td>\n      <td>1516.78</td>\n      <td>1515.38</td>\n      <td>1516.63</td>\n      <td>True</td>\n      <td>False</td>\n      <td>True</td>\n    </tr>\n    <tr>\n      <th>99999</th>\n      <td>2011-05-23 20:20:00</td>\n      <td>1516.58</td>\n      <td>1517.38</td>\n      <td>1516.48</td>\n      <td>1517.23</td>\n      <td>True</td>\n      <td>True</td>\n      <td>True</td>\n    </tr>\n  </tbody>\n</table>\n<p>100000 rows × 8 columns</p>\n</div>"
     },
     "execution_count": 8,
     "metadata": {},
     "output_type": "execute_result"
    }
   ],
   "source": [
    "df = df.drop(['rsi14', 'sma14'], axis=1)\n",
    "df"
   ],
   "metadata": {
    "collapsed": false,
    "ExecuteTime": {
     "end_time": "2024-06-26T13:27:17.849112Z",
     "start_time": "2024-06-26T13:27:17.810398Z"
    }
   },
   "id": "22a7faaa7a1c715e",
   "execution_count": 8
  },
  {
   "cell_type": "code",
   "outputs": [],
   "source": [
    "\n",
    "# Convert the 'time' column to datetime\n",
    "df['time'] = pd.to_datetime(df['time'])"
   ],
   "metadata": {
    "collapsed": false
   },
   "id": "d7e05355ad60c7be"
  },
  {
   "cell_type": "code",
   "outputs": [
    {
     "data": {
      "text/plain": "                      time     open     high      low    close  price_high  \\\n0      2010-01-03 18:00:00  1098.45  1100.00  1098.05  1099.95        True   \n1      2010-01-03 18:05:00  1100.00  1100.30  1099.45  1099.75        True   \n2      2010-01-03 18:10:00  1099.70  1100.10  1099.30  1099.45        True   \n3      2010-01-03 18:15:00  1099.50  1099.60  1098.50  1099.45        True   \n4      2010-01-03 18:20:00  1099.40  1099.60  1098.90  1098.90        True   \n...                    ...      ...      ...      ...      ...         ...   \n99995  2011-05-23 20:00:00  1514.23  1514.83  1513.88  1514.73        True   \n99996  2011-05-23 20:05:00  1514.78  1515.53  1514.58  1515.23        True   \n99997  2011-05-23 20:10:00  1515.18  1515.88  1515.13  1515.43        True   \n99998  2011-05-23 20:15:00  1515.38  1516.78  1515.38  1516.63        True   \n99999  2011-05-23 20:20:00  1516.58  1517.38  1516.48  1517.23        True   \n\n       price_low  price_close  \n0           True         True  \n1           True        False  \n2           True        False  \n3           True        False  \n4           True        False  \n...          ...          ...  \n99995       True         True  \n99996       True         True  \n99997       True         True  \n99998      False         True  \n99999       True         True  \n\n[100000 rows x 8 columns]",
      "text/html": "<div>\n<style scoped>\n    .dataframe tbody tr th:only-of-type {\n        vertical-align: middle;\n    }\n\n    .dataframe tbody tr th {\n        vertical-align: top;\n    }\n\n    .dataframe thead th {\n        text-align: right;\n    }\n</style>\n<table border=\"1\" class=\"dataframe\">\n  <thead>\n    <tr style=\"text-align: right;\">\n      <th></th>\n      <th>time</th>\n      <th>open</th>\n      <th>high</th>\n      <th>low</th>\n      <th>close</th>\n      <th>price_high</th>\n      <th>price_low</th>\n      <th>price_close</th>\n    </tr>\n  </thead>\n  <tbody>\n    <tr>\n      <th>0</th>\n      <td>2010-01-03 18:00:00</td>\n      <td>1098.45</td>\n      <td>1100.00</td>\n      <td>1098.05</td>\n      <td>1099.95</td>\n      <td>True</td>\n      <td>True</td>\n      <td>True</td>\n    </tr>\n    <tr>\n      <th>1</th>\n      <td>2010-01-03 18:05:00</td>\n      <td>1100.00</td>\n      <td>1100.30</td>\n      <td>1099.45</td>\n      <td>1099.75</td>\n      <td>True</td>\n      <td>True</td>\n      <td>False</td>\n    </tr>\n    <tr>\n      <th>2</th>\n      <td>2010-01-03 18:10:00</td>\n      <td>1099.70</td>\n      <td>1100.10</td>\n      <td>1099.30</td>\n      <td>1099.45</td>\n      <td>True</td>\n      <td>True</td>\n      <td>False</td>\n    </tr>\n    <tr>\n      <th>3</th>\n      <td>2010-01-03 18:15:00</td>\n      <td>1099.50</td>\n      <td>1099.60</td>\n      <td>1098.50</td>\n      <td>1099.45</td>\n      <td>True</td>\n      <td>True</td>\n      <td>False</td>\n    </tr>\n    <tr>\n      <th>4</th>\n      <td>2010-01-03 18:20:00</td>\n      <td>1099.40</td>\n      <td>1099.60</td>\n      <td>1098.90</td>\n      <td>1098.90</td>\n      <td>True</td>\n      <td>True</td>\n      <td>False</td>\n    </tr>\n    <tr>\n      <th>...</th>\n      <td>...</td>\n      <td>...</td>\n      <td>...</td>\n      <td>...</td>\n      <td>...</td>\n      <td>...</td>\n      <td>...</td>\n      <td>...</td>\n    </tr>\n    <tr>\n      <th>99995</th>\n      <td>2011-05-23 20:00:00</td>\n      <td>1514.23</td>\n      <td>1514.83</td>\n      <td>1513.88</td>\n      <td>1514.73</td>\n      <td>True</td>\n      <td>True</td>\n      <td>True</td>\n    </tr>\n    <tr>\n      <th>99996</th>\n      <td>2011-05-23 20:05:00</td>\n      <td>1514.78</td>\n      <td>1515.53</td>\n      <td>1514.58</td>\n      <td>1515.23</td>\n      <td>True</td>\n      <td>True</td>\n      <td>True</td>\n    </tr>\n    <tr>\n      <th>99997</th>\n      <td>2011-05-23 20:10:00</td>\n      <td>1515.18</td>\n      <td>1515.88</td>\n      <td>1515.13</td>\n      <td>1515.43</td>\n      <td>True</td>\n      <td>True</td>\n      <td>True</td>\n    </tr>\n    <tr>\n      <th>99998</th>\n      <td>2011-05-23 20:15:00</td>\n      <td>1515.38</td>\n      <td>1516.78</td>\n      <td>1515.38</td>\n      <td>1516.63</td>\n      <td>True</td>\n      <td>False</td>\n      <td>True</td>\n    </tr>\n    <tr>\n      <th>99999</th>\n      <td>2011-05-23 20:20:00</td>\n      <td>1516.58</td>\n      <td>1517.38</td>\n      <td>1516.48</td>\n      <td>1517.23</td>\n      <td>True</td>\n      <td>True</td>\n      <td>True</td>\n    </tr>\n  </tbody>\n</table>\n<p>100000 rows × 8 columns</p>\n</div>"
     },
     "execution_count": 9,
     "metadata": {},
     "output_type": "execute_result"
    }
   ],
   "source": [
    "\n",
    "# Create a label variable\n",
    "df['price_high'] = (df['high'] > df['open'])\n",
    "df['price_low'] = (df['low'] < df['open'])\n",
    "df['price_close'] = (df['close'] > df['open'])\n",
    "# df['price_increase'] = (df['close'] > df['open'])\n",
    "\n",
    "# merge df with price_high,price_low, and  price_close, to data set\n",
    "df"
   ],
   "metadata": {
    "collapsed": false,
    "ExecuteTime": {
     "end_time": "2024-06-26T13:28:50.468303Z",
     "start_time": "2024-06-26T13:28:50.437914Z"
    }
   },
   "id": "e7328a5bfebe72db",
   "execution_count": 9
  },
  {
   "cell_type": "code",
   "outputs": [
    {
     "data": {
      "text/plain": "                      time     open     high      low    close  price_high  \\\n0      2010-01-03 18:00:00  1098.45  1100.00  1098.05  1099.95        True   \n1      2010-01-03 18:05:00  1100.00  1100.30  1099.45  1099.75        True   \n2      2010-01-03 18:10:00  1099.70  1100.10  1099.30  1099.45        True   \n3      2010-01-03 18:15:00  1099.50  1099.60  1098.50  1099.45        True   \n4      2010-01-03 18:20:00  1099.40  1099.60  1098.90  1098.90        True   \n...                    ...      ...      ...      ...      ...         ...   \n99995  2011-05-23 20:00:00  1514.23  1514.83  1513.88  1514.73        True   \n99996  2011-05-23 20:05:00  1514.78  1515.53  1514.58  1515.23        True   \n99997  2011-05-23 20:10:00  1515.18  1515.88  1515.13  1515.43        True   \n99998  2011-05-23 20:15:00  1515.38  1516.78  1515.38  1516.63        True   \n99999  2011-05-23 20:20:00  1516.58  1517.38  1516.48  1517.23        True   \n\n       price_low  price_close  status  \n0           True         True     7.0  \n1           True        False     4.0  \n2           True        False     4.0  \n3           True        False     4.0  \n4           True        False     4.0  \n...          ...          ...     ...  \n99995       True         True     7.0  \n99996       True         True     7.0  \n99997       True         True     7.0  \n99998      False         True     5.0  \n99999       True         True     7.0  \n\n[100000 rows x 9 columns]",
      "text/html": "<div>\n<style scoped>\n    .dataframe tbody tr th:only-of-type {\n        vertical-align: middle;\n    }\n\n    .dataframe tbody tr th {\n        vertical-align: top;\n    }\n\n    .dataframe thead th {\n        text-align: right;\n    }\n</style>\n<table border=\"1\" class=\"dataframe\">\n  <thead>\n    <tr style=\"text-align: right;\">\n      <th></th>\n      <th>time</th>\n      <th>open</th>\n      <th>high</th>\n      <th>low</th>\n      <th>close</th>\n      <th>price_high</th>\n      <th>price_low</th>\n      <th>price_close</th>\n      <th>status</th>\n    </tr>\n  </thead>\n  <tbody>\n    <tr>\n      <th>0</th>\n      <td>2010-01-03 18:00:00</td>\n      <td>1098.45</td>\n      <td>1100.00</td>\n      <td>1098.05</td>\n      <td>1099.95</td>\n      <td>True</td>\n      <td>True</td>\n      <td>True</td>\n      <td>7.0</td>\n    </tr>\n    <tr>\n      <th>1</th>\n      <td>2010-01-03 18:05:00</td>\n      <td>1100.00</td>\n      <td>1100.30</td>\n      <td>1099.45</td>\n      <td>1099.75</td>\n      <td>True</td>\n      <td>True</td>\n      <td>False</td>\n      <td>4.0</td>\n    </tr>\n    <tr>\n      <th>2</th>\n      <td>2010-01-03 18:10:00</td>\n      <td>1099.70</td>\n      <td>1100.10</td>\n      <td>1099.30</td>\n      <td>1099.45</td>\n      <td>True</td>\n      <td>True</td>\n      <td>False</td>\n      <td>4.0</td>\n    </tr>\n    <tr>\n      <th>3</th>\n      <td>2010-01-03 18:15:00</td>\n      <td>1099.50</td>\n      <td>1099.60</td>\n      <td>1098.50</td>\n      <td>1099.45</td>\n      <td>True</td>\n      <td>True</td>\n      <td>False</td>\n      <td>4.0</td>\n    </tr>\n    <tr>\n      <th>4</th>\n      <td>2010-01-03 18:20:00</td>\n      <td>1099.40</td>\n      <td>1099.60</td>\n      <td>1098.90</td>\n      <td>1098.90</td>\n      <td>True</td>\n      <td>True</td>\n      <td>False</td>\n      <td>4.0</td>\n    </tr>\n    <tr>\n      <th>...</th>\n      <td>...</td>\n      <td>...</td>\n      <td>...</td>\n      <td>...</td>\n      <td>...</td>\n      <td>...</td>\n      <td>...</td>\n      <td>...</td>\n      <td>...</td>\n    </tr>\n    <tr>\n      <th>99995</th>\n      <td>2011-05-23 20:00:00</td>\n      <td>1514.23</td>\n      <td>1514.83</td>\n      <td>1513.88</td>\n      <td>1514.73</td>\n      <td>True</td>\n      <td>True</td>\n      <td>True</td>\n      <td>7.0</td>\n    </tr>\n    <tr>\n      <th>99996</th>\n      <td>2011-05-23 20:05:00</td>\n      <td>1514.78</td>\n      <td>1515.53</td>\n      <td>1514.58</td>\n      <td>1515.23</td>\n      <td>True</td>\n      <td>True</td>\n      <td>True</td>\n      <td>7.0</td>\n    </tr>\n    <tr>\n      <th>99997</th>\n      <td>2011-05-23 20:10:00</td>\n      <td>1515.18</td>\n      <td>1515.88</td>\n      <td>1515.13</td>\n      <td>1515.43</td>\n      <td>True</td>\n      <td>True</td>\n      <td>True</td>\n      <td>7.0</td>\n    </tr>\n    <tr>\n      <th>99998</th>\n      <td>2011-05-23 20:15:00</td>\n      <td>1515.38</td>\n      <td>1516.78</td>\n      <td>1515.38</td>\n      <td>1516.63</td>\n      <td>True</td>\n      <td>False</td>\n      <td>True</td>\n      <td>5.0</td>\n    </tr>\n    <tr>\n      <th>99999</th>\n      <td>2011-05-23 20:20:00</td>\n      <td>1516.58</td>\n      <td>1517.38</td>\n      <td>1516.48</td>\n      <td>1517.23</td>\n      <td>True</td>\n      <td>True</td>\n      <td>True</td>\n      <td>7.0</td>\n    </tr>\n  </tbody>\n</table>\n<p>100000 rows × 9 columns</p>\n</div>"
     },
     "execution_count": 13,
     "metadata": {},
     "output_type": "execute_result"
    }
   ],
   "source": [
    "\n",
    "# Define the conditions for each possible combination\n",
    "conditions = [\n",
    "    (df['price_high'] == 0) & (df['price_low'] == 0) & (df['price_close'] == 0),\n",
    "    (df['price_high'] == 1) & (df['price_low'] == 0) & (df['price_close'] == 0),\n",
    "    (df['price_high'] == 0) & (df['price_low'] == 1) & (df['price_close'] == 0),\n",
    "    (df['price_high'] == 0) & (df['price_low'] == 0) & (df['price_close'] == 1),\n",
    "    (df['price_high'] == 1) & (df['price_low'] == 1) & (df['price_close'] == 0),\n",
    "    (df['price_high'] == 1) & (df['price_low'] == 0) & (df['price_close'] == 1),\n",
    "    (df['price_high'] == 0) & (df['price_low'] == 1) & (df['price_close'] == 1),\n",
    "    (df['price_high'] == 1) & (df['price_low'] == 1) & (df['price_close'] == 1)\n",
    "]\n",
    "\n",
    "# Define the corresponding choices\n",
    "choices = [0, 1, 2, 3, 4, 5, 6, 7]\n",
    "\n",
    "# Apply the conditions to create the result column\n",
    "df['status'] = np.select(conditions, choices, default=np.nan)\n",
    "df"
   ],
   "metadata": {
    "collapsed": false,
    "ExecuteTime": {
     "end_time": "2024-06-26T13:41:16.384375Z",
     "start_time": "2024-06-26T13:41:16.341369Z"
    }
   },
   "id": "cfcc63dc193bbb2",
   "execution_count": 13
  },
  {
   "cell_type": "code",
   "outputs": [
    {
     "data": {
      "text/plain": "['open',\n 'high',\n 'low',\n 'close',\n 'price_high',\n 'price_low',\n 'price_close',\n 'status']"
     },
     "execution_count": 16,
     "metadata": {},
     "output_type": "execute_result"
    }
   ],
   "source": [
    "listColumn = list(df.columns)\n",
    "listColumn.remove('time')\n",
    "listColumn"
   ],
   "metadata": {
    "collapsed": false,
    "ExecuteTime": {
     "end_time": "2024-06-26T13:42:59.340312Z",
     "start_time": "2024-06-26T13:42:59.325416Z"
    }
   },
   "id": "16efc7efa7cf772a",
   "execution_count": 16
  },
  {
   "cell_type": "code",
   "outputs": [],
   "source": [
    "\n",
    "\n",
    "# Select relevant features for classification\n",
    "features = listColumn\n",
    "X = df[features]\n",
    "y = df['status']"
   ],
   "metadata": {
    "collapsed": false,
    "ExecuteTime": {
     "end_time": "2024-06-26T13:43:15.199583Z",
     "start_time": "2024-06-26T13:43:15.191709Z"
    }
   },
   "id": "dcf41632d82275cf",
   "execution_count": 18
  },
  {
   "cell_type": "code",
   "outputs": [],
   "source": [
    "\n",
    "# Normalize the data\n",
    "scaler = StandardScaler()\n",
    "X_scaled = scaler.fit_transform(X)"
   ],
   "metadata": {
    "collapsed": false,
    "ExecuteTime": {
     "end_time": "2024-06-26T13:43:20.386038Z",
     "start_time": "2024-06-26T13:43:20.333970Z"
    }
   },
   "id": "c89699bcc7e72e9",
   "execution_count": 19
  },
  {
   "cell_type": "code",
   "outputs": [],
   "source": [
    "\n",
    "# Split the data into training and testing sets\n",
    "X_train, X_test, y_train, y_test = train_test_split(X_scaled, y, test_size=0.2, random_state=42)"
   ],
   "metadata": {
    "collapsed": false,
    "ExecuteTime": {
     "end_time": "2024-06-26T13:43:22.755581Z",
     "start_time": "2024-06-26T13:43:22.721369Z"
    }
   },
   "id": "1bba9f87de700105",
   "execution_count": 20
  },
  {
   "cell_type": "code",
   "outputs": [
    {
     "data": {
      "text/plain": "LogisticRegression(random_state=42)",
      "text/html": "<style>#sk-container-id-1 {\n  /* Definition of color scheme common for light and dark mode */\n  --sklearn-color-text: black;\n  --sklearn-color-line: gray;\n  /* Definition of color scheme for unfitted estimators */\n  --sklearn-color-unfitted-level-0: #fff5e6;\n  --sklearn-color-unfitted-level-1: #f6e4d2;\n  --sklearn-color-unfitted-level-2: #ffe0b3;\n  --sklearn-color-unfitted-level-3: chocolate;\n  /* Definition of color scheme for fitted estimators */\n  --sklearn-color-fitted-level-0: #f0f8ff;\n  --sklearn-color-fitted-level-1: #d4ebff;\n  --sklearn-color-fitted-level-2: #b3dbfd;\n  --sklearn-color-fitted-level-3: cornflowerblue;\n\n  /* Specific color for light theme */\n  --sklearn-color-text-on-default-background: var(--sg-text-color, var(--theme-code-foreground, var(--jp-content-font-color1, black)));\n  --sklearn-color-background: var(--sg-background-color, var(--theme-background, var(--jp-layout-color0, white)));\n  --sklearn-color-border-box: var(--sg-text-color, var(--theme-code-foreground, var(--jp-content-font-color1, black)));\n  --sklearn-color-icon: #696969;\n\n  @media (prefers-color-scheme: dark) {\n    /* Redefinition of color scheme for dark theme */\n    --sklearn-color-text-on-default-background: var(--sg-text-color, var(--theme-code-foreground, var(--jp-content-font-color1, white)));\n    --sklearn-color-background: var(--sg-background-color, var(--theme-background, var(--jp-layout-color0, #111)));\n    --sklearn-color-border-box: var(--sg-text-color, var(--theme-code-foreground, var(--jp-content-font-color1, white)));\n    --sklearn-color-icon: #878787;\n  }\n}\n\n#sk-container-id-1 {\n  color: var(--sklearn-color-text);\n}\n\n#sk-container-id-1 pre {\n  padding: 0;\n}\n\n#sk-container-id-1 input.sk-hidden--visually {\n  border: 0;\n  clip: rect(1px 1px 1px 1px);\n  clip: rect(1px, 1px, 1px, 1px);\n  height: 1px;\n  margin: -1px;\n  overflow: hidden;\n  padding: 0;\n  position: absolute;\n  width: 1px;\n}\n\n#sk-container-id-1 div.sk-dashed-wrapped {\n  border: 1px dashed var(--sklearn-color-line);\n  margin: 0 0.4em 0.5em 0.4em;\n  box-sizing: border-box;\n  padding-bottom: 0.4em;\n  background-color: var(--sklearn-color-background);\n}\n\n#sk-container-id-1 div.sk-container {\n  /* jupyter's `normalize.less` sets `[hidden] { display: none; }`\n     but bootstrap.min.css set `[hidden] { display: none !important; }`\n     so we also need the `!important` here to be able to override the\n     default hidden behavior on the sphinx rendered scikit-learn.org.\n     See: https://github.com/scikit-learn/scikit-learn/issues/21755 */\n  display: inline-block !important;\n  position: relative;\n}\n\n#sk-container-id-1 div.sk-text-repr-fallback {\n  display: none;\n}\n\ndiv.sk-parallel-item,\ndiv.sk-serial,\ndiv.sk-item {\n  /* draw centered vertical line to link estimators */\n  background-image: linear-gradient(var(--sklearn-color-text-on-default-background), var(--sklearn-color-text-on-default-background));\n  background-size: 2px 100%;\n  background-repeat: no-repeat;\n  background-position: center center;\n}\n\n/* Parallel-specific style estimator block */\n\n#sk-container-id-1 div.sk-parallel-item::after {\n  content: \"\";\n  width: 100%;\n  border-bottom: 2px solid var(--sklearn-color-text-on-default-background);\n  flex-grow: 1;\n}\n\n#sk-container-id-1 div.sk-parallel {\n  display: flex;\n  align-items: stretch;\n  justify-content: center;\n  background-color: var(--sklearn-color-background);\n  position: relative;\n}\n\n#sk-container-id-1 div.sk-parallel-item {\n  display: flex;\n  flex-direction: column;\n}\n\n#sk-container-id-1 div.sk-parallel-item:first-child::after {\n  align-self: flex-end;\n  width: 50%;\n}\n\n#sk-container-id-1 div.sk-parallel-item:last-child::after {\n  align-self: flex-start;\n  width: 50%;\n}\n\n#sk-container-id-1 div.sk-parallel-item:only-child::after {\n  width: 0;\n}\n\n/* Serial-specific style estimator block */\n\n#sk-container-id-1 div.sk-serial {\n  display: flex;\n  flex-direction: column;\n  align-items: center;\n  background-color: var(--sklearn-color-background);\n  padding-right: 1em;\n  padding-left: 1em;\n}\n\n\n/* Toggleable style: style used for estimator/Pipeline/ColumnTransformer box that is\nclickable and can be expanded/collapsed.\n- Pipeline and ColumnTransformer use this feature and define the default style\n- Estimators will overwrite some part of the style using the `sk-estimator` class\n*/\n\n/* Pipeline and ColumnTransformer style (default) */\n\n#sk-container-id-1 div.sk-toggleable {\n  /* Default theme specific background. It is overwritten whether we have a\n  specific estimator or a Pipeline/ColumnTransformer */\n  background-color: var(--sklearn-color-background);\n}\n\n/* Toggleable label */\n#sk-container-id-1 label.sk-toggleable__label {\n  cursor: pointer;\n  display: block;\n  width: 100%;\n  margin-bottom: 0;\n  padding: 0.5em;\n  box-sizing: border-box;\n  text-align: center;\n}\n\n#sk-container-id-1 label.sk-toggleable__label-arrow:before {\n  /* Arrow on the left of the label */\n  content: \"▸\";\n  float: left;\n  margin-right: 0.25em;\n  color: var(--sklearn-color-icon);\n}\n\n#sk-container-id-1 label.sk-toggleable__label-arrow:hover:before {\n  color: var(--sklearn-color-text);\n}\n\n/* Toggleable content - dropdown */\n\n#sk-container-id-1 div.sk-toggleable__content {\n  max-height: 0;\n  max-width: 0;\n  overflow: hidden;\n  text-align: left;\n  /* unfitted */\n  background-color: var(--sklearn-color-unfitted-level-0);\n}\n\n#sk-container-id-1 div.sk-toggleable__content.fitted {\n  /* fitted */\n  background-color: var(--sklearn-color-fitted-level-0);\n}\n\n#sk-container-id-1 div.sk-toggleable__content pre {\n  margin: 0.2em;\n  border-radius: 0.25em;\n  color: var(--sklearn-color-text);\n  /* unfitted */\n  background-color: var(--sklearn-color-unfitted-level-0);\n}\n\n#sk-container-id-1 div.sk-toggleable__content.fitted pre {\n  /* unfitted */\n  background-color: var(--sklearn-color-fitted-level-0);\n}\n\n#sk-container-id-1 input.sk-toggleable__control:checked~div.sk-toggleable__content {\n  /* Expand drop-down */\n  max-height: 200px;\n  max-width: 100%;\n  overflow: auto;\n}\n\n#sk-container-id-1 input.sk-toggleable__control:checked~label.sk-toggleable__label-arrow:before {\n  content: \"▾\";\n}\n\n/* Pipeline/ColumnTransformer-specific style */\n\n#sk-container-id-1 div.sk-label input.sk-toggleable__control:checked~label.sk-toggleable__label {\n  color: var(--sklearn-color-text);\n  background-color: var(--sklearn-color-unfitted-level-2);\n}\n\n#sk-container-id-1 div.sk-label.fitted input.sk-toggleable__control:checked~label.sk-toggleable__label {\n  background-color: var(--sklearn-color-fitted-level-2);\n}\n\n/* Estimator-specific style */\n\n/* Colorize estimator box */\n#sk-container-id-1 div.sk-estimator input.sk-toggleable__control:checked~label.sk-toggleable__label {\n  /* unfitted */\n  background-color: var(--sklearn-color-unfitted-level-2);\n}\n\n#sk-container-id-1 div.sk-estimator.fitted input.sk-toggleable__control:checked~label.sk-toggleable__label {\n  /* fitted */\n  background-color: var(--sklearn-color-fitted-level-2);\n}\n\n#sk-container-id-1 div.sk-label label.sk-toggleable__label,\n#sk-container-id-1 div.sk-label label {\n  /* The background is the default theme color */\n  color: var(--sklearn-color-text-on-default-background);\n}\n\n/* On hover, darken the color of the background */\n#sk-container-id-1 div.sk-label:hover label.sk-toggleable__label {\n  color: var(--sklearn-color-text);\n  background-color: var(--sklearn-color-unfitted-level-2);\n}\n\n/* Label box, darken color on hover, fitted */\n#sk-container-id-1 div.sk-label.fitted:hover label.sk-toggleable__label.fitted {\n  color: var(--sklearn-color-text);\n  background-color: var(--sklearn-color-fitted-level-2);\n}\n\n/* Estimator label */\n\n#sk-container-id-1 div.sk-label label {\n  font-family: monospace;\n  font-weight: bold;\n  display: inline-block;\n  line-height: 1.2em;\n}\n\n#sk-container-id-1 div.sk-label-container {\n  text-align: center;\n}\n\n/* Estimator-specific */\n#sk-container-id-1 div.sk-estimator {\n  font-family: monospace;\n  border: 1px dotted var(--sklearn-color-border-box);\n  border-radius: 0.25em;\n  box-sizing: border-box;\n  margin-bottom: 0.5em;\n  /* unfitted */\n  background-color: var(--sklearn-color-unfitted-level-0);\n}\n\n#sk-container-id-1 div.sk-estimator.fitted {\n  /* fitted */\n  background-color: var(--sklearn-color-fitted-level-0);\n}\n\n/* on hover */\n#sk-container-id-1 div.sk-estimator:hover {\n  /* unfitted */\n  background-color: var(--sklearn-color-unfitted-level-2);\n}\n\n#sk-container-id-1 div.sk-estimator.fitted:hover {\n  /* fitted */\n  background-color: var(--sklearn-color-fitted-level-2);\n}\n\n/* Specification for estimator info (e.g. \"i\" and \"?\") */\n\n/* Common style for \"i\" and \"?\" */\n\n.sk-estimator-doc-link,\na:link.sk-estimator-doc-link,\na:visited.sk-estimator-doc-link {\n  float: right;\n  font-size: smaller;\n  line-height: 1em;\n  font-family: monospace;\n  background-color: var(--sklearn-color-background);\n  border-radius: 1em;\n  height: 1em;\n  width: 1em;\n  text-decoration: none !important;\n  margin-left: 1ex;\n  /* unfitted */\n  border: var(--sklearn-color-unfitted-level-1) 1pt solid;\n  color: var(--sklearn-color-unfitted-level-1);\n}\n\n.sk-estimator-doc-link.fitted,\na:link.sk-estimator-doc-link.fitted,\na:visited.sk-estimator-doc-link.fitted {\n  /* fitted */\n  border: var(--sklearn-color-fitted-level-1) 1pt solid;\n  color: var(--sklearn-color-fitted-level-1);\n}\n\n/* On hover */\ndiv.sk-estimator:hover .sk-estimator-doc-link:hover,\n.sk-estimator-doc-link:hover,\ndiv.sk-label-container:hover .sk-estimator-doc-link:hover,\n.sk-estimator-doc-link:hover {\n  /* unfitted */\n  background-color: var(--sklearn-color-unfitted-level-3);\n  color: var(--sklearn-color-background);\n  text-decoration: none;\n}\n\ndiv.sk-estimator.fitted:hover .sk-estimator-doc-link.fitted:hover,\n.sk-estimator-doc-link.fitted:hover,\ndiv.sk-label-container:hover .sk-estimator-doc-link.fitted:hover,\n.sk-estimator-doc-link.fitted:hover {\n  /* fitted */\n  background-color: var(--sklearn-color-fitted-level-3);\n  color: var(--sklearn-color-background);\n  text-decoration: none;\n}\n\n/* Span, style for the box shown on hovering the info icon */\n.sk-estimator-doc-link span {\n  display: none;\n  z-index: 9999;\n  position: relative;\n  font-weight: normal;\n  right: .2ex;\n  padding: .5ex;\n  margin: .5ex;\n  width: min-content;\n  min-width: 20ex;\n  max-width: 50ex;\n  color: var(--sklearn-color-text);\n  box-shadow: 2pt 2pt 4pt #999;\n  /* unfitted */\n  background: var(--sklearn-color-unfitted-level-0);\n  border: .5pt solid var(--sklearn-color-unfitted-level-3);\n}\n\n.sk-estimator-doc-link.fitted span {\n  /* fitted */\n  background: var(--sklearn-color-fitted-level-0);\n  border: var(--sklearn-color-fitted-level-3);\n}\n\n.sk-estimator-doc-link:hover span {\n  display: block;\n}\n\n/* \"?\"-specific style due to the `<a>` HTML tag */\n\n#sk-container-id-1 a.estimator_doc_link {\n  float: right;\n  font-size: 1rem;\n  line-height: 1em;\n  font-family: monospace;\n  background-color: var(--sklearn-color-background);\n  border-radius: 1rem;\n  height: 1rem;\n  width: 1rem;\n  text-decoration: none;\n  /* unfitted */\n  color: var(--sklearn-color-unfitted-level-1);\n  border: var(--sklearn-color-unfitted-level-1) 1pt solid;\n}\n\n#sk-container-id-1 a.estimator_doc_link.fitted {\n  /* fitted */\n  border: var(--sklearn-color-fitted-level-1) 1pt solid;\n  color: var(--sklearn-color-fitted-level-1);\n}\n\n/* On hover */\n#sk-container-id-1 a.estimator_doc_link:hover {\n  /* unfitted */\n  background-color: var(--sklearn-color-unfitted-level-3);\n  color: var(--sklearn-color-background);\n  text-decoration: none;\n}\n\n#sk-container-id-1 a.estimator_doc_link.fitted:hover {\n  /* fitted */\n  background-color: var(--sklearn-color-fitted-level-3);\n}\n</style><div id=\"sk-container-id-1\" class=\"sk-top-container\"><div class=\"sk-text-repr-fallback\"><pre>LogisticRegression(random_state=42)</pre><b>In a Jupyter environment, please rerun this cell to show the HTML representation or trust the notebook. <br />On GitHub, the HTML representation is unable to render, please try loading this page with nbviewer.org.</b></div><div class=\"sk-container\" hidden><div class=\"sk-item\"><div class=\"sk-estimator fitted sk-toggleable\"><input class=\"sk-toggleable__control sk-hidden--visually\" id=\"sk-estimator-id-1\" type=\"checkbox\" checked><label for=\"sk-estimator-id-1\" class=\"sk-toggleable__label fitted sk-toggleable__label-arrow fitted\">&nbsp;&nbsp;LogisticRegression<a class=\"sk-estimator-doc-link fitted\" rel=\"noreferrer\" target=\"_blank\" href=\"https://scikit-learn.org/1.4/modules/generated/sklearn.linear_model.LogisticRegression.html\">?<span>Documentation for LogisticRegression</span></a><span class=\"sk-estimator-doc-link fitted\">i<span>Fitted</span></span></label><div class=\"sk-toggleable__content fitted\"><pre>LogisticRegression(random_state=42)</pre></div> </div></div></div></div>"
     },
     "execution_count": 21,
     "metadata": {},
     "output_type": "execute_result"
    }
   ],
   "source": [
    "\n",
    "# Initialize and train the Logistic Regression classifier\n",
    "classifier = LogisticRegression(random_state=42)\n",
    "classifier.fit(X_train, y_train)"
   ],
   "metadata": {
    "collapsed": false,
    "ExecuteTime": {
     "end_time": "2024-06-26T13:43:24.734828Z",
     "start_time": "2024-06-26T13:43:24.521731Z"
    }
   },
   "id": "c7253ebd32cf241d",
   "execution_count": 21
  },
  {
   "cell_type": "code",
   "outputs": [
    {
     "name": "stdout",
     "output_type": "stream",
     "text": [
      "Confusion Matrix:\n",
      "[[  86    0    0    0    0    0]\n",
      " [   0   35    0    0    0    0]\n",
      " [   0    0 1786    0    0    0]\n",
      " [   0    0    0 8210    0    0]\n",
      " [   0    0    0    0 2007    0]\n",
      " [   0    0    0    0    0 7876]]\n",
      "\n",
      "Classification Report:\n",
      "              precision    recall  f1-score   support\n",
      "\n",
      "         0.0       1.00      1.00      1.00        86\n",
      "         1.0       1.00      1.00      1.00        35\n",
      "         2.0       1.00      1.00      1.00      1786\n",
      "         4.0       1.00      1.00      1.00      8210\n",
      "         5.0       1.00      1.00      1.00      2007\n",
      "         7.0       1.00      1.00      1.00      7876\n",
      "\n",
      "    accuracy                           1.00     20000\n",
      "   macro avg       1.00      1.00      1.00     20000\n",
      "weighted avg       1.00      1.00      1.00     20000\n",
      "\n",
      "\n",
      "Accuracy Score:\n",
      "1.0\n"
     ]
    },
    {
     "data": {
      "text/plain": "<Figure size 1000x700 with 1 Axes>",
      "image/png": "[encoded data removed]"
     },
     "metadata": {},
     "output_type": "display_data"
    }
   ],
   "source": [
    "\n",
    "# Make predictions on the test set\n",
    "y_pred = classifier.predict(X_test)\n",
    "\n",
    "# Evaluate the model's performance\n",
    "print(\"Confusion Matrix:\")\n",
    "print(confusion_matrix(y_test, y_pred))\n",
    "print(\"\\nClassification Report:\")\n",
    "print(classification_report(y_test, y_pred))\n",
    "print(\"\\nAccuracy Score:\")\n",
    "print(accuracy_score(y_test, y_pred))\n",
    "\n",
    "# Visualize the classifier's performance\n",
    "# Confusion Matrix Heatmap\n",
    "conf_matrix = confusion_matrix(y_test, y_pred)\n",
    "plt.figure(figsize=(10, 7))\n",
    "sns.heatmap(conf_matrix, annot=True, fmt='d', cmap='Blues', cbar=False)\n",
    "plt.xlabel('Predicted')\n",
    "plt.ylabel('Actual')\n",
    "plt.title('Confusion Matrix Heatmap')\n",
    "plt.show()"
   ],
   "metadata": {
    "collapsed": false,
    "ExecuteTime": {
     "end_time": "2024-06-26T13:44:36.877547Z",
     "start_time": "2024-06-26T13:44:36.527379Z"
    }
   },
   "id": "39d53853647b3a57",
   "execution_count": 23
  },
  {
   "cell_type": "code",
   "outputs": [
    {
     "ename": "ValueError",
     "evalue": "multiclass format is not supported",
     "output_type": "error",
     "traceback": [
      "\u001B[1;31m---------------------------------------------------------------------------\u001B[0m",
      "\u001B[1;31mValueError\u001B[0m                                Traceback (most recent call last)",
      "Cell \u001B[1;32mIn[24], line 3\u001B[0m\n\u001B[0;32m      1\u001B[0m \u001B[38;5;66;03m# ROC Curve\u001B[39;00m\n\u001B[0;32m      2\u001B[0m y_prob \u001B[38;5;241m=\u001B[39m classifier\u001B[38;5;241m.\u001B[39mpredict_proba(X_test)[:, \u001B[38;5;241m1\u001B[39m]\n\u001B[1;32m----> 3\u001B[0m fpr, tpr, _ \u001B[38;5;241m=\u001B[39m \u001B[43mroc_curve\u001B[49m\u001B[43m(\u001B[49m\u001B[43my_test\u001B[49m\u001B[43m,\u001B[49m\u001B[43m \u001B[49m\u001B[43my_prob\u001B[49m\u001B[43m)\u001B[49m\n\u001B[0;32m      4\u001B[0m roc_auc \u001B[38;5;241m=\u001B[39m auc(fpr, tpr)\n\u001B[0;32m      6\u001B[0m plt\u001B[38;5;241m.\u001B[39mfigure(figsize\u001B[38;5;241m=\u001B[39m(\u001B[38;5;241m10\u001B[39m, \u001B[38;5;241m7\u001B[39m))\n",
      "File \u001B[1;32mC:\\laragon\\bin\\python\\python-3.10\\lib\\site-packages\\sklearn\\utils\\_param_validation.py:213\u001B[0m, in \u001B[0;36mvalidate_params.<locals>.decorator.<locals>.wrapper\u001B[1;34m(*args, **kwargs)\u001B[0m\n\u001B[0;32m    207\u001B[0m \u001B[38;5;28;01mtry\u001B[39;00m:\n\u001B[0;32m    208\u001B[0m     \u001B[38;5;28;01mwith\u001B[39;00m config_context(\n\u001B[0;32m    209\u001B[0m         skip_parameter_validation\u001B[38;5;241m=\u001B[39m(\n\u001B[0;32m    210\u001B[0m             prefer_skip_nested_validation \u001B[38;5;129;01mor\u001B[39;00m global_skip_validation\n\u001B[0;32m    211\u001B[0m         )\n\u001B[0;32m    212\u001B[0m     ):\n\u001B[1;32m--> 213\u001B[0m         \u001B[38;5;28;01mreturn\u001B[39;00m func(\u001B[38;5;241m*\u001B[39margs, \u001B[38;5;241m*\u001B[39m\u001B[38;5;241m*\u001B[39mkwargs)\n\u001B[0;32m    214\u001B[0m \u001B[38;5;28;01mexcept\u001B[39;00m InvalidParameterError \u001B[38;5;28;01mas\u001B[39;00m e:\n\u001B[0;32m    215\u001B[0m     \u001B[38;5;66;03m# When the function is just a wrapper around an estimator, we allow\u001B[39;00m\n\u001B[0;32m    216\u001B[0m     \u001B[38;5;66;03m# the function to delegate validation to the estimator, but we replace\u001B[39;00m\n\u001B[0;32m    217\u001B[0m     \u001B[38;5;66;03m# the name of the estimator by the name of the function in the error\u001B[39;00m\n\u001B[0;32m    218\u001B[0m     \u001B[38;5;66;03m# message to avoid confusion.\u001B[39;00m\n\u001B[0;32m    219\u001B[0m     msg \u001B[38;5;241m=\u001B[39m re\u001B[38;5;241m.\u001B[39msub(\n\u001B[0;32m    220\u001B[0m         \u001B[38;5;124mr\u001B[39m\u001B[38;5;124m\"\u001B[39m\u001B[38;5;124mparameter of \u001B[39m\u001B[38;5;124m\\\u001B[39m\u001B[38;5;124mw+ must be\u001B[39m\u001B[38;5;124m\"\u001B[39m,\n\u001B[0;32m    221\u001B[0m         \u001B[38;5;124mf\u001B[39m\u001B[38;5;124m\"\u001B[39m\u001B[38;5;124mparameter of \u001B[39m\u001B[38;5;132;01m{\u001B[39;00mfunc\u001B[38;5;241m.\u001B[39m\u001B[38;5;18m__qualname__\u001B[39m\u001B[38;5;132;01m}\u001B[39;00m\u001B[38;5;124m must be\u001B[39m\u001B[38;5;124m\"\u001B[39m,\n\u001B[0;32m    222\u001B[0m         \u001B[38;5;28mstr\u001B[39m(e),\n\u001B[0;32m    223\u001B[0m     )\n",
      "File \u001B[1;32mC:\\laragon\\bin\\python\\python-3.10\\lib\\site-packages\\sklearn\\metrics\\_ranking.py:1108\u001B[0m, in \u001B[0;36mroc_curve\u001B[1;34m(y_true, y_score, pos_label, sample_weight, drop_intermediate)\u001B[0m\n\u001B[0;32m   1006\u001B[0m \u001B[38;5;129m@validate_params\u001B[39m(\n\u001B[0;32m   1007\u001B[0m     {\n\u001B[0;32m   1008\u001B[0m         \u001B[38;5;124m\"\u001B[39m\u001B[38;5;124my_true\u001B[39m\u001B[38;5;124m\"\u001B[39m: [\u001B[38;5;124m\"\u001B[39m\u001B[38;5;124marray-like\u001B[39m\u001B[38;5;124m\"\u001B[39m],\n\u001B[1;32m   (...)\u001B[0m\n\u001B[0;32m   1017\u001B[0m     y_true, y_score, \u001B[38;5;241m*\u001B[39m, pos_label\u001B[38;5;241m=\u001B[39m\u001B[38;5;28;01mNone\u001B[39;00m, sample_weight\u001B[38;5;241m=\u001B[39m\u001B[38;5;28;01mNone\u001B[39;00m, drop_intermediate\u001B[38;5;241m=\u001B[39m\u001B[38;5;28;01mTrue\u001B[39;00m\n\u001B[0;32m   1018\u001B[0m ):\n\u001B[0;32m   1019\u001B[0m \u001B[38;5;250m    \u001B[39m\u001B[38;5;124;03m\"\"\"Compute Receiver operating characteristic (ROC).\u001B[39;00m\n\u001B[0;32m   1020\u001B[0m \n\u001B[0;32m   1021\u001B[0m \u001B[38;5;124;03m    Note: this implementation is restricted to the binary classification task.\u001B[39;00m\n\u001B[1;32m   (...)\u001B[0m\n\u001B[0;32m   1106\u001B[0m \u001B[38;5;124;03m    array([ inf, 0.8 , 0.4 , 0.35, 0.1 ])\u001B[39;00m\n\u001B[0;32m   1107\u001B[0m \u001B[38;5;124;03m    \"\"\"\u001B[39;00m\n\u001B[1;32m-> 1108\u001B[0m     fps, tps, thresholds \u001B[38;5;241m=\u001B[39m \u001B[43m_binary_clf_curve\u001B[49m\u001B[43m(\u001B[49m\n\u001B[0;32m   1109\u001B[0m \u001B[43m        \u001B[49m\u001B[43my_true\u001B[49m\u001B[43m,\u001B[49m\u001B[43m \u001B[49m\u001B[43my_score\u001B[49m\u001B[43m,\u001B[49m\u001B[43m \u001B[49m\u001B[43mpos_label\u001B[49m\u001B[38;5;241;43m=\u001B[39;49m\u001B[43mpos_label\u001B[49m\u001B[43m,\u001B[49m\u001B[43m \u001B[49m\u001B[43msample_weight\u001B[49m\u001B[38;5;241;43m=\u001B[39;49m\u001B[43msample_weight\u001B[49m\n\u001B[0;32m   1110\u001B[0m \u001B[43m    \u001B[49m\u001B[43m)\u001B[49m\n\u001B[0;32m   1112\u001B[0m     \u001B[38;5;66;03m# Attempt to drop thresholds corresponding to points in between and\u001B[39;00m\n\u001B[0;32m   1113\u001B[0m     \u001B[38;5;66;03m# collinear with other points. These are always suboptimal and do not\u001B[39;00m\n\u001B[0;32m   1114\u001B[0m     \u001B[38;5;66;03m# appear on a plotted ROC curve (and thus do not affect the AUC).\u001B[39;00m\n\u001B[1;32m   (...)\u001B[0m\n\u001B[0;32m   1119\u001B[0m     \u001B[38;5;66;03m# but does not drop more complicated cases like fps = [1, 3, 7],\u001B[39;00m\n\u001B[0;32m   1120\u001B[0m     \u001B[38;5;66;03m# tps = [1, 2, 4]; there is no harm in keeping too many thresholds.\u001B[39;00m\n\u001B[0;32m   1121\u001B[0m     \u001B[38;5;28;01mif\u001B[39;00m drop_intermediate \u001B[38;5;129;01mand\u001B[39;00m \u001B[38;5;28mlen\u001B[39m(fps) \u001B[38;5;241m>\u001B[39m \u001B[38;5;241m2\u001B[39m:\n",
      "File \u001B[1;32mC:\\laragon\\bin\\python\\python-3.10\\lib\\site-packages\\sklearn\\metrics\\_ranking.py:817\u001B[0m, in \u001B[0;36m_binary_clf_curve\u001B[1;34m(y_true, y_score, pos_label, sample_weight)\u001B[0m\n\u001B[0;32m    815\u001B[0m y_type \u001B[38;5;241m=\u001B[39m type_of_target(y_true, input_name\u001B[38;5;241m=\u001B[39m\u001B[38;5;124m\"\u001B[39m\u001B[38;5;124my_true\u001B[39m\u001B[38;5;124m\"\u001B[39m)\n\u001B[0;32m    816\u001B[0m \u001B[38;5;28;01mif\u001B[39;00m \u001B[38;5;129;01mnot\u001B[39;00m (y_type \u001B[38;5;241m==\u001B[39m \u001B[38;5;124m\"\u001B[39m\u001B[38;5;124mbinary\u001B[39m\u001B[38;5;124m\"\u001B[39m \u001B[38;5;129;01mor\u001B[39;00m (y_type \u001B[38;5;241m==\u001B[39m \u001B[38;5;124m\"\u001B[39m\u001B[38;5;124mmulticlass\u001B[39m\u001B[38;5;124m\"\u001B[39m \u001B[38;5;129;01mand\u001B[39;00m pos_label \u001B[38;5;129;01mis\u001B[39;00m \u001B[38;5;129;01mnot\u001B[39;00m \u001B[38;5;28;01mNone\u001B[39;00m)):\n\u001B[1;32m--> 817\u001B[0m     \u001B[38;5;28;01mraise\u001B[39;00m \u001B[38;5;167;01mValueError\u001B[39;00m(\u001B[38;5;124m\"\u001B[39m\u001B[38;5;132;01m{0}\u001B[39;00m\u001B[38;5;124m format is not supported\u001B[39m\u001B[38;5;124m\"\u001B[39m\u001B[38;5;241m.\u001B[39mformat(y_type))\n\u001B[0;32m    819\u001B[0m check_consistent_length(y_true, y_score, sample_weight)\n\u001B[0;32m    820\u001B[0m y_true \u001B[38;5;241m=\u001B[39m column_or_1d(y_true)\n",
      "\u001B[1;31mValueError\u001B[0m: multiclass format is not supported"
     ]
    }
   ],
   "source": [
    "\n",
    "# ROC Curve\n",
    "y_prob = classifier.predict_proba(X_test)[:, 1]\n",
    "fpr, tpr, _ = roc_curve(y_test, y_prob)\n",
    "roc_auc = auc(fpr, tpr)\n",
    "\n",
    "plt.figure(figsize=(10, 7))\n",
    "plt.plot(fpr, tpr, color='blue', lw=2, label='ROC curve (area = %0.2f)' % roc_auc)\n",
    "plt.plot([0, 1], [0, 1], color='gray', lw=2, linestyle='--')\n",
    "plt.xlim([0.0, 1.0])\n",
    "plt.ylim([0.0, 1.05])\n",
    "plt.xlabel('False Positive Rate')\n",
    "plt.ylabel('True Positive Rate')\n",
    "plt.title('Receiver Operating Characteristic (ROC) Curve')\n",
    "plt.legend(loc='lower right')\n",
    "plt.show()\n"
   ],
   "metadata": {
    "collapsed": false,
    "ExecuteTime": {
     "end_time": "2024-06-26T13:44:42.989899Z",
     "start_time": "2024-06-26T13:44:42.928285Z"
    }
   },
   "id": "c1a806eb3a75a25a",
   "execution_count": 24
  },
  {
   "cell_type": "code",
   "outputs": [],
   "source": [
    "from sklearn.svm import SVC\n",
    "\n",
    "classifier = SVC(probability=True, random_state=42)\n",
    "classifier.fit(X_train, y_train)"
   ],
   "metadata": {
    "collapsed": false
   },
   "id": "931ad02c54956590"
  },
  {
   "cell_type": "code",
   "outputs": [],
   "source": [
    "# Make predictions on the test set\n",
    "y_pred = classifier.predict(X_test)\n",
    "\n",
    "# Evaluate the model's performance\n",
    "print(\"Confusion Matrix:\")\n",
    "print(confusion_matrix(y_test, y_pred))\n",
    "print(\"\\nClassification Report:\")\n",
    "print(classification_report(y_test, y_pred))\n",
    "print(\"\\nAccuracy Score:\")\n",
    "print(accuracy_score(y_test, y_pred))\n",
    "\n",
    "# Visualize the classifier's performance\n",
    "# Confusion Matrix Heatmap\n",
    "conf_matrix = confusion_matrix(y_test, y_pred)\n",
    "plt.figure(figsize=(10, 7))\n",
    "sns.heatmap(conf_matrix, annot=True, fmt='d', cmap='Blues', cbar=False)\n",
    "plt.xlabel('Predicted')\n",
    "plt.ylabel('Actual')\n",
    "plt.title('Confusion Matrix Heatmap')\n",
    "plt.show()\n",
    "\n",
    "# ROC Curve\n",
    "y_prob = classifier.predict_proba(X_test)[:, 1]\n",
    "fpr, tpr, _ = roc_curve(y_test, y_prob)\n",
    "roc_auc = auc(fpr, tpr)\n",
    "\n",
    "plt.figure(figsize=(10, 7))\n",
    "plt.plot(fpr, tpr, color='blue', lw=2, label='ROC curve (area = %0.2f)' % roc_auc)\n",
    "plt.plot([0, 1], [0, 1], color='gray', lw=2, linestyle='--')\n",
    "plt.xlim([0.0, 1.0])\n",
    "plt.ylim([0.0, 1.05])\n",
    "plt.xlabel('False Positive Rate')\n",
    "plt.ylabel('True Positive Rate')\n",
    "plt.title('Receiver Operating Characteristic (ROC) Curve')\n",
    "plt.legend(loc='lower right')\n",
    "plt.show()"
   ],
   "metadata": {
    "collapsed": false
   },
   "id": "66c35af5527ca070"
  }
 ],
 "metadata": {
  "kernelspec": {
   "display_name": "Python 3",
   "language": "python",
   "name": "python3"
  },
  "language_info": {
   "codemirror_mode": {
    "name": "ipython",
    "version": 2
   },
   "file_extension": ".py",
   "mimetype": "text/x-python",
   "name": "python",
   "nbconvert_exporter": "python",
   "pygments_lexer": "ipython2",
   "version": "2.7.6"
  }
 },
 "nbformat": 4,
 "nbformat_minor": 5
}
