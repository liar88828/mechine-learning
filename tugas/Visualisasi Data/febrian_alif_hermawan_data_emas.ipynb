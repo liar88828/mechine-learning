{
 "cells": [
  {
   "cell_type": "code",
   "execution_count": 3,
   "id": "initial_id",
   "metadata": {
    "collapsed": true,
    "ExecuteTime": {
     "end_time": "2024-05-07T14:30:31.463391Z",
     "start_time": "2024-05-07T14:30:29.795515Z"
    }
   },
   "outputs": [],
   "source": [
    "import pandas as pd\n",
    "import matplotlib.patches as mpatches\n",
    "import matplotlib.pyplot as plt\n",
    "import numpy as np\n",
    "import math\n",
    "from scipy import stats\n",
    "import statistics"
   ]
  },
  {
   "cell_type": "code",
   "outputs": [],
   "source": [
    "# pd.options.display.max_rows = 9999"
   ],
   "metadata": {
    "collapsed": false,
    "ExecuteTime": {
     "end_time": "2024-03-17T13:56:36.242812Z",
     "start_time": "2024-03-17T13:56:36.229066Z"
    }
   },
   "id": "d2ce5319a1148eb6",
   "execution_count": 3
  },
  {
   "cell_type": "code",
   "outputs": [],
   "source": [
    "data_base = pd.read_csv('XAUUSD_2010-2023.csv')"
   ],
   "metadata": {
    "collapsed": false,
    "ExecuteTime": {
     "end_time": "2024-03-17T13:59:48.415819Z",
     "start_time": "2024-03-17T13:59:46.739219Z"
    }
   },
   "id": "9dc7d95935668e8d",
   "execution_count": 5
  },
  {
   "cell_type": "code",
   "outputs": [
    {
     "data": {
      "text/plain": "                       time     open     high      low    close  rsi14  \\\n0       2010-01-03 18:00:00  1098.45  1100.00  1098.05  1099.95  81.98   \n1       2010-01-03 18:05:00  1100.00  1100.30  1099.45  1099.75  79.17   \n2       2010-01-03 18:10:00  1099.70  1100.10  1099.30  1099.45  75.02   \n3       2010-01-03 18:15:00  1099.50  1099.60  1098.50  1099.45  75.02   \n4       2010-01-03 18:20:00  1099.40  1099.60  1098.90  1098.90  67.50   \n...                     ...      ...      ...      ...      ...    ...   \n985999  2023-12-29 16:35:00  2063.07  2063.24  2062.60  2062.96  39.44   \n986000  2023-12-29 16:40:00  2062.95  2063.09  2062.52  2062.61  37.12   \n986001  2023-12-29 16:45:00  2062.60  2062.83  2062.34  2062.56  36.79   \n986002  2023-12-29 16:50:00  2062.56  2063.20  2062.51  2062.54  36.65   \n986003  2023-12-29 16:55:00  2062.52  2063.00  2062.37  2062.73  39.05   \n\n          sma14  \n0       1096.38  \n1       1096.72  \n2       1097.03  \n3       1097.30  \n4       1097.50  \n...         ...  \n985999  2063.48  \n986000  2063.27  \n986001  2063.06  \n986002  2062.95  \n986003  2062.90  \n\n[986004 rows x 7 columns]",
      "text/html": "<div>\n<style scoped>\n    .dataframe tbody tr th:only-of-type {\n        vertical-align: middle;\n    }\n\n    .dataframe tbody tr th {\n        vertical-align: top;\n    }\n\n    .dataframe thead th {\n        text-align: right;\n    }\n</style>\n<table border=\"1\" class=\"dataframe\">\n  <thead>\n    <tr style=\"text-align: right;\">\n      <th></th>\n      <th>time</th>\n      <th>open</th>\n      <th>high</th>\n      <th>low</th>\n      <th>close</th>\n      <th>rsi14</th>\n      <th>sma14</th>\n    </tr>\n  </thead>\n  <tbody>\n    <tr>\n      <th>0</th>\n      <td>2010-01-03 18:00:00</td>\n      <td>1098.45</td>\n      <td>1100.00</td>\n      <td>1098.05</td>\n      <td>1099.95</td>\n      <td>81.98</td>\n      <td>1096.38</td>\n    </tr>\n    <tr>\n      <th>1</th>\n      <td>2010-01-03 18:05:00</td>\n      <td>1100.00</td>\n      <td>1100.30</td>\n      <td>1099.45</td>\n      <td>1099.75</td>\n      <td>79.17</td>\n      <td>1096.72</td>\n    </tr>\n    <tr>\n      <th>2</th>\n      <td>2010-01-03 18:10:00</td>\n      <td>1099.70</td>\n      <td>1100.10</td>\n      <td>1099.30</td>\n      <td>1099.45</td>\n      <td>75.02</td>\n      <td>1097.03</td>\n    </tr>\n    <tr>\n      <th>3</th>\n      <td>2010-01-03 18:15:00</td>\n      <td>1099.50</td>\n      <td>1099.60</td>\n      <td>1098.50</td>\n      <td>1099.45</td>\n      <td>75.02</td>\n      <td>1097.30</td>\n    </tr>\n    <tr>\n      <th>4</th>\n      <td>2010-01-03 18:20:00</td>\n      <td>1099.40</td>\n      <td>1099.60</td>\n      <td>1098.90</td>\n      <td>1098.90</td>\n      <td>67.50</td>\n      <td>1097.50</td>\n    </tr>\n    <tr>\n      <th>...</th>\n      <td>...</td>\n      <td>...</td>\n      <td>...</td>\n      <td>...</td>\n      <td>...</td>\n      <td>...</td>\n      <td>...</td>\n    </tr>\n    <tr>\n      <th>985999</th>\n      <td>2023-12-29 16:35:00</td>\n      <td>2063.07</td>\n      <td>2063.24</td>\n      <td>2062.60</td>\n      <td>2062.96</td>\n      <td>39.44</td>\n      <td>2063.48</td>\n    </tr>\n    <tr>\n      <th>986000</th>\n      <td>2023-12-29 16:40:00</td>\n      <td>2062.95</td>\n      <td>2063.09</td>\n      <td>2062.52</td>\n      <td>2062.61</td>\n      <td>37.12</td>\n      <td>2063.27</td>\n    </tr>\n    <tr>\n      <th>986001</th>\n      <td>2023-12-29 16:45:00</td>\n      <td>2062.60</td>\n      <td>2062.83</td>\n      <td>2062.34</td>\n      <td>2062.56</td>\n      <td>36.79</td>\n      <td>2063.06</td>\n    </tr>\n    <tr>\n      <th>986002</th>\n      <td>2023-12-29 16:50:00</td>\n      <td>2062.56</td>\n      <td>2063.20</td>\n      <td>2062.51</td>\n      <td>2062.54</td>\n      <td>36.65</td>\n      <td>2062.95</td>\n    </tr>\n    <tr>\n      <th>986003</th>\n      <td>2023-12-29 16:55:00</td>\n      <td>2062.52</td>\n      <td>2063.00</td>\n      <td>2062.37</td>\n      <td>2062.73</td>\n      <td>39.05</td>\n      <td>2062.90</td>\n    </tr>\n  </tbody>\n</table>\n<p>986004 rows × 7 columns</p>\n</div>"
     },
     "execution_count": 6,
     "metadata": {},
     "output_type": "execute_result"
    }
   ],
   "source": [
    "data_base"
   ],
   "metadata": {
    "collapsed": false,
    "ExecuteTime": {
     "end_time": "2024-03-17T13:59:48.446893Z",
     "start_time": "2024-03-17T13:59:48.418238Z"
    }
   },
   "id": "1aa4d098ab88043e",
   "execution_count": 6
  },
  {
   "cell_type": "code",
   "outputs": [
    {
     "data": {
      "text/plain": "986004"
     },
     "execution_count": 7,
     "metadata": {},
     "output_type": "execute_result"
    }
   ],
   "source": [
    "len(data_base)"
   ],
   "metadata": {
    "collapsed": false,
    "ExecuteTime": {
     "end_time": "2024-03-17T13:59:51.393625Z",
     "start_time": "2024-03-17T13:59:51.380450Z"
    }
   },
   "id": "f14d45d3719ddd02",
   "execution_count": 7
  },
  {
   "cell_type": "code",
   "outputs": [
    {
     "data": {
      "text/plain": "1000"
     },
     "execution_count": 10,
     "metadata": {},
     "output_type": "execute_result"
    }
   ],
   "source": [
    "head = data_base.head(100_0)\n",
    "len(head)"
   ],
   "metadata": {
    "collapsed": false,
    "ExecuteTime": {
     "end_time": "2024-03-17T14:00:00.488899Z",
     "start_time": "2024-03-17T14:00:00.469007Z"
    }
   },
   "id": "e7c7caf397ea65a4",
   "execution_count": 10
  },
  {
   "cell_type": "code",
   "outputs": [],
   "source": [
    "# Pengelohan data"
   ],
   "metadata": {
    "collapsed": false,
    "ExecuteTime": {
     "end_time": "2024-03-17T13:56:49.905717Z",
     "start_time": "2024-03-17T13:56:49.888841Z"
    }
   },
   "id": "74bc582c485532fa",
   "execution_count": 9
  },
  {
   "cell_type": "code",
   "outputs": [
    {
     "name": "stdout",
     "output_type": "stream",
     "text": [
      "Mean data : 1122.03 USD\n"
     ]
    }
   ],
   "source": [
    "# Mean\n",
    "subTotal = 0\n",
    "sampleSize = 0\n",
    "for row in head['open']:\n",
    "    subTotal += row\n",
    "    sampleSize += 1\n",
    "mean = subTotal / sampleSize\n",
    "print(f'Mean data : {mean:.2f} USD')"
   ],
   "metadata": {
    "collapsed": false,
    "ExecuteTime": {
     "end_time": "2024-03-17T14:00:07.658874Z",
     "start_time": "2024-03-17T14:00:07.650207Z"
    }
   },
   "id": "6906a6b1b012281b",
   "execution_count": 11
  },
  {
   "cell_type": "code",
   "outputs": [
    {
     "name": "stdout",
     "output_type": "stream",
     "text": [
      "Median data : 1122.98 USD\n"
     ]
    }
   ],
   "source": [
    "#Median\n",
    "long = len(head['open'])\n",
    "find_center = math.ceil(long / 2)\n",
    "median = head['open'][find_center]\n",
    "print(f'Median data : {median:.2f} USD')"
   ],
   "metadata": {
    "collapsed": false,
    "ExecuteTime": {
     "end_time": "2024-03-17T14:00:09.355559Z",
     "start_time": "2024-03-17T14:00:09.348842Z"
    }
   },
   "id": "686232f19b14a5ee",
   "execution_count": 12
  },
  {
   "cell_type": "code",
   "outputs": [],
   "source": [
    "# # Mean\n",
    "# hitung = head['open'][0]\n",
    "# parameter = 0\n",
    "# banyak = 1\n",
    "# modus = []\n",
    "# \n",
    "# for i in range(1, len(head['open'])):\n",
    "# \n",
    "#     if (head['open'][i] == hitung):\n",
    "#         banyak += 1\n",
    "# \n",
    "#     else:\n",
    "#         if (banyak > parameter):\n",
    "#             parameter = banyak\n",
    "#             # modus = []\n",
    "#             modus.append(hitung)\n",
    "# \n",
    "#         elif (banyak == parameter):\n",
    "#             modus.append(hitung)\n",
    "# \n",
    "#         hitung = head['open'][i]\n",
    "#         banyak = 1\n",
    "# # \n",
    "# if (banyak > parameter):\n",
    "#     parameter = banyak\n",
    "#     # modus = []\n",
    "#     modus.append(hitung)\n",
    "# elif (banyak == parameter):\n",
    "#     modus.append(hitung)\n",
    "#     \n",
    "#     \n",
    "#     \n",
    "# print('Modus: ', modus)"
   ],
   "metadata": {
    "collapsed": false
   },
   "id": "1345c872a49b693b",
   "execution_count": null
  },
  {
   "cell_type": "code",
   "outputs": [
    {
     "data": {
      "text/plain": "1122.43"
     },
     "execution_count": 71,
     "metadata": {},
     "output_type": "execute_result"
    }
   ],
   "source": [
    "def nilai_terbanyak(deret):\n",
    "    # dictionary untuk mapping nilai terbanyak\n",
    "    peta_kemunculan = {}\n",
    "\n",
    "    # perulangan satu-persatu tiap bilangan\n",
    "    for bilangan in deret:\n",
    "        # periksa apakah sudah pernah muncul atau belum\n",
    "        if bilangan in peta_kemunculan:\n",
    "            peta_kemunculan[bilangan] += 1\n",
    "        else:\n",
    "            peta_kemunculan[bilangan] = 1\n",
    "\n",
    "    # cari kemunculan terbanyak\n",
    "    bilangan_terbesar = deret[0]  # ambil angka pertama sebagai yg terbanyak\n",
    "    for bilangan in peta_kemunculan.keys():\n",
    "        jumlah = peta_kemunculan[bilangan]\n",
    "\n",
    "        if jumlah > peta_kemunculan[bilangan_terbesar]:\n",
    "            bilangan_terbesar = bilangan\n",
    "\n",
    "    return bilangan_terbesar\n",
    "\n",
    "\n",
    "mean = nilai_terbanyak(head['open'])\n",
    "mean"
   ],
   "metadata": {
    "collapsed": false,
    "ExecuteTime": {
     "end_time": "2024-03-17T14:34:52.485814Z",
     "start_time": "2024-03-17T14:34:52.466814Z"
    }
   },
   "id": "82cd2a0219a9b5f8",
   "execution_count": 71
  },
  {
   "cell_type": "code",
   "outputs": [
    {
     "data": {
      "text/plain": "ModeResult(mode=1122.43, count=7)"
     },
     "execution_count": 57,
     "metadata": {},
     "output_type": "execute_result"
    }
   ],
   "source": [
    "# mean\n",
    "stats.mode(head['open'])"
   ],
   "metadata": {
    "collapsed": false,
    "ExecuteTime": {
     "end_time": "2024-03-17T14:24:55.513288Z",
     "start_time": "2024-03-17T14:24:55.492180Z"
    }
   },
   "id": "14767e8a598d540f",
   "execution_count": 57
  },
  {
   "cell_type": "code",
   "outputs": [
    {
     "name": "stdout",
     "output_type": "stream",
     "text": [
      "Varian data : 109.65\n"
     ]
    }
   ],
   "source": [
    "# Varian\n",
    "length = len(head['open'])\n",
    "m = mean\n",
    "total_sum = 0\n",
    "\n",
    "for i in range(length):\n",
    "    total_sum += (head['open'][i] - m) ** 2\n",
    "varian = total_sum / (length - 1)\n",
    "print(f'Varian data : {varian:.2f}')"
   ],
   "metadata": {
    "collapsed": false,
    "ExecuteTime": {
     "end_time": "2024-03-17T14:05:38.709125Z",
     "start_time": "2024-03-17T14:05:38.686694Z"
    }
   },
   "id": "3c194422b06758c3",
   "execution_count": 28
  },
  {
   "cell_type": "code",
   "outputs": [
    {
     "data": {
      "text/plain": "10.471363570143016"
     },
     "execution_count": 30,
     "metadata": {},
     "output_type": "execute_result"
    }
   ],
   "source": [
    "# Standar Deviasi\n",
    "st_dev = math.sqrt(varian)\n",
    "st_dev"
   ],
   "metadata": {
    "collapsed": false,
    "ExecuteTime": {
     "end_time": "2024-03-17T14:06:03.211658Z",
     "start_time": "2024-03-17T14:06:03.197956Z"
    }
   },
   "id": "b55e210d036604be",
   "execution_count": 30
  },
  {
   "cell_type": "code",
   "outputs": [
    {
     "name": "stdout",
     "output_type": "stream",
     "text": [
      "Kuartil 1 data : 1118.45\n"
     ]
    }
   ],
   "source": [
    "# Quartil 1\n",
    "panjang = len(head['open'])\n",
    "Q1 = int((panjang + 1) * 0.25)\n",
    "Q1\n",
    "Q1_come = (head['open'][Q1] + head['open'][Q1 - 1]) / 2\n",
    "print(f'Kuartil 1 data : {Q1_come:.2f}')"
   ],
   "metadata": {
    "collapsed": false,
    "ExecuteTime": {
     "end_time": "2024-03-17T14:12:58.612863Z",
     "start_time": "2024-03-17T14:12:58.597268Z"
    }
   },
   "id": "e66aefe75e6440e7",
   "execution_count": 44
  },
  {
   "cell_type": "code",
   "outputs": [
    {
     "data": {
      "text/plain": "1118.1725000000001"
     },
     "execution_count": 83,
     "metadata": {},
     "output_type": "execute_result"
    }
   ],
   "source": [
    "head['open'].quantile(.25)"
   ],
   "metadata": {
    "collapsed": false,
    "ExecuteTime": {
     "end_time": "2024-03-17T14:44:27.670169Z",
     "start_time": "2024-03-17T14:44:27.654727Z"
    }
   },
   "id": "316a332602077c48",
   "execution_count": 83
  },
  {
   "cell_type": "code",
   "outputs": [
    {
     "data": {
      "text/plain": "[1102.732,\n 1117.19,\n 1119.31,\n 1121.212,\n 1122.45,\n 1123.71,\n 1125.944,\n 1132.4240000000002,\n 1135.1770000000001]"
     },
     "execution_count": 86,
     "metadata": {},
     "output_type": "execute_result"
    }
   ],
   "source": [],
   "metadata": {
    "collapsed": false,
    "ExecuteTime": {
     "end_time": "2024-03-17T14:44:36.423806Z",
     "start_time": "2024-03-17T14:44:36.409768Z"
    }
   },
   "id": "3a6b6c45a1293ff1",
   "execution_count": 86
  },
  {
   "cell_type": "code",
   "outputs": [
    {
     "name": "stdout",
     "output_type": "stream",
     "text": [
      "Kuartil 3 data : 1128.87\n"
     ]
    }
   ],
   "source": [
    "# Quartil 3\n",
    "panjang = len(head['open'])\n",
    "Q3 = int((panjang + 1) * .75)\n",
    "Q3_come = (head['open'][Q3] + head['open'][Q3 - 1]) / 2\n",
    "print(f'Kuartil 3 data : {Q3_come:.2f}')"
   ],
   "metadata": {
    "collapsed": false,
    "ExecuteTime": {
     "end_time": "2024-03-17T14:14:32.840930Z",
     "start_time": "2024-03-17T14:14:32.821929Z"
    }
   },
   "id": "9f30041f1b0b4e15",
   "execution_count": 52
  },
  {
   "cell_type": "markdown",
   "source": [],
   "metadata": {
    "collapsed": false
   },
   "id": "980a3bae199c1ed0"
  },
  {
   "cell_type": "code",
   "outputs": [
    {
     "data": {
      "text/plain": "1129.63"
     },
     "execution_count": 78,
     "metadata": {},
     "output_type": "execute_result"
    }
   ],
   "source": [
    "head['open'].quantile(.75)\n",
    "# type(head['open'])"
   ],
   "metadata": {
    "collapsed": false,
    "ExecuteTime": {
     "end_time": "2024-03-17T14:43:01.780353Z",
     "start_time": "2024-03-17T14:43:01.765925Z"
    }
   },
   "id": "7d6a08d1cca20a03",
   "execution_count": 78
  },
  {
   "cell_type": "code",
   "outputs": [
    {
     "data": {
      "text/plain": "[1118.1575, 1122.45, 1129.63]"
     },
     "execution_count": 82,
     "metadata": {},
     "output_type": "execute_result"
    }
   ],
   "source": [
    "# statistics.quantiles(head['open'],n=4)\n",
    "# # statistics.mean(head['open'])"
   ],
   "metadata": {
    "collapsed": false,
    "ExecuteTime": {
     "end_time": "2024-03-17T14:43:28.152961Z",
     "start_time": "2024-03-17T14:43:28.135615Z"
    }
   },
   "id": "9d120f13e7f5318a",
   "execution_count": 82
  },
  {
   "cell_type": "code",
   "outputs": [
    {
     "data": {
      "text/plain": "{'mean': 1122.03213,\n 'median': 1122.45,\n 'modus': 1122.43,\n 'varian': 109.64945501811815,\n 'Q1': 1118.1725000000001,\n 'Q3': 1129.63}"
     },
     "execution_count": 89,
     "metadata": {},
     "output_type": "execute_result"
    }
   ],
   "source": [
    "#Refactor \n",
    "def cari_statika(data):\n",
    "    mean = statistics.mean(data)\n",
    "    median = statistics.median(data)\n",
    "    modus = statistics.mode(data)\n",
    "    varian = statistics.variance(data)\n",
    "    Q1 = data.quantile(.25)\n",
    "    Q3 = data.quantile(.75)\n",
    "    return {\"mean\": mean,\n",
    "            \"median\": median,\n",
    "            \"modus\": modus,\n",
    "            \"varian\": varian,\n",
    "            \"Q1\": Q1,\n",
    "            \"Q3\": Q3,\n",
    "            }\n",
    "\n",
    "\n",
    "# data=head['open']\n",
    "cari_statika(head['open'])\n"
   ],
   "metadata": {
    "collapsed": false,
    "ExecuteTime": {
     "end_time": "2024-03-17T14:48:19.209005Z",
     "start_time": "2024-03-17T14:48:19.182020Z"
    }
   },
   "id": "aa46f5c51d48149e",
   "execution_count": 89
  },
  {
   "cell_type": "code",
   "outputs": [
    {
     "data": {
      "text/plain": "                       time     open     high      low    close  rsi14  \\\n0       2010-01-03 18:00:00  1098.45  1100.00  1098.05  1099.95  81.98   \n1       2010-01-03 18:05:00  1100.00  1100.30  1099.45  1099.75  79.17   \n2       2010-01-03 18:10:00  1099.70  1100.10  1099.30  1099.45  75.02   \n3       2010-01-03 18:15:00  1099.50  1099.60  1098.50  1099.45  75.02   \n4       2010-01-03 18:20:00  1099.40  1099.60  1098.90  1098.90  67.50   \n...                     ...      ...      ...      ...      ...    ...   \n985999  2023-12-29 16:35:00  2063.07  2063.24  2062.60  2062.96  39.44   \n986000  2023-12-29 16:40:00  2062.95  2063.09  2062.52  2062.61  37.12   \n986001  2023-12-29 16:45:00  2062.60  2062.83  2062.34  2062.56  36.79   \n986002  2023-12-29 16:50:00  2062.56  2063.20  2062.51  2062.54  36.65   \n986003  2023-12-29 16:55:00  2062.52  2063.00  2062.37  2062.73  39.05   \n\n          sma14  \n0       1096.38  \n1       1096.72  \n2       1097.03  \n3       1097.30  \n4       1097.50  \n...         ...  \n985999  2063.48  \n986000  2063.27  \n986001  2063.06  \n986002  2062.95  \n986003  2062.90  \n\n[986004 rows x 7 columns]",
      "text/html": "<div>\n<style scoped>\n    .dataframe tbody tr th:only-of-type {\n        vertical-align: middle;\n    }\n\n    .dataframe tbody tr th {\n        vertical-align: top;\n    }\n\n    .dataframe thead th {\n        text-align: right;\n    }\n</style>\n<table border=\"1\" class=\"dataframe\">\n  <thead>\n    <tr style=\"text-align: right;\">\n      <th></th>\n      <th>time</th>\n      <th>open</th>\n      <th>high</th>\n      <th>low</th>\n      <th>close</th>\n      <th>rsi14</th>\n      <th>sma14</th>\n    </tr>\n  </thead>\n  <tbody>\n    <tr>\n      <th>0</th>\n      <td>2010-01-03 18:00:00</td>\n      <td>1098.45</td>\n      <td>1100.00</td>\n      <td>1098.05</td>\n      <td>1099.95</td>\n      <td>81.98</td>\n      <td>1096.38</td>\n    </tr>\n    <tr>\n      <th>1</th>\n      <td>2010-01-03 18:05:00</td>\n      <td>1100.00</td>\n      <td>1100.30</td>\n      <td>1099.45</td>\n      <td>1099.75</td>\n      <td>79.17</td>\n      <td>1096.72</td>\n    </tr>\n    <tr>\n      <th>2</th>\n      <td>2010-01-03 18:10:00</td>\n      <td>1099.70</td>\n      <td>1100.10</td>\n      <td>1099.30</td>\n      <td>1099.45</td>\n      <td>75.02</td>\n      <td>1097.03</td>\n    </tr>\n    <tr>\n      <th>3</th>\n      <td>2010-01-03 18:15:00</td>\n      <td>1099.50</td>\n      <td>1099.60</td>\n      <td>1098.50</td>\n      <td>1099.45</td>\n      <td>75.02</td>\n      <td>1097.30</td>\n    </tr>\n    <tr>\n      <th>4</th>\n      <td>2010-01-03 18:20:00</td>\n      <td>1099.40</td>\n      <td>1099.60</td>\n      <td>1098.90</td>\n      <td>1098.90</td>\n      <td>67.50</td>\n      <td>1097.50</td>\n    </tr>\n    <tr>\n      <th>...</th>\n      <td>...</td>\n      <td>...</td>\n      <td>...</td>\n      <td>...</td>\n      <td>...</td>\n      <td>...</td>\n      <td>...</td>\n    </tr>\n    <tr>\n      <th>985999</th>\n      <td>2023-12-29 16:35:00</td>\n      <td>2063.07</td>\n      <td>2063.24</td>\n      <td>2062.60</td>\n      <td>2062.96</td>\n      <td>39.44</td>\n      <td>2063.48</td>\n    </tr>\n    <tr>\n      <th>986000</th>\n      <td>2023-12-29 16:40:00</td>\n      <td>2062.95</td>\n      <td>2063.09</td>\n      <td>2062.52</td>\n      <td>2062.61</td>\n      <td>37.12</td>\n      <td>2063.27</td>\n    </tr>\n    <tr>\n      <th>986001</th>\n      <td>2023-12-29 16:45:00</td>\n      <td>2062.60</td>\n      <td>2062.83</td>\n      <td>2062.34</td>\n      <td>2062.56</td>\n      <td>36.79</td>\n      <td>2063.06</td>\n    </tr>\n    <tr>\n      <th>986002</th>\n      <td>2023-12-29 16:50:00</td>\n      <td>2062.56</td>\n      <td>2063.20</td>\n      <td>2062.51</td>\n      <td>2062.54</td>\n      <td>36.65</td>\n      <td>2062.95</td>\n    </tr>\n    <tr>\n      <th>986003</th>\n      <td>2023-12-29 16:55:00</td>\n      <td>2062.52</td>\n      <td>2063.00</td>\n      <td>2062.37</td>\n      <td>2062.73</td>\n      <td>39.05</td>\n      <td>2062.90</td>\n    </tr>\n  </tbody>\n</table>\n<p>986004 rows × 7 columns</p>\n</div>"
     },
     "execution_count": 4,
     "metadata": {},
     "output_type": "execute_result"
    }
   ],
   "source": [
    "# Penyajian Data\n",
    "penyajian = pd.read_csv('./../../data/XAUUSD_2010-2023.csv')\n",
    "penyajian"
   ],
   "metadata": {
    "collapsed": false,
    "ExecuteTime": {
     "end_time": "2024-05-07T14:30:40.943852Z",
     "start_time": "2024-05-07T14:30:39.638638Z"
    }
   },
   "id": "247e328a63e19036",
   "execution_count": 4
  },
  {
   "cell_type": "code",
   "outputs": [
    {
     "data": {
      "text/plain": "<Figure size 800x500 with 1 Axes>",
      "image/png": "[encoded data removed]"
     },
     "metadata": {},
     "output_type": "display_data"
    }
   ],
   "source": [
    "# Diagram Orgive\n",
    "orgive = pd.read_csv('./../../data/XAUUSD_2010-2023.csv')\n",
    "orgive = orgive.head(100_0)\n",
    "plt.figure(figsize=(8, 5))\n",
    "plt.title(\n",
    "    'Orgive Frequencies data emas ',\n",
    "    fontdict={\n",
    "        'fontsize': '18',\n",
    "        'fontweight': 'bold'\n",
    "    })\n",
    "x_low = orgive['low']\n",
    "y_high = orgive['high']\n",
    "z_open = orgive['open']\n",
    "\n",
    "kurang = plt.plot(z_open, x_low, label='Kurang')\n",
    "lebih = plt.plot(z_open, y_high, label='Lebih')\n",
    "plt.xlabel('Kurang')\n",
    "plt.xlabel('Lebih')\n",
    "\n",
    "# Legend\n",
    "orange_patch = mpatches.Patch(color='orange', label='variable komulatif >')\n",
    "blue_patch = mpatches.Patch(color='blue', label='frequencies komulatif <')\n",
    "first_legend = plt.legend(handles=[orange_patch], loc='lower right')\n",
    "ax = plt.gca().add_artist(first_legend)\n",
    "plt.legend(handles=[blue_patch], loc='upper right')\n",
    "plt.show()"
   ],
   "metadata": {
    "collapsed": false,
    "ExecuteTime": {
     "end_time": "2024-05-07T14:49:18.641936Z",
     "start_time": "2024-05-07T14:49:17.002699Z"
    }
   },
   "id": "f8fb5240884c0493",
   "execution_count": 18
  },
  {
   "cell_type": "code",
   "outputs": [
    {
     "data": {
      "text/plain": "<Figure size 800x500 with 1 Axes>",
      "image/png": "[encoded data removed]"
     },
     "metadata": {},
     "output_type": "display_data"
    }
   ],
   "source": [
    "# Diagram Histogram\n",
    "plt.figure(figsize=(8, 5))\n",
    "# x_low = orgive['low']\n",
    "# y_high = orgive['high']\n",
    "# z_open = orgive['open']\n",
    "plt.bar(y_high, x_low, color='r', width=0.7)\n",
    "\n",
    "plt.title('Histogram Frequencies Emas', fontdict={'fontsize': '18', 'fontweight': 'bold'})\n",
    "plt.xlabel('Emas')\n",
    "plt.ylabel('Higher Frequency')\n",
    "plt.show()"
   ],
   "metadata": {
    "collapsed": false,
    "ExecuteTime": {
     "end_time": "2024-05-07T14:49:21.203316Z",
     "start_time": "2024-05-07T14:49:19.903541Z"
    }
   },
   "id": "a6744439dacc80a8",
   "execution_count": 19
  },
  {
   "cell_type": "code",
   "outputs": [
    {
     "data": {
      "text/plain": "<Figure size 800x500 with 1 Axes>",
      "image/png": "[encoded data removed]"
     },
     "metadata": {},
     "output_type": "display_data"
    }
   ],
   "source": [
    "# Diagram Lingkaran\n",
    "plt.figure(figsize=(8, 5))\n",
    "# x_low = orgive['low']\n",
    "# y_high = orgive['high']\n",
    "# z_open = orgive['open']\n",
    "plt.title('Histogram Frequencies Emas', fontdict={'fontsize': '18', 'fontweight': 'bold'})\n",
    "\n",
    "labels = ['1000-1500',\n",
    "          '2000-2500',\n",
    "      \n",
    "          ]\n",
    "plt.pie(x_low.head(8),\n",
    "        # labels=labels,\n",
    "        autopct='%.2f%%',\n",
    "        shadow=True,\n",
    "        startangle=90\n",
    "        )\n",
    "\n",
    "plt.show()"
   ],
   "metadata": {
    "collapsed": false,
    "ExecuteTime": {
     "end_time": "2024-05-07T14:56:35.593675Z",
     "start_time": "2024-05-07T14:56:35.446571Z"
    }
   },
   "id": "ae9cbdc474a6df1e",
   "execution_count": 33
  },
  {
   "cell_type": "code",
   "outputs": [
    {
     "data": {
      "text/plain": "0      1098.05\n1      1099.45\n2      1099.30\n3      1098.50\n4      1098.90\n        ...   \n995    1130.70\n996    1129.95\n997    1130.05\n998    1130.05\n999    1128.80\nName: low, Length: 1000, dtype: float64"
     },
     "execution_count": 29,
     "metadata": {},
     "output_type": "execute_result"
    }
   ],
   "source": [
    "len(x_low)\n",
    "x_low "
   ],
   "metadata": {
    "collapsed": false,
    "ExecuteTime": {
     "end_time": "2024-05-07T14:55:48.153575Z",
     "start_time": "2024-05-07T14:55:48.132775Z"
    }
   },
   "id": "380574f357e6a6b8",
   "execution_count": 29
  },
  {
   "cell_type": "code",
   "outputs": [],
   "source": [],
   "metadata": {
    "collapsed": false
   },
   "id": "73b2c633861a2ef"
  }
 ],
 "metadata": {
  "kernelspec": {
   "display_name": "Python 3",
   "language": "python",
   "name": "python3"
  },
  "language_info": {
   "codemirror_mode": {
    "name": "ipython",
    "version": 2
   },
   "file_extension": ".py",
   "mimetype": "text/x-python",
   "name": "python",
   "nbconvert_exporter": "python",
   "pygments_lexer": "ipython2",
   "version": "2.7.6"
  }
 },
 "nbformat": 4,
 "nbformat_minor": 5
}
