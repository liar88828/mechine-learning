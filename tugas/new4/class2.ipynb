{
 "cells": [
  {
   "cell_type": "code",
   "outputs": [],
   "source": [
    "import pandas as pd\n",
    "from sklearn.model_selection import train_test_split\n",
    "from sklearn.linear_model import LogisticRegression\n",
    "from sklearn.preprocessing import StandardScaler\n",
    "import matplotlib.pyplot as plt\n",
    "import seaborn as sns\n",
    "from sklearn.metrics import classification_report, confusion_matrix, accuracy_score, roc_curve, auc\n",
    "import numpy as np"
   ],
   "metadata": {
    "collapsed": false,
    "ExecuteTime": {
     "end_time": "2024-06-29T09:16:09.052038Z",
     "start_time": "2024-06-29T09:16:07.606014Z"
    }
   },
   "id": "56982c5b4a43155d",
   "execution_count": 1
  },
  {
   "cell_type": "code",
   "outputs": [
    {
     "data": {
      "text/plain": "                    time     open     high      low    close  rsi14    sma14\n0    2010-01-03 18:00:00  1098.45  1100.00  1098.05  1099.95  81.98  1096.38\n1    2010-01-03 18:05:00  1100.00  1100.30  1099.45  1099.75  79.17  1096.72\n2    2010-01-03 18:10:00  1099.70  1100.10  1099.30  1099.45  75.02  1097.03\n3    2010-01-03 18:15:00  1099.50  1099.60  1098.50  1099.45  75.02  1097.30\n4    2010-01-03 18:20:00  1099.40  1099.60  1098.90  1098.90  67.50  1097.50\n..                   ...      ...      ...      ...      ...    ...      ...\n995  2010-01-07 06:40:00  1131.73  1131.85  1130.70  1131.05  47.60  1131.43\n996  2010-01-07 06:45:00  1131.03  1131.05  1129.95  1130.05  42.59  1131.39\n997  2010-01-07 06:50:00  1130.28  1130.55  1130.05  1130.25  43.86  1131.34\n998  2010-01-07 06:55:00  1130.23  1130.45  1130.05  1130.10  43.09  1131.33\n999  2010-01-07 07:00:00  1130.18  1130.23  1128.80  1129.33  39.27  1131.24\n\n[1000 rows x 7 columns]",
      "text/html": "<div>\n<style scoped>\n    .dataframe tbody tr th:only-of-type {\n        vertical-align: middle;\n    }\n\n    .dataframe tbody tr th {\n        vertical-align: top;\n    }\n\n    .dataframe thead th {\n        text-align: right;\n    }\n</style>\n<table border=\"1\" class=\"dataframe\">\n  <thead>\n    <tr style=\"text-align: right;\">\n      <th></th>\n      <th>time</th>\n      <th>open</th>\n      <th>high</th>\n      <th>low</th>\n      <th>close</th>\n      <th>rsi14</th>\n      <th>sma14</th>\n    </tr>\n  </thead>\n  <tbody>\n    <tr>\n      <th>0</th>\n      <td>2010-01-03 18:00:00</td>\n      <td>1098.45</td>\n      <td>1100.00</td>\n      <td>1098.05</td>\n      <td>1099.95</td>\n      <td>81.98</td>\n      <td>1096.38</td>\n    </tr>\n    <tr>\n      <th>1</th>\n      <td>2010-01-03 18:05:00</td>\n      <td>1100.00</td>\n      <td>1100.30</td>\n      <td>1099.45</td>\n      <td>1099.75</td>\n      <td>79.17</td>\n      <td>1096.72</td>\n    </tr>\n    <tr>\n      <th>2</th>\n      <td>2010-01-03 18:10:00</td>\n      <td>1099.70</td>\n      <td>1100.10</td>\n      <td>1099.30</td>\n      <td>1099.45</td>\n      <td>75.02</td>\n      <td>1097.03</td>\n    </tr>\n    <tr>\n      <th>3</th>\n      <td>2010-01-03 18:15:00</td>\n      <td>1099.50</td>\n      <td>1099.60</td>\n      <td>1098.50</td>\n      <td>1099.45</td>\n      <td>75.02</td>\n      <td>1097.30</td>\n    </tr>\n    <tr>\n      <th>4</th>\n      <td>2010-01-03 18:20:00</td>\n      <td>1099.40</td>\n      <td>1099.60</td>\n      <td>1098.90</td>\n      <td>1098.90</td>\n      <td>67.50</td>\n      <td>1097.50</td>\n    </tr>\n    <tr>\n      <th>...</th>\n      <td>...</td>\n      <td>...</td>\n      <td>...</td>\n      <td>...</td>\n      <td>...</td>\n      <td>...</td>\n      <td>...</td>\n    </tr>\n    <tr>\n      <th>995</th>\n      <td>2010-01-07 06:40:00</td>\n      <td>1131.73</td>\n      <td>1131.85</td>\n      <td>1130.70</td>\n      <td>1131.05</td>\n      <td>47.60</td>\n      <td>1131.43</td>\n    </tr>\n    <tr>\n      <th>996</th>\n      <td>2010-01-07 06:45:00</td>\n      <td>1131.03</td>\n      <td>1131.05</td>\n      <td>1129.95</td>\n      <td>1130.05</td>\n      <td>42.59</td>\n      <td>1131.39</td>\n    </tr>\n    <tr>\n      <th>997</th>\n      <td>2010-01-07 06:50:00</td>\n      <td>1130.28</td>\n      <td>1130.55</td>\n      <td>1130.05</td>\n      <td>1130.25</td>\n      <td>43.86</td>\n      <td>1131.34</td>\n    </tr>\n    <tr>\n      <th>998</th>\n      <td>2010-01-07 06:55:00</td>\n      <td>1130.23</td>\n      <td>1130.45</td>\n      <td>1130.05</td>\n      <td>1130.10</td>\n      <td>43.09</td>\n      <td>1131.33</td>\n    </tr>\n    <tr>\n      <th>999</th>\n      <td>2010-01-07 07:00:00</td>\n      <td>1130.18</td>\n      <td>1130.23</td>\n      <td>1128.80</td>\n      <td>1129.33</td>\n      <td>39.27</td>\n      <td>1131.24</td>\n    </tr>\n  </tbody>\n</table>\n<p>1000 rows × 7 columns</p>\n</div>"
     },
     "execution_count": 29,
     "metadata": {},
     "output_type": "execute_result"
    }
   ],
   "source": [
    "\n",
    "# Load the gold data\n",
    "df = pd.read_csv('../../data/XAUUSD_2010-2023.csv').head(100_0)\n",
    "df"
   ],
   "metadata": {
    "collapsed": false,
    "ExecuteTime": {
     "end_time": "2024-06-29T09:20:15.827020Z",
     "start_time": "2024-06-29T09:20:14.496066Z"
    }
   },
   "id": "7d13788f2406f4c9",
   "execution_count": 29
  },
  {
   "cell_type": "code",
   "outputs": [],
   "source": [
    "\n",
    "# Preprocess the data\n",
    "df = df.dropna()  # Handle missing values"
   ],
   "metadata": {
    "collapsed": false,
    "ExecuteTime": {
     "end_time": "2024-06-29T09:16:10.483462Z",
     "start_time": "2024-06-29T09:16:10.470459Z"
    }
   },
   "id": "d09b10698a010c5d",
   "execution_count": 3
  },
  {
   "cell_type": "code",
   "outputs": [],
   "source": [
    "df['Date'] = pd.to_datetime(df['time'])"
   ],
   "metadata": {
    "collapsed": false,
    "ExecuteTime": {
     "end_time": "2024-06-29T09:16:10.516462Z",
     "start_time": "2024-06-29T09:16:10.487465Z"
    }
   },
   "id": "13be5f7f3eac9fc6",
   "execution_count": 4
  },
  {
   "cell_type": "code",
   "outputs": [
    {
     "data": {
      "text/plain": "0    2010\n1    2010\n2    2010\n3    2010\n4    2010\nName: Year, dtype: int32"
     },
     "execution_count": 5,
     "metadata": {},
     "output_type": "execute_result"
    }
   ],
   "source": [
    "df['Year'] = df['Date'].dt.year\n",
    "df['Year'].head()"
   ],
   "metadata": {
    "collapsed": false,
    "ExecuteTime": {
     "end_time": "2024-06-29T09:16:10.546468Z",
     "start_time": "2024-06-29T09:16:10.519463Z"
    }
   },
   "id": "e78ee4a82f128d92",
   "execution_count": 5
  },
  {
   "cell_type": "code",
   "outputs": [
    {
     "data": {
      "text/plain": "0    1\n1    1\n2    1\n3    1\n4    1\nName: Month, dtype: int32"
     },
     "execution_count": 6,
     "metadata": {},
     "output_type": "execute_result"
    }
   ],
   "source": [
    "# extract month from date\n",
    "\n",
    "df['Month'] = df['Date'].dt.month\n",
    "df['Month'].head()"
   ],
   "metadata": {
    "collapsed": false,
    "ExecuteTime": {
     "end_time": "2024-06-29T09:16:10.562467Z",
     "start_time": "2024-06-29T09:16:10.549462Z"
    }
   },
   "id": "32572c1634066b53",
   "execution_count": 6
  },
  {
   "cell_type": "code",
   "outputs": [
    {
     "data": {
      "text/plain": "0    3\n1    3\n2    3\n3    3\n4    3\nName: Day, dtype: int32"
     },
     "execution_count": 7,
     "metadata": {},
     "output_type": "execute_result"
    }
   ],
   "source": [
    "# extract day from date\n",
    "df['Day'] = df['Date'].dt.day\n",
    "df['Day'].head()"
   ],
   "metadata": {
    "collapsed": false,
    "ExecuteTime": {
     "end_time": "2024-06-29T09:16:10.578461Z",
     "start_time": "2024-06-29T09:16:10.564460Z"
    }
   },
   "id": "3431895fb229353e",
   "execution_count": 7
  },
  {
   "cell_type": "code",
   "outputs": [
    {
     "name": "stdout",
     "output_type": "stream",
     "text": [
      "<class 'pandas.core.frame.DataFrame'>\n",
      "RangeIndex: 100000 entries, 0 to 99999\n",
      "Data columns (total 11 columns):\n",
      " #   Column  Non-Null Count   Dtype         \n",
      "---  ------  --------------   -----         \n",
      " 0   time    100000 non-null  object        \n",
      " 1   open    100000 non-null  float64       \n",
      " 2   high    100000 non-null  float64       \n",
      " 3   low     100000 non-null  float64       \n",
      " 4   close   100000 non-null  float64       \n",
      " 5   rsi14   100000 non-null  float64       \n",
      " 6   sma14   100000 non-null  float64       \n",
      " 7   Date    100000 non-null  datetime64[ns]\n",
      " 8   Year    100000 non-null  int32         \n",
      " 9   Month   100000 non-null  int32         \n",
      " 10  Day     100000 non-null  int32         \n",
      "dtypes: datetime64[ns](1), float64(6), int32(3), object(1)\n",
      "memory usage: 7.2+ MB\n"
     ]
    }
   ],
   "source": [
    "# again view the summary of dataset\n",
    "df.info()"
   ],
   "metadata": {
    "collapsed": false,
    "ExecuteTime": {
     "end_time": "2024-06-29T03:39:17.560380Z",
     "start_time": "2024-06-29T03:39:17.530904Z"
    }
   },
   "id": "2940bddf59fe81a4",
   "execution_count": 311
  },
  {
   "cell_type": "code",
   "outputs": [
    {
     "data": {
      "text/plain": "        open     high      low    close\n0    1098.45  1100.00  1098.05  1099.95\n1    1100.00  1100.30  1099.45  1099.75\n2    1099.70  1100.10  1099.30  1099.45\n3    1099.50  1099.60  1098.50  1099.45\n4    1099.40  1099.60  1098.90  1098.90\n..       ...      ...      ...      ...\n995  1131.73  1131.85  1130.70  1131.05\n996  1131.03  1131.05  1129.95  1130.05\n997  1130.28  1130.55  1130.05  1130.25\n998  1130.23  1130.45  1130.05  1130.10\n999  1130.18  1130.23  1128.80  1129.33\n\n[1000 rows x 4 columns]",
      "text/html": "<div>\n<style scoped>\n    .dataframe tbody tr th:only-of-type {\n        vertical-align: middle;\n    }\n\n    .dataframe tbody tr th {\n        vertical-align: top;\n    }\n\n    .dataframe thead th {\n        text-align: right;\n    }\n</style>\n<table border=\"1\" class=\"dataframe\">\n  <thead>\n    <tr style=\"text-align: right;\">\n      <th></th>\n      <th>open</th>\n      <th>high</th>\n      <th>low</th>\n      <th>close</th>\n    </tr>\n  </thead>\n  <tbody>\n    <tr>\n      <th>0</th>\n      <td>1098.45</td>\n      <td>1100.00</td>\n      <td>1098.05</td>\n      <td>1099.95</td>\n    </tr>\n    <tr>\n      <th>1</th>\n      <td>1100.00</td>\n      <td>1100.30</td>\n      <td>1099.45</td>\n      <td>1099.75</td>\n    </tr>\n    <tr>\n      <th>2</th>\n      <td>1099.70</td>\n      <td>1100.10</td>\n      <td>1099.30</td>\n      <td>1099.45</td>\n    </tr>\n    <tr>\n      <th>3</th>\n      <td>1099.50</td>\n      <td>1099.60</td>\n      <td>1098.50</td>\n      <td>1099.45</td>\n    </tr>\n    <tr>\n      <th>4</th>\n      <td>1099.40</td>\n      <td>1099.60</td>\n      <td>1098.90</td>\n      <td>1098.90</td>\n    </tr>\n    <tr>\n      <th>...</th>\n      <td>...</td>\n      <td>...</td>\n      <td>...</td>\n      <td>...</td>\n    </tr>\n    <tr>\n      <th>995</th>\n      <td>1131.73</td>\n      <td>1131.85</td>\n      <td>1130.70</td>\n      <td>1131.05</td>\n    </tr>\n    <tr>\n      <th>996</th>\n      <td>1131.03</td>\n      <td>1131.05</td>\n      <td>1129.95</td>\n      <td>1130.05</td>\n    </tr>\n    <tr>\n      <th>997</th>\n      <td>1130.28</td>\n      <td>1130.55</td>\n      <td>1130.05</td>\n      <td>1130.25</td>\n    </tr>\n    <tr>\n      <th>998</th>\n      <td>1130.23</td>\n      <td>1130.45</td>\n      <td>1130.05</td>\n      <td>1130.10</td>\n    </tr>\n    <tr>\n      <th>999</th>\n      <td>1130.18</td>\n      <td>1130.23</td>\n      <td>1128.80</td>\n      <td>1129.33</td>\n    </tr>\n  </tbody>\n</table>\n<p>1000 rows × 4 columns</p>\n</div>"
     },
     "execution_count": 8,
     "metadata": {},
     "output_type": "execute_result"
    }
   ],
   "source": [
    "\n",
    "# Select relevant columns\n",
    "df = df[['open', 'high', 'low', 'close']]\n",
    "df"
   ],
   "metadata": {
    "collapsed": false,
    "ExecuteTime": {
     "end_time": "2024-06-29T09:16:42.835900Z",
     "start_time": "2024-06-29T09:16:42.738809Z"
    }
   },
   "id": "e927836b9f7cc706",
   "execution_count": 8
  },
  {
   "cell_type": "code",
   "outputs": [],
   "source": [
    "# Label the data\n",
    "df['price_high'] = (df['high'] > df['close']).astype(int)\n",
    "df['price_low'] = (df['low'] < df['close']).astype(int)\n",
    "df['price_high_same'] = (df['high'] == df['close']).astype(int)\n",
    "df['price_low_same'] = (df['low'] == df['close']).astype(int)"
   ],
   "metadata": {
    "collapsed": false,
    "ExecuteTime": {
     "end_time": "2024-06-29T09:20:32.947181Z",
     "start_time": "2024-06-29T09:20:32.934952Z"
    }
   },
   "id": "61049a3a3eff0188",
   "execution_count": 30
  },
  {
   "cell_type": "code",
   "outputs": [
    {
     "data": {
      "text/plain": "array([ 91, 909], dtype=int64)"
     },
     "execution_count": 10,
     "metadata": {},
     "output_type": "execute_result"
    }
   ],
   "source": [
    "# df['price_high'].plot.hist()\n",
    "np.bincount(df['price_high'])"
   ],
   "metadata": {
    "collapsed": false,
    "ExecuteTime": {
     "end_time": "2024-06-29T09:16:45.803311Z",
     "start_time": "2024-06-29T09:16:45.782770Z"
    }
   },
   "id": "f759c012097cb714",
   "execution_count": 10
  },
  {
   "cell_type": "code",
   "outputs": [
    {
     "data": {
      "text/plain": "array([ 74, 926], dtype=int64)"
     },
     "execution_count": 293,
     "metadata": {},
     "output_type": "execute_result"
    }
   ],
   "source": [
    "np.bincount(df['price_low'])"
   ],
   "metadata": {
    "collapsed": false,
    "ExecuteTime": {
     "end_time": "2024-06-29T03:00:47.873820Z",
     "start_time": "2024-06-29T03:00:47.859485Z"
    }
   },
   "id": "7f269b9f95888621",
   "execution_count": 293
  },
  {
   "cell_type": "code",
   "outputs": [
    {
     "data": {
      "text/plain": "array([1000], dtype=int64)"
     },
     "execution_count": 275,
     "metadata": {},
     "output_type": "execute_result"
    }
   ],
   "source": [
    "np.bincount(df['price_high_same'])"
   ],
   "metadata": {
    "collapsed": false,
    "ExecuteTime": {
     "end_time": "2024-06-29T02:59:44.075361Z",
     "start_time": "2024-06-29T02:59:44.063123Z"
    }
   },
   "id": "7e255aea42e6a0ae",
   "execution_count": 275
  },
  {
   "cell_type": "code",
   "outputs": [
    {
     "data": {
      "text/plain": "array([1000], dtype=int64)"
     },
     "execution_count": 276,
     "metadata": {},
     "output_type": "execute_result"
    }
   ],
   "source": [
    "np.bincount(df['price_low_same'])"
   ],
   "metadata": {
    "collapsed": false,
    "ExecuteTime": {
     "end_time": "2024-06-29T02:59:44.905741Z",
     "start_time": "2024-06-29T02:59:44.893710Z"
    }
   },
   "id": "b34a18c7822cba77",
   "execution_count": 276
  },
  {
   "cell_type": "code",
   "outputs": [
    {
     "data": {
      "text/plain": "price_same\n0    839\n1    161\nName: count, dtype: int64"
     },
     "execution_count": 31,
     "metadata": {},
     "output_type": "execute_result"
    }
   ],
   "source": [
    "\n",
    "df['price_same'] = (df['price_low_same'] | df['price_high_same']).astype(int)\n",
    "# df['price_same'] = (df['price_high_same'] == 1).astype(int)\n",
    "np.bincount(df['price_same'])\n",
    "df['price_same'].value_counts()"
   ],
   "metadata": {
    "collapsed": false,
    "ExecuteTime": {
     "end_time": "2024-06-29T09:20:36.465066Z",
     "start_time": "2024-06-29T09:20:36.449853Z"
    }
   },
   "id": "723f6f2ca395ec00",
   "execution_count": 31
  },
  {
   "cell_type": "code",
   "outputs": [
    {
     "data": {
      "text/plain": "<Axes: ylabel='Frequency'>"
     },
     "execution_count": 12,
     "metadata": {},
     "output_type": "execute_result"
    },
    {
     "data": {
      "text/plain": "<Figure size 640x480 with 1 Axes>",
      "image/png": "[encoded data removed]"
     },
     "metadata": {},
     "output_type": "display_data"
    }
   ],
   "source": [
    "# Define the conditions for each possible combination\n",
    "\n",
    "# Define the conditions for each status\n",
    "conditions = [\n",
    "    (df['price_high'] == 1) | (df['price_low'] == 1),  # change\n",
    "    (df['price_high_same'] == 1) | (df['price_low_same'] == 1)  # same\n",
    "]\n",
    "\n",
    "# Define the corresponding choices\n",
    "choices = [0, 1, ]\n",
    "# Apply the conditions to create the status column\n",
    "df['status'] = np.select(conditions, choices, default=-1)\n",
    "df['status'].plot.hist()"
   ],
   "metadata": {
    "collapsed": false,
    "ExecuteTime": {
     "end_time": "2024-06-29T09:16:58.394205Z",
     "start_time": "2024-06-29T09:16:57.686188Z"
    }
   },
   "id": "e0f8ffc5be7829f6",
   "execution_count": 12
  },
  {
   "cell_type": "code",
   "outputs": [
    {
     "data": {
      "text/plain": "array([996,   4], dtype=int64)"
     },
     "execution_count": 15,
     "metadata": {},
     "output_type": "execute_result"
    }
   ],
   "source": [
    "np.bincount(df['status'])"
   ],
   "metadata": {
    "collapsed": false,
    "ExecuteTime": {
     "end_time": "2024-06-29T09:17:27.859680Z",
     "start_time": "2024-06-29T09:17:27.836186Z"
    }
   },
   "id": "6d224dd6bcd11f9d",
   "execution_count": 15
  },
  {
   "cell_type": "code",
   "outputs": [
    {
     "data": {
      "text/plain": "<Figure size 2000x1000 with 1 Axes>",
      "image/png": "[encoded data removed]"
     },
     "metadata": {},
     "output_type": "display_data"
    }
   ],
   "source": [
    "\n",
    "plt.figure(\n",
    "    figsize=(\n",
    "        20,  #panjang\n",
    "        10  # lebar\n",
    "    ))\n",
    "sns.barplot(df, x=\"price_high\", y=\"price_low\")\n",
    "plt.title('Closing price of Gold')\n",
    "plt.show()"
   ],
   "metadata": {
    "collapsed": false,
    "ExecuteTime": {
     "end_time": "2024-06-29T09:17:40.987756Z",
     "start_time": "2024-06-29T09:17:40.578813Z"
    }
   },
   "id": "bd99fa5dc61e9550",
   "execution_count": 16
  },
  {
   "cell_type": "code",
   "outputs": [],
   "source": [
    "\n",
    "# Normalize the data\n",
    "scaler = StandardScaler()\n",
    "df[['open', 'high', 'low', 'close', ]] = scaler.fit_transform(df[['open', 'high', 'low', 'close']])"
   ],
   "metadata": {
    "collapsed": false,
    "ExecuteTime": {
     "end_time": "2024-06-29T09:18:10.838036Z",
     "start_time": "2024-06-29T09:18:10.811727Z"
    }
   },
   "id": "286331baa0e9d7b4",
   "execution_count": 17
  },
  {
   "cell_type": "code",
   "outputs": [],
   "source": [
    "\n",
    "X = df[['open', 'high', 'low', 'close']]\n",
    "Y = df['price_same']"
   ],
   "metadata": {
    "collapsed": false,
    "ExecuteTime": {
     "end_time": "2024-06-29T09:19:31.016016Z",
     "start_time": "2024-06-29T09:19:31.007712Z"
    }
   },
   "id": "f15b1f24952084e3",
   "execution_count": 24
  },
  {
   "cell_type": "code",
   "outputs": [
    {
     "data": {
      "text/plain": "open       high       low        close    \n-0.076641  -0.122951  -0.034740  -0.079755    2\n-2.728051  -2.640923  -2.698393  -2.622928    1\n 0.302678   0.256417   0.238333   0.198030    1\n 0.264460   0.318531   0.307319   0.346502    1\n            0.495314   0.302529   0.539994    1\n                                             ..\n-0.162632  -0.118173  -0.133429  -0.113281    1\n-0.160721  -0.161174  -0.152592  -0.194701    1\n-0.157855  -0.144929  -0.143010  -0.101786    1\n           -0.127729  -0.154508  -0.092208    1\n 1.673768   1.642019   1.639146   1.596536    1\nName: count, Length: 999, dtype: int64"
     },
     "execution_count": 28,
     "metadata": {},
     "output_type": "execute_result"
    }
   ],
   "source": [
    "\n",
    "X.value_counts()"
   ],
   "metadata": {
    "collapsed": false,
    "ExecuteTime": {
     "end_time": "2024-06-29T09:20:00.491357Z",
     "start_time": "2024-06-29T09:20:00.462358Z"
    }
   },
   "id": "4adc1bb536a09a24",
   "execution_count": 28
  },
  {
   "cell_type": "code",
   "outputs": [
    {
     "name": "stdout",
     "output_type": "stream",
     "text": [
      "open       high       low        close    \n",
      "-0.076641  -0.122951  -0.034740  -0.079755    2\n",
      "-2.728051  -2.640923  -2.698393  -2.622928    1\n",
      " 0.302678   0.256417   0.238333   0.198030    1\n",
      " 0.264460   0.318531   0.307319   0.346502    1\n",
      "            0.495314   0.302529   0.539994    1\n",
      "                                             ..\n",
      "-0.162632  -0.118173  -0.133429  -0.113281    1\n",
      "-0.160721  -0.161174  -0.152592  -0.194701    1\n",
      "-0.157855  -0.144929  -0.143010  -0.101786    1\n",
      "           -0.127729  -0.154508  -0.092208    1\n",
      " 1.673768   1.642019   1.639146   1.596536    1\n",
      "Name: count, Length: 999, dtype: int64\n",
      "price_same\n",
      "0    839\n",
      "1    161\n",
      "Name: count, dtype: int64\n"
     ]
    }
   ],
   "source": [
    "\n",
    "print(Y.value_counts())"
   ],
   "metadata": {
    "collapsed": false,
    "ExecuteTime": {
     "end_time": "2024-06-29T09:19:47.619011Z",
     "start_time": "2024-06-29T09:19:47.536696Z"
    }
   },
   "id": "d1dcd23b5d1516ec",
   "execution_count": 26
  },
  {
   "cell_type": "code",
   "outputs": [],
   "source": [
    "\n",
    "# Split the data into training and testing sets\n",
    "X_train, X_test, y_train, y_test = train_test_split(\n",
    "    X,\n",
    "    Y,\n",
    "    test_size=0.2,\n",
    "    random_state=42)"
   ],
   "metadata": {
    "collapsed": false,
    "ExecuteTime": {
     "end_time": "2024-06-29T09:18:11.994478Z",
     "start_time": "2024-06-29T09:18:11.982479Z"
    }
   },
   "id": "2b6082865b2771fa",
   "execution_count": 18
  },
  {
   "cell_type": "code",
   "outputs": [
    {
     "name": "stdout",
     "output_type": "stream",
     "text": [
      "800\n",
      "200\n"
     ]
    }
   ],
   "source": [
    "print(len(X_train))\n",
    "print(len(X_test))\n"
   ],
   "metadata": {
    "collapsed": false,
    "ExecuteTime": {
     "end_time": "2024-06-29T09:18:13.331250Z",
     "start_time": "2024-06-29T09:18:13.312125Z"
    }
   },
   "id": "6d82b368ced76025",
   "execution_count": 19
  },
  {
   "cell_type": "code",
   "outputs": [],
   "source": [
    "\n",
    "# Create the classification model\n",
    "model = LogisticRegression()"
   ],
   "metadata": {
    "collapsed": false,
    "ExecuteTime": {
     "end_time": "2024-06-29T09:18:14.663694Z",
     "start_time": "2024-06-29T09:18:14.644520Z"
    }
   },
   "id": "8b81ffaed2f512c7",
   "execution_count": 20
  },
  {
   "cell_type": "code",
   "outputs": [
    {
     "data": {
      "text/plain": "LogisticRegression()",
      "text/html": "<style>#sk-container-id-1 {\n  /* Definition of color scheme common for light and dark mode */\n  --sklearn-color-text: black;\n  --sklearn-color-line: gray;\n  /* Definition of color scheme for unfitted estimators */\n  --sklearn-color-unfitted-level-0: #fff5e6;\n  --sklearn-color-unfitted-level-1: #f6e4d2;\n  --sklearn-color-unfitted-level-2: #ffe0b3;\n  --sklearn-color-unfitted-level-3: chocolate;\n  /* Definition of color scheme for fitted estimators */\n  --sklearn-color-fitted-level-0: #f0f8ff;\n  --sklearn-color-fitted-level-1: #d4ebff;\n  --sklearn-color-fitted-level-2: #b3dbfd;\n  --sklearn-color-fitted-level-3: cornflowerblue;\n\n  /* Specific color for light theme */\n  --sklearn-color-text-on-default-background: var(--sg-text-color, var(--theme-code-foreground, var(--jp-content-font-color1, black)));\n  --sklearn-color-background: var(--sg-background-color, var(--theme-background, var(--jp-layout-color0, white)));\n  --sklearn-color-border-box: var(--sg-text-color, var(--theme-code-foreground, var(--jp-content-font-color1, black)));\n  --sklearn-color-icon: #696969;\n\n  @media (prefers-color-scheme: dark) {\n    /* Redefinition of color scheme for dark theme */\n    --sklearn-color-text-on-default-background: var(--sg-text-color, var(--theme-code-foreground, var(--jp-content-font-color1, white)));\n    --sklearn-color-background: var(--sg-background-color, var(--theme-background, var(--jp-layout-color0, #111)));\n    --sklearn-color-border-box: var(--sg-text-color, var(--theme-code-foreground, var(--jp-content-font-color1, white)));\n    --sklearn-color-icon: #878787;\n  }\n}\n\n#sk-container-id-1 {\n  color: var(--sklearn-color-text);\n}\n\n#sk-container-id-1 pre {\n  padding: 0;\n}\n\n#sk-container-id-1 input.sk-hidden--visually {\n  border: 0;\n  clip: rect(1px 1px 1px 1px);\n  clip: rect(1px, 1px, 1px, 1px);\n  height: 1px;\n  margin: -1px;\n  overflow: hidden;\n  padding: 0;\n  position: absolute;\n  width: 1px;\n}\n\n#sk-container-id-1 div.sk-dashed-wrapped {\n  border: 1px dashed var(--sklearn-color-line);\n  margin: 0 0.4em 0.5em 0.4em;\n  box-sizing: border-box;\n  padding-bottom: 0.4em;\n  background-color: var(--sklearn-color-background);\n}\n\n#sk-container-id-1 div.sk-container {\n  /* jupyter's `normalize.less` sets `[hidden] { display: none; }`\n     but bootstrap.min.css set `[hidden] { display: none !important; }`\n     so we also need the `!important` here to be able to override the\n     default hidden behavior on the sphinx rendered scikit-learn.org.\n     See: https://github.com/scikit-learn/scikit-learn/issues/21755 */\n  display: inline-block !important;\n  position: relative;\n}\n\n#sk-container-id-1 div.sk-text-repr-fallback {\n  display: none;\n}\n\ndiv.sk-parallel-item,\ndiv.sk-serial,\ndiv.sk-item {\n  /* draw centered vertical line to link estimators */\n  background-image: linear-gradient(var(--sklearn-color-text-on-default-background), var(--sklearn-color-text-on-default-background));\n  background-size: 2px 100%;\n  background-repeat: no-repeat;\n  background-position: center center;\n}\n\n/* Parallel-specific style estimator block */\n\n#sk-container-id-1 div.sk-parallel-item::after {\n  content: \"\";\n  width: 100%;\n  border-bottom: 2px solid var(--sklearn-color-text-on-default-background);\n  flex-grow: 1;\n}\n\n#sk-container-id-1 div.sk-parallel {\n  display: flex;\n  align-items: stretch;\n  justify-content: center;\n  background-color: var(--sklearn-color-background);\n  position: relative;\n}\n\n#sk-container-id-1 div.sk-parallel-item {\n  display: flex;\n  flex-direction: column;\n}\n\n#sk-container-id-1 div.sk-parallel-item:first-child::after {\n  align-self: flex-end;\n  width: 50%;\n}\n\n#sk-container-id-1 div.sk-parallel-item:last-child::after {\n  align-self: flex-start;\n  width: 50%;\n}\n\n#sk-container-id-1 div.sk-parallel-item:only-child::after {\n  width: 0;\n}\n\n/* Serial-specific style estimator block */\n\n#sk-container-id-1 div.sk-serial {\n  display: flex;\n  flex-direction: column;\n  align-items: center;\n  background-color: var(--sklearn-color-background);\n  padding-right: 1em;\n  padding-left: 1em;\n}\n\n\n/* Toggleable style: style used for estimator/Pipeline/ColumnTransformer box that is\nclickable and can be expanded/collapsed.\n- Pipeline and ColumnTransformer use this feature and define the default style\n- Estimators will overwrite some part of the style using the `sk-estimator` class\n*/\n\n/* Pipeline and ColumnTransformer style (default) */\n\n#sk-container-id-1 div.sk-toggleable {\n  /* Default theme specific background. It is overwritten whether we have a\n  specific estimator or a Pipeline/ColumnTransformer */\n  background-color: var(--sklearn-color-background);\n}\n\n/* Toggleable label */\n#sk-container-id-1 label.sk-toggleable__label {\n  cursor: pointer;\n  display: block;\n  width: 100%;\n  margin-bottom: 0;\n  padding: 0.5em;\n  box-sizing: border-box;\n  text-align: center;\n}\n\n#sk-container-id-1 label.sk-toggleable__label-arrow:before {\n  /* Arrow on the left of the label */\n  content: \"▸\";\n  float: left;\n  margin-right: 0.25em;\n  color: var(--sklearn-color-icon);\n}\n\n#sk-container-id-1 label.sk-toggleable__label-arrow:hover:before {\n  color: var(--sklearn-color-text);\n}\n\n/* Toggleable content - dropdown */\n\n#sk-container-id-1 div.sk-toggleable__content {\n  max-height: 0;\n  max-width: 0;\n  overflow: hidden;\n  text-align: left;\n  /* unfitted */\n  background-color: var(--sklearn-color-unfitted-level-0);\n}\n\n#sk-container-id-1 div.sk-toggleable__content.fitted {\n  /* fitted */\n  background-color: var(--sklearn-color-fitted-level-0);\n}\n\n#sk-container-id-1 div.sk-toggleable__content pre {\n  margin: 0.2em;\n  border-radius: 0.25em;\n  color: var(--sklearn-color-text);\n  /* unfitted */\n  background-color: var(--sklearn-color-unfitted-level-0);\n}\n\n#sk-container-id-1 div.sk-toggleable__content.fitted pre {\n  /* unfitted */\n  background-color: var(--sklearn-color-fitted-level-0);\n}\n\n#sk-container-id-1 input.sk-toggleable__control:checked~div.sk-toggleable__content {\n  /* Expand drop-down */\n  max-height: 200px;\n  max-width: 100%;\n  overflow: auto;\n}\n\n#sk-container-id-1 input.sk-toggleable__control:checked~label.sk-toggleable__label-arrow:before {\n  content: \"▾\";\n}\n\n/* Pipeline/ColumnTransformer-specific style */\n\n#sk-container-id-1 div.sk-label input.sk-toggleable__control:checked~label.sk-toggleable__label {\n  color: var(--sklearn-color-text);\n  background-color: var(--sklearn-color-unfitted-level-2);\n}\n\n#sk-container-id-1 div.sk-label.fitted input.sk-toggleable__control:checked~label.sk-toggleable__label {\n  background-color: var(--sklearn-color-fitted-level-2);\n}\n\n/* Estimator-specific style */\n\n/* Colorize estimator box */\n#sk-container-id-1 div.sk-estimator input.sk-toggleable__control:checked~label.sk-toggleable__label {\n  /* unfitted */\n  background-color: var(--sklearn-color-unfitted-level-2);\n}\n\n#sk-container-id-1 div.sk-estimator.fitted input.sk-toggleable__control:checked~label.sk-toggleable__label {\n  /* fitted */\n  background-color: var(--sklearn-color-fitted-level-2);\n}\n\n#sk-container-id-1 div.sk-label label.sk-toggleable__label,\n#sk-container-id-1 div.sk-label label {\n  /* The background is the default theme color */\n  color: var(--sklearn-color-text-on-default-background);\n}\n\n/* On hover, darken the color of the background */\n#sk-container-id-1 div.sk-label:hover label.sk-toggleable__label {\n  color: var(--sklearn-color-text);\n  background-color: var(--sklearn-color-unfitted-level-2);\n}\n\n/* Label box, darken color on hover, fitted */\n#sk-container-id-1 div.sk-label.fitted:hover label.sk-toggleable__label.fitted {\n  color: var(--sklearn-color-text);\n  background-color: var(--sklearn-color-fitted-level-2);\n}\n\n/* Estimator label */\n\n#sk-container-id-1 div.sk-label label {\n  font-family: monospace;\n  font-weight: bold;\n  display: inline-block;\n  line-height: 1.2em;\n}\n\n#sk-container-id-1 div.sk-label-container {\n  text-align: center;\n}\n\n/* Estimator-specific */\n#sk-container-id-1 div.sk-estimator {\n  font-family: monospace;\n  border: 1px dotted var(--sklearn-color-border-box);\n  border-radius: 0.25em;\n  box-sizing: border-box;\n  margin-bottom: 0.5em;\n  /* unfitted */\n  background-color: var(--sklearn-color-unfitted-level-0);\n}\n\n#sk-container-id-1 div.sk-estimator.fitted {\n  /* fitted */\n  background-color: var(--sklearn-color-fitted-level-0);\n}\n\n/* on hover */\n#sk-container-id-1 div.sk-estimator:hover {\n  /* unfitted */\n  background-color: var(--sklearn-color-unfitted-level-2);\n}\n\n#sk-container-id-1 div.sk-estimator.fitted:hover {\n  /* fitted */\n  background-color: var(--sklearn-color-fitted-level-2);\n}\n\n/* Specification for estimator info (e.g. \"i\" and \"?\") */\n\n/* Common style for \"i\" and \"?\" */\n\n.sk-estimator-doc-link,\na:link.sk-estimator-doc-link,\na:visited.sk-estimator-doc-link {\n  float: right;\n  font-size: smaller;\n  line-height: 1em;\n  font-family: monospace;\n  background-color: var(--sklearn-color-background);\n  border-radius: 1em;\n  height: 1em;\n  width: 1em;\n  text-decoration: none !important;\n  margin-left: 1ex;\n  /* unfitted */\n  border: var(--sklearn-color-unfitted-level-1) 1pt solid;\n  color: var(--sklearn-color-unfitted-level-1);\n}\n\n.sk-estimator-doc-link.fitted,\na:link.sk-estimator-doc-link.fitted,\na:visited.sk-estimator-doc-link.fitted {\n  /* fitted */\n  border: var(--sklearn-color-fitted-level-1) 1pt solid;\n  color: var(--sklearn-color-fitted-level-1);\n}\n\n/* On hover */\ndiv.sk-estimator:hover .sk-estimator-doc-link:hover,\n.sk-estimator-doc-link:hover,\ndiv.sk-label-container:hover .sk-estimator-doc-link:hover,\n.sk-estimator-doc-link:hover {\n  /* unfitted */\n  background-color: var(--sklearn-color-unfitted-level-3);\n  color: var(--sklearn-color-background);\n  text-decoration: none;\n}\n\ndiv.sk-estimator.fitted:hover .sk-estimator-doc-link.fitted:hover,\n.sk-estimator-doc-link.fitted:hover,\ndiv.sk-label-container:hover .sk-estimator-doc-link.fitted:hover,\n.sk-estimator-doc-link.fitted:hover {\n  /* fitted */\n  background-color: var(--sklearn-color-fitted-level-3);\n  color: var(--sklearn-color-background);\n  text-decoration: none;\n}\n\n/* Span, style for the box shown on hovering the info icon */\n.sk-estimator-doc-link span {\n  display: none;\n  z-index: 9999;\n  position: relative;\n  font-weight: normal;\n  right: .2ex;\n  padding: .5ex;\n  margin: .5ex;\n  width: min-content;\n  min-width: 20ex;\n  max-width: 50ex;\n  color: var(--sklearn-color-text);\n  box-shadow: 2pt 2pt 4pt #999;\n  /* unfitted */\n  background: var(--sklearn-color-unfitted-level-0);\n  border: .5pt solid var(--sklearn-color-unfitted-level-3);\n}\n\n.sk-estimator-doc-link.fitted span {\n  /* fitted */\n  background: var(--sklearn-color-fitted-level-0);\n  border: var(--sklearn-color-fitted-level-3);\n}\n\n.sk-estimator-doc-link:hover span {\n  display: block;\n}\n\n/* \"?\"-specific style due to the `<a>` HTML tag */\n\n#sk-container-id-1 a.estimator_doc_link {\n  float: right;\n  font-size: 1rem;\n  line-height: 1em;\n  font-family: monospace;\n  background-color: var(--sklearn-color-background);\n  border-radius: 1rem;\n  height: 1rem;\n  width: 1rem;\n  text-decoration: none;\n  /* unfitted */\n  color: var(--sklearn-color-unfitted-level-1);\n  border: var(--sklearn-color-unfitted-level-1) 1pt solid;\n}\n\n#sk-container-id-1 a.estimator_doc_link.fitted {\n  /* fitted */\n  border: var(--sklearn-color-fitted-level-1) 1pt solid;\n  color: var(--sklearn-color-fitted-level-1);\n}\n\n/* On hover */\n#sk-container-id-1 a.estimator_doc_link:hover {\n  /* unfitted */\n  background-color: var(--sklearn-color-unfitted-level-3);\n  color: var(--sklearn-color-background);\n  text-decoration: none;\n}\n\n#sk-container-id-1 a.estimator_doc_link.fitted:hover {\n  /* fitted */\n  background-color: var(--sklearn-color-fitted-level-3);\n}\n</style><div id=\"sk-container-id-1\" class=\"sk-top-container\"><div class=\"sk-text-repr-fallback\"><pre>LogisticRegression()</pre><b>In a Jupyter environment, please rerun this cell to show the HTML representation or trust the notebook. <br />On GitHub, the HTML representation is unable to render, please try loading this page with nbviewer.org.</b></div><div class=\"sk-container\" hidden><div class=\"sk-item\"><div class=\"sk-estimator fitted sk-toggleable\"><input class=\"sk-toggleable__control sk-hidden--visually\" id=\"sk-estimator-id-1\" type=\"checkbox\" checked><label for=\"sk-estimator-id-1\" class=\"sk-toggleable__label fitted sk-toggleable__label-arrow fitted\">&nbsp;&nbsp;LogisticRegression<a class=\"sk-estimator-doc-link fitted\" rel=\"noreferrer\" target=\"_blank\" href=\"https://scikit-learn.org/1.4/modules/generated/sklearn.linear_model.LogisticRegression.html\">?<span>Documentation for LogisticRegression</span></a><span class=\"sk-estimator-doc-link fitted\">i<span>Fitted</span></span></label><div class=\"sk-toggleable__content fitted\"><pre>LogisticRegression()</pre></div> </div></div></div></div>"
     },
     "execution_count": 21,
     "metadata": {},
     "output_type": "execute_result"
    }
   ],
   "source": [
    "\n",
    "# Train the model\n",
    "model.fit(X_train, y_train)"
   ],
   "metadata": {
    "collapsed": false,
    "ExecuteTime": {
     "end_time": "2024-06-29T09:18:15.729032Z",
     "start_time": "2024-06-29T09:18:15.670362Z"
    }
   },
   "id": "134c9403fa8c6dbd",
   "execution_count": 21
  },
  {
   "cell_type": "code",
   "outputs": [
    {
     "name": "stdout",
     "output_type": "stream",
     "text": [
      "Accuracy: 0.845\n",
      "Classification Report:\n",
      "              precision    recall  f1-score   support\n",
      "\n",
      "           0       0.84      1.00      0.92       169\n",
      "           1       0.00      0.00      0.00        31\n",
      "\n",
      "    accuracy                           0.84       200\n",
      "   macro avg       0.42      0.50      0.46       200\n",
      "weighted avg       0.71      0.84      0.77       200\n",
      "\n",
      "Confusion Matrix:\n",
      "[[169   0]\n",
      " [ 31   0]]\n"
     ]
    },
    {
     "name": "stderr",
     "output_type": "stream",
     "text": [
      "C:\\laragon\\bin\\python\\python-3.10\\lib\\site-packages\\sklearn\\metrics\\_classification.py:1509: UndefinedMetricWarning: Precision is ill-defined and being set to 0.0 in labels with no predicted samples. Use `zero_division` parameter to control this behavior.\n",
      "  _warn_prf(average, modifier, f\"{metric.capitalize()} is\", len(result))\n",
      "C:\\laragon\\bin\\python\\python-3.10\\lib\\site-packages\\sklearn\\metrics\\_classification.py:1509: UndefinedMetricWarning: Precision is ill-defined and being set to 0.0 in labels with no predicted samples. Use `zero_division` parameter to control this behavior.\n",
      "  _warn_prf(average, modifier, f\"{metric.capitalize()} is\", len(result))\n",
      "C:\\laragon\\bin\\python\\python-3.10\\lib\\site-packages\\sklearn\\metrics\\_classification.py:1509: UndefinedMetricWarning: Precision is ill-defined and being set to 0.0 in labels with no predicted samples. Use `zero_division` parameter to control this behavior.\n",
      "  _warn_prf(average, modifier, f\"{metric.capitalize()} is\", len(result))\n"
     ]
    }
   ],
   "source": [
    "\n",
    "# Make predictions\n",
    "y_pred = model.predict(X_test)\n",
    "\n",
    "# Evaluate the model\n",
    "print(f'Accuracy: {accuracy_score(y_test, y_pred):.3f}')\n",
    "print(f'Classification Report:\\n{classification_report(y_test, y_pred)}')\n",
    "print(f'Confusion Matrix:\\n{confusion_matrix(y_test, y_pred)}')"
   ],
   "metadata": {
    "collapsed": false,
    "ExecuteTime": {
     "end_time": "2024-06-29T09:18:17.515867Z",
     "start_time": "2024-06-29T09:18:17.381158Z"
    }
   },
   "id": "ddef9607b67107e5",
   "execution_count": 22
  },
  {
   "cell_type": "code",
   "outputs": [
    {
     "name": "stdout",
     "output_type": "stream",
     "text": [
      "Confusion Matrix:\n",
      "[[169   0]\n",
      " [ 31   0]]\n",
      "\n",
      "Classification Report:\n",
      "              precision    recall  f1-score   support\n",
      "\n",
      "           0       0.84      1.00      0.92       169\n",
      "           1       0.00      0.00      0.00        31\n",
      "\n",
      "    accuracy                           0.84       200\n",
      "   macro avg       0.42      0.50      0.46       200\n",
      "weighted avg       0.71      0.84      0.77       200\n",
      "\n",
      "\n",
      "Accuracy Score:\n",
      "0.845\n"
     ]
    },
    {
     "name": "stderr",
     "output_type": "stream",
     "text": [
      "C:\\laragon\\bin\\python\\python-3.10\\lib\\site-packages\\sklearn\\metrics\\_classification.py:1509: UndefinedMetricWarning: Precision is ill-defined and being set to 0.0 in labels with no predicted samples. Use `zero_division` parameter to control this behavior.\n",
      "  _warn_prf(average, modifier, f\"{metric.capitalize()} is\", len(result))\n",
      "C:\\laragon\\bin\\python\\python-3.10\\lib\\site-packages\\sklearn\\metrics\\_classification.py:1509: UndefinedMetricWarning: Precision is ill-defined and being set to 0.0 in labels with no predicted samples. Use `zero_division` parameter to control this behavior.\n",
      "  _warn_prf(average, modifier, f\"{metric.capitalize()} is\", len(result))\n",
      "C:\\laragon\\bin\\python\\python-3.10\\lib\\site-packages\\sklearn\\metrics\\_classification.py:1509: UndefinedMetricWarning: Precision is ill-defined and being set to 0.0 in labels with no predicted samples. Use `zero_division` parameter to control this behavior.\n",
      "  _warn_prf(average, modifier, f\"{metric.capitalize()} is\", len(result))\n"
     ]
    },
    {
     "data": {
      "text/plain": "<Figure size 1000x700 with 1 Axes>",
      "image/png": "[encoded data removed]"
     },
     "metadata": {},
     "output_type": "display_data"
    },
    {
     "data": {
      "text/plain": "<Figure size 1000x700 with 1 Axes>",
      "image/png": "[encoded data removed]"
     },
     "metadata": {},
     "output_type": "display_data"
    }
   ],
   "source": [
    "\n",
    "# Evaluate the model's performance\n",
    "print(\"Confusion Matrix:\")\n",
    "print(confusion_matrix(y_test, y_pred))\n",
    "print(\"\\nClassification Report:\")\n",
    "print(classification_report(y_test, y_pred))\n",
    "print(\"\\nAccuracy Score:\")\n",
    "print(accuracy_score(y_test, y_pred))\n",
    "\n",
    "# Visualize the classifier's performance\n",
    "# Confusion Matrix Heatmap\n",
    "conf_matrix = confusion_matrix(y_test, y_pred)\n",
    "plt.figure(figsize=(10, 7))\n",
    "sns.heatmap(conf_matrix, annot=True, fmt='d', cmap='Blues', cbar=False)\n",
    "plt.xlabel('Predicted')\n",
    "plt.ylabel('Actual')\n",
    "plt.title('Confusion Matrix Heatmap')\n",
    "plt.show()\n",
    "\n",
    "# ROC Curve\n",
    "y_prob = model.predict_proba(X_test)[:, 1]\n",
    "fpr, tpr, _ = roc_curve(y_test, y_prob)\n",
    "roc_auc = auc(fpr, tpr)\n",
    "\n",
    "plt.figure(figsize=(10, 7))\n",
    "plt.plot(fpr, tpr, color='blue', lw=2, label='ROC curve (area = %0.2f)' % roc_auc)\n",
    "plt.plot([0, 1], [0, 1], color='gray', lw=2, linestyle='--')\n",
    "plt.xlim([0.0, 1.0])\n",
    "plt.ylim([0.0, 1.05])\n",
    "plt.xlabel('False Positive Rate')\n",
    "plt.ylabel('True Positive Rate')\n",
    "plt.title('Receiver Operating Characteristic (ROC) Curve')\n",
    "plt.legend(loc='lower right')\n",
    "plt.show()"
   ],
   "metadata": {
    "collapsed": false,
    "ExecuteTime": {
     "end_time": "2024-06-29T03:01:25.593353Z",
     "start_time": "2024-06-29T03:01:25.217037Z"
    }
   },
   "id": "970128210001cd6c",
   "execution_count": 300
  }
 ],
 "metadata": {
  "kernelspec": {
   "display_name": "Python 3",
   "language": "python",
   "name": "python3"
  },
  "language_info": {
   "codemirror_mode": {
    "name": "ipython",
    "version": 2
   },
   "file_extension": ".py",
   "mimetype": "text/x-python",
   "name": "python",
   "nbconvert_exporter": "python",
   "pygments_lexer": "ipython2",
   "version": "2.7.6"
  }
 },
 "nbformat": 4,
 "nbformat_minor": 5
}
