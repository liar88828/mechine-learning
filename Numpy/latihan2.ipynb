{
 "cells": [
  {
   "cell_type": "code",
   "outputs": [],
   "source": [
    "import numpy as np"
   ],
   "metadata": {
    "collapsed": false,
    "ExecuteTime": {
     "end_time": "2024-03-10T08:47:48.710007Z",
     "start_time": "2024-03-10T08:47:48.705396Z"
    }
   },
   "id": "aa7152e75722b3b3",
   "execution_count": 2
  },
  {
   "cell_type": "code",
   "outputs": [
    {
     "data": {
      "text/plain": "array([0.45580037, 0.14545287, 0.62121475, 0.19749329, 0.54959964,\n       0.92100676, 0.77776041])"
     },
     "execution_count": 3,
     "metadata": {},
     "output_type": "execute_result"
    }
   ],
   "source": [
    "# bilangan distribusi uniform\n",
    "np.random.rand(7)"
   ],
   "metadata": {
    "collapsed": false,
    "ExecuteTime": {
     "end_time": "2024-03-10T08:48:37.035086Z",
     "start_time": "2024-03-10T08:48:37.024417Z"
    }
   },
   "id": "823337967d6a85e4",
   "execution_count": 3
  },
  {
   "cell_type": "code",
   "outputs": [
    {
     "data": {
      "text/plain": "array([[0.54767742, 0.49499931, 0.90519369, 0.61288298],\n       [0.68071633, 0.67941615, 0.09018076, 0.99453115],\n       [0.24425902, 0.75617972, 0.98365748, 0.66262216],\n       [0.08168018, 0.50843017, 0.45565141, 0.75835441],\n       [0.39716794, 0.50109481, 0.10334936, 0.43037194]])"
     },
     "execution_count": 6,
     "metadata": {},
     "output_type": "execute_result"
    }
   ],
   "source": [
    "# bilangan distribusi uniform matrix 2 dimension\n",
    "np.random.rand(5, 4)"
   ],
   "metadata": {
    "collapsed": false,
    "ExecuteTime": {
     "end_time": "2024-03-10T08:49:17.329322Z",
     "start_time": "2024-03-10T08:49:17.321434Z"
    }
   },
   "id": "e67c1c702361fde0",
   "execution_count": 6
  },
  {
   "cell_type": "code",
   "outputs": [
    {
     "data": {
      "text/plain": "array([-0.75071679, -0.73932418,  1.11628859, -1.68803929,  0.11583771,\n        0.62678268,  1.04227421, -0.10019891,  0.53047107,  1.83368134])"
     },
     "execution_count": 7,
     "metadata": {},
     "output_type": "execute_result"
    }
   ],
   "source": [
    "# bilangan distribusi normal (gaussian)\n",
    "np.random.randn(10)"
   ],
   "metadata": {
    "collapsed": false,
    "ExecuteTime": {
     "end_time": "2024-03-10T08:50:38.853424Z",
     "start_time": "2024-03-10T08:50:38.846687Z"
    }
   },
   "id": "230e330a89a67fee",
   "execution_count": 7
  },
  {
   "cell_type": "code",
   "outputs": [
    {
     "data": {
      "text/plain": "array([[-1.00702622, -0.4560861 ],\n       [-2.04015265, -1.14654495],\n       [ 1.21253244, -0.18962812],\n       [ 1.41948853,  0.04059198],\n       [-2.34001071, -0.71862867],\n       [ 0.09731888, -1.37424706]])"
     },
     "execution_count": 13,
     "metadata": {},
     "output_type": "execute_result"
    }
   ],
   "source": [
    "# bilangan distribusi normal (gaussian) matrik 2 dimension\n",
    "from numpy.random import randn, randint\n",
    "\n",
    "randn(6, 2)"
   ],
   "metadata": {
    "collapsed": false,
    "ExecuteTime": {
     "end_time": "2024-03-10T08:54:37.113765Z",
     "start_time": "2024-03-10T08:54:37.107057Z"
    }
   },
   "id": "35afc43c7e1a80c0",
   "execution_count": 13
  },
  {
   "cell_type": "code",
   "outputs": [
    {
     "data": {
      "text/plain": "0"
     },
     "execution_count": 17,
     "metadata": {},
     "output_type": "execute_result"
    }
   ],
   "source": [
    "randint(0, 10)"
   ],
   "metadata": {
    "collapsed": false,
    "ExecuteTime": {
     "end_time": "2024-03-10T08:55:03.480970Z",
     "start_time": "2024-03-10T08:55:03.474176Z"
    }
   },
   "id": "6ab84035d7b77970",
   "execution_count": 17
  },
  {
   "cell_type": "code",
   "outputs": [
    {
     "data": {
      "text/plain": "array([8, 2, 8, 0, 6])"
     },
     "execution_count": 19,
     "metadata": {},
     "output_type": "execute_result"
    }
   ],
   "source": [
    "randint(0, 10, 5)"
   ],
   "metadata": {
    "collapsed": false,
    "ExecuteTime": {
     "end_time": "2024-03-10T08:55:11.059678Z",
     "start_time": "2024-03-10T08:55:11.053755Z"
    }
   },
   "id": "d4d07c62ffd90a14",
   "execution_count": 19
  },
  {
   "cell_type": "code",
   "outputs": [
    {
     "data": {
      "text/plain": "array([74, 75, 46, 61, 51, 95, 37, 54, 32, 46, 22, 88, 39, 21, 66, 69, 68,\n        9, 70, 39])"
     },
     "execution_count": 21,
     "metadata": {},
     "output_type": "execute_result"
    }
   ],
   "source": [
    "bilangan = randint(0, 100, 20)\n",
    "bilangan"
   ],
   "metadata": {
    "collapsed": false,
    "ExecuteTime": {
     "end_time": "2024-03-10T08:55:44.421113Z",
     "start_time": "2024-03-10T08:55:44.414158Z"
    }
   },
   "id": "2a146f58e8a7e1bf",
   "execution_count": 21
  },
  {
   "cell_type": "code",
   "outputs": [
    {
     "data": {
      "text/plain": "array([[74, 75, 46, 61, 51, 95, 37, 54, 32, 46],\n       [22, 88, 39, 21, 66, 69, 68,  9, 70, 39]])"
     },
     "execution_count": 30,
     "metadata": {},
     "output_type": "execute_result"
    }
   ],
   "source": [
    "bilangan.reshape(2, 10)"
   ],
   "metadata": {
    "collapsed": false,
    "ExecuteTime": {
     "end_time": "2024-03-10T08:57:14.567279Z",
     "start_time": "2024-03-10T08:57:14.560627Z"
    }
   },
   "id": "ddd280de09b60f9e",
   "execution_count": 30
  },
  {
   "cell_type": "code",
   "outputs": [
    {
     "data": {
      "text/plain": "array([[2, 3, 9, 0, 8],\n       [1, 9, 1, 8, 3],\n       [7, 4, 1, 7, 7],\n       [6, 1, 3, 8, 8]])"
     },
     "execution_count": 38,
     "metadata": {},
     "output_type": "execute_result"
    }
   ],
   "source": [
    "coba = randint(0, 10, 20).reshape(4, 5)\n",
    "coba"
   ],
   "metadata": {
    "collapsed": false,
    "ExecuteTime": {
     "end_time": "2024-03-10T08:58:49.818328Z",
     "start_time": "2024-03-10T08:58:49.812171Z"
    }
   },
   "id": "96529a40066be072",
   "execution_count": 38
  },
  {
   "cell_type": "code",
   "outputs": [
    {
     "data": {
      "text/plain": "array([[2, 3, 9, 0, 8],\n       [1, 9, 1, 8, 3],\n       [7, 4, 1, 7, 7],\n       [6, 1, 3, 8, 8]])"
     },
     "execution_count": 50,
     "metadata": {},
     "output_type": "execute_result"
    }
   ],
   "source": [
    "newcoba = coba.reshape(2, 10)\n",
    "coba"
   ],
   "metadata": {
    "collapsed": false,
    "ExecuteTime": {
     "end_time": "2024-03-10T09:00:20.104072Z",
     "start_time": "2024-03-10T09:00:20.098226Z"
    }
   },
   "id": "ef209a1836f2fffe",
   "execution_count": 50
  },
  {
   "cell_type": "code",
   "outputs": [
    {
     "data": {
      "text/plain": "array([[2, 3, 9, 0, 8, 1, 9, 1, 8, 3],\n       [7, 4, 1, 7, 7, 6, 1, 3, 8, 8]])"
     },
     "execution_count": 51,
     "metadata": {},
     "output_type": "execute_result"
    }
   ],
   "source": [
    "newcoba"
   ],
   "metadata": {
    "collapsed": false,
    "ExecuteTime": {
     "end_time": "2024-03-10T09:00:25.439650Z",
     "start_time": "2024-03-10T09:00:25.434076Z"
    }
   },
   "id": "533aeac1b436361d",
   "execution_count": 51
  },
  {
   "cell_type": "code",
   "outputs": [
    {
     "data": {
      "text/plain": "array([[2, 3, 9, 0, 8, 1, 9, 1, 8, 3],\n       [7, 4, 1, 7, 7, 6, 1, 3, 8, 8]])"
     },
     "execution_count": 54,
     "metadata": {},
     "output_type": "execute_result"
    }
   ],
   "source": [
    "coba = newcoba\n",
    "coba"
   ],
   "metadata": {
    "collapsed": false,
    "ExecuteTime": {
     "end_time": "2024-03-10T09:00:33.439578Z",
     "start_time": "2024-03-10T09:00:33.433264Z"
    }
   },
   "id": "7d868fea3e531a39",
   "execution_count": 54
  },
  {
   "cell_type": "code",
   "outputs": [],
   "source": [
    "coba1d = randint(0, 100, 20)\n",
    "coba2d = randint(0, 100, 20).reshape(4, 5)"
   ],
   "metadata": {
    "collapsed": false,
    "ExecuteTime": {
     "end_time": "2024-03-10T09:01:19.643743Z",
     "start_time": "2024-03-10T09:01:19.639530Z"
    }
   },
   "id": "8f830818ae70ba12",
   "execution_count": 58
  },
  {
   "cell_type": "code",
   "outputs": [
    {
     "data": {
      "text/plain": "array([46, 87, 75, 79, 23, 24, 85, 24, 70, 22, 50, 29, 29, 39, 58,  3, 60,\n       20, 51, 54])"
     },
     "execution_count": 60,
     "metadata": {},
     "output_type": "execute_result"
    }
   ],
   "source": [
    "coba1d"
   ],
   "metadata": {
    "collapsed": false,
    "ExecuteTime": {
     "end_time": "2024-03-10T09:01:24.833881Z",
     "start_time": "2024-03-10T09:01:24.829106Z"
    }
   },
   "id": "dba5ef78f11614a4",
   "execution_count": 60
  },
  {
   "cell_type": "code",
   "outputs": [
    {
     "data": {
      "text/plain": "array([[28,  1, 28, 98, 98],\n       [17, 68, 84, 36, 31],\n       [41, 49, 21, 17, 32],\n       [97, 25, 25, 35, 16]])"
     },
     "execution_count": 62,
     "metadata": {},
     "output_type": "execute_result"
    }
   ],
   "source": [
    "coba2d"
   ],
   "metadata": {
    "collapsed": false,
    "ExecuteTime": {
     "end_time": "2024-03-10T09:01:43.281379Z",
     "start_time": "2024-03-10T09:01:43.276258Z"
    }
   },
   "id": "120679b8861803fb",
   "execution_count": 62
  },
  {
   "cell_type": "code",
   "outputs": [
    {
     "data": {
      "text/plain": "87"
     },
     "execution_count": 63,
     "metadata": {},
     "output_type": "execute_result"
    }
   ],
   "source": [
    "coba1d.max()"
   ],
   "metadata": {
    "collapsed": false,
    "ExecuteTime": {
     "end_time": "2024-03-10T09:01:50.144881Z",
     "start_time": "2024-03-10T09:01:50.138862Z"
    }
   },
   "id": "33a7d6926bc6fc5e",
   "execution_count": 63
  },
  {
   "cell_type": "code",
   "outputs": [
    {
     "data": {
      "text/plain": "98"
     },
     "execution_count": 64,
     "metadata": {},
     "output_type": "execute_result"
    }
   ],
   "source": [
    "coba2d.max()"
   ],
   "metadata": {
    "collapsed": false,
    "ExecuteTime": {
     "end_time": "2024-03-10T09:01:57.543237Z",
     "start_time": "2024-03-10T09:01:57.537582Z"
    }
   },
   "id": "cc4485599183881a",
   "execution_count": 64
  },
  {
   "cell_type": "code",
   "outputs": [
    {
     "data": {
      "text/plain": "3"
     },
     "execution_count": 66,
     "metadata": {},
     "output_type": "execute_result"
    }
   ],
   "source": [
    "coba1d.min()"
   ],
   "metadata": {
    "collapsed": false,
    "ExecuteTime": {
     "end_time": "2024-03-10T09:02:13.037156Z",
     "start_time": "2024-03-10T09:02:13.031782Z"
    }
   },
   "id": "9f76b84426a1a8fe",
   "execution_count": 66
  },
  {
   "cell_type": "code",
   "outputs": [
    {
     "data": {
      "text/plain": "array([[28,  1, 28, 98, 98],\n       [17, 68, 84, 36, 31],\n       [41, 49, 21, 17, 32],\n       [97, 25, 25, 35, 16]])"
     },
     "execution_count": 69,
     "metadata": {},
     "output_type": "execute_result"
    }
   ],
   "source": [
    "coba2d"
   ],
   "metadata": {
    "collapsed": false,
    "ExecuteTime": {
     "end_time": "2024-03-10T09:02:17.566635Z",
     "start_time": "2024-03-10T09:02:17.561403Z"
    }
   },
   "id": "42ea204e31ddcae6",
   "execution_count": 69
  },
  {
   "cell_type": "code",
   "outputs": [
    {
     "data": {
      "text/plain": "1"
     },
     "execution_count": 70,
     "metadata": {},
     "output_type": "execute_result"
    }
   ],
   "source": [
    "coba1d.argmax()"
   ],
   "metadata": {
    "collapsed": false,
    "ExecuteTime": {
     "end_time": "2024-03-10T09:02:27.625759Z",
     "start_time": "2024-03-10T09:02:27.615450Z"
    }
   },
   "id": "2df50bfe29ba4dca",
   "execution_count": 70
  },
  {
   "cell_type": "code",
   "outputs": [
    {
     "data": {
      "text/plain": "3"
     },
     "execution_count": 71,
     "metadata": {},
     "output_type": "execute_result"
    }
   ],
   "source": [
    "coba2d.argmax()"
   ],
   "metadata": {
    "collapsed": false,
    "ExecuteTime": {
     "end_time": "2024-03-10T09:02:37.430443Z",
     "start_time": "2024-03-10T09:02:37.423853Z"
    }
   },
   "id": "64c4ed6edb05fb06",
   "execution_count": 71
  },
  {
   "cell_type": "code",
   "outputs": [
    {
     "data": {
      "text/plain": "3"
     },
     "execution_count": 72,
     "metadata": {},
     "output_type": "execute_result"
    }
   ],
   "source": [
    "coba1d.argmin()"
   ],
   "metadata": {
    "collapsed": false,
    "ExecuteTime": {
     "end_time": "2024-03-10T09:03:08.223311Z",
     "start_time": "2024-03-10T09:03:08.216941Z"
    }
   },
   "id": "1b3bf49c6ab089be",
   "execution_count": 72
  },
  {
   "cell_type": "code",
   "outputs": [
    {
     "data": {
      "text/plain": "1"
     },
     "execution_count": 74,
     "metadata": {},
     "output_type": "execute_result"
    }
   ],
   "source": [
    "coba2d.argmin()"
   ],
   "metadata": {
    "collapsed": false,
    "ExecuteTime": {
     "end_time": "2024-03-10T09:04:06.458002Z",
     "start_time": "2024-03-10T09:04:06.452093Z"
    }
   },
   "id": "3d98ad3de2129cc2",
   "execution_count": 74
  },
  {
   "cell_type": "code",
   "outputs": [
    {
     "data": {
      "text/plain": "(20,)"
     },
     "execution_count": 77,
     "metadata": {},
     "output_type": "execute_result"
    }
   ],
   "source": [
    "coba1d.shape"
   ],
   "metadata": {
    "collapsed": false,
    "ExecuteTime": {
     "end_time": "2024-03-10T09:04:26.524930Z",
     "start_time": "2024-03-10T09:04:26.518308Z"
    }
   },
   "id": "f8fee5a19a1f2eb7",
   "execution_count": 77
  },
  {
   "cell_type": "code",
   "outputs": [
    {
     "data": {
      "text/plain": "(4, 5)"
     },
     "execution_count": 78,
     "metadata": {},
     "output_type": "execute_result"
    }
   ],
   "source": [
    "coba2d.shape"
   ],
   "metadata": {
    "collapsed": false,
    "ExecuteTime": {
     "end_time": "2024-03-10T09:04:32.803977Z",
     "start_time": "2024-03-10T09:04:32.798750Z"
    }
   },
   "id": "7dcb5b4ec57d7212",
   "execution_count": 78
  },
  {
   "cell_type": "code",
   "outputs": [
    {
     "data": {
      "text/plain": "dtype('int32')"
     },
     "execution_count": 79,
     "metadata": {},
     "output_type": "execute_result"
    }
   ],
   "source": [
    "coba1d.dtype"
   ],
   "metadata": {
    "collapsed": false,
    "ExecuteTime": {
     "end_time": "2024-03-10T09:04:51.123697Z",
     "start_time": "2024-03-10T09:04:51.118307Z"
    }
   },
   "id": "330643c6d7f7a9ef",
   "execution_count": 79
  },
  {
   "cell_type": "code",
   "outputs": [
    {
     "data": {
      "text/plain": "dtype('int32')"
     },
     "execution_count": 80,
     "metadata": {},
     "output_type": "execute_result"
    }
   ],
   "source": [
    "coba2d.dtype"
   ],
   "metadata": {
    "collapsed": false,
    "ExecuteTime": {
     "end_time": "2024-03-10T09:04:58.298984Z",
     "start_time": "2024-03-10T09:04:58.290696Z"
    }
   },
   "id": "20f75d52997012f9",
   "execution_count": 80
  },
  {
   "cell_type": "code",
   "outputs": [],
   "source": [
    "# Indexing di Numpy\n"
   ],
   "metadata": {
    "collapsed": false,
    "ExecuteTime": {
     "end_time": "2024-03-10T09:05:15.654475Z",
     "start_time": "2024-03-10T09:05:15.650974Z"
    }
   },
   "id": "9c25eaf6e6297a87",
   "execution_count": 81
  },
  {
   "cell_type": "code",
   "outputs": [],
   "source": [
    "coba = np.arange(0, 11)\n"
   ],
   "metadata": {
    "collapsed": false,
    "ExecuteTime": {
     "end_time": "2024-03-10T09:05:30.096635Z",
     "start_time": "2024-03-10T09:05:30.093062Z"
    }
   },
   "id": "2cc3c666a071a214",
   "execution_count": 82
  },
  {
   "cell_type": "code",
   "outputs": [
    {
     "data": {
      "text/plain": "array([ 0,  1,  2,  3,  4,  5,  6,  7,  8,  9, 10])"
     },
     "execution_count": 84,
     "metadata": {},
     "output_type": "execute_result"
    }
   ],
   "source": [
    "coba"
   ],
   "metadata": {
    "collapsed": false,
    "ExecuteTime": {
     "end_time": "2024-03-10T09:05:35.054268Z",
     "start_time": "2024-03-10T09:05:35.049616Z"
    }
   },
   "id": "431202c75179ccc4",
   "execution_count": 84
  },
  {
   "cell_type": "code",
   "outputs": [
    {
     "data": {
      "text/plain": "6"
     },
     "execution_count": 85,
     "metadata": {},
     "output_type": "execute_result"
    }
   ],
   "source": [
    "coba[6]"
   ],
   "metadata": {
    "collapsed": false,
    "ExecuteTime": {
     "end_time": "2024-03-10T09:05:42.558918Z",
     "start_time": "2024-03-10T09:05:42.553725Z"
    }
   },
   "id": "a1fea461f885c911",
   "execution_count": 85
  },
  {
   "cell_type": "code",
   "outputs": [
    {
     "data": {
      "text/plain": "array([ 5,  6,  7,  8,  9, 10])"
     },
     "execution_count": 86,
     "metadata": {},
     "output_type": "execute_result"
    }
   ],
   "source": [
    "coba[5:]"
   ],
   "metadata": {
    "collapsed": false,
    "ExecuteTime": {
     "end_time": "2024-03-10T09:05:54.724480Z",
     "start_time": "2024-03-10T09:05:54.719448Z"
    }
   },
   "id": "5a255aaa43ff6b69",
   "execution_count": 86
  },
  {
   "cell_type": "code",
   "outputs": [
    {
     "data": {
      "text/plain": "array([5, 6, 7, 8])"
     },
     "execution_count": 87,
     "metadata": {},
     "output_type": "execute_result"
    }
   ],
   "source": [
    "coba[5:9]"
   ],
   "metadata": {
    "collapsed": false,
    "ExecuteTime": {
     "end_time": "2024-03-10T09:06:00.955773Z",
     "start_time": "2024-03-10T09:06:00.950419Z"
    }
   },
   "id": "f3ca6d9958b44b1e",
   "execution_count": 87
  },
  {
   "cell_type": "code",
   "outputs": [],
   "source": [
    "coba2 = coba[:6]  #mengambil sebagian array"
   ],
   "metadata": {
    "collapsed": false,
    "ExecuteTime": {
     "end_time": "2024-03-10T09:06:52.930447Z",
     "start_time": "2024-03-10T09:06:52.926282Z"
    }
   },
   "id": "55d61fe0e0b7a22b",
   "execution_count": 92
  },
  {
   "cell_type": "code",
   "outputs": [
    {
     "data": {
      "text/plain": "array([0, 1, 2, 3, 4, 5])"
     },
     "execution_count": 93,
     "metadata": {},
     "output_type": "execute_result"
    }
   ],
   "source": [
    "coba2"
   ],
   "metadata": {
    "collapsed": false,
    "ExecuteTime": {
     "end_time": "2024-03-10T09:06:53.687608Z",
     "start_time": "2024-03-10T09:06:53.682574Z"
    }
   },
   "id": "6ab037d5707679f2",
   "execution_count": 93
  },
  {
   "cell_type": "code",
   "outputs": [],
   "source": [
    "coba2[:] = 100  #tidak di rekomendasikan mencopy semua data"
   ],
   "metadata": {
    "collapsed": false,
    "ExecuteTime": {
     "end_time": "2024-03-10T09:07:23.701806Z",
     "start_time": "2024-03-10T09:07:23.697379Z"
    }
   },
   "id": "1db9c9e1c49bd091",
   "execution_count": 94
  },
  {
   "cell_type": "code",
   "outputs": [
    {
     "data": {
      "text/plain": "array([100, 100, 100, 100, 100, 100])"
     },
     "execution_count": 95,
     "metadata": {},
     "output_type": "execute_result"
    }
   ],
   "source": [
    "coba2"
   ],
   "metadata": {
    "collapsed": false,
    "ExecuteTime": {
     "end_time": "2024-03-10T09:07:29.664069Z",
     "start_time": "2024-03-10T09:07:29.659247Z"
    }
   },
   "id": "765fd5254024997b",
   "execution_count": 95
  },
  {
   "cell_type": "code",
   "outputs": [
    {
     "data": {
      "text/plain": "array([100, 100, 100, 100, 100, 100,   6,   7,   8,   9,  10])"
     },
     "execution_count": 96,
     "metadata": {},
     "output_type": "execute_result"
    }
   ],
   "source": [
    "coba"
   ],
   "metadata": {
    "collapsed": false,
    "ExecuteTime": {
     "end_time": "2024-03-10T09:07:39.232154Z",
     "start_time": "2024-03-10T09:07:39.225878Z"
    }
   },
   "id": "97c15fbff10be6e8",
   "execution_count": 96
  },
  {
   "cell_type": "code",
   "outputs": [],
   "source": [
    "coba4 = coba.copy()"
   ],
   "metadata": {
    "collapsed": false,
    "ExecuteTime": {
     "end_time": "2024-03-10T09:09:14.403263Z",
     "start_time": "2024-03-10T09:09:14.398941Z"
    }
   },
   "id": "f6e3d118b62acfe6",
   "execution_count": 99
  },
  {
   "cell_type": "code",
   "outputs": [],
   "source": [
    "coba4[:] = 100"
   ],
   "metadata": {
    "collapsed": false,
    "ExecuteTime": {
     "end_time": "2024-03-10T09:09:14.837979Z",
     "start_time": "2024-03-10T09:09:14.833816Z"
    }
   },
   "id": "2c83db572ad74c52",
   "execution_count": 100
  },
  {
   "cell_type": "code",
   "outputs": [
    {
     "data": {
      "text/plain": "array([100, 100, 100, 100, 100, 100, 100, 100, 100, 100, 100])"
     },
     "execution_count": 101,
     "metadata": {},
     "output_type": "execute_result"
    }
   ],
   "source": [
    "coba4"
   ],
   "metadata": {
    "collapsed": false,
    "ExecuteTime": {
     "end_time": "2024-03-10T09:09:15.313882Z",
     "start_time": "2024-03-10T09:09:15.308662Z"
    }
   },
   "id": "bc9fb42e3d7ebef7",
   "execution_count": 101
  },
  {
   "cell_type": "code",
   "outputs": [
    {
     "data": {
      "text/plain": "array([100, 100, 100, 100, 100, 100,   6,   7,   8,   9,  10])"
     },
     "execution_count": 102,
     "metadata": {},
     "output_type": "execute_result"
    }
   ],
   "source": [
    "coba"
   ],
   "metadata": {
    "collapsed": false,
    "ExecuteTime": {
     "end_time": "2024-03-10T09:09:21.531244Z",
     "start_time": "2024-03-10T09:09:21.525548Z"
    }
   },
   "id": "a68512416860537f",
   "execution_count": 102
  },
  {
   "cell_type": "code",
   "outputs": [],
   "source": [
    "bil2d = np.array([[1, 2, 3], [4, 5, 6], [7, 8, 9]])"
   ],
   "metadata": {
    "collapsed": false,
    "ExecuteTime": {
     "end_time": "2024-03-10T09:09:41.788745Z",
     "start_time": "2024-03-10T09:09:41.785536Z"
    }
   },
   "id": "f5a5c2499ea58089",
   "execution_count": 103
  },
  {
   "cell_type": "code",
   "outputs": [
    {
     "data": {
      "text/plain": "array([[1, 2, 3],\n       [4, 5, 6],\n       [7, 8, 9]])"
     },
     "execution_count": 104,
     "metadata": {},
     "output_type": "execute_result"
    }
   ],
   "source": [
    "bil2d"
   ],
   "metadata": {
    "collapsed": false,
    "ExecuteTime": {
     "end_time": "2024-03-10T09:09:43.978309Z",
     "start_time": "2024-03-10T09:09:43.973034Z"
    }
   },
   "id": "6cb3b0098f3ccc81",
   "execution_count": 104
  },
  {
   "cell_type": "code",
   "outputs": [
    {
     "data": {
      "text/plain": "1"
     },
     "execution_count": 105,
     "metadata": {},
     "output_type": "execute_result"
    }
   ],
   "source": [
    "bil2d[0][0]  #tidak di rekomendasikan"
   ],
   "metadata": {
    "collapsed": false,
    "ExecuteTime": {
     "end_time": "2024-03-10T09:10:00.346249Z",
     "start_time": "2024-03-10T09:10:00.340039Z"
    }
   },
   "id": "54956943417aebb9",
   "execution_count": 105
  },
  {
   "cell_type": "code",
   "outputs": [
    {
     "data": {
      "text/plain": "9"
     },
     "execution_count": 106,
     "metadata": {},
     "output_type": "execute_result"
    }
   ],
   "source": [
    "bil2d[2][2]  #tidak di rekomendasikan"
   ],
   "metadata": {
    "collapsed": false,
    "ExecuteTime": {
     "end_time": "2024-03-10T09:10:16.493874Z",
     "start_time": "2024-03-10T09:10:16.488922Z"
    }
   },
   "id": "7d2abf11eaad41db",
   "execution_count": 106
  },
  {
   "cell_type": "code",
   "outputs": [
    {
     "data": {
      "text/plain": "array([[4]])"
     },
     "execution_count": 116,
     "metadata": {},
     "output_type": "execute_result"
    }
   ],
   "source": [
    "bil2d[1:2, 0:1]"
   ],
   "metadata": {
    "collapsed": false,
    "ExecuteTime": {
     "end_time": "2024-03-10T09:12:36.726719Z",
     "start_time": "2024-03-10T09:12:36.721419Z"
    }
   },
   "id": "37125e3669e32eb4",
   "execution_count": 116
  },
  {
   "cell_type": "code",
   "outputs": [
    {
     "ename": "TypeError",
     "evalue": "arange() requires stop to be specified.",
     "output_type": "error",
     "traceback": [
      "\u001B[1;31m---------------------------------------------------------------------------\u001B[0m",
      "\u001B[1;31mTypeError\u001B[0m                                 Traceback (most recent call last)",
      "Cell \u001B[1;32mIn[117], line 1\u001B[0m\n\u001B[1;32m----> 1\u001B[0m bil\u001B[38;5;241m=\u001B[39m\u001B[43mnp\u001B[49m\u001B[38;5;241;43m.\u001B[39;49m\u001B[43marange\u001B[49m\u001B[43m(\u001B[49m\u001B[43m)\u001B[49m\n",
      "\u001B[1;31mTypeError\u001B[0m: arange() requires stop to be specified."
     ]
    }
   ],
   "source": [
    "# Slicing dengan boolean di Numpy"
   ],
   "metadata": {
    "collapsed": false,
    "ExecuteTime": {
     "end_time": "2024-03-10T09:13:11.134207Z",
     "start_time": "2024-03-10T09:13:11.115395Z"
    }
   },
   "id": "20ea83d17d736401",
   "execution_count": 117
  },
  {
   "cell_type": "code",
   "outputs": [],
   "source": [
    "bil = np.arange(1, 11)"
   ],
   "metadata": {
    "collapsed": false,
    "ExecuteTime": {
     "end_time": "2024-03-10T09:16:36.621576Z",
     "start_time": "2024-03-10T09:16:36.617463Z"
    }
   },
   "id": "d941b1b10a85e927",
   "execution_count": 134
  },
  {
   "cell_type": "code",
   "outputs": [
    {
     "data": {
      "text/plain": "array([ 1,  2,  3,  4,  5,  6,  7,  8,  9, 10])"
     },
     "execution_count": 135,
     "metadata": {},
     "output_type": "execute_result"
    }
   ],
   "source": [
    "bil"
   ],
   "metadata": {
    "collapsed": false,
    "ExecuteTime": {
     "end_time": "2024-03-10T09:16:38.329670Z",
     "start_time": "2024-03-10T09:16:38.324893Z"
    }
   },
   "id": "5b12bbeb5aefd879",
   "execution_count": 135
  },
  {
   "cell_type": "code",
   "outputs": [],
   "source": [
    "angkaT = bil > 5"
   ],
   "metadata": {
    "collapsed": false
   },
   "id": "33e91c7474538f47",
   "execution_count": null
  },
  {
   "cell_type": "code",
   "outputs": [
    {
     "data": {
      "text/plain": "array([ True,  True,  True,  True,  True])"
     },
     "execution_count": 128,
     "metadata": {},
     "output_type": "execute_result"
    }
   ],
   "source": [
    "angkaT"
   ],
   "metadata": {
    "collapsed": false,
    "ExecuteTime": {
     "end_time": "2024-03-10T09:15:06.188834Z",
     "start_time": "2024-03-10T09:15:06.183177Z"
    }
   },
   "id": "762e16d796dcdf6a",
   "execution_count": 128
  },
  {
   "cell_type": "code",
   "outputs": [],
   "source": [
    "bil = bil[angkaT]"
   ],
   "metadata": {
    "collapsed": false,
    "ExecuteTime": {
     "end_time": "2024-03-10T09:15:11.410930Z",
     "start_time": "2024-03-10T09:15:11.407360Z"
    }
   },
   "id": "a06fc713feebc1a8",
   "execution_count": 129
  },
  {
   "cell_type": "code",
   "outputs": [
    {
     "data": {
      "text/plain": "array([ 6,  7,  8,  9, 10])"
     },
     "execution_count": 131,
     "metadata": {},
     "output_type": "execute_result"
    }
   ],
   "source": [
    "bil"
   ],
   "metadata": {
    "collapsed": false,
    "ExecuteTime": {
     "end_time": "2024-03-10T09:15:19.326652Z",
     "start_time": "2024-03-10T09:15:19.322533Z"
    }
   },
   "id": "5e1057359573a776",
   "execution_count": 131
  },
  {
   "cell_type": "code",
   "outputs": [
    {
     "data": {
      "text/plain": "array([ 5,  6,  7,  8,  9, 10])"
     },
     "execution_count": 137,
     "metadata": {},
     "output_type": "execute_result"
    }
   ],
   "source": [
    "bil[bil>4]"
   ],
   "metadata": {
    "collapsed": false,
    "ExecuteTime": {
     "end_time": "2024-03-10T09:16:44.117881Z",
     "start_time": "2024-03-10T09:16:44.112849Z"
    }
   },
   "id": "bc1fbbe67bd5a138",
   "execution_count": 137
  },
  {
   "cell_type": "code",
   "outputs": [],
   "source": [],
   "metadata": {
    "collapsed": false
   },
   "id": "b4ed4e55ad3f3bcd"
  }
 ],
 "metadata": {
  "kernelspec": {
   "display_name": "Python 3",
   "language": "python",
   "name": "python3"
  },
  "language_info": {
   "codemirror_mode": {
    "name": "ipython",
    "version": 2
   },
   "file_extension": ".py",
   "mimetype": "text/x-python",
   "name": "python",
   "nbconvert_exporter": "python",
   "pygments_lexer": "ipython2",
   "version": "2.7.6"
  }
 },
 "nbformat": 4,
 "nbformat_minor": 5
}
