{
 "cells": [
  {
   "cell_type": "code",
   "execution_count": 5,
   "id": "initial_id",
   "metadata": {
    "collapsed": true,
    "ExecuteTime": {
     "end_time": "2024-03-11T14:11:30.258163Z",
     "start_time": "2024-03-11T14:11:30.246182Z"
    }
   },
   "outputs": [],
   "source": [
    "import pandas as pd\n",
    "import numpy as np\n"
   ]
  },
  {
   "cell_type": "code",
   "outputs": [],
   "source": [
    "label = ['satu', 'dua', 'tiga']\n"
   ],
   "metadata": {
    "collapsed": false,
    "ExecuteTime": {
     "end_time": "2024-03-11T14:10:59.422505Z",
     "start_time": "2024-03-11T14:10:59.414367Z"
    }
   },
   "id": "eb08e96d3fe76886",
   "execution_count": 2
  },
  {
   "cell_type": "code",
   "outputs": [],
   "source": [
    "angka = [10, 20, 30]\n"
   ],
   "metadata": {
    "collapsed": false,
    "ExecuteTime": {
     "end_time": "2024-03-11T14:11:13.436799Z",
     "start_time": "2024-03-11T14:11:13.421147Z"
    }
   },
   "id": "65afdccb5821f7ed",
   "execution_count": 3
  },
  {
   "cell_type": "code",
   "outputs": [],
   "source": [
    "np_angka = np.array(angka)"
   ],
   "metadata": {
    "collapsed": false,
    "ExecuteTime": {
     "end_time": "2024-03-11T14:11:36.272624Z",
     "start_time": "2024-03-11T14:11:36.258294Z"
    }
   },
   "id": "8725692ba84c7c0d",
   "execution_count": 6
  },
  {
   "cell_type": "code",
   "outputs": [
    {
     "data": {
      "text/plain": "array([10, 20, 30])"
     },
     "execution_count": 7,
     "metadata": {},
     "output_type": "execute_result"
    }
   ],
   "source": [
    "np_angka"
   ],
   "metadata": {
    "collapsed": false,
    "ExecuteTime": {
     "end_time": "2024-03-11T14:11:39.159811Z",
     "start_time": "2024-03-11T14:11:39.137833Z"
    }
   },
   "id": "29b57d039395be11",
   "execution_count": 7
  },
  {
   "cell_type": "code",
   "outputs": [],
   "source": [
    "d = {\n",
    "    'satu': 10,\n",
    "    'dua': 20,\n",
    "    'tiga': 30,\n",
    "}"
   ],
   "metadata": {
    "collapsed": false,
    "ExecuteTime": {
     "end_time": "2024-03-11T14:18:39.019800Z",
     "start_time": "2024-03-11T14:18:39.003322Z"
    }
   },
   "id": "e5805a433c4f1306",
   "execution_count": 35
  },
  {
   "cell_type": "code",
   "outputs": [],
   "source": [
    "dataku = pd.Series(\n",
    "    data=angka, index=label\n",
    ")"
   ],
   "metadata": {
    "collapsed": false,
    "ExecuteTime": {
     "end_time": "2024-03-11T14:14:02.224321Z",
     "start_time": "2024-03-11T14:14:02.216515Z"
    }
   },
   "id": "98d5ff098f95677a",
   "execution_count": 13
  },
  {
   "cell_type": "code",
   "outputs": [
    {
     "data": {
      "text/plain": "satu    10\ndua     20\ntiga    30\ndtype: int64"
     },
     "execution_count": 14,
     "metadata": {},
     "output_type": "execute_result"
    }
   ],
   "source": [
    "dataku"
   ],
   "metadata": {
    "collapsed": false,
    "ExecuteTime": {
     "end_time": "2024-03-11T14:14:03.302802Z",
     "start_time": "2024-03-11T14:14:03.291612Z"
    }
   },
   "id": "c7578fabfb33772c",
   "execution_count": 14
  },
  {
   "cell_type": "code",
   "outputs": [
    {
     "data": {
      "text/plain": "10"
     },
     "execution_count": 18,
     "metadata": {},
     "output_type": "execute_result"
    }
   ],
   "source": [
    "dataku['satu']"
   ],
   "metadata": {
    "collapsed": false,
    "ExecuteTime": {
     "end_time": "2024-03-11T14:14:21.132398Z",
     "start_time": "2024-03-11T14:14:21.121139Z"
    }
   },
   "id": "f9c7daa439fae23a",
   "execution_count": 18
  },
  {
   "cell_type": "code",
   "outputs": [
    {
     "data": {
      "text/plain": "10"
     },
     "execution_count": 19,
     "metadata": {},
     "output_type": "execute_result"
    }
   ],
   "source": [
    "np_angka[0]"
   ],
   "metadata": {
    "collapsed": false,
    "ExecuteTime": {
     "end_time": "2024-03-11T14:14:30.691076Z",
     "start_time": "2024-03-11T14:14:30.676912Z"
    }
   },
   "id": "d875d9c323bddc11",
   "execution_count": 19
  },
  {
   "cell_type": "code",
   "outputs": [
    {
     "data": {
      "text/plain": "satu    10\ndua     20\ntiga    30\ndtype: int64"
     },
     "execution_count": 20,
     "metadata": {},
     "output_type": "execute_result"
    }
   ],
   "source": [
    "pd.Series(d)"
   ],
   "metadata": {
    "collapsed": false,
    "ExecuteTime": {
     "end_time": "2024-03-11T14:14:41.013110Z",
     "start_time": "2024-03-11T14:14:41.000362Z"
    }
   },
   "id": "56c7a5388320a353",
   "execution_count": 20
  },
  {
   "cell_type": "code",
   "outputs": [
    {
     "data": {
      "text/plain": "0    10\n1    20\n2    30\ndtype: int32"
     },
     "execution_count": 21,
     "metadata": {},
     "output_type": "execute_result"
    }
   ],
   "source": [
    "pd.Series(np_angka)"
   ],
   "metadata": {
    "collapsed": false,
    "ExecuteTime": {
     "end_time": "2024-03-11T14:15:25.659556Z",
     "start_time": "2024-03-11T14:15:25.637556Z"
    }
   },
   "id": "d998eb9da3a1abc5",
   "execution_count": 21
  },
  {
   "cell_type": "code",
   "outputs": [
    {
     "data": {
      "text/plain": "0    10\n1    20\n2    30\ndtype: int64"
     },
     "execution_count": 23,
     "metadata": {},
     "output_type": "execute_result"
    }
   ],
   "source": [
    "pd.Series(angka)"
   ],
   "metadata": {
    "collapsed": false,
    "ExecuteTime": {
     "end_time": "2024-03-11T14:15:56.037094Z",
     "start_time": "2024-03-11T14:15:56.016074Z"
    }
   },
   "id": "8e5e5af7c4c39871",
   "execution_count": 23
  },
  {
   "cell_type": "code",
   "outputs": [],
   "source": [
    "dataku = dataku.to_frame()"
   ],
   "metadata": {
    "collapsed": false,
    "ExecuteTime": {
     "end_time": "2024-03-11T14:18:44.683819Z",
     "start_time": "2024-03-11T14:18:44.672896Z"
    }
   },
   "id": "5e432c6f6b123efa",
   "execution_count": 36
  },
  {
   "cell_type": "code",
   "outputs": [
    {
     "data": {
      "text/plain": "       0\nsatu  10\ndua   20\ntiga  30",
      "text/html": "<div>\n<style scoped>\n    .dataframe tbody tr th:only-of-type {\n        vertical-align: middle;\n    }\n\n    .dataframe tbody tr th {\n        vertical-align: top;\n    }\n\n    .dataframe thead th {\n        text-align: right;\n    }\n</style>\n<table border=\"1\" class=\"dataframe\">\n  <thead>\n    <tr style=\"text-align: right;\">\n      <th></th>\n      <th>0</th>\n    </tr>\n  </thead>\n  <tbody>\n    <tr>\n      <th>satu</th>\n      <td>10</td>\n    </tr>\n    <tr>\n      <th>dua</th>\n      <td>20</td>\n    </tr>\n    <tr>\n      <th>tiga</th>\n      <td>30</td>\n    </tr>\n  </tbody>\n</table>\n</div>"
     },
     "execution_count": 26,
     "metadata": {},
     "output_type": "execute_result"
    }
   ],
   "source": [
    "dataku"
   ],
   "metadata": {
    "collapsed": false,
    "ExecuteTime": {
     "end_time": "2024-03-11T14:17:02.041433Z",
     "start_time": "2024-03-11T14:17:02.031433Z"
    }
   },
   "id": "a1491c84d4a3f0d3",
   "execution_count": 26
  },
  {
   "cell_type": "code",
   "outputs": [],
   "source": [
    "d2 = {\n",
    "    'satu': 10,\n",
    "    'dua': 20,\n",
    "    'tiga': 30,\n",
    "    'empat': 40,\n",
    "    'lima': 50,\n",
    "}"
   ],
   "metadata": {
    "collapsed": false,
    "ExecuteTime": {
     "end_time": "2024-03-11T14:18:29.788308Z",
     "start_time": "2024-03-11T14:18:29.784694Z"
    }
   },
   "id": "40bba0ad09761880",
   "execution_count": 31
  },
  {
   "cell_type": "code",
   "outputs": [],
   "source": [
    "dataku = pd.Series(d)"
   ],
   "metadata": {
    "collapsed": false
   },
   "id": "e7459b777b06ca70",
   "execution_count": null
  },
  {
   "cell_type": "code",
   "outputs": [
    {
     "data": {
      "text/plain": "satu    10\ndua     20\ntiga    30\ndtype: int64"
     },
     "execution_count": 41,
     "metadata": {},
     "output_type": "execute_result"
    }
   ],
   "source": [
    "dataku"
   ],
   "metadata": {
    "collapsed": false,
    "ExecuteTime": {
     "end_time": "2024-03-11T14:19:31.075604Z",
     "start_time": "2024-03-11T14:19:31.063004Z"
    }
   },
   "id": "f8c3c14047cae127",
   "execution_count": 41
  },
  {
   "cell_type": "code",
   "outputs": [],
   "source": [
    "dataku2 = pd.Series(d2)"
   ],
   "metadata": {
    "collapsed": false
   },
   "id": "b6d4a74accd0fbfb",
   "execution_count": null
  },
  {
   "cell_type": "code",
   "outputs": [
    {
     "data": {
      "text/plain": "satu     10\ndua      20\ntiga     30\nempat    40\nlima     50\ndtype: int64"
     },
     "execution_count": 42,
     "metadata": {},
     "output_type": "execute_result"
    }
   ],
   "source": [
    "dataku2"
   ],
   "metadata": {
    "collapsed": false,
    "ExecuteTime": {
     "end_time": "2024-03-11T14:19:37.077888Z",
     "start_time": "2024-03-11T14:19:37.057853Z"
    }
   },
   "id": "87f8ef5338a8acf7",
   "execution_count": 42
  },
  {
   "cell_type": "code",
   "outputs": [
    {
     "data": {
      "text/plain": "dua      40.0\nempat     NaN\nlima      NaN\nsatu     20.0\ntiga     60.0\ndtype: float64"
     },
     "execution_count": 39,
     "metadata": {},
     "output_type": "execute_result"
    }
   ],
   "source": [
    "dataku + dataku2  # \"empat\" dan \"lima\" akan NaN karena tidak ada pasangan"
   ],
   "metadata": {
    "collapsed": false,
    "ExecuteTime": {
     "end_time": "2024-03-11T14:18:48.952992Z",
     "start_time": "2024-03-11T14:18:48.932055Z"
    }
   },
   "id": "5de0e659d18504e7",
   "execution_count": 39
  },
  {
   "cell_type": "code",
   "outputs": [],
   "source": [
    "#DataFrame"
   ],
   "metadata": {
    "collapsed": false
   },
   "id": "3c75e2728c3fd178",
   "execution_count": null
  },
  {
   "cell_type": "code",
   "outputs": [],
   "source": [
    "np.random.seed(100)"
   ],
   "metadata": {
    "collapsed": false,
    "ExecuteTime": {
     "end_time": "2024-03-11T14:22:46.496312Z",
     "start_time": "2024-03-11T14:22:46.477461Z"
    }
   },
   "id": "88bef5c22331cd35",
   "execution_count": 45
  },
  {
   "cell_type": "code",
   "outputs": [],
   "source": [
    "dataku = pd.DataFrame(\n",
    "    np.random.randn(3, 5),\n",
    "    ['A', 'B', 'C'],\n",
    "    ['satu', 'dua', 'tiga', 'empat', 'lima']\n",
    "\n",
    ")"
   ],
   "metadata": {
    "collapsed": false,
    "ExecuteTime": {
     "end_time": "2024-03-11T14:32:55.463546Z",
     "start_time": "2024-03-11T14:32:55.456387Z"
    }
   },
   "id": "a2a1c7730eb2be55",
   "execution_count": 70
  },
  {
   "cell_type": "code",
   "outputs": [
    {
     "data": {
      "text/plain": "       satu       dua      tiga     empat      lima\nA -1.749765  0.342680  1.153036 -0.252436  0.981321\nB  0.514219  0.221180 -1.070043 -0.189496  0.255001\nC -0.458027  0.435163 -0.583595  0.816847  0.672721",
      "text/html": "<div>\n<style scoped>\n    .dataframe tbody tr th:only-of-type {\n        vertical-align: middle;\n    }\n\n    .dataframe tbody tr th {\n        vertical-align: top;\n    }\n\n    .dataframe thead th {\n        text-align: right;\n    }\n</style>\n<table border=\"1\" class=\"dataframe\">\n  <thead>\n    <tr style=\"text-align: right;\">\n      <th></th>\n      <th>satu</th>\n      <th>dua</th>\n      <th>tiga</th>\n      <th>empat</th>\n      <th>lima</th>\n    </tr>\n  </thead>\n  <tbody>\n    <tr>\n      <th>A</th>\n      <td>-1.749765</td>\n      <td>0.342680</td>\n      <td>1.153036</td>\n      <td>-0.252436</td>\n      <td>0.981321</td>\n    </tr>\n    <tr>\n      <th>B</th>\n      <td>0.514219</td>\n      <td>0.221180</td>\n      <td>-1.070043</td>\n      <td>-0.189496</td>\n      <td>0.255001</td>\n    </tr>\n    <tr>\n      <th>C</th>\n      <td>-0.458027</td>\n      <td>0.435163</td>\n      <td>-0.583595</td>\n      <td>0.816847</td>\n      <td>0.672721</td>\n    </tr>\n  </tbody>\n</table>\n</div>"
     },
     "execution_count": 47,
     "metadata": {},
     "output_type": "execute_result"
    }
   ],
   "source": [
    "dataku"
   ],
   "metadata": {
    "collapsed": false,
    "ExecuteTime": {
     "end_time": "2024-03-11T14:23:55.060898Z",
     "start_time": "2024-03-11T14:23:55.043342Z"
    }
   },
   "id": "4039db549f945e11",
   "execution_count": 47
  },
  {
   "cell_type": "code",
   "outputs": [
    {
     "data": {
      "text/plain": "pandas.core.series.Series"
     },
     "execution_count": 48,
     "metadata": {},
     "output_type": "execute_result"
    }
   ],
   "source": [
    "type(dataku['dua'])"
   ],
   "metadata": {
    "collapsed": false,
    "ExecuteTime": {
     "end_time": "2024-03-11T14:24:05.343303Z",
     "start_time": "2024-03-11T14:24:05.328529Z"
    }
   },
   "id": "168cd29021547e73",
   "execution_count": 48
  },
  {
   "cell_type": "code",
   "outputs": [],
   "source": [
    "# .iloc .loc"
   ],
   "metadata": {
    "collapsed": false,
    "ExecuteTime": {
     "end_time": "2024-03-11T14:24:21.097130Z",
     "start_time": "2024-03-11T14:24:21.087295Z"
    }
   },
   "id": "856f4f17cfde5674",
   "execution_count": 49
  },
  {
   "cell_type": "code",
   "outputs": [],
   "source": [
    "dataku['baru'] = dataku['empat'] + dataku['lima']"
   ],
   "metadata": {
    "collapsed": false,
    "ExecuteTime": {
     "end_time": "2024-03-11T14:25:15.472378Z",
     "start_time": "2024-03-11T14:25:15.461027Z"
    }
   },
   "id": "36188f48573fa249",
   "execution_count": 52
  },
  {
   "cell_type": "code",
   "outputs": [
    {
     "data": {
      "text/plain": "       satu       dua      tiga     empat      lima      baru\nA -1.749765  0.342680  1.153036 -0.252436  0.981321  0.728885\nB  0.514219  0.221180 -1.070043 -0.189496  0.255001  0.065506\nC -0.458027  0.435163 -0.583595  0.816847  0.672721  1.489568",
      "text/html": "<div>\n<style scoped>\n    .dataframe tbody tr th:only-of-type {\n        vertical-align: middle;\n    }\n\n    .dataframe tbody tr th {\n        vertical-align: top;\n    }\n\n    .dataframe thead th {\n        text-align: right;\n    }\n</style>\n<table border=\"1\" class=\"dataframe\">\n  <thead>\n    <tr style=\"text-align: right;\">\n      <th></th>\n      <th>satu</th>\n      <th>dua</th>\n      <th>tiga</th>\n      <th>empat</th>\n      <th>lima</th>\n      <th>baru</th>\n    </tr>\n  </thead>\n  <tbody>\n    <tr>\n      <th>A</th>\n      <td>-1.749765</td>\n      <td>0.342680</td>\n      <td>1.153036</td>\n      <td>-0.252436</td>\n      <td>0.981321</td>\n      <td>0.728885</td>\n    </tr>\n    <tr>\n      <th>B</th>\n      <td>0.514219</td>\n      <td>0.221180</td>\n      <td>-1.070043</td>\n      <td>-0.189496</td>\n      <td>0.255001</td>\n      <td>0.065506</td>\n    </tr>\n    <tr>\n      <th>C</th>\n      <td>-0.458027</td>\n      <td>0.435163</td>\n      <td>-0.583595</td>\n      <td>0.816847</td>\n      <td>0.672721</td>\n      <td>1.489568</td>\n    </tr>\n  </tbody>\n</table>\n</div>"
     },
     "execution_count": 53,
     "metadata": {},
     "output_type": "execute_result"
    }
   ],
   "source": [
    "dataku"
   ],
   "metadata": {
    "collapsed": false,
    "ExecuteTime": {
     "end_time": "2024-03-11T14:25:19.404484Z",
     "start_time": "2024-03-11T14:25:19.384538Z"
    }
   },
   "id": "2d33f7198bd916d1",
   "execution_count": 53
  },
  {
   "cell_type": "code",
   "outputs": [],
   "source": [
    "dataku = dataku.drop('tiga', axis=1)"
   ],
   "metadata": {
    "collapsed": false,
    "ExecuteTime": {
     "end_time": "2024-03-11T14:26:33.446267Z",
     "start_time": "2024-03-11T14:26:33.434796Z"
    }
   },
   "id": "971001ce54c38740",
   "execution_count": 58
  },
  {
   "cell_type": "code",
   "outputs": [
    {
     "data": {
      "text/plain": "       satu       dua     empat      lima      baru\nA -1.749765  0.342680 -0.252436  0.981321  0.728885\nB  0.514219  0.221180 -0.189496  0.255001  0.065506\nC -0.458027  0.435163  0.816847  0.672721  1.489568",
      "text/html": "<div>\n<style scoped>\n    .dataframe tbody tr th:only-of-type {\n        vertical-align: middle;\n    }\n\n    .dataframe tbody tr th {\n        vertical-align: top;\n    }\n\n    .dataframe thead th {\n        text-align: right;\n    }\n</style>\n<table border=\"1\" class=\"dataframe\">\n  <thead>\n    <tr style=\"text-align: right;\">\n      <th></th>\n      <th>satu</th>\n      <th>dua</th>\n      <th>empat</th>\n      <th>lima</th>\n      <th>baru</th>\n    </tr>\n  </thead>\n  <tbody>\n    <tr>\n      <th>A</th>\n      <td>-1.749765</td>\n      <td>0.342680</td>\n      <td>-0.252436</td>\n      <td>0.981321</td>\n      <td>0.728885</td>\n    </tr>\n    <tr>\n      <th>B</th>\n      <td>0.514219</td>\n      <td>0.221180</td>\n      <td>-0.189496</td>\n      <td>0.255001</td>\n      <td>0.065506</td>\n    </tr>\n    <tr>\n      <th>C</th>\n      <td>-0.458027</td>\n      <td>0.435163</td>\n      <td>0.816847</td>\n      <td>0.672721</td>\n      <td>1.489568</td>\n    </tr>\n  </tbody>\n</table>\n</div>"
     },
     "execution_count": 59,
     "metadata": {},
     "output_type": "execute_result"
    }
   ],
   "source": [
    "dataku"
   ],
   "metadata": {
    "collapsed": false,
    "ExecuteTime": {
     "end_time": "2024-03-11T14:26:34.133784Z",
     "start_time": "2024-03-11T14:26:34.112102Z"
    }
   },
   "id": "9cc8b8222ce33372",
   "execution_count": 59
  },
  {
   "cell_type": "code",
   "outputs": [],
   "source": [
    "dataku.drop('baru', axis=1,  #kolom\n",
    "            inplace=True)  # artinya menghapus kolom"
   ],
   "metadata": {
    "collapsed": false,
    "ExecuteTime": {
     "end_time": "2024-03-11T14:27:11.857147Z",
     "start_time": "2024-03-11T14:27:11.852391Z"
    }
   },
   "id": "7d9f9ee773184c55",
   "execution_count": 60
  },
  {
   "cell_type": "code",
   "outputs": [
    {
     "data": {
      "text/plain": "       satu       dua     empat      lima\nA -1.749765  0.342680 -0.252436  0.981321\nB  0.514219  0.221180 -0.189496  0.255001\nC -0.458027  0.435163  0.816847  0.672721",
      "text/html": "<div>\n<style scoped>\n    .dataframe tbody tr th:only-of-type {\n        vertical-align: middle;\n    }\n\n    .dataframe tbody tr th {\n        vertical-align: top;\n    }\n\n    .dataframe thead th {\n        text-align: right;\n    }\n</style>\n<table border=\"1\" class=\"dataframe\">\n  <thead>\n    <tr style=\"text-align: right;\">\n      <th></th>\n      <th>satu</th>\n      <th>dua</th>\n      <th>empat</th>\n      <th>lima</th>\n    </tr>\n  </thead>\n  <tbody>\n    <tr>\n      <th>A</th>\n      <td>-1.749765</td>\n      <td>0.342680</td>\n      <td>-0.252436</td>\n      <td>0.981321</td>\n    </tr>\n    <tr>\n      <th>B</th>\n      <td>0.514219</td>\n      <td>0.221180</td>\n      <td>-0.189496</td>\n      <td>0.255001</td>\n    </tr>\n    <tr>\n      <th>C</th>\n      <td>-0.458027</td>\n      <td>0.435163</td>\n      <td>0.816847</td>\n      <td>0.672721</td>\n    </tr>\n  </tbody>\n</table>\n</div>"
     },
     "execution_count": 61,
     "metadata": {},
     "output_type": "execute_result"
    }
   ],
   "source": [
    "dataku"
   ],
   "metadata": {
    "collapsed": false,
    "ExecuteTime": {
     "end_time": "2024-03-11T14:27:15.158539Z",
     "start_time": "2024-03-11T14:27:15.144513Z"
    }
   },
   "id": "38961c7dea2fda28",
   "execution_count": 61
  },
  {
   "cell_type": "code",
   "outputs": [],
   "source": [
    "dataku.drop('B', axis=0,  #baris\n",
    "            inplace=True)  #artinya menghapus baris"
   ],
   "metadata": {
    "collapsed": false,
    "ExecuteTime": {
     "end_time": "2024-03-11T14:27:33.248799Z",
     "start_time": "2024-03-11T14:27:33.242359Z"
    }
   },
   "id": "5ec03dd7ee305f23",
   "execution_count": 62
  },
  {
   "cell_type": "code",
   "outputs": [
    {
     "data": {
      "text/plain": "       satu       dua     empat      lima\nA -1.749765  0.342680 -0.252436  0.981321\nC -0.458027  0.435163  0.816847  0.672721",
      "text/html": "<div>\n<style scoped>\n    .dataframe tbody tr th:only-of-type {\n        vertical-align: middle;\n    }\n\n    .dataframe tbody tr th {\n        vertical-align: top;\n    }\n\n    .dataframe thead th {\n        text-align: right;\n    }\n</style>\n<table border=\"1\" class=\"dataframe\">\n  <thead>\n    <tr style=\"text-align: right;\">\n      <th></th>\n      <th>satu</th>\n      <th>dua</th>\n      <th>empat</th>\n      <th>lima</th>\n    </tr>\n  </thead>\n  <tbody>\n    <tr>\n      <th>A</th>\n      <td>-1.749765</td>\n      <td>0.342680</td>\n      <td>-0.252436</td>\n      <td>0.981321</td>\n    </tr>\n    <tr>\n      <th>C</th>\n      <td>-0.458027</td>\n      <td>0.435163</td>\n      <td>0.816847</td>\n      <td>0.672721</td>\n    </tr>\n  </tbody>\n</table>\n</div>"
     },
     "execution_count": 63,
     "metadata": {},
     "output_type": "execute_result"
    }
   ],
   "source": [
    "dataku"
   ],
   "metadata": {
    "collapsed": false,
    "ExecuteTime": {
     "end_time": "2024-03-11T14:27:35.156682Z",
     "start_time": "2024-03-11T14:27:35.141996Z"
    }
   },
   "id": "2980e25f6df01eae",
   "execution_count": 63
  },
  {
   "cell_type": "code",
   "outputs": [
    {
     "data": {
      "text/plain": "(2, 4)"
     },
     "execution_count": 64,
     "metadata": {},
     "output_type": "execute_result"
    }
   ],
   "source": [
    "dataku.shape  #(2,4) 2 adalah baris dan 4 adalah kolom"
   ],
   "metadata": {
    "collapsed": false,
    "ExecuteTime": {
     "end_time": "2024-03-11T14:27:51.286689Z",
     "start_time": "2024-03-11T14:27:51.268362Z"
    }
   },
   "id": "5f2c3da5ced06e8b",
   "execution_count": 64
  },
  {
   "cell_type": "code",
   "outputs": [],
   "source": [
    "dataku_bol = dataku < 0  # hanya mengecek bukan untuk mengubah data"
   ],
   "metadata": {
    "collapsed": false,
    "ExecuteTime": {
     "end_time": "2024-03-11T14:31:13.960762Z",
     "start_time": "2024-03-11T14:31:13.947309Z"
    }
   },
   "id": "132824788dd1c50e",
   "execution_count": 67
  },
  {
   "cell_type": "code",
   "outputs": [
    {
     "data": {
      "text/plain": "       satu  dua     empat  lima\nA -1.749765  NaN -0.252436   NaN\nC -0.458027  NaN       NaN   NaN",
      "text/html": "<div>\n<style scoped>\n    .dataframe tbody tr th:only-of-type {\n        vertical-align: middle;\n    }\n\n    .dataframe tbody tr th {\n        vertical-align: top;\n    }\n\n    .dataframe thead th {\n        text-align: right;\n    }\n</style>\n<table border=\"1\" class=\"dataframe\">\n  <thead>\n    <tr style=\"text-align: right;\">\n      <th></th>\n      <th>satu</th>\n      <th>dua</th>\n      <th>empat</th>\n      <th>lima</th>\n    </tr>\n  </thead>\n  <tbody>\n    <tr>\n      <th>A</th>\n      <td>-1.749765</td>\n      <td>NaN</td>\n      <td>-0.252436</td>\n      <td>NaN</td>\n    </tr>\n    <tr>\n      <th>C</th>\n      <td>-0.458027</td>\n      <td>NaN</td>\n      <td>NaN</td>\n      <td>NaN</td>\n    </tr>\n  </tbody>\n</table>\n</div>"
     },
     "execution_count": 69,
     "metadata": {},
     "output_type": "execute_result"
    }
   ],
   "source": [
    "dataku[dataku_bol]  # dataku tidak boleh besar dari angka nol kalau tidak maka isi nya akan di buat NaN\n"
   ],
   "metadata": {
    "collapsed": false,
    "ExecuteTime": {
     "end_time": "2024-03-11T14:32:40.180097Z",
     "start_time": "2024-03-11T14:32:40.155133Z"
    }
   },
   "id": "dab8ede9ed860207",
   "execution_count": 69
  },
  {
   "cell_type": "code",
   "outputs": [],
   "source": [
    "dataku = pd.DataFrame(\n",
    "    np.random.randn(3, 5),\n",
    "    ['A', 'B', 'C'],\n",
    "    ['satu', 'dua', 'tiga', 'empat', 'lima']\n",
    "\n",
    ")"
   ],
   "metadata": {
    "collapsed": false,
    "ExecuteTime": {
     "end_time": "2024-03-11T14:33:57.742584Z",
     "start_time": "2024-03-11T14:33:57.730304Z"
    }
   },
   "id": "1fc562c513ce10b1",
   "execution_count": 74
  },
  {
   "cell_type": "code",
   "outputs": [
    {
     "data": {
      "text/plain": "       satu       dua      tiga     empat      lima\nA -1.733096 -0.983310  0.357508 -1.613579  1.470714\nB -1.188018 -0.549746 -0.940046 -0.827932  0.108863\nC  0.507810 -0.862227  1.249470 -0.079611 -0.889731",
      "text/html": "<div>\n<style scoped>\n    .dataframe tbody tr th:only-of-type {\n        vertical-align: middle;\n    }\n\n    .dataframe tbody tr th {\n        vertical-align: top;\n    }\n\n    .dataframe thead th {\n        text-align: right;\n    }\n</style>\n<table border=\"1\" class=\"dataframe\">\n  <thead>\n    <tr style=\"text-align: right;\">\n      <th></th>\n      <th>satu</th>\n      <th>dua</th>\n      <th>tiga</th>\n      <th>empat</th>\n      <th>lima</th>\n    </tr>\n  </thead>\n  <tbody>\n    <tr>\n      <th>A</th>\n      <td>-1.733096</td>\n      <td>-0.983310</td>\n      <td>0.357508</td>\n      <td>-1.613579</td>\n      <td>1.470714</td>\n    </tr>\n    <tr>\n      <th>B</th>\n      <td>-1.188018</td>\n      <td>-0.549746</td>\n      <td>-0.940046</td>\n      <td>-0.827932</td>\n      <td>0.108863</td>\n    </tr>\n    <tr>\n      <th>C</th>\n      <td>0.507810</td>\n      <td>-0.862227</td>\n      <td>1.249470</td>\n      <td>-0.079611</td>\n      <td>-0.889731</td>\n    </tr>\n  </tbody>\n</table>\n</div>"
     },
     "execution_count": 76,
     "metadata": {},
     "output_type": "execute_result"
    }
   ],
   "source": [
    "dataku"
   ],
   "metadata": {
    "collapsed": false,
    "ExecuteTime": {
     "end_time": "2024-03-11T14:34:02.676739Z",
     "start_time": "2024-03-11T14:34:02.657103Z"
    }
   },
   "id": "4df48774bf846c0c",
   "execution_count": 76
  },
  {
   "cell_type": "code",
   "outputs": [
    {
     "data": {
      "text/plain": "       satu       dua      tiga     empat      lima\nA -1.733096 -0.983310  0.357508 -1.613579  1.470714\nC  0.507810 -0.862227  1.249470 -0.079611 -0.889731",
      "text/html": "<div>\n<style scoped>\n    .dataframe tbody tr th:only-of-type {\n        vertical-align: middle;\n    }\n\n    .dataframe tbody tr th {\n        vertical-align: top;\n    }\n\n    .dataframe thead th {\n        text-align: right;\n    }\n</style>\n<table border=\"1\" class=\"dataframe\">\n  <thead>\n    <tr style=\"text-align: right;\">\n      <th></th>\n      <th>satu</th>\n      <th>dua</th>\n      <th>tiga</th>\n      <th>empat</th>\n      <th>lima</th>\n    </tr>\n  </thead>\n  <tbody>\n    <tr>\n      <th>A</th>\n      <td>-1.733096</td>\n      <td>-0.983310</td>\n      <td>0.357508</td>\n      <td>-1.613579</td>\n      <td>1.470714</td>\n    </tr>\n    <tr>\n      <th>C</th>\n      <td>0.507810</td>\n      <td>-0.862227</td>\n      <td>1.249470</td>\n      <td>-0.079611</td>\n      <td>-0.889731</td>\n    </tr>\n  </tbody>\n</table>\n</div>"
     },
     "execution_count": 77,
     "metadata": {},
     "output_type": "execute_result"
    }
   ],
   "source": [
    "dataku[dataku['tiga'] > 0]  # data kolom harus besar dari angka nol 0"
   ],
   "metadata": {
    "collapsed": false,
    "ExecuteTime": {
     "end_time": "2024-03-11T14:34:03.877723Z",
     "start_time": "2024-03-11T14:34:03.857221Z"
    }
   },
   "id": "d237b39236b73995",
   "execution_count": 77
  },
  {
   "cell_type": "code",
   "outputs": [],
   "source": [
    "hasil = dataku[dataku['lima'] > 0]"
   ],
   "metadata": {
    "collapsed": false,
    "ExecuteTime": {
     "end_time": "2024-03-11T14:34:43.184820Z",
     "start_time": "2024-03-11T14:34:43.172788Z"
    }
   },
   "id": "3cfd43de76adbd17",
   "execution_count": 79
  },
  {
   "cell_type": "code",
   "outputs": [
    {
     "data": {
      "text/plain": "       satu       dua      tiga     empat      lima\nA -1.733096 -0.983310  0.357508 -1.613579  1.470714\nB -1.188018 -0.549746 -0.940046 -0.827932  0.108863",
      "text/html": "<div>\n<style scoped>\n    .dataframe tbody tr th:only-of-type {\n        vertical-align: middle;\n    }\n\n    .dataframe tbody tr th {\n        vertical-align: top;\n    }\n\n    .dataframe thead th {\n        text-align: right;\n    }\n</style>\n<table border=\"1\" class=\"dataframe\">\n  <thead>\n    <tr style=\"text-align: right;\">\n      <th></th>\n      <th>satu</th>\n      <th>dua</th>\n      <th>tiga</th>\n      <th>empat</th>\n      <th>lima</th>\n    </tr>\n  </thead>\n  <tbody>\n    <tr>\n      <th>A</th>\n      <td>-1.733096</td>\n      <td>-0.983310</td>\n      <td>0.357508</td>\n      <td>-1.613579</td>\n      <td>1.470714</td>\n    </tr>\n    <tr>\n      <th>B</th>\n      <td>-1.188018</td>\n      <td>-0.549746</td>\n      <td>-0.940046</td>\n      <td>-0.827932</td>\n      <td>0.108863</td>\n    </tr>\n  </tbody>\n</table>\n</div>"
     },
     "execution_count": 80,
     "metadata": {},
     "output_type": "execute_result"
    }
   ],
   "source": [
    "hasil"
   ],
   "metadata": {
    "collapsed": false,
    "ExecuteTime": {
     "end_time": "2024-03-11T14:34:46.074532Z",
     "start_time": "2024-03-11T14:34:46.059019Z"
    }
   },
   "id": "4760422fbef1b4f9",
   "execution_count": 80
  },
  {
   "cell_type": "code",
   "outputs": [],
   "source": [
    "data_titanic = pd.read_csv('kapal_titanic.csv')"
   ],
   "metadata": {
    "collapsed": false,
    "ExecuteTime": {
     "end_time": "2024-03-11T14:35:12.136432Z",
     "start_time": "2024-03-11T14:35:12.112876Z"
    }
   },
   "id": "3d9e76b775f79eda",
   "execution_count": 81
  },
  {
   "cell_type": "code",
   "outputs": [],
   "source": [
    "age = data_titanic['age']"
   ],
   "metadata": {
    "collapsed": false,
    "ExecuteTime": {
     "end_time": "2024-03-11T14:35:27.061137Z",
     "start_time": "2024-03-11T14:35:27.042112Z"
    }
   },
   "id": "7c38739cc2629ec6",
   "execution_count": 83
  },
  {
   "cell_type": "code",
   "outputs": [
    {
     "data": {
      "text/plain": "0      22.0\n1      38.0\n2      26.0\n3      35.0\n4      35.0\n       ... \n886    27.0\n887    19.0\n888     NaN\n889    26.0\n890    32.0\nName: age, Length: 891, dtype: float64"
     },
     "execution_count": 84,
     "metadata": {},
     "output_type": "execute_result"
    }
   ],
   "source": [
    "age"
   ],
   "metadata": {
    "collapsed": false,
    "ExecuteTime": {
     "end_time": "2024-03-11T14:35:28.484451Z",
     "start_time": "2024-03-11T14:35:28.471136Z"
    }
   },
   "id": "2cbc19c5decfbc80",
   "execution_count": 84
  },
  {
   "cell_type": "code",
   "outputs": [
    {
     "data": {
      "text/plain": "count    714.000000\nmean      29.699118\nstd       14.526497\nmin        0.420000\n25%       20.125000\n50%       28.000000\n75%       38.000000\nmax       80.000000\nName: age, dtype: float64"
     },
     "execution_count": 85,
     "metadata": {},
     "output_type": "execute_result"
    }
   ],
   "source": [
    "age.describe()  # tampil statik"
   ],
   "metadata": {
    "collapsed": false,
    "ExecuteTime": {
     "end_time": "2024-03-11T14:35:36.034531Z",
     "start_time": "2024-03-11T14:35:36.012584Z"
    }
   },
   "id": "3e5bd552cfc96e47",
   "execution_count": 85
  },
  {
   "cell_type": "code",
   "outputs": [
    {
     "data": {
      "text/plain": "714"
     },
     "execution_count": 86,
     "metadata": {},
     "output_type": "execute_result"
    }
   ],
   "source": [
    "age.count()  # jumlah semua data yang tidak boleh kosong"
   ],
   "metadata": {
    "collapsed": false,
    "ExecuteTime": {
     "end_time": "2024-03-11T14:35:47.926126Z",
     "start_time": "2024-03-11T14:35:47.910065Z"
    }
   },
   "id": "a52a537eec37981c",
   "execution_count": 86
  },
  {
   "cell_type": "code",
   "outputs": [
    {
     "data": {
      "text/plain": "29.69911764705882"
     },
     "execution_count": 88,
     "metadata": {},
     "output_type": "execute_result"
    }
   ],
   "source": [
    "age.mean()  # nilai rata rata"
   ],
   "metadata": {
    "collapsed": false,
    "ExecuteTime": {
     "end_time": "2024-03-11T14:37:09.439878Z",
     "start_time": "2024-03-11T14:37:09.433268Z"
    }
   },
   "id": "5d8acd65ad52a90a",
   "execution_count": 88
  },
  {
   "cell_type": "code",
   "outputs": [
    {
     "data": {
      "text/plain": "28.0"
     },
     "execution_count": 89,
     "metadata": {},
     "output_type": "execute_result"
    }
   ],
   "source": [
    "age.median()  # nilai tengah"
   ],
   "metadata": {
    "collapsed": false,
    "ExecuteTime": {
     "end_time": "2024-03-11T14:37:16.364612Z",
     "start_time": "2024-03-11T14:37:16.357017Z"
    }
   },
   "id": "f016b40823a5c4b0",
   "execution_count": 89
  },
  {
   "cell_type": "code",
   "outputs": [
    {
     "data": {
      "text/plain": "21205.17"
     },
     "execution_count": 90,
     "metadata": {},
     "output_type": "execute_result"
    }
   ],
   "source": [
    "age.sum()  # jumlah total semua data"
   ],
   "metadata": {
    "collapsed": false,
    "ExecuteTime": {
     "end_time": "2024-03-11T14:37:22.753213Z",
     "start_time": "2024-03-11T14:37:22.741607Z"
    }
   },
   "id": "61c61cfae987acee",
   "execution_count": 90
  },
  {
   "cell_type": "code",
   "outputs": [
    {
     "data": {
      "text/plain": "nan"
     },
     "execution_count": 93,
     "metadata": {},
     "output_type": "execute_result"
    }
   ],
   "source": [
    "age.sum(skipna=False)  # akan nan karena ada data yang kosong atau NaN"
   ],
   "metadata": {
    "collapsed": false,
    "ExecuteTime": {
     "end_time": "2024-03-11T14:38:43.524382Z",
     "start_time": "2024-03-11T14:38:43.502454Z"
    }
   },
   "id": "ecde5525ab0d486",
   "execution_count": 93
  },
  {
   "cell_type": "code",
   "outputs": [
    {
     "data": {
      "text/plain": "nan"
     },
     "execution_count": 94,
     "metadata": {},
     "output_type": "execute_result"
    }
   ],
   "source": [
    "sum(age)  # akan nan karena ada data yang kosong atau NaN"
   ],
   "metadata": {
    "collapsed": false,
    "ExecuteTime": {
     "end_time": "2024-03-11T14:39:11.763675Z",
     "start_time": "2024-03-11T14:39:11.756571Z"
    }
   },
   "id": "1a3f1dc661591be4",
   "execution_count": 94
  },
  {
   "cell_type": "code",
   "outputs": [
    {
     "data": {
      "text/plain": "14.526497332334042"
     },
     "execution_count": 95,
     "metadata": {},
     "output_type": "execute_result"
    }
   ],
   "source": [
    "age.std()"
   ],
   "metadata": {
    "collapsed": false,
    "ExecuteTime": {
     "end_time": "2024-03-11T14:39:31.564939Z",
     "start_time": "2024-03-11T14:39:31.551208Z"
    }
   },
   "id": "6d0b0533a6bed01d",
   "execution_count": 95
  },
  {
   "cell_type": "code",
   "outputs": [],
   "source": [
    "age_bersih = age.dropna()  #hilangkan NaN"
   ],
   "metadata": {
    "collapsed": false,
    "ExecuteTime": {
     "end_time": "2024-03-11T14:40:44.368844Z",
     "start_time": "2024-03-11T14:40:44.353581Z"
    }
   },
   "id": "9103c2c1bae7fd17",
   "execution_count": 98
  },
  {
   "cell_type": "code",
   "outputs": [
    {
     "data": {
      "text/plain": "0      22.0\n1      38.0\n2      26.0\n3      35.0\n4      35.0\n       ... \n885    39.0\n886    27.0\n887    19.0\n889    26.0\n890    32.0\nName: age, Length: 714, dtype: float64"
     },
     "execution_count": 99,
     "metadata": {},
     "output_type": "execute_result"
    }
   ],
   "source": [
    "age_bersih"
   ],
   "metadata": {
    "collapsed": false,
    "ExecuteTime": {
     "end_time": "2024-03-11T14:40:44.729631Z",
     "start_time": "2024-03-11T14:40:44.718759Z"
    }
   },
   "id": "66b4cb7ff13ba2c6",
   "execution_count": 99
  },
  {
   "cell_type": "code",
   "outputs": [],
   "source": [
    "dataku2 = data_titanic.dropna(\n",
    "    axis=0,  #hilangkan baris\n",
    ")"
   ],
   "metadata": {
    "collapsed": false,
    "ExecuteTime": {
     "end_time": "2024-03-11T14:42:13.469760Z",
     "start_time": "2024-03-11T14:42:13.462326Z"
    }
   },
   "id": "89bde8cccec0e9a8",
   "execution_count": 103
  },
  {
   "cell_type": "code",
   "outputs": [
    {
     "data": {
      "text/plain": "     survived  pclass     sex   age  sibsp  parch     fare embarked deck\n1           1       1  female  38.0      1      0  71.2833        C    C\n3           1       1  female  35.0      1      0  53.1000        S    C\n6           0       1    male  54.0      0      0  51.8625        S    E\n10          1       3  female   4.0      1      1  16.7000        S    G\n11          1       1  female  58.0      0      0  26.5500        S    C\n..        ...     ...     ...   ...    ...    ...      ...      ...  ...\n871         1       1  female  47.0      1      1  52.5542        S    D\n872         0       1    male  33.0      0      0   5.0000        S    B\n879         1       1  female  56.0      0      1  83.1583        C    C\n887         1       1  female  19.0      0      0  30.0000        S    B\n889         1       1    male  26.0      0      0  30.0000        C    C\n\n[182 rows x 9 columns]",
      "text/html": "<div>\n<style scoped>\n    .dataframe tbody tr th:only-of-type {\n        vertical-align: middle;\n    }\n\n    .dataframe tbody tr th {\n        vertical-align: top;\n    }\n\n    .dataframe thead th {\n        text-align: right;\n    }\n</style>\n<table border=\"1\" class=\"dataframe\">\n  <thead>\n    <tr style=\"text-align: right;\">\n      <th></th>\n      <th>survived</th>\n      <th>pclass</th>\n      <th>sex</th>\n      <th>age</th>\n      <th>sibsp</th>\n      <th>parch</th>\n      <th>fare</th>\n      <th>embarked</th>\n      <th>deck</th>\n    </tr>\n  </thead>\n  <tbody>\n    <tr>\n      <th>1</th>\n      <td>1</td>\n      <td>1</td>\n      <td>female</td>\n      <td>38.0</td>\n      <td>1</td>\n      <td>0</td>\n      <td>71.2833</td>\n      <td>C</td>\n      <td>C</td>\n    </tr>\n    <tr>\n      <th>3</th>\n      <td>1</td>\n      <td>1</td>\n      <td>female</td>\n      <td>35.0</td>\n      <td>1</td>\n      <td>0</td>\n      <td>53.1000</td>\n      <td>S</td>\n      <td>C</td>\n    </tr>\n    <tr>\n      <th>6</th>\n      <td>0</td>\n      <td>1</td>\n      <td>male</td>\n      <td>54.0</td>\n      <td>0</td>\n      <td>0</td>\n      <td>51.8625</td>\n      <td>S</td>\n      <td>E</td>\n    </tr>\n    <tr>\n      <th>10</th>\n      <td>1</td>\n      <td>3</td>\n      <td>female</td>\n      <td>4.0</td>\n      <td>1</td>\n      <td>1</td>\n      <td>16.7000</td>\n      <td>S</td>\n      <td>G</td>\n    </tr>\n    <tr>\n      <th>11</th>\n      <td>1</td>\n      <td>1</td>\n      <td>female</td>\n      <td>58.0</td>\n      <td>0</td>\n      <td>0</td>\n      <td>26.5500</td>\n      <td>S</td>\n      <td>C</td>\n    </tr>\n    <tr>\n      <th>...</th>\n      <td>...</td>\n      <td>...</td>\n      <td>...</td>\n      <td>...</td>\n      <td>...</td>\n      <td>...</td>\n      <td>...</td>\n      <td>...</td>\n      <td>...</td>\n    </tr>\n    <tr>\n      <th>871</th>\n      <td>1</td>\n      <td>1</td>\n      <td>female</td>\n      <td>47.0</td>\n      <td>1</td>\n      <td>1</td>\n      <td>52.5542</td>\n      <td>S</td>\n      <td>D</td>\n    </tr>\n    <tr>\n      <th>872</th>\n      <td>0</td>\n      <td>1</td>\n      <td>male</td>\n      <td>33.0</td>\n      <td>0</td>\n      <td>0</td>\n      <td>5.0000</td>\n      <td>S</td>\n      <td>B</td>\n    </tr>\n    <tr>\n      <th>879</th>\n      <td>1</td>\n      <td>1</td>\n      <td>female</td>\n      <td>56.0</td>\n      <td>0</td>\n      <td>1</td>\n      <td>83.1583</td>\n      <td>C</td>\n      <td>C</td>\n    </tr>\n    <tr>\n      <th>887</th>\n      <td>1</td>\n      <td>1</td>\n      <td>female</td>\n      <td>19.0</td>\n      <td>0</td>\n      <td>0</td>\n      <td>30.0000</td>\n      <td>S</td>\n      <td>B</td>\n    </tr>\n    <tr>\n      <th>889</th>\n      <td>1</td>\n      <td>1</td>\n      <td>male</td>\n      <td>26.0</td>\n      <td>0</td>\n      <td>0</td>\n      <td>30.0000</td>\n      <td>C</td>\n      <td>C</td>\n    </tr>\n  </tbody>\n</table>\n<p>182 rows × 9 columns</p>\n</div>"
     },
     "execution_count": 104,
     "metadata": {},
     "output_type": "execute_result"
    }
   ],
   "source": [
    "dataku2"
   ],
   "metadata": {
    "collapsed": false,
    "ExecuteTime": {
     "end_time": "2024-03-11T14:42:14.561727Z",
     "start_time": "2024-03-11T14:42:14.540165Z"
    }
   },
   "id": "1f9c303311ba7e9",
   "execution_count": 104
  },
  {
   "cell_type": "code",
   "outputs": [],
   "source": [
    "dataku3 = data_titanic.dropna(\n",
    "    thresh=2\n",
    "    #thresh=2# hilangkan nilai apabila ada 2 nilai bukan NaN maka akan di pertahankan\n",
    ")"
   ],
   "metadata": {
    "collapsed": false,
    "ExecuteTime": {
     "end_time": "2024-03-11T14:47:01.615297Z",
     "start_time": "2024-03-11T14:47:01.602363Z"
    }
   },
   "id": "c092337d5d0a7a06",
   "execution_count": 113
  },
  {
   "cell_type": "code",
   "outputs": [
    {
     "data": {
      "text/plain": "     survived  pclass     sex   age  sibsp  parch     fare embarked deck\n1           1       1  female  38.0      1      0  71.2833        C    C\n3           1       1  female  35.0      1      0  53.1000        S    C\n6           0       1    male  54.0      0      0  51.8625        S    E\n10          1       3  female   4.0      1      1  16.7000        S    G\n11          1       1  female  58.0      0      0  26.5500        S    C\n..        ...     ...     ...   ...    ...    ...      ...      ...  ...\n871         1       1  female  47.0      1      1  52.5542        S    D\n872         0       1    male  33.0      0      0   5.0000        S    B\n879         1       1  female  56.0      0      1  83.1583        C    C\n887         1       1  female  19.0      0      0  30.0000        S    B\n889         1       1    male  26.0      0      0  30.0000        C    C\n\n[182 rows x 9 columns]",
      "text/html": "<div>\n<style scoped>\n    .dataframe tbody tr th:only-of-type {\n        vertical-align: middle;\n    }\n\n    .dataframe tbody tr th {\n        vertical-align: top;\n    }\n\n    .dataframe thead th {\n        text-align: right;\n    }\n</style>\n<table border=\"1\" class=\"dataframe\">\n  <thead>\n    <tr style=\"text-align: right;\">\n      <th></th>\n      <th>survived</th>\n      <th>pclass</th>\n      <th>sex</th>\n      <th>age</th>\n      <th>sibsp</th>\n      <th>parch</th>\n      <th>fare</th>\n      <th>embarked</th>\n      <th>deck</th>\n    </tr>\n  </thead>\n  <tbody>\n    <tr>\n      <th>1</th>\n      <td>1</td>\n      <td>1</td>\n      <td>female</td>\n      <td>38.0</td>\n      <td>1</td>\n      <td>0</td>\n      <td>71.2833</td>\n      <td>C</td>\n      <td>C</td>\n    </tr>\n    <tr>\n      <th>3</th>\n      <td>1</td>\n      <td>1</td>\n      <td>female</td>\n      <td>35.0</td>\n      <td>1</td>\n      <td>0</td>\n      <td>53.1000</td>\n      <td>S</td>\n      <td>C</td>\n    </tr>\n    <tr>\n      <th>6</th>\n      <td>0</td>\n      <td>1</td>\n      <td>male</td>\n      <td>54.0</td>\n      <td>0</td>\n      <td>0</td>\n      <td>51.8625</td>\n      <td>S</td>\n      <td>E</td>\n    </tr>\n    <tr>\n      <th>10</th>\n      <td>1</td>\n      <td>3</td>\n      <td>female</td>\n      <td>4.0</td>\n      <td>1</td>\n      <td>1</td>\n      <td>16.7000</td>\n      <td>S</td>\n      <td>G</td>\n    </tr>\n    <tr>\n      <th>11</th>\n      <td>1</td>\n      <td>1</td>\n      <td>female</td>\n      <td>58.0</td>\n      <td>0</td>\n      <td>0</td>\n      <td>26.5500</td>\n      <td>S</td>\n      <td>C</td>\n    </tr>\n    <tr>\n      <th>...</th>\n      <td>...</td>\n      <td>...</td>\n      <td>...</td>\n      <td>...</td>\n      <td>...</td>\n      <td>...</td>\n      <td>...</td>\n      <td>...</td>\n      <td>...</td>\n    </tr>\n    <tr>\n      <th>871</th>\n      <td>1</td>\n      <td>1</td>\n      <td>female</td>\n      <td>47.0</td>\n      <td>1</td>\n      <td>1</td>\n      <td>52.5542</td>\n      <td>S</td>\n      <td>D</td>\n    </tr>\n    <tr>\n      <th>872</th>\n      <td>0</td>\n      <td>1</td>\n      <td>male</td>\n      <td>33.0</td>\n      <td>0</td>\n      <td>0</td>\n      <td>5.0000</td>\n      <td>S</td>\n      <td>B</td>\n    </tr>\n    <tr>\n      <th>879</th>\n      <td>1</td>\n      <td>1</td>\n      <td>female</td>\n      <td>56.0</td>\n      <td>0</td>\n      <td>1</td>\n      <td>83.1583</td>\n      <td>C</td>\n      <td>C</td>\n    </tr>\n    <tr>\n      <th>887</th>\n      <td>1</td>\n      <td>1</td>\n      <td>female</td>\n      <td>19.0</td>\n      <td>0</td>\n      <td>0</td>\n      <td>30.0000</td>\n      <td>S</td>\n      <td>B</td>\n    </tr>\n    <tr>\n      <th>889</th>\n      <td>1</td>\n      <td>1</td>\n      <td>male</td>\n      <td>26.0</td>\n      <td>0</td>\n      <td>0</td>\n      <td>30.0000</td>\n      <td>C</td>\n      <td>C</td>\n    </tr>\n  </tbody>\n</table>\n<p>182 rows × 9 columns</p>\n</div>"
     },
     "execution_count": 111,
     "metadata": {},
     "output_type": "execute_result"
    }
   ],
   "source": [
    "dataku3"
   ],
   "metadata": {
    "collapsed": false,
    "ExecuteTime": {
     "end_time": "2024-03-11T14:46:32.601574Z",
     "start_time": "2024-03-11T14:46:32.575434Z"
    }
   },
   "id": "16c5fb2900d56f1c",
   "execution_count": 111
  },
  {
   "cell_type": "code",
   "outputs": [
    {
     "data": {
      "text/plain": "survived    891\npclass      891\nsex         891\nage         714\nsibsp       891\nparch       891\nfare        891\nembarked    889\ndeck        203\ndtype: int64"
     },
     "execution_count": 114,
     "metadata": {},
     "output_type": "execute_result"
    }
   ],
   "source": [
    "dataku3.count()"
   ],
   "metadata": {
    "collapsed": false,
    "ExecuteTime": {
     "end_time": "2024-03-11T14:47:03.178973Z",
     "start_time": "2024-03-11T14:47:03.163975Z"
    }
   },
   "id": "a1a56513646a236f",
   "execution_count": 114
  },
  {
   "cell_type": "code",
   "outputs": [],
   "source": [
    "# !!! catatan\n",
    "# apa bila ada nilai NaN jangan di hilangkan melainkan di isikan nilai rata rata sesuai kolom tersebut"
   ],
   "metadata": {
    "collapsed": false,
    "ExecuteTime": {
     "end_time": "2024-03-11T14:48:05.054702Z",
     "start_time": "2024-03-11T14:48:05.037051Z"
    }
   },
   "id": "b80735ffb8df4421",
   "execution_count": 115
  },
  {
   "cell_type": "code",
   "outputs": [],
   "source": [
    "dataku4 = data_titanic"
   ],
   "metadata": {
    "collapsed": false,
    "ExecuteTime": {
     "end_time": "2024-03-11T14:52:46.950097Z",
     "start_time": "2024-03-11T14:52:46.939530Z"
    }
   },
   "id": "f801ace6a2a04d30",
   "execution_count": 136
  },
  {
   "cell_type": "code",
   "outputs": [
    {
     "data": {
      "text/plain": "     survived  pclass     sex   age  sibsp  parch     fare embarked deck\n0           0       3    male  22.0      1      0   7.2500        S  NaN\n1           1       1  female  38.0      1      0  71.2833        C    C\n2           1       3  female  26.0      0      0   7.9250        S  NaN\n3           1       1  female  35.0      1      0  53.1000        S    C\n4           0       3    male  35.0      0      0   8.0500        S  NaN\n..        ...     ...     ...   ...    ...    ...      ...      ...  ...\n886         0       2    male  27.0      0      0  13.0000        S  NaN\n887         1       1  female  19.0      0      0  30.0000        S    B\n888         0       3  female   NaN      1      2  23.4500        S  NaN\n889         1       1    male  26.0      0      0  30.0000        C    C\n890         0       3    male  32.0      0      0   7.7500        Q  NaN\n\n[891 rows x 9 columns]",
      "text/html": "<div>\n<style scoped>\n    .dataframe tbody tr th:only-of-type {\n        vertical-align: middle;\n    }\n\n    .dataframe tbody tr th {\n        vertical-align: top;\n    }\n\n    .dataframe thead th {\n        text-align: right;\n    }\n</style>\n<table border=\"1\" class=\"dataframe\">\n  <thead>\n    <tr style=\"text-align: right;\">\n      <th></th>\n      <th>survived</th>\n      <th>pclass</th>\n      <th>sex</th>\n      <th>age</th>\n      <th>sibsp</th>\n      <th>parch</th>\n      <th>fare</th>\n      <th>embarked</th>\n      <th>deck</th>\n    </tr>\n  </thead>\n  <tbody>\n    <tr>\n      <th>0</th>\n      <td>0</td>\n      <td>3</td>\n      <td>male</td>\n      <td>22.0</td>\n      <td>1</td>\n      <td>0</td>\n      <td>7.2500</td>\n      <td>S</td>\n      <td>NaN</td>\n    </tr>\n    <tr>\n      <th>1</th>\n      <td>1</td>\n      <td>1</td>\n      <td>female</td>\n      <td>38.0</td>\n      <td>1</td>\n      <td>0</td>\n      <td>71.2833</td>\n      <td>C</td>\n      <td>C</td>\n    </tr>\n    <tr>\n      <th>2</th>\n      <td>1</td>\n      <td>3</td>\n      <td>female</td>\n      <td>26.0</td>\n      <td>0</td>\n      <td>0</td>\n      <td>7.9250</td>\n      <td>S</td>\n      <td>NaN</td>\n    </tr>\n    <tr>\n      <th>3</th>\n      <td>1</td>\n      <td>1</td>\n      <td>female</td>\n      <td>35.0</td>\n      <td>1</td>\n      <td>0</td>\n      <td>53.1000</td>\n      <td>S</td>\n      <td>C</td>\n    </tr>\n    <tr>\n      <th>4</th>\n      <td>0</td>\n      <td>3</td>\n      <td>male</td>\n      <td>35.0</td>\n      <td>0</td>\n      <td>0</td>\n      <td>8.0500</td>\n      <td>S</td>\n      <td>NaN</td>\n    </tr>\n    <tr>\n      <th>...</th>\n      <td>...</td>\n      <td>...</td>\n      <td>...</td>\n      <td>...</td>\n      <td>...</td>\n      <td>...</td>\n      <td>...</td>\n      <td>...</td>\n      <td>...</td>\n    </tr>\n    <tr>\n      <th>886</th>\n      <td>0</td>\n      <td>2</td>\n      <td>male</td>\n      <td>27.0</td>\n      <td>0</td>\n      <td>0</td>\n      <td>13.0000</td>\n      <td>S</td>\n      <td>NaN</td>\n    </tr>\n    <tr>\n      <th>887</th>\n      <td>1</td>\n      <td>1</td>\n      <td>female</td>\n      <td>19.0</td>\n      <td>0</td>\n      <td>0</td>\n      <td>30.0000</td>\n      <td>S</td>\n      <td>B</td>\n    </tr>\n    <tr>\n      <th>888</th>\n      <td>0</td>\n      <td>3</td>\n      <td>female</td>\n      <td>NaN</td>\n      <td>1</td>\n      <td>2</td>\n      <td>23.4500</td>\n      <td>S</td>\n      <td>NaN</td>\n    </tr>\n    <tr>\n      <th>889</th>\n      <td>1</td>\n      <td>1</td>\n      <td>male</td>\n      <td>26.0</td>\n      <td>0</td>\n      <td>0</td>\n      <td>30.0000</td>\n      <td>C</td>\n      <td>C</td>\n    </tr>\n    <tr>\n      <th>890</th>\n      <td>0</td>\n      <td>3</td>\n      <td>male</td>\n      <td>32.0</td>\n      <td>0</td>\n      <td>0</td>\n      <td>7.7500</td>\n      <td>Q</td>\n      <td>NaN</td>\n    </tr>\n  </tbody>\n</table>\n<p>891 rows × 9 columns</p>\n</div>"
     },
     "execution_count": 137,
     "metadata": {},
     "output_type": "execute_result"
    }
   ],
   "source": [
    "dataku4"
   ],
   "metadata": {
    "collapsed": false,
    "ExecuteTime": {
     "end_time": "2024-03-11T14:52:48.435272Z",
     "start_time": "2024-03-11T14:52:48.411509Z"
    }
   },
   "id": "83a674e700977ac6",
   "execution_count": 137
  },
  {
   "cell_type": "code",
   "outputs": [
    {
     "data": {
      "text/plain": "survived    891\npclass      891\nsex         891\nage         714\nsibsp       891\nparch       891\nfare        891\nembarked    889\ndeck        203\ndtype: int64"
     },
     "execution_count": 138,
     "metadata": {},
     "output_type": "execute_result"
    }
   ],
   "source": [
    "dataku4.count()"
   ],
   "metadata": {
    "collapsed": false,
    "ExecuteTime": {
     "end_time": "2024-03-11T14:52:53.071578Z",
     "start_time": "2024-03-11T14:52:53.049587Z"
    }
   },
   "id": "5d4ad59b5e5d224e",
   "execution_count": 138
  },
  {
   "cell_type": "code",
   "outputs": [],
   "source": [
    "dataku4.age = dataku4.age.fillna(\n",
    "    value=dataku4.age.mean(),  # isikan data  \n",
    "    # inplace=True,  # di timpa data\n",
    ")"
   ],
   "metadata": {
    "collapsed": false,
    "ExecuteTime": {
     "end_time": "2024-03-11T14:52:55.702556Z",
     "start_time": "2024-03-11T14:52:55.692213Z"
    }
   },
   "id": "4d5550e9807d2e07",
   "execution_count": 139
  },
  {
   "cell_type": "code",
   "outputs": [
    {
     "data": {
      "text/plain": "     survived  pclass     sex   age  sibsp  parch     fare embarked deck\n1           1       1  female  38.0      1      0  71.2833        C    C\n3           1       1  female  35.0      1      0  53.1000        S    C\n6           0       1    male  54.0      0      0  51.8625        S    E\n10          1       3  female   4.0      1      1  16.7000        S    G\n11          1       1  female  58.0      0      0  26.5500        S    C\n..        ...     ...     ...   ...    ...    ...      ...      ...  ...\n871         1       1  female  47.0      1      1  52.5542        S    D\n872         0       1    male  33.0      0      0   5.0000        S    B\n879         1       1  female  56.0      0      1  83.1583        C    C\n887         1       1  female  19.0      0      0  30.0000        S    B\n889         1       1    male  26.0      0      0  30.0000        C    C\n\n[182 rows x 9 columns]",
      "text/html": "<div>\n<style scoped>\n    .dataframe tbody tr th:only-of-type {\n        vertical-align: middle;\n    }\n\n    .dataframe tbody tr th {\n        vertical-align: top;\n    }\n\n    .dataframe thead th {\n        text-align: right;\n    }\n</style>\n<table border=\"1\" class=\"dataframe\">\n  <thead>\n    <tr style=\"text-align: right;\">\n      <th></th>\n      <th>survived</th>\n      <th>pclass</th>\n      <th>sex</th>\n      <th>age</th>\n      <th>sibsp</th>\n      <th>parch</th>\n      <th>fare</th>\n      <th>embarked</th>\n      <th>deck</th>\n    </tr>\n  </thead>\n  <tbody>\n    <tr>\n      <th>1</th>\n      <td>1</td>\n      <td>1</td>\n      <td>female</td>\n      <td>38.0</td>\n      <td>1</td>\n      <td>0</td>\n      <td>71.2833</td>\n      <td>C</td>\n      <td>C</td>\n    </tr>\n    <tr>\n      <th>3</th>\n      <td>1</td>\n      <td>1</td>\n      <td>female</td>\n      <td>35.0</td>\n      <td>1</td>\n      <td>0</td>\n      <td>53.1000</td>\n      <td>S</td>\n      <td>C</td>\n    </tr>\n    <tr>\n      <th>6</th>\n      <td>0</td>\n      <td>1</td>\n      <td>male</td>\n      <td>54.0</td>\n      <td>0</td>\n      <td>0</td>\n      <td>51.8625</td>\n      <td>S</td>\n      <td>E</td>\n    </tr>\n    <tr>\n      <th>10</th>\n      <td>1</td>\n      <td>3</td>\n      <td>female</td>\n      <td>4.0</td>\n      <td>1</td>\n      <td>1</td>\n      <td>16.7000</td>\n      <td>S</td>\n      <td>G</td>\n    </tr>\n    <tr>\n      <th>11</th>\n      <td>1</td>\n      <td>1</td>\n      <td>female</td>\n      <td>58.0</td>\n      <td>0</td>\n      <td>0</td>\n      <td>26.5500</td>\n      <td>S</td>\n      <td>C</td>\n    </tr>\n    <tr>\n      <th>...</th>\n      <td>...</td>\n      <td>...</td>\n      <td>...</td>\n      <td>...</td>\n      <td>...</td>\n      <td>...</td>\n      <td>...</td>\n      <td>...</td>\n      <td>...</td>\n    </tr>\n    <tr>\n      <th>871</th>\n      <td>1</td>\n      <td>1</td>\n      <td>female</td>\n      <td>47.0</td>\n      <td>1</td>\n      <td>1</td>\n      <td>52.5542</td>\n      <td>S</td>\n      <td>D</td>\n    </tr>\n    <tr>\n      <th>872</th>\n      <td>0</td>\n      <td>1</td>\n      <td>male</td>\n      <td>33.0</td>\n      <td>0</td>\n      <td>0</td>\n      <td>5.0000</td>\n      <td>S</td>\n      <td>B</td>\n    </tr>\n    <tr>\n      <th>879</th>\n      <td>1</td>\n      <td>1</td>\n      <td>female</td>\n      <td>56.0</td>\n      <td>0</td>\n      <td>1</td>\n      <td>83.1583</td>\n      <td>C</td>\n      <td>C</td>\n    </tr>\n    <tr>\n      <th>887</th>\n      <td>1</td>\n      <td>1</td>\n      <td>female</td>\n      <td>19.0</td>\n      <td>0</td>\n      <td>0</td>\n      <td>30.0000</td>\n      <td>S</td>\n      <td>B</td>\n    </tr>\n    <tr>\n      <th>889</th>\n      <td>1</td>\n      <td>1</td>\n      <td>male</td>\n      <td>26.0</td>\n      <td>0</td>\n      <td>0</td>\n      <td>30.0000</td>\n      <td>C</td>\n      <td>C</td>\n    </tr>\n  </tbody>\n</table>\n<p>182 rows × 9 columns</p>\n</div>"
     },
     "execution_count": 135,
     "metadata": {},
     "output_type": "execute_result"
    }
   ],
   "source": [
    "dataku4"
   ],
   "metadata": {
    "collapsed": false,
    "ExecuteTime": {
     "end_time": "2024-03-11T14:52:32.565735Z",
     "start_time": "2024-03-11T14:52:32.533353Z"
    }
   },
   "id": "4107ff7af3a538f9",
   "execution_count": 135
  },
  {
   "cell_type": "code",
   "outputs": [
    {
     "data": {
      "text/plain": "0      22.000000\n1      38.000000\n2      26.000000\n3      35.000000\n4      35.000000\n         ...    \n886    27.000000\n887    19.000000\n888    29.699118\n889    26.000000\n890    32.000000\nName: age, Length: 891, dtype: float64"
     },
     "execution_count": 140,
     "metadata": {},
     "output_type": "execute_result"
    }
   ],
   "source": [
    "dataku4.age"
   ],
   "metadata": {
    "collapsed": false,
    "ExecuteTime": {
     "end_time": "2024-03-11T14:53:14.603887Z",
     "start_time": "2024-03-11T14:53:14.585474Z"
    }
   },
   "id": "7a8c009beea76e03",
   "execution_count": 140
  },
  {
   "cell_type": "code",
   "outputs": [],
   "source": [
    "# !!! Catatan\n",
    "# dalam machine learning data yang di gunakan merupakan Array bukan series\n"
   ],
   "metadata": {
    "collapsed": false,
    "ExecuteTime": {
     "end_time": "2024-03-11T14:54:30.560565Z",
     "start_time": "2024-03-11T14:54:30.543441Z"
    }
   },
   "id": "93a199b67deaa513",
   "execution_count": 142
  },
  {
   "cell_type": "code",
   "outputs": [
    {
     "data": {
      "text/plain": "pandas.core.series.Series"
     },
     "execution_count": 145,
     "metadata": {},
     "output_type": "execute_result"
    }
   ],
   "source": [
    "type(dataku4.age)# Series"
   ],
   "metadata": {
    "collapsed": false,
    "ExecuteTime": {
     "end_time": "2024-03-11T14:55:09.046621Z",
     "start_time": "2024-03-11T14:55:09.025596Z"
    }
   },
   "id": "3a01a5764bf74c12",
   "execution_count": 145
  },
  {
   "cell_type": "code",
   "outputs": [
    {
     "data": {
      "text/plain": "numpy.ndarray"
     },
     "execution_count": 148,
     "metadata": {},
     "output_type": "execute_result"
    }
   ],
   "source": [
    "type(dataku4.age.values) # Array"
   ],
   "metadata": {
    "collapsed": false,
    "ExecuteTime": {
     "end_time": "2024-03-11T14:55:44.942665Z",
     "start_time": "2024-03-11T14:55:44.924917Z"
    }
   },
   "id": "e402bb71f8a2815a",
   "execution_count": 148
  },
  {
   "cell_type": "code",
   "outputs": [
    {
     "data": {
      "text/plain": "array([22.        , 38.        , 26.        , 35.        , 35.        ,\n       29.69911765, 54.        ,  2.        , 27.        , 14.        ,\n        4.        , 58.        , 20.        , 39.        , 14.        ,\n       55.        ,  2.        , 29.69911765, 31.        , 29.69911765,\n       35.        , 34.        , 15.        , 28.        ,  8.        ,\n       38.        , 29.69911765, 19.        , 29.69911765, 29.69911765,\n       40.        , 29.69911765, 29.69911765, 66.        , 28.        ,\n       42.        , 29.69911765, 21.        , 18.        , 14.        ,\n       40.        , 27.        , 29.69911765,  3.        , 19.        ,\n       29.69911765, 29.69911765, 29.69911765, 29.69911765, 18.        ,\n        7.        , 21.        , 49.        , 29.        , 65.        ,\n       29.69911765, 21.        , 28.5       ,  5.        , 11.        ,\n       22.        , 38.        , 45.        ,  4.        , 29.69911765,\n       29.69911765, 29.        , 19.        , 17.        , 26.        ,\n       32.        , 16.        , 21.        , 26.        , 32.        ,\n       25.        , 29.69911765, 29.69911765,  0.83      , 30.        ,\n       22.        , 29.        , 29.69911765, 28.        , 17.        ,\n       33.        , 16.        , 29.69911765, 23.        , 24.        ,\n       29.        , 20.        , 46.        , 26.        , 59.        ,\n       29.69911765, 71.        , 23.        , 34.        , 34.        ,\n       28.        , 29.69911765, 21.        , 33.        , 37.        ,\n       28.        , 21.        , 29.69911765, 38.        , 29.69911765,\n       47.        , 14.5       , 22.        , 20.        , 17.        ,\n       21.        , 70.5       , 29.        , 24.        ,  2.        ,\n       21.        , 29.69911765, 32.5       , 32.5       , 54.        ,\n       12.        , 29.69911765, 24.        , 29.69911765, 45.        ,\n       33.        , 20.        , 47.        , 29.        , 25.        ,\n       23.        , 19.        , 37.        , 16.        , 24.        ,\n       29.69911765, 22.        , 24.        , 19.        , 18.        ,\n       19.        , 27.        ,  9.        , 36.5       , 42.        ,\n       51.        , 22.        , 55.5       , 40.5       , 29.69911765,\n       51.        , 16.        , 30.        , 29.69911765, 29.69911765,\n       44.        , 40.        , 26.        , 17.        ,  1.        ,\n        9.        , 29.69911765, 45.        , 29.69911765, 28.        ,\n       61.        ,  4.        ,  1.        , 21.        , 56.        ,\n       18.        , 29.69911765, 50.        , 30.        , 36.        ,\n       29.69911765, 29.69911765,  9.        ,  1.        ,  4.        ,\n       29.69911765, 29.69911765, 45.        , 40.        , 36.        ,\n       32.        , 19.        , 19.        ,  3.        , 44.        ,\n       58.        , 29.69911765, 42.        , 29.69911765, 24.        ,\n       28.        , 29.69911765, 34.        , 45.5       , 18.        ,\n        2.        , 32.        , 26.        , 16.        , 40.        ,\n       24.        , 35.        , 22.        , 30.        , 29.69911765,\n       31.        , 27.        , 42.        , 32.        , 30.        ,\n       16.        , 27.        , 51.        , 29.69911765, 38.        ,\n       22.        , 19.        , 20.5       , 18.        , 29.69911765,\n       35.        , 29.        , 59.        ,  5.        , 24.        ,\n       29.69911765, 44.        ,  8.        , 19.        , 33.        ,\n       29.69911765, 29.69911765, 29.        , 22.        , 30.        ,\n       44.        , 25.        , 24.        , 37.        , 54.        ,\n       29.69911765, 29.        , 62.        , 30.        , 41.        ,\n       29.        , 29.69911765, 30.        , 35.        , 50.        ,\n       29.69911765,  3.        , 52.        , 40.        , 29.69911765,\n       36.        , 16.        , 25.        , 58.        , 35.        ,\n       29.69911765, 25.        , 41.        , 37.        , 29.69911765,\n       63.        , 45.        , 29.69911765,  7.        , 35.        ,\n       65.        , 28.        , 16.        , 19.        , 29.69911765,\n       33.        , 30.        , 22.        , 42.        , 22.        ,\n       26.        , 19.        , 36.        , 24.        , 24.        ,\n       29.69911765, 23.5       ,  2.        , 29.69911765, 50.        ,\n       29.69911765, 29.69911765, 19.        , 29.69911765, 29.69911765,\n        0.92      , 29.69911765, 17.        , 30.        , 30.        ,\n       24.        , 18.        , 26.        , 28.        , 43.        ,\n       26.        , 24.        , 54.        , 31.        , 40.        ,\n       22.        , 27.        , 30.        , 22.        , 29.69911765,\n       36.        , 61.        , 36.        , 31.        , 16.        ,\n       29.69911765, 45.5       , 38.        , 16.        , 29.69911765,\n       29.69911765, 29.        , 41.        , 45.        , 45.        ,\n        2.        , 24.        , 28.        , 25.        , 36.        ,\n       24.        , 40.        , 29.69911765,  3.        , 42.        ,\n       23.        , 29.69911765, 15.        , 25.        , 29.69911765,\n       28.        , 22.        , 38.        , 29.69911765, 29.69911765,\n       40.        , 29.        , 45.        , 35.        , 29.69911765,\n       30.        , 60.        , 29.69911765, 29.69911765, 24.        ,\n       25.        , 18.        , 19.        , 22.        ,  3.        ,\n       29.69911765, 22.        , 27.        , 20.        , 19.        ,\n       42.        ,  1.        , 32.        , 35.        , 29.69911765,\n       18.        ,  1.        , 36.        , 29.69911765, 17.        ,\n       36.        , 21.        , 28.        , 23.        , 24.        ,\n       22.        , 31.        , 46.        , 23.        , 28.        ,\n       39.        , 26.        , 21.        , 28.        , 20.        ,\n       34.        , 51.        ,  3.        , 21.        , 29.69911765,\n       29.69911765, 29.69911765, 33.        , 29.69911765, 44.        ,\n       29.69911765, 34.        , 18.        , 30.        , 10.        ,\n       29.69911765, 21.        , 29.        , 28.        , 18.        ,\n       29.69911765, 28.        , 19.        , 29.69911765, 32.        ,\n       28.        , 29.69911765, 42.        , 17.        , 50.        ,\n       14.        , 21.        , 24.        , 64.        , 31.        ,\n       45.        , 20.        , 25.        , 28.        , 29.69911765,\n        4.        , 13.        , 34.        ,  5.        , 52.        ,\n       36.        , 29.69911765, 30.        , 49.        , 29.69911765,\n       29.        , 65.        , 29.69911765, 50.        , 29.69911765,\n       48.        , 34.        , 47.        , 48.        , 29.69911765,\n       38.        , 29.69911765, 56.        , 29.69911765,  0.75      ,\n       29.69911765, 38.        , 33.        , 23.        , 22.        ,\n       29.69911765, 34.        , 29.        , 22.        ,  2.        ,\n        9.        , 29.69911765, 50.        , 63.        , 25.        ,\n       29.69911765, 35.        , 58.        , 30.        ,  9.        ,\n       29.69911765, 21.        , 55.        , 71.        , 21.        ,\n       29.69911765, 54.        , 29.69911765, 25.        , 24.        ,\n       17.        , 21.        , 29.69911765, 37.        , 16.        ,\n       18.        , 33.        , 29.69911765, 28.        , 26.        ,\n       29.        , 29.69911765, 36.        , 54.        , 24.        ,\n       47.        , 34.        , 29.69911765, 36.        , 32.        ,\n       30.        , 22.        , 29.69911765, 44.        , 29.69911765,\n       40.5       , 50.        , 29.69911765, 39.        , 23.        ,\n        2.        , 29.69911765, 17.        , 29.69911765, 30.        ,\n        7.        , 45.        , 30.        , 29.69911765, 22.        ,\n       36.        ,  9.        , 11.        , 32.        , 50.        ,\n       64.        , 19.        , 29.69911765, 33.        ,  8.        ,\n       17.        , 27.        , 29.69911765, 22.        , 22.        ,\n       62.        , 48.        , 29.69911765, 39.        , 36.        ,\n       29.69911765, 40.        , 28.        , 29.69911765, 29.69911765,\n       24.        , 19.        , 29.        , 29.69911765, 32.        ,\n       62.        , 53.        , 36.        , 29.69911765, 16.        ,\n       19.        , 34.        , 39.        , 29.69911765, 32.        ,\n       25.        , 39.        , 54.        , 36.        , 29.69911765,\n       18.        , 47.        , 60.        , 22.        , 29.69911765,\n       35.        , 52.        , 47.        , 29.69911765, 37.        ,\n       36.        , 29.69911765, 49.        , 29.69911765, 49.        ,\n       24.        , 29.69911765, 29.69911765, 44.        , 35.        ,\n       36.        , 30.        , 27.        , 22.        , 40.        ,\n       39.        , 29.69911765, 29.69911765, 29.69911765, 35.        ,\n       24.        , 34.        , 26.        ,  4.        , 26.        ,\n       27.        , 42.        , 20.        , 21.        , 21.        ,\n       61.        , 57.        , 21.        , 26.        , 29.69911765,\n       80.        , 51.        , 32.        , 29.69911765,  9.        ,\n       28.        , 32.        , 31.        , 41.        , 29.69911765,\n       20.        , 24.        ,  2.        , 29.69911765,  0.75      ,\n       48.        , 19.        , 56.        , 29.69911765, 23.        ,\n       29.69911765, 18.        , 21.        , 29.69911765, 18.        ,\n       24.        , 29.69911765, 32.        , 23.        , 58.        ,\n       50.        , 40.        , 47.        , 36.        , 20.        ,\n       32.        , 25.        , 29.69911765, 43.        , 29.69911765,\n       40.        , 31.        , 70.        , 31.        , 29.69911765,\n       18.        , 24.5       , 18.        , 43.        , 36.        ,\n       29.69911765, 27.        , 20.        , 14.        , 60.        ,\n       25.        , 14.        , 19.        , 18.        , 15.        ,\n       31.        ,  4.        , 29.69911765, 25.        , 60.        ,\n       52.        , 44.        , 29.69911765, 49.        , 42.        ,\n       18.        , 35.        , 18.        , 25.        , 26.        ,\n       39.        , 45.        , 42.        , 22.        , 29.69911765,\n       24.        , 29.69911765, 48.        , 29.        , 52.        ,\n       19.        , 38.        , 27.        , 29.69911765, 33.        ,\n        6.        , 17.        , 34.        , 50.        , 27.        ,\n       20.        , 30.        , 29.69911765, 25.        , 25.        ,\n       29.        , 11.        , 29.69911765, 23.        , 23.        ,\n       28.5       , 48.        , 35.        , 29.69911765, 29.69911765,\n       29.69911765, 36.        , 21.        , 24.        , 31.        ,\n       70.        , 16.        , 30.        , 19.        , 31.        ,\n        4.        ,  6.        , 33.        , 23.        , 48.        ,\n        0.67      , 28.        , 18.        , 34.        , 33.        ,\n       29.69911765, 41.        , 20.        , 36.        , 16.        ,\n       51.        , 29.69911765, 30.5       , 29.69911765, 32.        ,\n       24.        , 48.        , 57.        , 29.69911765, 54.        ,\n       18.        , 29.69911765,  5.        , 29.69911765, 43.        ,\n       13.        , 17.        , 29.        , 29.69911765, 25.        ,\n       25.        , 18.        ,  8.        ,  1.        , 46.        ,\n       29.69911765, 16.        , 29.69911765, 29.69911765, 25.        ,\n       39.        , 49.        , 31.        , 30.        , 30.        ,\n       34.        , 31.        , 11.        ,  0.42      , 27.        ,\n       31.        , 39.        , 18.        , 39.        , 33.        ,\n       26.        , 39.        , 35.        ,  6.        , 30.5       ,\n       29.69911765, 23.        , 31.        , 43.        , 10.        ,\n       52.        , 27.        , 38.        , 27.        ,  2.        ,\n       29.69911765, 29.69911765,  1.        , 29.69911765, 62.        ,\n       15.        ,  0.83      , 29.69911765, 23.        , 18.        ,\n       39.        , 21.        , 29.69911765, 32.        , 29.69911765,\n       20.        , 16.        , 30.        , 34.5       , 17.        ,\n       42.        , 29.69911765, 35.        , 28.        , 29.69911765,\n        4.        , 74.        ,  9.        , 16.        , 44.        ,\n       18.        , 45.        , 51.        , 24.        , 29.69911765,\n       41.        , 21.        , 48.        , 29.69911765, 24.        ,\n       42.        , 27.        , 31.        , 29.69911765,  4.        ,\n       26.        , 47.        , 33.        , 47.        , 28.        ,\n       15.        , 20.        , 19.        , 29.69911765, 56.        ,\n       25.        , 33.        , 22.        , 28.        , 25.        ,\n       39.        , 27.        , 19.        , 29.69911765, 26.        ,\n       32.        ])"
     },
     "execution_count": 147,
     "metadata": {},
     "output_type": "execute_result"
    }
   ],
   "source": [
    "dataku4.age.values"
   ],
   "metadata": {
    "collapsed": false,
    "ExecuteTime": {
     "end_time": "2024-03-11T14:55:38.766368Z",
     "start_time": "2024-03-11T14:55:38.748569Z"
    }
   },
   "id": "382e393168ddf228",
   "execution_count": 147
  },
  {
   "cell_type": "code",
   "outputs": [],
   "source": [],
   "metadata": {
    "collapsed": false
   },
   "id": "cb98053142e747e7"
  }
 ],
 "metadata": {
  "kernelspec": {
   "display_name": "Python 3",
   "language": "python",
   "name": "python3"
  },
  "language_info": {
   "codemirror_mode": {
    "name": "ipython",
    "version": 2
   },
   "file_extension": ".py",
   "mimetype": "text/x-python",
   "name": "python",
   "nbconvert_exporter": "python",
   "pygments_lexer": "ipython2",
   "version": "2.7.6"
  }
 },
 "nbformat": 4,
 "nbformat_minor": 5
}
