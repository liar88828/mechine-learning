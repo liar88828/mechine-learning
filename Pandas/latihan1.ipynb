{
 "cells": [
  {
   "cell_type": "code",
   "execution_count": 1,
   "id": "initial_id",
   "metadata": {
    "collapsed": true,
    "ExecuteTime": {
     "end_time": "2024-03-11T13:06:05.143864Z",
     "start_time": "2024-03-11T13:06:04.513562Z"
    }
   },
   "outputs": [],
   "source": [
    "import pandas as pd\n",
    "# latihan mengimport data"
   ]
  },
  {
   "cell_type": "code",
   "outputs": [],
   "source": [
    "dataku = pd.read_csv('kapal_titanic.csv')"
   ],
   "metadata": {
    "collapsed": false,
    "ExecuteTime": {
     "end_time": "2024-03-11T13:06:05.159313Z",
     "start_time": "2024-03-11T13:06:05.144930Z"
    }
   },
   "id": "d4f9113ec3c1d7f",
   "execution_count": 2
  },
  {
   "cell_type": "code",
   "outputs": [],
   "source": [
    "dataku  # semua data"
   ],
   "metadata": {
    "collapsed": false
   },
   "id": "a417f0f13d5074e",
   "execution_count": null
  },
  {
   "cell_type": "code",
   "outputs": [
    {
     "data": {
      "text/plain": "   survived  pclass     sex   age  sibsp  parch     fare embarked deck\n0         0       3    male  22.0      1      0   7.2500        S  NaN\n1         1       1  female  38.0      1      0  71.2833        C    C\n2         1       3  female  26.0      0      0   7.9250        S  NaN\n3         1       1  female  35.0      1      0  53.1000        S    C\n4         0       3    male  35.0      0      0   8.0500        S  NaN",
      "text/html": "<div>\n<style scoped>\n    .dataframe tbody tr th:only-of-type {\n        vertical-align: middle;\n    }\n\n    .dataframe tbody tr th {\n        vertical-align: top;\n    }\n\n    .dataframe thead th {\n        text-align: right;\n    }\n</style>\n<table border=\"1\" class=\"dataframe\">\n  <thead>\n    <tr style=\"text-align: right;\">\n      <th></th>\n      <th>survived</th>\n      <th>pclass</th>\n      <th>sex</th>\n      <th>age</th>\n      <th>sibsp</th>\n      <th>parch</th>\n      <th>fare</th>\n      <th>embarked</th>\n      <th>deck</th>\n    </tr>\n  </thead>\n  <tbody>\n    <tr>\n      <th>0</th>\n      <td>0</td>\n      <td>3</td>\n      <td>male</td>\n      <td>22.0</td>\n      <td>1</td>\n      <td>0</td>\n      <td>7.2500</td>\n      <td>S</td>\n      <td>NaN</td>\n    </tr>\n    <tr>\n      <th>1</th>\n      <td>1</td>\n      <td>1</td>\n      <td>female</td>\n      <td>38.0</td>\n      <td>1</td>\n      <td>0</td>\n      <td>71.2833</td>\n      <td>C</td>\n      <td>C</td>\n    </tr>\n    <tr>\n      <th>2</th>\n      <td>1</td>\n      <td>3</td>\n      <td>female</td>\n      <td>26.0</td>\n      <td>0</td>\n      <td>0</td>\n      <td>7.9250</td>\n      <td>S</td>\n      <td>NaN</td>\n    </tr>\n    <tr>\n      <th>3</th>\n      <td>1</td>\n      <td>1</td>\n      <td>female</td>\n      <td>35.0</td>\n      <td>1</td>\n      <td>0</td>\n      <td>53.1000</td>\n      <td>S</td>\n      <td>C</td>\n    </tr>\n    <tr>\n      <th>4</th>\n      <td>0</td>\n      <td>3</td>\n      <td>male</td>\n      <td>35.0</td>\n      <td>0</td>\n      <td>0</td>\n      <td>8.0500</td>\n      <td>S</td>\n      <td>NaN</td>\n    </tr>\n  </tbody>\n</table>\n</div>"
     },
     "execution_count": 4,
     "metadata": {},
     "output_type": "execute_result"
    }
   ],
   "source": [
    "dataku.head()  # 4 data pertama"
   ],
   "metadata": {
    "collapsed": false,
    "ExecuteTime": {
     "end_time": "2024-03-11T13:06:05.206146Z",
     "start_time": "2024-03-11T13:06:05.191617Z"
    }
   },
   "id": "8ca699058faae99b",
   "execution_count": 4
  },
  {
   "cell_type": "code",
   "outputs": [
    {
     "data": {
      "text/plain": "     survived  pclass     sex   age  sibsp  parch   fare embarked deck\n886         0       2    male  27.0      0      0  13.00        S  NaN\n887         1       1  female  19.0      0      0  30.00        S    B\n888         0       3  female   NaN      1      2  23.45        S  NaN\n889         1       1    male  26.0      0      0  30.00        C    C\n890         0       3    male  32.0      0      0   7.75        Q  NaN",
      "text/html": "<div>\n<style scoped>\n    .dataframe tbody tr th:only-of-type {\n        vertical-align: middle;\n    }\n\n    .dataframe tbody tr th {\n        vertical-align: top;\n    }\n\n    .dataframe thead th {\n        text-align: right;\n    }\n</style>\n<table border=\"1\" class=\"dataframe\">\n  <thead>\n    <tr style=\"text-align: right;\">\n      <th></th>\n      <th>survived</th>\n      <th>pclass</th>\n      <th>sex</th>\n      <th>age</th>\n      <th>sibsp</th>\n      <th>parch</th>\n      <th>fare</th>\n      <th>embarked</th>\n      <th>deck</th>\n    </tr>\n  </thead>\n  <tbody>\n    <tr>\n      <th>886</th>\n      <td>0</td>\n      <td>2</td>\n      <td>male</td>\n      <td>27.0</td>\n      <td>0</td>\n      <td>0</td>\n      <td>13.00</td>\n      <td>S</td>\n      <td>NaN</td>\n    </tr>\n    <tr>\n      <th>887</th>\n      <td>1</td>\n      <td>1</td>\n      <td>female</td>\n      <td>19.0</td>\n      <td>0</td>\n      <td>0</td>\n      <td>30.00</td>\n      <td>S</td>\n      <td>B</td>\n    </tr>\n    <tr>\n      <th>888</th>\n      <td>0</td>\n      <td>3</td>\n      <td>female</td>\n      <td>NaN</td>\n      <td>1</td>\n      <td>2</td>\n      <td>23.45</td>\n      <td>S</td>\n      <td>NaN</td>\n    </tr>\n    <tr>\n      <th>889</th>\n      <td>1</td>\n      <td>1</td>\n      <td>male</td>\n      <td>26.0</td>\n      <td>0</td>\n      <td>0</td>\n      <td>30.00</td>\n      <td>C</td>\n      <td>C</td>\n    </tr>\n    <tr>\n      <th>890</th>\n      <td>0</td>\n      <td>3</td>\n      <td>male</td>\n      <td>32.0</td>\n      <td>0</td>\n      <td>0</td>\n      <td>7.75</td>\n      <td>Q</td>\n      <td>NaN</td>\n    </tr>\n  </tbody>\n</table>\n</div>"
     },
     "execution_count": 6,
     "metadata": {},
     "output_type": "execute_result"
    }
   ],
   "source": [
    "dataku.tail()  # 4 data terakhir"
   ],
   "metadata": {
    "collapsed": false,
    "ExecuteTime": {
     "end_time": "2024-03-11T13:06:58.680873Z",
     "start_time": "2024-03-11T13:06:58.661215Z"
    }
   },
   "id": "9c1d05b0c87540dd",
   "execution_count": 6
  },
  {
   "cell_type": "code",
   "outputs": [],
   "source": [
    "dataku.to_csv(\n",
    "    'dataku_titanic.csv', index=False)"
   ],
   "metadata": {
    "collapsed": false,
    "ExecuteTime": {
     "end_time": "2024-03-11T13:10:28.848467Z",
     "start_time": "2024-03-11T13:10:28.830155Z"
    }
   },
   "id": "8797006244492769",
   "execution_count": 12
  },
  {
   "cell_type": "code",
   "outputs": [
    {
     "data": {
      "text/plain": "     survived  pclass     sex   age  sibsp  parch     fare embarked deck\n0           0       3    male  22.0      1      0   7.2500        S  NaN\n1           1       1  female  38.0      1      0  71.2833        C    C\n2           1       3  female  26.0      0      0   7.9250        S  NaN\n3           1       1  female  35.0      1      0  53.1000        S    C\n4           0       3    male  35.0      0      0   8.0500        S  NaN\n..        ...     ...     ...   ...    ...    ...      ...      ...  ...\n886         0       2    male  27.0      0      0  13.0000        S  NaN\n887         1       1  female  19.0      0      0  30.0000        S    B\n888         0       3  female   NaN      1      2  23.4500        S  NaN\n889         1       1    male  26.0      0      0  30.0000        C    C\n890         0       3    male  32.0      0      0   7.7500        Q  NaN\n\n[891 rows x 9 columns]",
      "text/html": "<div>\n<style scoped>\n    .dataframe tbody tr th:only-of-type {\n        vertical-align: middle;\n    }\n\n    .dataframe tbody tr th {\n        vertical-align: top;\n    }\n\n    .dataframe thead th {\n        text-align: right;\n    }\n</style>\n<table border=\"1\" class=\"dataframe\">\n  <thead>\n    <tr style=\"text-align: right;\">\n      <th></th>\n      <th>survived</th>\n      <th>pclass</th>\n      <th>sex</th>\n      <th>age</th>\n      <th>sibsp</th>\n      <th>parch</th>\n      <th>fare</th>\n      <th>embarked</th>\n      <th>deck</th>\n    </tr>\n  </thead>\n  <tbody>\n    <tr>\n      <th>0</th>\n      <td>0</td>\n      <td>3</td>\n      <td>male</td>\n      <td>22.0</td>\n      <td>1</td>\n      <td>0</td>\n      <td>7.2500</td>\n      <td>S</td>\n      <td>NaN</td>\n    </tr>\n    <tr>\n      <th>1</th>\n      <td>1</td>\n      <td>1</td>\n      <td>female</td>\n      <td>38.0</td>\n      <td>1</td>\n      <td>0</td>\n      <td>71.2833</td>\n      <td>C</td>\n      <td>C</td>\n    </tr>\n    <tr>\n      <th>2</th>\n      <td>1</td>\n      <td>3</td>\n      <td>female</td>\n      <td>26.0</td>\n      <td>0</td>\n      <td>0</td>\n      <td>7.9250</td>\n      <td>S</td>\n      <td>NaN</td>\n    </tr>\n    <tr>\n      <th>3</th>\n      <td>1</td>\n      <td>1</td>\n      <td>female</td>\n      <td>35.0</td>\n      <td>1</td>\n      <td>0</td>\n      <td>53.1000</td>\n      <td>S</td>\n      <td>C</td>\n    </tr>\n    <tr>\n      <th>4</th>\n      <td>0</td>\n      <td>3</td>\n      <td>male</td>\n      <td>35.0</td>\n      <td>0</td>\n      <td>0</td>\n      <td>8.0500</td>\n      <td>S</td>\n      <td>NaN</td>\n    </tr>\n    <tr>\n      <th>...</th>\n      <td>...</td>\n      <td>...</td>\n      <td>...</td>\n      <td>...</td>\n      <td>...</td>\n      <td>...</td>\n      <td>...</td>\n      <td>...</td>\n      <td>...</td>\n    </tr>\n    <tr>\n      <th>886</th>\n      <td>0</td>\n      <td>2</td>\n      <td>male</td>\n      <td>27.0</td>\n      <td>0</td>\n      <td>0</td>\n      <td>13.0000</td>\n      <td>S</td>\n      <td>NaN</td>\n    </tr>\n    <tr>\n      <th>887</th>\n      <td>1</td>\n      <td>1</td>\n      <td>female</td>\n      <td>19.0</td>\n      <td>0</td>\n      <td>0</td>\n      <td>30.0000</td>\n      <td>S</td>\n      <td>B</td>\n    </tr>\n    <tr>\n      <th>888</th>\n      <td>0</td>\n      <td>3</td>\n      <td>female</td>\n      <td>NaN</td>\n      <td>1</td>\n      <td>2</td>\n      <td>23.4500</td>\n      <td>S</td>\n      <td>NaN</td>\n    </tr>\n    <tr>\n      <th>889</th>\n      <td>1</td>\n      <td>1</td>\n      <td>male</td>\n      <td>26.0</td>\n      <td>0</td>\n      <td>0</td>\n      <td>30.0000</td>\n      <td>C</td>\n      <td>C</td>\n    </tr>\n    <tr>\n      <th>890</th>\n      <td>0</td>\n      <td>3</td>\n      <td>male</td>\n      <td>32.0</td>\n      <td>0</td>\n      <td>0</td>\n      <td>7.7500</td>\n      <td>Q</td>\n      <td>NaN</td>\n    </tr>\n  </tbody>\n</table>\n<p>891 rows × 9 columns</p>\n</div>"
     },
     "execution_count": 13,
     "metadata": {},
     "output_type": "execute_result"
    }
   ],
   "source": [
    "pd.read_csv('data_csv_titanic.csv')"
   ],
   "metadata": {
    "collapsed": false,
    "ExecuteTime": {
     "end_time": "2024-03-11T13:10:29.555197Z",
     "start_time": "2024-03-11T13:10:29.537450Z"
    }
   },
   "id": "cfa6f69c6b7cf14f",
   "execution_count": 13
  },
  {
   "cell_type": "code",
   "outputs": [],
   "source": [
    "dataku.to_excel(\n",
    "    'dataku_titanic.xlsx', index=False,\n",
    "    sheet_name='test')"
   ],
   "metadata": {
    "collapsed": false,
    "ExecuteTime": {
     "end_time": "2024-03-11T13:11:02.940857Z",
     "start_time": "2024-03-11T13:11:02.397276Z"
    }
   },
   "id": "4a6999a08e58c13d",
   "execution_count": 15
  },
  {
   "cell_type": "code",
   "outputs": [
    {
     "data": {
      "text/plain": "     survived  pclass     sex   age  sibsp  parch     fare embarked deck\n0           0       3    male  22.0      1      0   7.2500        S  NaN\n1           1       1  female  38.0      1      0  71.2833        C    C\n2           1       3  female  26.0      0      0   7.9250        S  NaN\n3           1       1  female  35.0      1      0  53.1000        S    C\n4           0       3    male  35.0      0      0   8.0500        S  NaN\n..        ...     ...     ...   ...    ...    ...      ...      ...  ...\n886         0       2    male  27.0      0      0  13.0000        S  NaN\n887         1       1  female  19.0      0      0  30.0000        S    B\n888         0       3  female   NaN      1      2  23.4500        S  NaN\n889         1       1    male  26.0      0      0  30.0000        C    C\n890         0       3    male  32.0      0      0   7.7500        Q  NaN\n\n[891 rows x 9 columns]",
      "text/html": "<div>\n<style scoped>\n    .dataframe tbody tr th:only-of-type {\n        vertical-align: middle;\n    }\n\n    .dataframe tbody tr th {\n        vertical-align: top;\n    }\n\n    .dataframe thead th {\n        text-align: right;\n    }\n</style>\n<table border=\"1\" class=\"dataframe\">\n  <thead>\n    <tr style=\"text-align: right;\">\n      <th></th>\n      <th>survived</th>\n      <th>pclass</th>\n      <th>sex</th>\n      <th>age</th>\n      <th>sibsp</th>\n      <th>parch</th>\n      <th>fare</th>\n      <th>embarked</th>\n      <th>deck</th>\n    </tr>\n  </thead>\n  <tbody>\n    <tr>\n      <th>0</th>\n      <td>0</td>\n      <td>3</td>\n      <td>male</td>\n      <td>22.0</td>\n      <td>1</td>\n      <td>0</td>\n      <td>7.2500</td>\n      <td>S</td>\n      <td>NaN</td>\n    </tr>\n    <tr>\n      <th>1</th>\n      <td>1</td>\n      <td>1</td>\n      <td>female</td>\n      <td>38.0</td>\n      <td>1</td>\n      <td>0</td>\n      <td>71.2833</td>\n      <td>C</td>\n      <td>C</td>\n    </tr>\n    <tr>\n      <th>2</th>\n      <td>1</td>\n      <td>3</td>\n      <td>female</td>\n      <td>26.0</td>\n      <td>0</td>\n      <td>0</td>\n      <td>7.9250</td>\n      <td>S</td>\n      <td>NaN</td>\n    </tr>\n    <tr>\n      <th>3</th>\n      <td>1</td>\n      <td>1</td>\n      <td>female</td>\n      <td>35.0</td>\n      <td>1</td>\n      <td>0</td>\n      <td>53.1000</td>\n      <td>S</td>\n      <td>C</td>\n    </tr>\n    <tr>\n      <th>4</th>\n      <td>0</td>\n      <td>3</td>\n      <td>male</td>\n      <td>35.0</td>\n      <td>0</td>\n      <td>0</td>\n      <td>8.0500</td>\n      <td>S</td>\n      <td>NaN</td>\n    </tr>\n    <tr>\n      <th>...</th>\n      <td>...</td>\n      <td>...</td>\n      <td>...</td>\n      <td>...</td>\n      <td>...</td>\n      <td>...</td>\n      <td>...</td>\n      <td>...</td>\n      <td>...</td>\n    </tr>\n    <tr>\n      <th>886</th>\n      <td>0</td>\n      <td>2</td>\n      <td>male</td>\n      <td>27.0</td>\n      <td>0</td>\n      <td>0</td>\n      <td>13.0000</td>\n      <td>S</td>\n      <td>NaN</td>\n    </tr>\n    <tr>\n      <th>887</th>\n      <td>1</td>\n      <td>1</td>\n      <td>female</td>\n      <td>19.0</td>\n      <td>0</td>\n      <td>0</td>\n      <td>30.0000</td>\n      <td>S</td>\n      <td>B</td>\n    </tr>\n    <tr>\n      <th>888</th>\n      <td>0</td>\n      <td>3</td>\n      <td>female</td>\n      <td>NaN</td>\n      <td>1</td>\n      <td>2</td>\n      <td>23.4500</td>\n      <td>S</td>\n      <td>NaN</td>\n    </tr>\n    <tr>\n      <th>889</th>\n      <td>1</td>\n      <td>1</td>\n      <td>male</td>\n      <td>26.0</td>\n      <td>0</td>\n      <td>0</td>\n      <td>30.0000</td>\n      <td>C</td>\n      <td>C</td>\n    </tr>\n    <tr>\n      <th>890</th>\n      <td>0</td>\n      <td>3</td>\n      <td>male</td>\n      <td>32.0</td>\n      <td>0</td>\n      <td>0</td>\n      <td>7.7500</td>\n      <td>Q</td>\n      <td>NaN</td>\n    </tr>\n  </tbody>\n</table>\n<p>891 rows × 9 columns</p>\n</div>"
     },
     "execution_count": 17,
     "metadata": {},
     "output_type": "execute_result"
    }
   ],
   "source": [
    "pd.read_excel(\n",
    "    'dataku_titanic.xlsx',\n",
    "    sheet_name='test')"
   ],
   "metadata": {
    "collapsed": false,
    "ExecuteTime": {
     "end_time": "2024-03-11T13:12:06.727087Z",
     "start_time": "2024-03-11T13:12:06.571563Z"
    }
   },
   "id": "81e7ec7608a8f9af",
   "execution_count": 17
  },
  {
   "cell_type": "code",
   "outputs": [],
   "source": [
    "datahtml=pd.read_html('https://www.fdic.gov/resources/resolutions/bank-failures/failed-bank-list')\n"
   ],
   "metadata": {
    "collapsed": false,
    "ExecuteTime": {
     "end_time": "2024-03-11T13:18:57.526650Z",
     "start_time": "2024-03-11T13:18:53.830504Z"
    }
   },
   "id": "dbc36ed0b0b0a81c",
   "execution_count": 25
  },
  {
   "cell_type": "code",
   "outputs": [
    {
     "data": {
      "text/plain": "[                         Bank NameBank       CityCity StateSt  CertCert  \\\n 0                        Citizens Bank       Sac City      IA      8758   \n 1             Heartland Tri-State Bank        Elkhart      KS     25851   \n 2                  First Republic Bank  San Francisco      CA     59017   \n 3                       Signature Bank       New York      NY     57053   \n 4                  Silicon Valley Bank    Santa Clara      CA     24735   \n ..                                 ...            ...     ...       ...   \n 563                 Superior Bank, FSB       Hinsdale      IL     32646   \n 564                Malta National Bank          Malta      OH      6629   \n 565    First Alliance Bank & Trust Co.     Manchester      NH     34264   \n 566  National State Bank of Metropolis     Metropolis      IL      3815   \n 567                   Bank of Honolulu       Honolulu      HI     21029   \n \n                  Acquiring InstitutionAI Closing DateClosing  FundFund  \n 0              Iowa Trust & Savings Bank    November 3, 2023     10545  \n 1                 Dream First Bank, N.A.       July 28, 2023     10544  \n 2              JPMorgan Chase Bank, N.A.         May 1, 2023     10543  \n 3                    Flagstar Bank, N.A.      March 12, 2023     10540  \n 4    First–Citizens Bank & Trust Company      March 10, 2023     10539  \n ..                                   ...                 ...       ...  \n 563                Superior Federal, FSB       July 27, 2001      6004  \n 564                    North Valley Bank         May 3, 2001      4648  \n 565  Southern New Hampshire Bank & Trust    February 2, 2001      4647  \n 566              Banterra Bank of Marion   December 14, 2000      4646  \n 567                   Bank of the Orient    October 13, 2000      4645  \n \n [568 rows x 7 columns]]"
     },
     "execution_count": 27,
     "metadata": {},
     "output_type": "execute_result"
    }
   ],
   "source": [
    "datahtml"
   ],
   "metadata": {
    "collapsed": false,
    "ExecuteTime": {
     "end_time": "2024-03-11T13:19:08.914848Z",
     "start_time": "2024-03-11T13:19:08.901837Z"
    }
   },
   "id": "87f6eb781f4fa2d7",
   "execution_count": 27
  },
  {
   "cell_type": "code",
   "outputs": [
    {
     "data": {
      "text/plain": "                         Bank NameBank       CityCity StateSt  CertCert  \\\n0                        Citizens Bank       Sac City      IA      8758   \n1             Heartland Tri-State Bank        Elkhart      KS     25851   \n2                  First Republic Bank  San Francisco      CA     59017   \n3                       Signature Bank       New York      NY     57053   \n4                  Silicon Valley Bank    Santa Clara      CA     24735   \n..                                 ...            ...     ...       ...   \n563                 Superior Bank, FSB       Hinsdale      IL     32646   \n564                Malta National Bank          Malta      OH      6629   \n565    First Alliance Bank & Trust Co.     Manchester      NH     34264   \n566  National State Bank of Metropolis     Metropolis      IL      3815   \n567                   Bank of Honolulu       Honolulu      HI     21029   \n\n                 Acquiring InstitutionAI Closing DateClosing  FundFund  \n0              Iowa Trust & Savings Bank    November 3, 2023     10545  \n1                 Dream First Bank, N.A.       July 28, 2023     10544  \n2              JPMorgan Chase Bank, N.A.         May 1, 2023     10543  \n3                    Flagstar Bank, N.A.      March 12, 2023     10540  \n4    First–Citizens Bank & Trust Company      March 10, 2023     10539  \n..                                   ...                 ...       ...  \n563                Superior Federal, FSB       July 27, 2001      6004  \n564                    North Valley Bank         May 3, 2001      4648  \n565  Southern New Hampshire Bank & Trust    February 2, 2001      4647  \n566              Banterra Bank of Marion   December 14, 2000      4646  \n567                   Bank of the Orient    October 13, 2000      4645  \n\n[568 rows x 7 columns]",
      "text/html": "<div>\n<style scoped>\n    .dataframe tbody tr th:only-of-type {\n        vertical-align: middle;\n    }\n\n    .dataframe tbody tr th {\n        vertical-align: top;\n    }\n\n    .dataframe thead th {\n        text-align: right;\n    }\n</style>\n<table border=\"1\" class=\"dataframe\">\n  <thead>\n    <tr style=\"text-align: right;\">\n      <th></th>\n      <th>Bank NameBank</th>\n      <th>CityCity</th>\n      <th>StateSt</th>\n      <th>CertCert</th>\n      <th>Acquiring InstitutionAI</th>\n      <th>Closing DateClosing</th>\n      <th>FundFund</th>\n    </tr>\n  </thead>\n  <tbody>\n    <tr>\n      <th>0</th>\n      <td>Citizens Bank</td>\n      <td>Sac City</td>\n      <td>IA</td>\n      <td>8758</td>\n      <td>Iowa Trust &amp; Savings Bank</td>\n      <td>November 3, 2023</td>\n      <td>10545</td>\n    </tr>\n    <tr>\n      <th>1</th>\n      <td>Heartland Tri-State Bank</td>\n      <td>Elkhart</td>\n      <td>KS</td>\n      <td>25851</td>\n      <td>Dream First Bank, N.A.</td>\n      <td>July 28, 2023</td>\n      <td>10544</td>\n    </tr>\n    <tr>\n      <th>2</th>\n      <td>First Republic Bank</td>\n      <td>San Francisco</td>\n      <td>CA</td>\n      <td>59017</td>\n      <td>JPMorgan Chase Bank, N.A.</td>\n      <td>May 1, 2023</td>\n      <td>10543</td>\n    </tr>\n    <tr>\n      <th>3</th>\n      <td>Signature Bank</td>\n      <td>New York</td>\n      <td>NY</td>\n      <td>57053</td>\n      <td>Flagstar Bank, N.A.</td>\n      <td>March 12, 2023</td>\n      <td>10540</td>\n    </tr>\n    <tr>\n      <th>4</th>\n      <td>Silicon Valley Bank</td>\n      <td>Santa Clara</td>\n      <td>CA</td>\n      <td>24735</td>\n      <td>First–Citizens Bank &amp; Trust Company</td>\n      <td>March 10, 2023</td>\n      <td>10539</td>\n    </tr>\n    <tr>\n      <th>...</th>\n      <td>...</td>\n      <td>...</td>\n      <td>...</td>\n      <td>...</td>\n      <td>...</td>\n      <td>...</td>\n      <td>...</td>\n    </tr>\n    <tr>\n      <th>563</th>\n      <td>Superior Bank, FSB</td>\n      <td>Hinsdale</td>\n      <td>IL</td>\n      <td>32646</td>\n      <td>Superior Federal, FSB</td>\n      <td>July 27, 2001</td>\n      <td>6004</td>\n    </tr>\n    <tr>\n      <th>564</th>\n      <td>Malta National Bank</td>\n      <td>Malta</td>\n      <td>OH</td>\n      <td>6629</td>\n      <td>North Valley Bank</td>\n      <td>May 3, 2001</td>\n      <td>4648</td>\n    </tr>\n    <tr>\n      <th>565</th>\n      <td>First Alliance Bank &amp; Trust Co.</td>\n      <td>Manchester</td>\n      <td>NH</td>\n      <td>34264</td>\n      <td>Southern New Hampshire Bank &amp; Trust</td>\n      <td>February 2, 2001</td>\n      <td>4647</td>\n    </tr>\n    <tr>\n      <th>566</th>\n      <td>National State Bank of Metropolis</td>\n      <td>Metropolis</td>\n      <td>IL</td>\n      <td>3815</td>\n      <td>Banterra Bank of Marion</td>\n      <td>December 14, 2000</td>\n      <td>4646</td>\n    </tr>\n    <tr>\n      <th>567</th>\n      <td>Bank of Honolulu</td>\n      <td>Honolulu</td>\n      <td>HI</td>\n      <td>21029</td>\n      <td>Bank of the Orient</td>\n      <td>October 13, 2000</td>\n      <td>4645</td>\n    </tr>\n  </tbody>\n</table>\n<p>568 rows × 7 columns</p>\n</div>"
     },
     "execution_count": 28,
     "metadata": {},
     "output_type": "execute_result"
    }
   ],
   "source": [
    "datahtml[0]"
   ],
   "metadata": {
    "collapsed": false,
    "ExecuteTime": {
     "end_time": "2024-03-11T13:20:09.452300Z",
     "start_time": "2024-03-11T13:20:09.437367Z"
    }
   },
   "id": "2e4a4a3195f8194a",
   "execution_count": 28
  },
  {
   "cell_type": "code",
   "outputs": [
    {
     "data": {
      "text/plain": "list"
     },
     "execution_count": 29,
     "metadata": {},
     "output_type": "execute_result"
    }
   ],
   "source": [
    "type(datahtml)"
   ],
   "metadata": {
    "collapsed": false,
    "ExecuteTime": {
     "end_time": "2024-03-11T13:20:18.957791Z",
     "start_time": "2024-03-11T13:20:18.945790Z"
    }
   },
   "id": "3bae844c81b28e0d",
   "execution_count": 29
  },
  {
   "cell_type": "code",
   "outputs": [],
   "source": [
    "from sqlalchemy import create_engine"
   ],
   "metadata": {
    "collapsed": false,
    "ExecuteTime": {
     "end_time": "2024-03-11T13:21:18.161293Z",
     "start_time": "2024-03-11T13:21:18.008221Z"
    }
   },
   "id": "56bb85691125f63e",
   "execution_count": 30
  },
  {
   "cell_type": "code",
   "outputs": [],
   "source": [
    "mesin=create_engine('sqlite:///:memory:')"
   ],
   "metadata": {
    "collapsed": false,
    "ExecuteTime": {
     "end_time": "2024-03-11T13:22:11.006527Z",
     "start_time": "2024-03-11T13:22:10.974889Z"
    }
   },
   "id": "2fecd69065938ccb",
   "execution_count": 31
  },
  {
   "cell_type": "code",
   "outputs": [
    {
     "data": {
      "text/plain": "891"
     },
     "execution_count": 33,
     "metadata": {},
     "output_type": "execute_result"
    }
   ],
   "source": [
    "dataku.to_sql('datasql',con=mesin)"
   ],
   "metadata": {
    "collapsed": false,
    "ExecuteTime": {
     "end_time": "2024-03-11T13:23:36.468775Z",
     "start_time": "2024-03-11T13:23:36.420582Z"
    }
   },
   "id": "82f58dcf9b310781",
   "execution_count": 33
  },
  {
   "cell_type": "code",
   "outputs": [
    {
     "data": {
      "text/plain": "     index  survived  pclass     sex   age  sibsp  parch     fare embarked  \\\n0        0         0       3    male  22.0      1      0   7.2500        S   \n1        1         1       1  female  38.0      1      0  71.2833        C   \n2        2         1       3  female  26.0      0      0   7.9250        S   \n3        3         1       1  female  35.0      1      0  53.1000        S   \n4        4         0       3    male  35.0      0      0   8.0500        S   \n..     ...       ...     ...     ...   ...    ...    ...      ...      ...   \n886    886         0       2    male  27.0      0      0  13.0000        S   \n887    887         1       1  female  19.0      0      0  30.0000        S   \n888    888         0       3  female   NaN      1      2  23.4500        S   \n889    889         1       1    male  26.0      0      0  30.0000        C   \n890    890         0       3    male  32.0      0      0   7.7500        Q   \n\n     deck  \n0    None  \n1       C  \n2    None  \n3       C  \n4    None  \n..    ...  \n886  None  \n887     B  \n888  None  \n889     C  \n890  None  \n\n[891 rows x 10 columns]",
      "text/html": "<div>\n<style scoped>\n    .dataframe tbody tr th:only-of-type {\n        vertical-align: middle;\n    }\n\n    .dataframe tbody tr th {\n        vertical-align: top;\n    }\n\n    .dataframe thead th {\n        text-align: right;\n    }\n</style>\n<table border=\"1\" class=\"dataframe\">\n  <thead>\n    <tr style=\"text-align: right;\">\n      <th></th>\n      <th>index</th>\n      <th>survived</th>\n      <th>pclass</th>\n      <th>sex</th>\n      <th>age</th>\n      <th>sibsp</th>\n      <th>parch</th>\n      <th>fare</th>\n      <th>embarked</th>\n      <th>deck</th>\n    </tr>\n  </thead>\n  <tbody>\n    <tr>\n      <th>0</th>\n      <td>0</td>\n      <td>0</td>\n      <td>3</td>\n      <td>male</td>\n      <td>22.0</td>\n      <td>1</td>\n      <td>0</td>\n      <td>7.2500</td>\n      <td>S</td>\n      <td>None</td>\n    </tr>\n    <tr>\n      <th>1</th>\n      <td>1</td>\n      <td>1</td>\n      <td>1</td>\n      <td>female</td>\n      <td>38.0</td>\n      <td>1</td>\n      <td>0</td>\n      <td>71.2833</td>\n      <td>C</td>\n      <td>C</td>\n    </tr>\n    <tr>\n      <th>2</th>\n      <td>2</td>\n      <td>1</td>\n      <td>3</td>\n      <td>female</td>\n      <td>26.0</td>\n      <td>0</td>\n      <td>0</td>\n      <td>7.9250</td>\n      <td>S</td>\n      <td>None</td>\n    </tr>\n    <tr>\n      <th>3</th>\n      <td>3</td>\n      <td>1</td>\n      <td>1</td>\n      <td>female</td>\n      <td>35.0</td>\n      <td>1</td>\n      <td>0</td>\n      <td>53.1000</td>\n      <td>S</td>\n      <td>C</td>\n    </tr>\n    <tr>\n      <th>4</th>\n      <td>4</td>\n      <td>0</td>\n      <td>3</td>\n      <td>male</td>\n      <td>35.0</td>\n      <td>0</td>\n      <td>0</td>\n      <td>8.0500</td>\n      <td>S</td>\n      <td>None</td>\n    </tr>\n    <tr>\n      <th>...</th>\n      <td>...</td>\n      <td>...</td>\n      <td>...</td>\n      <td>...</td>\n      <td>...</td>\n      <td>...</td>\n      <td>...</td>\n      <td>...</td>\n      <td>...</td>\n      <td>...</td>\n    </tr>\n    <tr>\n      <th>886</th>\n      <td>886</td>\n      <td>0</td>\n      <td>2</td>\n      <td>male</td>\n      <td>27.0</td>\n      <td>0</td>\n      <td>0</td>\n      <td>13.0000</td>\n      <td>S</td>\n      <td>None</td>\n    </tr>\n    <tr>\n      <th>887</th>\n      <td>887</td>\n      <td>1</td>\n      <td>1</td>\n      <td>female</td>\n      <td>19.0</td>\n      <td>0</td>\n      <td>0</td>\n      <td>30.0000</td>\n      <td>S</td>\n      <td>B</td>\n    </tr>\n    <tr>\n      <th>888</th>\n      <td>888</td>\n      <td>0</td>\n      <td>3</td>\n      <td>female</td>\n      <td>NaN</td>\n      <td>1</td>\n      <td>2</td>\n      <td>23.4500</td>\n      <td>S</td>\n      <td>None</td>\n    </tr>\n    <tr>\n      <th>889</th>\n      <td>889</td>\n      <td>1</td>\n      <td>1</td>\n      <td>male</td>\n      <td>26.0</td>\n      <td>0</td>\n      <td>0</td>\n      <td>30.0000</td>\n      <td>C</td>\n      <td>C</td>\n    </tr>\n    <tr>\n      <th>890</th>\n      <td>890</td>\n      <td>0</td>\n      <td>3</td>\n      <td>male</td>\n      <td>32.0</td>\n      <td>0</td>\n      <td>0</td>\n      <td>7.7500</td>\n      <td>Q</td>\n      <td>None</td>\n    </tr>\n  </tbody>\n</table>\n<p>891 rows × 10 columns</p>\n</div>"
     },
     "execution_count": 35,
     "metadata": {},
     "output_type": "execute_result"
    }
   ],
   "source": [
    "pd.read_sql_table('datasql',con=mesin)"
   ],
   "metadata": {
    "collapsed": false,
    "ExecuteTime": {
     "end_time": "2024-03-11T13:23:59.165072Z",
     "start_time": "2024-03-11T13:23:59.128925Z"
    }
   },
   "id": "2d39ad0a60c4ed7e",
   "execution_count": 35
  },
  {
   "cell_type": "code",
   "outputs": [],
   "source": [],
   "metadata": {
    "collapsed": false
   },
   "id": "6dbaba83f50c103a"
  }
 ],
 "metadata": {
  "kernelspec": {
   "display_name": "Python 3",
   "language": "python",
   "name": "python3"
  },
  "language_info": {
   "codemirror_mode": {
    "name": "ipython",
    "version": 2
   },
   "file_extension": ".py",
   "mimetype": "text/x-python",
   "name": "python",
   "nbconvert_exporter": "python",
   "pygments_lexer": "ipython2",
   "version": "2.7.6"
  }
 },
 "nbformat": 4,
 "nbformat_minor": 5
}
