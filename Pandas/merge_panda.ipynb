{
 "cells": [
  {
   "cell_type": "code",
   "outputs": [],
   "source": [
    "import pandas as pd"
   ],
   "metadata": {
    "collapsed": false,
    "ExecuteTime": {
     "end_time": "2024-03-17T15:21:21.735636Z",
     "start_time": "2024-03-17T15:21:21.725026Z"
    }
   },
   "id": "7d1ffad02102cd85",
   "execution_count": 4
  },
  {
   "cell_type": "code",
   "outputs": [],
   "source": [
    "satu = pd.DataFrame({\n",
    "    'a': ['a0', 'a1', 'a2', 'a3', 'a4', 'a5'],\n",
    "    'b': ['b0', 'b1', 'b2', 'b3', 'b4', 'b5'],\n",
    "    'c': ['c0', 'c1', 'c2', 'c3', 'c4', 'c5'],\n",
    "    'd': ['d0', 'd1', 'd2', 'd3', 'd4', 'd5']\n",
    "},\n",
    "    index=[list(range(0, 6))])"
   ],
   "metadata": {
    "collapsed": false,
    "ExecuteTime": {
     "end_time": "2024-03-12T08:29:38.464002Z",
     "start_time": "2024-03-12T08:29:38.454002Z"
    }
   },
   "id": "e87927cc0f43523a",
   "execution_count": 5
  },
  {
   "cell_type": "code",
   "execution_count": 24,
   "id": "initial_id",
   "metadata": {
    "collapsed": true,
    "ExecuteTime": {
     "end_time": "2024-03-12T08:32:18.846483Z",
     "start_time": "2024-03-12T08:32:18.827359Z"
    }
   },
   "outputs": [],
   "source": [
    "dua = pd.DataFrame({\n",
    "    'a': ['a6', 'a7', 'a8', 'a9', 'a10', 'a11'],\n",
    "    'b': ['b6', 'b7', 'b8', 'b9', 'b10', 'b11'],\n",
    "    'c': ['c6', 'c7', 'c8', 'c9', 'c10', 'c11'],\n",
    "    'd': ['d6', 'd7', 'd8', 'd9', 'd10', 'd11']\n",
    "},\n",
    "    index=[list(range(6, 12))])"
   ]
  },
  {
   "cell_type": "code",
   "outputs": [],
   "source": [
    "tiga = pd.DataFrame({\n",
    "    'a': ['a12', 'a13', 'a14', 'a15', 'a16', 'a17'],\n",
    "    'b': ['b12', 'b13', 'b14', 'b15', 'b16', 'b17'],\n",
    "    'c': ['c12', 'c13', 'c14', 'c15', 'c16', 'c17'],\n",
    "    'd': ['d12', 'd13', 'd14', 'd15', 'd16', 'd17']\n",
    "},\n",
    "    index=[list(range(12, 18))])"
   ],
   "metadata": {
    "collapsed": false,
    "ExecuteTime": {
     "end_time": "2024-03-12T08:32:38.743351Z",
     "start_time": "2024-03-12T08:32:38.725499Z"
    }
   },
   "id": "2d5b397dc2870593",
   "execution_count": 29
  },
  {
   "cell_type": "code",
   "outputs": [
    {
     "data": {
      "text/plain": "    a   b   c   d\n0  a0  b0  c0  d0\n1  a1  b1  c1  d1\n2  a2  b2  c2  d2\n3  a3  b3  c3  d3\n4  a4  b4  c4  d4\n5  a5  b5  c5  d5",
      "text/html": "<div>\n<style scoped>\n    .dataframe tbody tr th:only-of-type {\n        vertical-align: middle;\n    }\n\n    .dataframe tbody tr th {\n        vertical-align: top;\n    }\n\n    .dataframe thead th {\n        text-align: right;\n    }\n</style>\n<table border=\"1\" class=\"dataframe\">\n  <thead>\n    <tr style=\"text-align: right;\">\n      <th></th>\n      <th>a</th>\n      <th>b</th>\n      <th>c</th>\n      <th>d</th>\n    </tr>\n  </thead>\n  <tbody>\n    <tr>\n      <th>0</th>\n      <td>a0</td>\n      <td>b0</td>\n      <td>c0</td>\n      <td>d0</td>\n    </tr>\n    <tr>\n      <th>1</th>\n      <td>a1</td>\n      <td>b1</td>\n      <td>c1</td>\n      <td>d1</td>\n    </tr>\n    <tr>\n      <th>2</th>\n      <td>a2</td>\n      <td>b2</td>\n      <td>c2</td>\n      <td>d2</td>\n    </tr>\n    <tr>\n      <th>3</th>\n      <td>a3</td>\n      <td>b3</td>\n      <td>c3</td>\n      <td>d3</td>\n    </tr>\n    <tr>\n      <th>4</th>\n      <td>a4</td>\n      <td>b4</td>\n      <td>c4</td>\n      <td>d4</td>\n    </tr>\n    <tr>\n      <th>5</th>\n      <td>a5</td>\n      <td>b5</td>\n      <td>c5</td>\n      <td>d5</td>\n    </tr>\n  </tbody>\n</table>\n</div>"
     },
     "execution_count": 26,
     "metadata": {},
     "output_type": "execute_result"
    }
   ],
   "source": [
    "satu"
   ],
   "metadata": {
    "collapsed": false,
    "ExecuteTime": {
     "end_time": "2024-03-12T08:32:25.894034Z",
     "start_time": "2024-03-12T08:32:25.869038Z"
    }
   },
   "id": "e6de4064958df458",
   "execution_count": 26
  },
  {
   "cell_type": "code",
   "outputs": [
    {
     "data": {
      "text/plain": "      a    b    c    d\n6    a6   b6   c6   d6\n7    a7   b7   c7   d7\n8    a8   b8   c8   d8\n9    a9   b9   c9   d9\n10  a10  b10  c10  d10\n11  a11  b11  c11  d11",
      "text/html": "<div>\n<style scoped>\n    .dataframe tbody tr th:only-of-type {\n        vertical-align: middle;\n    }\n\n    .dataframe tbody tr th {\n        vertical-align: top;\n    }\n\n    .dataframe thead th {\n        text-align: right;\n    }\n</style>\n<table border=\"1\" class=\"dataframe\">\n  <thead>\n    <tr style=\"text-align: right;\">\n      <th></th>\n      <th>a</th>\n      <th>b</th>\n      <th>c</th>\n      <th>d</th>\n    </tr>\n  </thead>\n  <tbody>\n    <tr>\n      <th>6</th>\n      <td>a6</td>\n      <td>b6</td>\n      <td>c6</td>\n      <td>d6</td>\n    </tr>\n    <tr>\n      <th>7</th>\n      <td>a7</td>\n      <td>b7</td>\n      <td>c7</td>\n      <td>d7</td>\n    </tr>\n    <tr>\n      <th>8</th>\n      <td>a8</td>\n      <td>b8</td>\n      <td>c8</td>\n      <td>d8</td>\n    </tr>\n    <tr>\n      <th>9</th>\n      <td>a9</td>\n      <td>b9</td>\n      <td>c9</td>\n      <td>d9</td>\n    </tr>\n    <tr>\n      <th>10</th>\n      <td>a10</td>\n      <td>b10</td>\n      <td>c10</td>\n      <td>d10</td>\n    </tr>\n    <tr>\n      <th>11</th>\n      <td>a11</td>\n      <td>b11</td>\n      <td>c11</td>\n      <td>d11</td>\n    </tr>\n  </tbody>\n</table>\n</div>"
     },
     "execution_count": 27,
     "metadata": {},
     "output_type": "execute_result"
    }
   ],
   "source": [
    "dua"
   ],
   "metadata": {
    "collapsed": false,
    "ExecuteTime": {
     "end_time": "2024-03-12T08:32:27.297158Z",
     "start_time": "2024-03-12T08:32:27.286359Z"
    }
   },
   "id": "2aa54e34d5dec7d0",
   "execution_count": 27
  },
  {
   "cell_type": "code",
   "outputs": [
    {
     "data": {
      "text/plain": "      a    b    c    d\n12  a12  b12  c12  d12\n13  a13  b13  c13  d13\n14  a14  b14  c14  d14\n15  a15  b15  c15  d15\n16  a16  b16  c16  d16\n17  a17  b17  c17  d17",
      "text/html": "<div>\n<style scoped>\n    .dataframe tbody tr th:only-of-type {\n        vertical-align: middle;\n    }\n\n    .dataframe tbody tr th {\n        vertical-align: top;\n    }\n\n    .dataframe thead th {\n        text-align: right;\n    }\n</style>\n<table border=\"1\" class=\"dataframe\">\n  <thead>\n    <tr style=\"text-align: right;\">\n      <th></th>\n      <th>a</th>\n      <th>b</th>\n      <th>c</th>\n      <th>d</th>\n    </tr>\n  </thead>\n  <tbody>\n    <tr>\n      <th>12</th>\n      <td>a12</td>\n      <td>b12</td>\n      <td>c12</td>\n      <td>d12</td>\n    </tr>\n    <tr>\n      <th>13</th>\n      <td>a13</td>\n      <td>b13</td>\n      <td>c13</td>\n      <td>d13</td>\n    </tr>\n    <tr>\n      <th>14</th>\n      <td>a14</td>\n      <td>b14</td>\n      <td>c14</td>\n      <td>d14</td>\n    </tr>\n    <tr>\n      <th>15</th>\n      <td>a15</td>\n      <td>b15</td>\n      <td>c15</td>\n      <td>d15</td>\n    </tr>\n    <tr>\n      <th>16</th>\n      <td>a16</td>\n      <td>b16</td>\n      <td>c16</td>\n      <td>d16</td>\n    </tr>\n    <tr>\n      <th>17</th>\n      <td>a17</td>\n      <td>b17</td>\n      <td>c17</td>\n      <td>d17</td>\n    </tr>\n  </tbody>\n</table>\n</div>"
     },
     "execution_count": 30,
     "metadata": {},
     "output_type": "execute_result"
    }
   ],
   "source": [
    "tiga"
   ],
   "metadata": {
    "collapsed": false,
    "ExecuteTime": {
     "end_time": "2024-03-12T08:32:41.184981Z",
     "start_time": "2024-03-12T08:32:41.160346Z"
    }
   },
   "id": "6418e126cd552a73",
   "execution_count": 30
  },
  {
   "cell_type": "code",
   "outputs": [],
   "source": [
    "# Concatenation"
   ],
   "metadata": {
    "collapsed": false,
    "ExecuteTime": {
     "end_time": "2024-03-12T08:33:48.918598Z",
     "start_time": "2024-03-12T08:33:48.911838Z"
    }
   },
   "id": "eb6843fe69426423",
   "execution_count": 31
  },
  {
   "cell_type": "code",
   "outputs": [
    {
     "data": {
      "text/plain": "      a    b    c    d\n0    a0   b0   c0   d0\n1    a1   b1   c1   d1\n2    a2   b2   c2   d2\n3    a3   b3   c3   d3\n4    a4   b4   c4   d4\n5    a5   b5   c5   d5\n6    a6   b6   c6   d6\n7    a7   b7   c7   d7\n8    a8   b8   c8   d8\n9    a9   b9   c9   d9\n10  a10  b10  c10  d10\n11  a11  b11  c11  d11\n12  a12  b12  c12  d12\n13  a13  b13  c13  d13\n14  a14  b14  c14  d14\n15  a15  b15  c15  d15\n16  a16  b16  c16  d16\n17  a17  b17  c17  d17",
      "text/html": "<div>\n<style scoped>\n    .dataframe tbody tr th:only-of-type {\n        vertical-align: middle;\n    }\n\n    .dataframe tbody tr th {\n        vertical-align: top;\n    }\n\n    .dataframe thead th {\n        text-align: right;\n    }\n</style>\n<table border=\"1\" class=\"dataframe\">\n  <thead>\n    <tr style=\"text-align: right;\">\n      <th></th>\n      <th>a</th>\n      <th>b</th>\n      <th>c</th>\n      <th>d</th>\n    </tr>\n  </thead>\n  <tbody>\n    <tr>\n      <th>0</th>\n      <td>a0</td>\n      <td>b0</td>\n      <td>c0</td>\n      <td>d0</td>\n    </tr>\n    <tr>\n      <th>1</th>\n      <td>a1</td>\n      <td>b1</td>\n      <td>c1</td>\n      <td>d1</td>\n    </tr>\n    <tr>\n      <th>2</th>\n      <td>a2</td>\n      <td>b2</td>\n      <td>c2</td>\n      <td>d2</td>\n    </tr>\n    <tr>\n      <th>3</th>\n      <td>a3</td>\n      <td>b3</td>\n      <td>c3</td>\n      <td>d3</td>\n    </tr>\n    <tr>\n      <th>4</th>\n      <td>a4</td>\n      <td>b4</td>\n      <td>c4</td>\n      <td>d4</td>\n    </tr>\n    <tr>\n      <th>5</th>\n      <td>a5</td>\n      <td>b5</td>\n      <td>c5</td>\n      <td>d5</td>\n    </tr>\n    <tr>\n      <th>6</th>\n      <td>a6</td>\n      <td>b6</td>\n      <td>c6</td>\n      <td>d6</td>\n    </tr>\n    <tr>\n      <th>7</th>\n      <td>a7</td>\n      <td>b7</td>\n      <td>c7</td>\n      <td>d7</td>\n    </tr>\n    <tr>\n      <th>8</th>\n      <td>a8</td>\n      <td>b8</td>\n      <td>c8</td>\n      <td>d8</td>\n    </tr>\n    <tr>\n      <th>9</th>\n      <td>a9</td>\n      <td>b9</td>\n      <td>c9</td>\n      <td>d9</td>\n    </tr>\n    <tr>\n      <th>10</th>\n      <td>a10</td>\n      <td>b10</td>\n      <td>c10</td>\n      <td>d10</td>\n    </tr>\n    <tr>\n      <th>11</th>\n      <td>a11</td>\n      <td>b11</td>\n      <td>c11</td>\n      <td>d11</td>\n    </tr>\n    <tr>\n      <th>12</th>\n      <td>a12</td>\n      <td>b12</td>\n      <td>c12</td>\n      <td>d12</td>\n    </tr>\n    <tr>\n      <th>13</th>\n      <td>a13</td>\n      <td>b13</td>\n      <td>c13</td>\n      <td>d13</td>\n    </tr>\n    <tr>\n      <th>14</th>\n      <td>a14</td>\n      <td>b14</td>\n      <td>c14</td>\n      <td>d14</td>\n    </tr>\n    <tr>\n      <th>15</th>\n      <td>a15</td>\n      <td>b15</td>\n      <td>c15</td>\n      <td>d15</td>\n    </tr>\n    <tr>\n      <th>16</th>\n      <td>a16</td>\n      <td>b16</td>\n      <td>c16</td>\n      <td>d16</td>\n    </tr>\n    <tr>\n      <th>17</th>\n      <td>a17</td>\n      <td>b17</td>\n      <td>c17</td>\n      <td>d17</td>\n    </tr>\n  </tbody>\n</table>\n</div>"
     },
     "execution_count": 33,
     "metadata": {},
     "output_type": "execute_result"
    }
   ],
   "source": [
    "pd.concat([satu, dua, tiga])"
   ],
   "metadata": {
    "collapsed": false,
    "ExecuteTime": {
     "end_time": "2024-03-12T08:35:05.364063Z",
     "start_time": "2024-03-12T08:35:05.344131Z"
    }
   },
   "id": "bee7b18bc234059e",
   "execution_count": 33
  },
  {
   "cell_type": "code",
   "outputs": [
    {
     "data": {
      "text/plain": "      a    b    c    d    a    b    c    d    a    b    c    d\n0    a0   b0   c0   d0  NaN  NaN  NaN  NaN  NaN  NaN  NaN  NaN\n1    a1   b1   c1   d1  NaN  NaN  NaN  NaN  NaN  NaN  NaN  NaN\n2    a2   b2   c2   d2  NaN  NaN  NaN  NaN  NaN  NaN  NaN  NaN\n3    a3   b3   c3   d3  NaN  NaN  NaN  NaN  NaN  NaN  NaN  NaN\n4    a4   b4   c4   d4  NaN  NaN  NaN  NaN  NaN  NaN  NaN  NaN\n5    a5   b5   c5   d5  NaN  NaN  NaN  NaN  NaN  NaN  NaN  NaN\n6   NaN  NaN  NaN  NaN   a6   b6   c6   d6  NaN  NaN  NaN  NaN\n7   NaN  NaN  NaN  NaN   a7   b7   c7   d7  NaN  NaN  NaN  NaN\n8   NaN  NaN  NaN  NaN   a8   b8   c8   d8  NaN  NaN  NaN  NaN\n9   NaN  NaN  NaN  NaN   a9   b9   c9   d9  NaN  NaN  NaN  NaN\n10  NaN  NaN  NaN  NaN  a10  b10  c10  d10  NaN  NaN  NaN  NaN\n11  NaN  NaN  NaN  NaN  a11  b11  c11  d11  NaN  NaN  NaN  NaN\n12  NaN  NaN  NaN  NaN  NaN  NaN  NaN  NaN  a12  b12  c12  d12\n13  NaN  NaN  NaN  NaN  NaN  NaN  NaN  NaN  a13  b13  c13  d13\n14  NaN  NaN  NaN  NaN  NaN  NaN  NaN  NaN  a14  b14  c14  d14\n15  NaN  NaN  NaN  NaN  NaN  NaN  NaN  NaN  a15  b15  c15  d15\n16  NaN  NaN  NaN  NaN  NaN  NaN  NaN  NaN  a16  b16  c16  d16\n17  NaN  NaN  NaN  NaN  NaN  NaN  NaN  NaN  a17  b17  c17  d17",
      "text/html": "<div>\n<style scoped>\n    .dataframe tbody tr th:only-of-type {\n        vertical-align: middle;\n    }\n\n    .dataframe tbody tr th {\n        vertical-align: top;\n    }\n\n    .dataframe thead th {\n        text-align: right;\n    }\n</style>\n<table border=\"1\" class=\"dataframe\">\n  <thead>\n    <tr style=\"text-align: right;\">\n      <th></th>\n      <th>a</th>\n      <th>b</th>\n      <th>c</th>\n      <th>d</th>\n      <th>a</th>\n      <th>b</th>\n      <th>c</th>\n      <th>d</th>\n      <th>a</th>\n      <th>b</th>\n      <th>c</th>\n      <th>d</th>\n    </tr>\n  </thead>\n  <tbody>\n    <tr>\n      <th>0</th>\n      <td>a0</td>\n      <td>b0</td>\n      <td>c0</td>\n      <td>d0</td>\n      <td>NaN</td>\n      <td>NaN</td>\n      <td>NaN</td>\n      <td>NaN</td>\n      <td>NaN</td>\n      <td>NaN</td>\n      <td>NaN</td>\n      <td>NaN</td>\n    </tr>\n    <tr>\n      <th>1</th>\n      <td>a1</td>\n      <td>b1</td>\n      <td>c1</td>\n      <td>d1</td>\n      <td>NaN</td>\n      <td>NaN</td>\n      <td>NaN</td>\n      <td>NaN</td>\n      <td>NaN</td>\n      <td>NaN</td>\n      <td>NaN</td>\n      <td>NaN</td>\n    </tr>\n    <tr>\n      <th>2</th>\n      <td>a2</td>\n      <td>b2</td>\n      <td>c2</td>\n      <td>d2</td>\n      <td>NaN</td>\n      <td>NaN</td>\n      <td>NaN</td>\n      <td>NaN</td>\n      <td>NaN</td>\n      <td>NaN</td>\n      <td>NaN</td>\n      <td>NaN</td>\n    </tr>\n    <tr>\n      <th>3</th>\n      <td>a3</td>\n      <td>b3</td>\n      <td>c3</td>\n      <td>d3</td>\n      <td>NaN</td>\n      <td>NaN</td>\n      <td>NaN</td>\n      <td>NaN</td>\n      <td>NaN</td>\n      <td>NaN</td>\n      <td>NaN</td>\n      <td>NaN</td>\n    </tr>\n    <tr>\n      <th>4</th>\n      <td>a4</td>\n      <td>b4</td>\n      <td>c4</td>\n      <td>d4</td>\n      <td>NaN</td>\n      <td>NaN</td>\n      <td>NaN</td>\n      <td>NaN</td>\n      <td>NaN</td>\n      <td>NaN</td>\n      <td>NaN</td>\n      <td>NaN</td>\n    </tr>\n    <tr>\n      <th>5</th>\n      <td>a5</td>\n      <td>b5</td>\n      <td>c5</td>\n      <td>d5</td>\n      <td>NaN</td>\n      <td>NaN</td>\n      <td>NaN</td>\n      <td>NaN</td>\n      <td>NaN</td>\n      <td>NaN</td>\n      <td>NaN</td>\n      <td>NaN</td>\n    </tr>\n    <tr>\n      <th>6</th>\n      <td>NaN</td>\n      <td>NaN</td>\n      <td>NaN</td>\n      <td>NaN</td>\n      <td>a6</td>\n      <td>b6</td>\n      <td>c6</td>\n      <td>d6</td>\n      <td>NaN</td>\n      <td>NaN</td>\n      <td>NaN</td>\n      <td>NaN</td>\n    </tr>\n    <tr>\n      <th>7</th>\n      <td>NaN</td>\n      <td>NaN</td>\n      <td>NaN</td>\n      <td>NaN</td>\n      <td>a7</td>\n      <td>b7</td>\n      <td>c7</td>\n      <td>d7</td>\n      <td>NaN</td>\n      <td>NaN</td>\n      <td>NaN</td>\n      <td>NaN</td>\n    </tr>\n    <tr>\n      <th>8</th>\n      <td>NaN</td>\n      <td>NaN</td>\n      <td>NaN</td>\n      <td>NaN</td>\n      <td>a8</td>\n      <td>b8</td>\n      <td>c8</td>\n      <td>d8</td>\n      <td>NaN</td>\n      <td>NaN</td>\n      <td>NaN</td>\n      <td>NaN</td>\n    </tr>\n    <tr>\n      <th>9</th>\n      <td>NaN</td>\n      <td>NaN</td>\n      <td>NaN</td>\n      <td>NaN</td>\n      <td>a9</td>\n      <td>b9</td>\n      <td>c9</td>\n      <td>d9</td>\n      <td>NaN</td>\n      <td>NaN</td>\n      <td>NaN</td>\n      <td>NaN</td>\n    </tr>\n    <tr>\n      <th>10</th>\n      <td>NaN</td>\n      <td>NaN</td>\n      <td>NaN</td>\n      <td>NaN</td>\n      <td>a10</td>\n      <td>b10</td>\n      <td>c10</td>\n      <td>d10</td>\n      <td>NaN</td>\n      <td>NaN</td>\n      <td>NaN</td>\n      <td>NaN</td>\n    </tr>\n    <tr>\n      <th>11</th>\n      <td>NaN</td>\n      <td>NaN</td>\n      <td>NaN</td>\n      <td>NaN</td>\n      <td>a11</td>\n      <td>b11</td>\n      <td>c11</td>\n      <td>d11</td>\n      <td>NaN</td>\n      <td>NaN</td>\n      <td>NaN</td>\n      <td>NaN</td>\n    </tr>\n    <tr>\n      <th>12</th>\n      <td>NaN</td>\n      <td>NaN</td>\n      <td>NaN</td>\n      <td>NaN</td>\n      <td>NaN</td>\n      <td>NaN</td>\n      <td>NaN</td>\n      <td>NaN</td>\n      <td>a12</td>\n      <td>b12</td>\n      <td>c12</td>\n      <td>d12</td>\n    </tr>\n    <tr>\n      <th>13</th>\n      <td>NaN</td>\n      <td>NaN</td>\n      <td>NaN</td>\n      <td>NaN</td>\n      <td>NaN</td>\n      <td>NaN</td>\n      <td>NaN</td>\n      <td>NaN</td>\n      <td>a13</td>\n      <td>b13</td>\n      <td>c13</td>\n      <td>d13</td>\n    </tr>\n    <tr>\n      <th>14</th>\n      <td>NaN</td>\n      <td>NaN</td>\n      <td>NaN</td>\n      <td>NaN</td>\n      <td>NaN</td>\n      <td>NaN</td>\n      <td>NaN</td>\n      <td>NaN</td>\n      <td>a14</td>\n      <td>b14</td>\n      <td>c14</td>\n      <td>d14</td>\n    </tr>\n    <tr>\n      <th>15</th>\n      <td>NaN</td>\n      <td>NaN</td>\n      <td>NaN</td>\n      <td>NaN</td>\n      <td>NaN</td>\n      <td>NaN</td>\n      <td>NaN</td>\n      <td>NaN</td>\n      <td>a15</td>\n      <td>b15</td>\n      <td>c15</td>\n      <td>d15</td>\n    </tr>\n    <tr>\n      <th>16</th>\n      <td>NaN</td>\n      <td>NaN</td>\n      <td>NaN</td>\n      <td>NaN</td>\n      <td>NaN</td>\n      <td>NaN</td>\n      <td>NaN</td>\n      <td>NaN</td>\n      <td>a16</td>\n      <td>b16</td>\n      <td>c16</td>\n      <td>d16</td>\n    </tr>\n    <tr>\n      <th>17</th>\n      <td>NaN</td>\n      <td>NaN</td>\n      <td>NaN</td>\n      <td>NaN</td>\n      <td>NaN</td>\n      <td>NaN</td>\n      <td>NaN</td>\n      <td>NaN</td>\n      <td>a17</td>\n      <td>b17</td>\n      <td>c17</td>\n      <td>d17</td>\n    </tr>\n  </tbody>\n</table>\n</div>"
     },
     "execution_count": 39,
     "metadata": {},
     "output_type": "execute_result"
    }
   ],
   "source": [
    "pd.concat([satu, dua, tiga], axis=1)  # berantakan harusnya axis=0 "
   ],
   "metadata": {
    "collapsed": false,
    "ExecuteTime": {
     "end_time": "2024-03-12T08:37:36.030129Z",
     "start_time": "2024-03-12T08:37:35.996975Z"
    }
   },
   "id": "ac02dcfe7041cae7",
   "execution_count": 39
  },
  {
   "cell_type": "code",
   "outputs": [],
   "source": [
    "bisbis = pd.DataFrame({\n",
    "    'Perusahaan':\n",
    "        ['Telkom', 'Pertamina', 'BRI', 'Pertamina', 'KFC', 'KFC', 'Telkom', 'Indosat'],\n",
    "    'Karyawan':\n",
    "        ['Joko', 'Budi', 'Susi', 'Iriana', 'Buharnudin', 'Bambang', 'Intan', 'Mukiman'],\n",
    "    'Usia':\n",
    "        [32, 43, 65, 76, 87, 54, 34, 18]\n",
    "})"
   ],
   "metadata": {
    "collapsed": false,
    "ExecuteTime": {
     "end_time": "2024-03-17T15:21:25.696864Z",
     "start_time": "2024-03-17T15:21:25.687863Z"
    }
   },
   "id": "e1969c13d971ceee",
   "execution_count": 5
  },
  {
   "cell_type": "code",
   "outputs": [
    {
     "data": {
      "text/plain": "  Perusahaan    Karyawan  Usia\n0     Telkom        Joko    32\n1  Pertamina        Budi    43\n2        BRI        Susi    65\n3  Pertamina      Iriana    76\n4        KFC  Buharnudin    87\n5        KFC     Bambang    54\n6     Telkom       Intan    34\n7    Indosat     Mukiman    18",
      "text/html": "<div>\n<style scoped>\n    .dataframe tbody tr th:only-of-type {\n        vertical-align: middle;\n    }\n\n    .dataframe tbody tr th {\n        vertical-align: top;\n    }\n\n    .dataframe thead th {\n        text-align: right;\n    }\n</style>\n<table border=\"1\" class=\"dataframe\">\n  <thead>\n    <tr style=\"text-align: right;\">\n      <th></th>\n      <th>Perusahaan</th>\n      <th>Karyawan</th>\n      <th>Usia</th>\n    </tr>\n  </thead>\n  <tbody>\n    <tr>\n      <th>0</th>\n      <td>Telkom</td>\n      <td>Joko</td>\n      <td>32</td>\n    </tr>\n    <tr>\n      <th>1</th>\n      <td>Pertamina</td>\n      <td>Budi</td>\n      <td>43</td>\n    </tr>\n    <tr>\n      <th>2</th>\n      <td>BRI</td>\n      <td>Susi</td>\n      <td>65</td>\n    </tr>\n    <tr>\n      <th>3</th>\n      <td>Pertamina</td>\n      <td>Iriana</td>\n      <td>76</td>\n    </tr>\n    <tr>\n      <th>4</th>\n      <td>KFC</td>\n      <td>Buharnudin</td>\n      <td>87</td>\n    </tr>\n    <tr>\n      <th>5</th>\n      <td>KFC</td>\n      <td>Bambang</td>\n      <td>54</td>\n    </tr>\n    <tr>\n      <th>6</th>\n      <td>Telkom</td>\n      <td>Intan</td>\n      <td>34</td>\n    </tr>\n    <tr>\n      <th>7</th>\n      <td>Indosat</td>\n      <td>Mukiman</td>\n      <td>18</td>\n    </tr>\n  </tbody>\n</table>\n</div>"
     },
     "execution_count": 6,
     "metadata": {},
     "output_type": "execute_result"
    }
   ],
   "source": [
    "bisbis"
   ],
   "metadata": {
    "collapsed": false,
    "ExecuteTime": {
     "end_time": "2024-03-17T15:21:34.831876Z",
     "start_time": "2024-03-17T15:21:34.812148Z"
    }
   },
   "id": "ab24bc9ecc29e2bf",
   "execution_count": 6
  },
  {
   "cell_type": "code",
   "outputs": [
    {
     "data": {
      "text/plain": "<pandas.core.groupby.generic.DataFrameGroupBy object at 0x000001A9449043D0>"
     },
     "execution_count": 11,
     "metadata": {},
     "output_type": "execute_result"
    }
   ],
   "source": [
    "bisbis.groupby('Perusahaan')"
   ],
   "metadata": {
    "collapsed": false,
    "ExecuteTime": {
     "end_time": "2024-03-17T15:22:55.692694Z",
     "start_time": "2024-03-17T15:22:55.673230Z"
    }
   },
   "id": "bc12869ce1b53f0",
   "execution_count": 11
  },
  {
   "cell_type": "code",
   "outputs": [
    {
     "data": {
      "text/plain": "                     Karyawan  Usia\nPerusahaan                         \nBRI                      Susi    65\nIndosat               Mukiman    18\nKFC         BuharnudinBambang   141\nPertamina          BudiIriana   119\nTelkom              JokoIntan    66",
      "text/html": "<div>\n<style scoped>\n    .dataframe tbody tr th:only-of-type {\n        vertical-align: middle;\n    }\n\n    .dataframe tbody tr th {\n        vertical-align: top;\n    }\n\n    .dataframe thead th {\n        text-align: right;\n    }\n</style>\n<table border=\"1\" class=\"dataframe\">\n  <thead>\n    <tr style=\"text-align: right;\">\n      <th></th>\n      <th>Karyawan</th>\n      <th>Usia</th>\n    </tr>\n    <tr>\n      <th>Perusahaan</th>\n      <th></th>\n      <th></th>\n    </tr>\n  </thead>\n  <tbody>\n    <tr>\n      <th>BRI</th>\n      <td>Susi</td>\n      <td>65</td>\n    </tr>\n    <tr>\n      <th>Indosat</th>\n      <td>Mukiman</td>\n      <td>18</td>\n    </tr>\n    <tr>\n      <th>KFC</th>\n      <td>BuharnudinBambang</td>\n      <td>141</td>\n    </tr>\n    <tr>\n      <th>Pertamina</th>\n      <td>BudiIriana</td>\n      <td>119</td>\n    </tr>\n    <tr>\n      <th>Telkom</th>\n      <td>JokoIntan</td>\n      <td>66</td>\n    </tr>\n  </tbody>\n</table>\n</div>"
     },
     "execution_count": 19,
     "metadata": {},
     "output_type": "execute_result"
    }
   ],
   "source": [
    "bisbis.groupby('Perusahaan').sum()"
   ],
   "metadata": {
    "collapsed": false,
    "ExecuteTime": {
     "end_time": "2024-03-17T15:25:31.042124Z",
     "start_time": "2024-03-17T15:25:31.023903Z"
    }
   },
   "id": "3b6d02d0317d4638",
   "execution_count": 19
  },
  {
   "cell_type": "code",
   "outputs": [
    {
     "data": {
      "text/plain": "            Karyawan  Usia\nPerusahaan                \nBRI                1     1\nIndosat            1     1\nKFC                2     2\nPertamina          2     2\nTelkom             2     2",
      "text/html": "<div>\n<style scoped>\n    .dataframe tbody tr th:only-of-type {\n        vertical-align: middle;\n    }\n\n    .dataframe tbody tr th {\n        vertical-align: top;\n    }\n\n    .dataframe thead th {\n        text-align: right;\n    }\n</style>\n<table border=\"1\" class=\"dataframe\">\n  <thead>\n    <tr style=\"text-align: right;\">\n      <th></th>\n      <th>Karyawan</th>\n      <th>Usia</th>\n    </tr>\n    <tr>\n      <th>Perusahaan</th>\n      <th></th>\n      <th></th>\n    </tr>\n  </thead>\n  <tbody>\n    <tr>\n      <th>BRI</th>\n      <td>1</td>\n      <td>1</td>\n    </tr>\n    <tr>\n      <th>Indosat</th>\n      <td>1</td>\n      <td>1</td>\n    </tr>\n    <tr>\n      <th>KFC</th>\n      <td>2</td>\n      <td>2</td>\n    </tr>\n    <tr>\n      <th>Pertamina</th>\n      <td>2</td>\n      <td>2</td>\n    </tr>\n    <tr>\n      <th>Telkom</th>\n      <td>2</td>\n      <td>2</td>\n    </tr>\n  </tbody>\n</table>\n</div>"
     },
     "execution_count": 14,
     "metadata": {},
     "output_type": "execute_result"
    }
   ],
   "source": [
    "bisbis.groupby('Perusahaan').count()"
   ],
   "metadata": {
    "collapsed": false,
    "ExecuteTime": {
     "end_time": "2024-03-17T15:23:09.646930Z",
     "start_time": "2024-03-17T15:23:09.631098Z"
    }
   },
   "id": "c52922eb729ec1e1",
   "execution_count": 14
  },
  {
   "cell_type": "code",
   "outputs": [
    {
     "data": {
      "text/plain": "            Usia\nPerusahaan      \nBRI         65.0\nIndosat     18.0\nKFC         70.5\nPertamina   59.5\nTelkom      33.0",
      "text/html": "<div>\n<style scoped>\n    .dataframe tbody tr th:only-of-type {\n        vertical-align: middle;\n    }\n\n    .dataframe tbody tr th {\n        vertical-align: top;\n    }\n\n    .dataframe thead th {\n        text-align: right;\n    }\n</style>\n<table border=\"1\" class=\"dataframe\">\n  <thead>\n    <tr style=\"text-align: right;\">\n      <th></th>\n      <th>Usia</th>\n    </tr>\n    <tr>\n      <th>Perusahaan</th>\n      <th></th>\n    </tr>\n  </thead>\n  <tbody>\n    <tr>\n      <th>BRI</th>\n      <td>65.0</td>\n    </tr>\n    <tr>\n      <th>Indosat</th>\n      <td>18.0</td>\n    </tr>\n    <tr>\n      <th>KFC</th>\n      <td>70.5</td>\n    </tr>\n    <tr>\n      <th>Pertamina</th>\n      <td>59.5</td>\n    </tr>\n    <tr>\n      <th>Telkom</th>\n      <td>33.0</td>\n    </tr>\n  </tbody>\n</table>\n</div>"
     },
     "execution_count": 15,
     "metadata": {},
     "output_type": "execute_result"
    }
   ],
   "source": [
    "bisbis.groupby('Perusahaan').mean('Perusahaan')"
   ],
   "metadata": {
    "collapsed": false,
    "ExecuteTime": {
     "end_time": "2024-03-17T15:23:14.937893Z",
     "start_time": "2024-03-17T15:23:14.911796Z"
    }
   },
   "id": "445f5ff09b98fec2",
   "execution_count": 15
  },
  {
   "cell_type": "code",
   "outputs": [
    {
     "data": {
      "text/plain": "           Karyawan  Usia\nPerusahaan               \nBRI            Susi    65\nIndosat     Mukiman    18\nKFC         Bambang    54\nPertamina      Budi    43\nTelkom        Intan    32",
      "text/html": "<div>\n<style scoped>\n    .dataframe tbody tr th:only-of-type {\n        vertical-align: middle;\n    }\n\n    .dataframe tbody tr th {\n        vertical-align: top;\n    }\n\n    .dataframe thead th {\n        text-align: right;\n    }\n</style>\n<table border=\"1\" class=\"dataframe\">\n  <thead>\n    <tr style=\"text-align: right;\">\n      <th></th>\n      <th>Karyawan</th>\n      <th>Usia</th>\n    </tr>\n    <tr>\n      <th>Perusahaan</th>\n      <th></th>\n      <th></th>\n    </tr>\n  </thead>\n  <tbody>\n    <tr>\n      <th>BRI</th>\n      <td>Susi</td>\n      <td>65</td>\n    </tr>\n    <tr>\n      <th>Indosat</th>\n      <td>Mukiman</td>\n      <td>18</td>\n    </tr>\n    <tr>\n      <th>KFC</th>\n      <td>Bambang</td>\n      <td>54</td>\n    </tr>\n    <tr>\n      <th>Pertamina</th>\n      <td>Budi</td>\n      <td>43</td>\n    </tr>\n    <tr>\n      <th>Telkom</th>\n      <td>Intan</td>\n      <td>32</td>\n    </tr>\n  </tbody>\n</table>\n</div>"
     },
     "execution_count": 68,
     "metadata": {},
     "output_type": "execute_result"
    }
   ],
   "source": [
    "bisbis.groupby('Perusahaan').min()"
   ],
   "metadata": {
    "collapsed": false,
    "ExecuteTime": {
     "end_time": "2024-03-12T08:49:20.793898Z",
     "start_time": "2024-03-12T08:49:20.769826Z"
    }
   },
   "id": "60cd1afd70ebfec1",
   "execution_count": 68
  },
  {
   "cell_type": "code",
   "outputs": [
    {
     "data": {
      "text/plain": "Perusahaan\nBRI          65\nIndosat      18\nKFC          54\nPertamina    43\nTelkom       32\nName: Usia, dtype: int64"
     },
     "execution_count": 16,
     "metadata": {},
     "output_type": "execute_result"
    }
   ],
   "source": [
    "bisbis.groupby('Perusahaan').Usia.min()"
   ],
   "metadata": {
    "collapsed": false,
    "ExecuteTime": {
     "end_time": "2024-03-17T15:23:18.363818Z",
     "start_time": "2024-03-17T15:23:18.353743Z"
    }
   },
   "id": "57ccf6c23bb0a222",
   "execution_count": 16
  },
  {
   "cell_type": "code",
   "outputs": [
    {
     "data": {
      "text/plain": "            Usia\nPerusahaan      \nBRI           65\nIndosat       18\nKFC           54\nPertamina     43\nTelkom        32",
      "text/html": "<div>\n<style scoped>\n    .dataframe tbody tr th:only-of-type {\n        vertical-align: middle;\n    }\n\n    .dataframe tbody tr th {\n        vertical-align: top;\n    }\n\n    .dataframe thead th {\n        text-align: right;\n    }\n</style>\n<table border=\"1\" class=\"dataframe\">\n  <thead>\n    <tr style=\"text-align: right;\">\n      <th></th>\n      <th>Usia</th>\n    </tr>\n    <tr>\n      <th>Perusahaan</th>\n      <th></th>\n    </tr>\n  </thead>\n  <tbody>\n    <tr>\n      <th>BRI</th>\n      <td>65</td>\n    </tr>\n    <tr>\n      <th>Indosat</th>\n      <td>18</td>\n    </tr>\n    <tr>\n      <th>KFC</th>\n      <td>54</td>\n    </tr>\n    <tr>\n      <th>Pertamina</th>\n      <td>43</td>\n    </tr>\n    <tr>\n      <th>Telkom</th>\n      <td>32</td>\n    </tr>\n  </tbody>\n</table>\n</div>"
     },
     "execution_count": 17,
     "metadata": {},
     "output_type": "execute_result"
    }
   ],
   "source": [
    "bisbis.groupby('Perusahaan').min('Usia')"
   ],
   "metadata": {
    "collapsed": false,
    "ExecuteTime": {
     "end_time": "2024-03-17T15:23:24.786027Z",
     "start_time": "2024-03-17T15:23:24.763633Z"
    }
   },
   "id": "23c0965251874f8a",
   "execution_count": 17
  },
  {
   "cell_type": "code",
   "outputs": [
    {
     "data": {
      "text/plain": "<pandas.core.groupby.generic.DataFrameGroupBy object at 0x000001A9448BFE80>"
     },
     "execution_count": 9,
     "metadata": {},
     "output_type": "execute_result"
    }
   ],
   "source": [
    "bisbis.groupby('Perusahaan')"
   ],
   "metadata": {
    "collapsed": false,
    "ExecuteTime": {
     "end_time": "2024-03-17T15:22:03.357009Z",
     "start_time": "2024-03-17T15:22:03.346005Z"
    }
   },
   "id": "27c4ffc7c572e3af",
   "execution_count": 9
  },
  {
   "cell_type": "code",
   "outputs": [
    {
     "data": {
      "text/plain": "            Usia                                                 \n           count  mean        std   min    25%   50%    75%   max\nPerusahaan                                                       \nBRI          1.0  65.0        NaN  65.0  65.00  65.0  65.00  65.0\nIndosat      1.0  18.0        NaN  18.0  18.00  18.0  18.00  18.0\nKFC          2.0  70.5  23.334524  54.0  62.25  70.5  78.75  87.0\nPertamina    2.0  59.5  23.334524  43.0  51.25  59.5  67.75  76.0\nTelkom       2.0  33.0   1.414214  32.0  32.50  33.0  33.50  34.0",
      "text/html": "<div>\n<style scoped>\n    .dataframe tbody tr th:only-of-type {\n        vertical-align: middle;\n    }\n\n    .dataframe tbody tr th {\n        vertical-align: top;\n    }\n\n    .dataframe thead tr th {\n        text-align: left;\n    }\n\n    .dataframe thead tr:last-of-type th {\n        text-align: right;\n    }\n</style>\n<table border=\"1\" class=\"dataframe\">\n  <thead>\n    <tr>\n      <th></th>\n      <th colspan=\"8\" halign=\"left\">Usia</th>\n    </tr>\n    <tr>\n      <th></th>\n      <th>count</th>\n      <th>mean</th>\n      <th>std</th>\n      <th>min</th>\n      <th>25%</th>\n      <th>50%</th>\n      <th>75%</th>\n      <th>max</th>\n    </tr>\n    <tr>\n      <th>Perusahaan</th>\n      <th></th>\n      <th></th>\n      <th></th>\n      <th></th>\n      <th></th>\n      <th></th>\n      <th></th>\n      <th></th>\n    </tr>\n  </thead>\n  <tbody>\n    <tr>\n      <th>BRI</th>\n      <td>1.0</td>\n      <td>65.0</td>\n      <td>NaN</td>\n      <td>65.0</td>\n      <td>65.00</td>\n      <td>65.0</td>\n      <td>65.00</td>\n      <td>65.0</td>\n    </tr>\n    <tr>\n      <th>Indosat</th>\n      <td>1.0</td>\n      <td>18.0</td>\n      <td>NaN</td>\n      <td>18.0</td>\n      <td>18.00</td>\n      <td>18.0</td>\n      <td>18.00</td>\n      <td>18.0</td>\n    </tr>\n    <tr>\n      <th>KFC</th>\n      <td>2.0</td>\n      <td>70.5</td>\n      <td>23.334524</td>\n      <td>54.0</td>\n      <td>62.25</td>\n      <td>70.5</td>\n      <td>78.75</td>\n      <td>87.0</td>\n    </tr>\n    <tr>\n      <th>Pertamina</th>\n      <td>2.0</td>\n      <td>59.5</td>\n      <td>23.334524</td>\n      <td>43.0</td>\n      <td>51.25</td>\n      <td>59.5</td>\n      <td>67.75</td>\n      <td>76.0</td>\n    </tr>\n    <tr>\n      <th>Telkom</th>\n      <td>2.0</td>\n      <td>33.0</td>\n      <td>1.414214</td>\n      <td>32.0</td>\n      <td>32.50</td>\n      <td>33.0</td>\n      <td>33.50</td>\n      <td>34.0</td>\n    </tr>\n  </tbody>\n</table>\n</div>"
     },
     "execution_count": 18,
     "metadata": {},
     "output_type": "execute_result"
    }
   ],
   "source": [
    "bisbis.groupby('Perusahaan').describe()"
   ],
   "metadata": {
    "collapsed": false,
    "ExecuteTime": {
     "end_time": "2024-03-17T15:23:32.214507Z",
     "start_time": "2024-03-17T15:23:32.184589Z"
    }
   },
   "id": "f8e449f86ac989f",
   "execution_count": 18
  },
  {
   "cell_type": "code",
   "outputs": [
    {
     "data": {
      "text/plain": "Perusahaan   BRI  Indosat        KFC  Pertamina     Telkom\nUsia count   1.0      1.0   2.000000   2.000000   2.000000\n     mean   65.0     18.0  70.500000  59.500000  33.000000\n     std     NaN      NaN  23.334524  23.334524   1.414214\n     min    65.0     18.0  54.000000  43.000000  32.000000\n     25%    65.0     18.0  62.250000  51.250000  32.500000\n     50%    65.0     18.0  70.500000  59.500000  33.000000\n     75%    65.0     18.0  78.750000  67.750000  33.500000\n     max    65.0     18.0  87.000000  76.000000  34.000000",
      "text/html": "<div>\n<style scoped>\n    .dataframe tbody tr th:only-of-type {\n        vertical-align: middle;\n    }\n\n    .dataframe tbody tr th {\n        vertical-align: top;\n    }\n\n    .dataframe thead th {\n        text-align: right;\n    }\n</style>\n<table border=\"1\" class=\"dataframe\">\n  <thead>\n    <tr style=\"text-align: right;\">\n      <th></th>\n      <th>Perusahaan</th>\n      <th>BRI</th>\n      <th>Indosat</th>\n      <th>KFC</th>\n      <th>Pertamina</th>\n      <th>Telkom</th>\n    </tr>\n  </thead>\n  <tbody>\n    <tr>\n      <th rowspan=\"8\" valign=\"top\">Usia</th>\n      <th>count</th>\n      <td>1.0</td>\n      <td>1.0</td>\n      <td>2.000000</td>\n      <td>2.000000</td>\n      <td>2.000000</td>\n    </tr>\n    <tr>\n      <th>mean</th>\n      <td>65.0</td>\n      <td>18.0</td>\n      <td>70.500000</td>\n      <td>59.500000</td>\n      <td>33.000000</td>\n    </tr>\n    <tr>\n      <th>std</th>\n      <td>NaN</td>\n      <td>NaN</td>\n      <td>23.334524</td>\n      <td>23.334524</td>\n      <td>1.414214</td>\n    </tr>\n    <tr>\n      <th>min</th>\n      <td>65.0</td>\n      <td>18.0</td>\n      <td>54.000000</td>\n      <td>43.000000</td>\n      <td>32.000000</td>\n    </tr>\n    <tr>\n      <th>25%</th>\n      <td>65.0</td>\n      <td>18.0</td>\n      <td>62.250000</td>\n      <td>51.250000</td>\n      <td>32.500000</td>\n    </tr>\n    <tr>\n      <th>50%</th>\n      <td>65.0</td>\n      <td>18.0</td>\n      <td>70.500000</td>\n      <td>59.500000</td>\n      <td>33.000000</td>\n    </tr>\n    <tr>\n      <th>75%</th>\n      <td>65.0</td>\n      <td>18.0</td>\n      <td>78.750000</td>\n      <td>67.750000</td>\n      <td>33.500000</td>\n    </tr>\n    <tr>\n      <th>max</th>\n      <td>65.0</td>\n      <td>18.0</td>\n      <td>87.000000</td>\n      <td>76.000000</td>\n      <td>34.000000</td>\n    </tr>\n  </tbody>\n</table>\n</div>"
     },
     "execution_count": 72,
     "metadata": {},
     "output_type": "execute_result"
    }
   ],
   "source": [
    "bisbis.groupby('Perusahaan').describe().transpose()"
   ],
   "metadata": {
    "collapsed": false,
    "ExecuteTime": {
     "end_time": "2024-03-12T08:51:00.721465Z",
     "start_time": "2024-03-12T08:51:00.692489Z"
    }
   },
   "id": "ca0abee0cd0b688",
   "execution_count": 72
  },
  {
   "cell_type": "code",
   "outputs": [],
   "source": [
    "# Sql"
   ],
   "metadata": {
    "collapsed": false,
    "ExecuteTime": {
     "end_time": "2024-03-12T08:52:11.886933Z",
     "start_time": "2024-03-12T08:52:11.879851Z"
    }
   },
   "id": "9dbe51c6781c5de2",
   "execution_count": 73
  },
  {
   "cell_type": "code",
   "outputs": [],
   "source": [
    "satu = pd.DataFrame({\n",
    "    'Key': ['k0', 'k1', 'k2', 'k3', 'k4', ],\n",
    "    'one': list(range(1, 6)),\n",
    "    'two': list(range(6, 11))\n",
    "})"
   ],
   "metadata": {
    "collapsed": false,
    "ExecuteTime": {
     "end_time": "2024-03-12T08:54:39.605800Z",
     "start_time": "2024-03-12T08:54:39.586863Z"
    }
   },
   "id": "8c17185e63fea635",
   "execution_count": 79
  },
  {
   "cell_type": "code",
   "outputs": [],
   "source": [
    "dua = pd.DataFrame({\n",
    "    'Key': ['k0', 'k1', 'k2', 'k3', 'k4', ],\n",
    "    'three': list(range(1, 6)),\n",
    "    'four': list(range(6, 11))\n",
    "})"
   ],
   "metadata": {
    "collapsed": false,
    "ExecuteTime": {
     "end_time": "2024-03-12T09:00:48.161193Z",
     "start_time": "2024-03-12T09:00:48.145901Z"
    }
   },
   "id": "b140088c6ebff651",
   "execution_count": 100
  },
  {
   "cell_type": "code",
   "outputs": [
    {
     "data": {
      "text/plain": "  Key  one  two\n0  k0    1    6\n1  k1    2    7\n2  k2    3    8\n3  k3    4    9\n4  k4    5   10",
      "text/html": "<div>\n<style scoped>\n    .dataframe tbody tr th:only-of-type {\n        vertical-align: middle;\n    }\n\n    .dataframe tbody tr th {\n        vertical-align: top;\n    }\n\n    .dataframe thead th {\n        text-align: right;\n    }\n</style>\n<table border=\"1\" class=\"dataframe\">\n  <thead>\n    <tr style=\"text-align: right;\">\n      <th></th>\n      <th>Key</th>\n      <th>one</th>\n      <th>two</th>\n    </tr>\n  </thead>\n  <tbody>\n    <tr>\n      <th>0</th>\n      <td>k0</td>\n      <td>1</td>\n      <td>6</td>\n    </tr>\n    <tr>\n      <th>1</th>\n      <td>k1</td>\n      <td>2</td>\n      <td>7</td>\n    </tr>\n    <tr>\n      <th>2</th>\n      <td>k2</td>\n      <td>3</td>\n      <td>8</td>\n    </tr>\n    <tr>\n      <th>3</th>\n      <td>k3</td>\n      <td>4</td>\n      <td>9</td>\n    </tr>\n    <tr>\n      <th>4</th>\n      <td>k4</td>\n      <td>5</td>\n      <td>10</td>\n    </tr>\n  </tbody>\n</table>\n</div>"
     },
     "execution_count": 101,
     "metadata": {},
     "output_type": "execute_result"
    }
   ],
   "source": [
    "satu"
   ],
   "metadata": {
    "collapsed": false,
    "ExecuteTime": {
     "end_time": "2024-03-12T09:00:48.820097Z",
     "start_time": "2024-03-12T09:00:48.798940Z"
    }
   },
   "id": "d2881f546c2f05eb",
   "execution_count": 101
  },
  {
   "cell_type": "code",
   "outputs": [
    {
     "data": {
      "text/plain": "  Key  three  four\n0  k0      1     6\n1  k1      2     7\n2  k2      3     8\n3  k3      4     9\n4  k4      5    10",
      "text/html": "<div>\n<style scoped>\n    .dataframe tbody tr th:only-of-type {\n        vertical-align: middle;\n    }\n\n    .dataframe tbody tr th {\n        vertical-align: top;\n    }\n\n    .dataframe thead th {\n        text-align: right;\n    }\n</style>\n<table border=\"1\" class=\"dataframe\">\n  <thead>\n    <tr style=\"text-align: right;\">\n      <th></th>\n      <th>Key</th>\n      <th>three</th>\n      <th>four</th>\n    </tr>\n  </thead>\n  <tbody>\n    <tr>\n      <th>0</th>\n      <td>k0</td>\n      <td>1</td>\n      <td>6</td>\n    </tr>\n    <tr>\n      <th>1</th>\n      <td>k1</td>\n      <td>2</td>\n      <td>7</td>\n    </tr>\n    <tr>\n      <th>2</th>\n      <td>k2</td>\n      <td>3</td>\n      <td>8</td>\n    </tr>\n    <tr>\n      <th>3</th>\n      <td>k3</td>\n      <td>4</td>\n      <td>9</td>\n    </tr>\n    <tr>\n      <th>4</th>\n      <td>k4</td>\n      <td>5</td>\n      <td>10</td>\n    </tr>\n  </tbody>\n</table>\n</div>"
     },
     "execution_count": 102,
     "metadata": {},
     "output_type": "execute_result"
    }
   ],
   "source": [
    "dua"
   ],
   "metadata": {
    "collapsed": false,
    "ExecuteTime": {
     "end_time": "2024-03-12T09:00:49.133204Z",
     "start_time": "2024-03-12T09:00:49.115437Z"
    }
   },
   "id": "2a981449ee625d39",
   "execution_count": 102
  },
  {
   "cell_type": "code",
   "outputs": [],
   "source": [
    "# Merge / join"
   ],
   "metadata": {
    "collapsed": false,
    "ExecuteTime": {
     "end_time": "2024-03-12T09:00:49.587942Z",
     "start_time": "2024-03-12T09:00:49.582779Z"
    }
   },
   "id": "b2d409802c24d37f",
   "execution_count": 103
  },
  {
   "cell_type": "code",
   "outputs": [],
   "source": [
    "baru = pd.merge(satu, dua, how='inner', on='Key')"
   ],
   "metadata": {
    "collapsed": false,
    "ExecuteTime": {
     "end_time": "2024-03-12T09:00:50.152247Z",
     "start_time": "2024-03-12T09:00:50.137101Z"
    }
   },
   "id": "7aa8ba1f77112a3f",
   "execution_count": 104
  },
  {
   "cell_type": "code",
   "outputs": [
    {
     "data": {
      "text/plain": "  Key  one  two  three  four\n0  k0    1    6      1     6\n1  k1    2    7      2     7\n2  k2    3    8      3     8\n3  k3    4    9      4     9\n4  k4    5   10      5    10",
      "text/html": "<div>\n<style scoped>\n    .dataframe tbody tr th:only-of-type {\n        vertical-align: middle;\n    }\n\n    .dataframe tbody tr th {\n        vertical-align: top;\n    }\n\n    .dataframe thead th {\n        text-align: right;\n    }\n</style>\n<table border=\"1\" class=\"dataframe\">\n  <thead>\n    <tr style=\"text-align: right;\">\n      <th></th>\n      <th>Key</th>\n      <th>one</th>\n      <th>two</th>\n      <th>three</th>\n      <th>four</th>\n    </tr>\n  </thead>\n  <tbody>\n    <tr>\n      <th>0</th>\n      <td>k0</td>\n      <td>1</td>\n      <td>6</td>\n      <td>1</td>\n      <td>6</td>\n    </tr>\n    <tr>\n      <th>1</th>\n      <td>k1</td>\n      <td>2</td>\n      <td>7</td>\n      <td>2</td>\n      <td>7</td>\n    </tr>\n    <tr>\n      <th>2</th>\n      <td>k2</td>\n      <td>3</td>\n      <td>8</td>\n      <td>3</td>\n      <td>8</td>\n    </tr>\n    <tr>\n      <th>3</th>\n      <td>k3</td>\n      <td>4</td>\n      <td>9</td>\n      <td>4</td>\n      <td>9</td>\n    </tr>\n    <tr>\n      <th>4</th>\n      <td>k4</td>\n      <td>5</td>\n      <td>10</td>\n      <td>5</td>\n      <td>10</td>\n    </tr>\n  </tbody>\n</table>\n</div>"
     },
     "execution_count": 105,
     "metadata": {},
     "output_type": "execute_result"
    }
   ],
   "source": [
    "baru"
   ],
   "metadata": {
    "collapsed": false,
    "ExecuteTime": {
     "end_time": "2024-03-12T09:00:51.357002Z",
     "start_time": "2024-03-12T09:00:51.337491Z"
    }
   },
   "id": "d7fa83096df0b079",
   "execution_count": 105
  },
  {
   "cell_type": "code",
   "outputs": [],
   "source": [
    "satu = pd.DataFrame({\n",
    "    'Key1': ['k0', 'k0', 'k1', 'k2'],\n",
    "    'Key2': ['k0', 'k1', 'k0', 'k1'],\n",
    "    'A': ['A0', 'A1', 'A2', 'A3', ],\n",
    "    'B': ['B0', 'B1', 'B2', 'B3', ]\n",
    "})\n",
    "dua = pd.DataFrame({\n",
    "    'Key1': ['k0', 'k1', 'k1', 'k2'],\n",
    "    'Key2': ['k0', 'k0', 'k0', 'k0'],\n",
    "    'C': ['C0', 'C1', 'C2', 'C3', ],\n",
    "    'D': ['D0', 'D1', 'D2', 'D3', ]\n",
    "})"
   ],
   "metadata": {
    "collapsed": false,
    "ExecuteTime": {
     "end_time": "2024-03-12T09:06:44.357693Z",
     "start_time": "2024-03-12T09:06:44.337901Z"
    }
   },
   "id": "1a8f960879e790dc",
   "execution_count": 106
  },
  {
   "cell_type": "code",
   "outputs": [],
   "source": [
    "left = pd.merge(satu, dua, how='left', on=['Key1', 'Key2'])"
   ],
   "metadata": {
    "collapsed": false,
    "ExecuteTime": {
     "end_time": "2024-03-12T09:09:53.938726Z",
     "start_time": "2024-03-12T09:09:53.888297Z"
    }
   },
   "id": "c4eedff260f1eb6a",
   "execution_count": 115
  },
  {
   "cell_type": "code",
   "outputs": [
    {
     "data": {
      "text/plain": "  Key1 Key2   A   B    C    D\n0   k0   k0  A0  B0   C0   D0\n1   k0   k1  A1  B1  NaN  NaN\n2   k1   k0  A2  B2   C1   D1\n3   k1   k0  A2  B2   C2   D2\n4   k2   k1  A3  B3  NaN  NaN",
      "text/html": "<div>\n<style scoped>\n    .dataframe tbody tr th:only-of-type {\n        vertical-align: middle;\n    }\n\n    .dataframe tbody tr th {\n        vertical-align: top;\n    }\n\n    .dataframe thead th {\n        text-align: right;\n    }\n</style>\n<table border=\"1\" class=\"dataframe\">\n  <thead>\n    <tr style=\"text-align: right;\">\n      <th></th>\n      <th>Key1</th>\n      <th>Key2</th>\n      <th>A</th>\n      <th>B</th>\n      <th>C</th>\n      <th>D</th>\n    </tr>\n  </thead>\n  <tbody>\n    <tr>\n      <th>0</th>\n      <td>k0</td>\n      <td>k0</td>\n      <td>A0</td>\n      <td>B0</td>\n      <td>C0</td>\n      <td>D0</td>\n    </tr>\n    <tr>\n      <th>1</th>\n      <td>k0</td>\n      <td>k1</td>\n      <td>A1</td>\n      <td>B1</td>\n      <td>NaN</td>\n      <td>NaN</td>\n    </tr>\n    <tr>\n      <th>2</th>\n      <td>k1</td>\n      <td>k0</td>\n      <td>A2</td>\n      <td>B2</td>\n      <td>C1</td>\n      <td>D1</td>\n    </tr>\n    <tr>\n      <th>3</th>\n      <td>k1</td>\n      <td>k0</td>\n      <td>A2</td>\n      <td>B2</td>\n      <td>C2</td>\n      <td>D2</td>\n    </tr>\n    <tr>\n      <th>4</th>\n      <td>k2</td>\n      <td>k1</td>\n      <td>A3</td>\n      <td>B3</td>\n      <td>NaN</td>\n      <td>NaN</td>\n    </tr>\n  </tbody>\n</table>\n</div>"
     },
     "execution_count": 116,
     "metadata": {},
     "output_type": "execute_result"
    }
   ],
   "source": [
    "left"
   ],
   "metadata": {
    "collapsed": false,
    "ExecuteTime": {
     "end_time": "2024-03-12T09:09:54.548822Z",
     "start_time": "2024-03-12T09:09:54.526046Z"
    }
   },
   "id": "e97d2bb96ae78c04",
   "execution_count": 116
  },
  {
   "cell_type": "code",
   "outputs": [],
   "source": [
    "right = pd.merge(satu, dua, how='right', on=['Key1', 'Key2'])"
   ],
   "metadata": {
    "collapsed": false,
    "ExecuteTime": {
     "end_time": "2024-03-12T09:11:29.965380Z",
     "start_time": "2024-03-12T09:11:29.946325Z"
    }
   },
   "id": "9e87dd7471e8536b",
   "execution_count": 117
  },
  {
   "cell_type": "code",
   "outputs": [
    {
     "data": {
      "text/plain": "  Key1 Key2    A    B   C   D\n0   k0   k0   A0   B0  C0  D0\n1   k1   k0   A2   B2  C1  D1\n2   k1   k0   A2   B2  C2  D2\n3   k2   k0  NaN  NaN  C3  D3",
      "text/html": "<div>\n<style scoped>\n    .dataframe tbody tr th:only-of-type {\n        vertical-align: middle;\n    }\n\n    .dataframe tbody tr th {\n        vertical-align: top;\n    }\n\n    .dataframe thead th {\n        text-align: right;\n    }\n</style>\n<table border=\"1\" class=\"dataframe\">\n  <thead>\n    <tr style=\"text-align: right;\">\n      <th></th>\n      <th>Key1</th>\n      <th>Key2</th>\n      <th>A</th>\n      <th>B</th>\n      <th>C</th>\n      <th>D</th>\n    </tr>\n  </thead>\n  <tbody>\n    <tr>\n      <th>0</th>\n      <td>k0</td>\n      <td>k0</td>\n      <td>A0</td>\n      <td>B0</td>\n      <td>C0</td>\n      <td>D0</td>\n    </tr>\n    <tr>\n      <th>1</th>\n      <td>k1</td>\n      <td>k0</td>\n      <td>A2</td>\n      <td>B2</td>\n      <td>C1</td>\n      <td>D1</td>\n    </tr>\n    <tr>\n      <th>2</th>\n      <td>k1</td>\n      <td>k0</td>\n      <td>A2</td>\n      <td>B2</td>\n      <td>C2</td>\n      <td>D2</td>\n    </tr>\n    <tr>\n      <th>3</th>\n      <td>k2</td>\n      <td>k0</td>\n      <td>NaN</td>\n      <td>NaN</td>\n      <td>C3</td>\n      <td>D3</td>\n    </tr>\n  </tbody>\n</table>\n</div>"
     },
     "execution_count": 118,
     "metadata": {},
     "output_type": "execute_result"
    }
   ],
   "source": [
    "right"
   ],
   "metadata": {
    "collapsed": false,
    "ExecuteTime": {
     "end_time": "2024-03-12T09:11:32.664044Z",
     "start_time": "2024-03-12T09:11:32.655879Z"
    }
   },
   "id": "edeaebf9094ef2e4",
   "execution_count": 118
  },
  {
   "cell_type": "code",
   "outputs": [],
   "source": [
    "outer = pd.merge(satu, dua, how='outer', on=['Key1', 'Key2'])"
   ],
   "metadata": {
    "collapsed": false,
    "ExecuteTime": {
     "end_time": "2024-03-12T09:11:56.448373Z",
     "start_time": "2024-03-12T09:11:56.429671Z"
    }
   },
   "id": "356104b43ae570a9",
   "execution_count": 119
  },
  {
   "cell_type": "code",
   "outputs": [
    {
     "data": {
      "text/plain": "  Key1 Key2    A    B    C    D\n0   k0   k0   A0   B0   C0   D0\n1   k0   k1   A1   B1  NaN  NaN\n2   k1   k0   A2   B2   C1   D1\n3   k1   k0   A2   B2   C2   D2\n4   k2   k0  NaN  NaN   C3   D3\n5   k2   k1   A3   B3  NaN  NaN",
      "text/html": "<div>\n<style scoped>\n    .dataframe tbody tr th:only-of-type {\n        vertical-align: middle;\n    }\n\n    .dataframe tbody tr th {\n        vertical-align: top;\n    }\n\n    .dataframe thead th {\n        text-align: right;\n    }\n</style>\n<table border=\"1\" class=\"dataframe\">\n  <thead>\n    <tr style=\"text-align: right;\">\n      <th></th>\n      <th>Key1</th>\n      <th>Key2</th>\n      <th>A</th>\n      <th>B</th>\n      <th>C</th>\n      <th>D</th>\n    </tr>\n  </thead>\n  <tbody>\n    <tr>\n      <th>0</th>\n      <td>k0</td>\n      <td>k0</td>\n      <td>A0</td>\n      <td>B0</td>\n      <td>C0</td>\n      <td>D0</td>\n    </tr>\n    <tr>\n      <th>1</th>\n      <td>k0</td>\n      <td>k1</td>\n      <td>A1</td>\n      <td>B1</td>\n      <td>NaN</td>\n      <td>NaN</td>\n    </tr>\n    <tr>\n      <th>2</th>\n      <td>k1</td>\n      <td>k0</td>\n      <td>A2</td>\n      <td>B2</td>\n      <td>C1</td>\n      <td>D1</td>\n    </tr>\n    <tr>\n      <th>3</th>\n      <td>k1</td>\n      <td>k0</td>\n      <td>A2</td>\n      <td>B2</td>\n      <td>C2</td>\n      <td>D2</td>\n    </tr>\n    <tr>\n      <th>4</th>\n      <td>k2</td>\n      <td>k0</td>\n      <td>NaN</td>\n      <td>NaN</td>\n      <td>C3</td>\n      <td>D3</td>\n    </tr>\n    <tr>\n      <th>5</th>\n      <td>k2</td>\n      <td>k1</td>\n      <td>A3</td>\n      <td>B3</td>\n      <td>NaN</td>\n      <td>NaN</td>\n    </tr>\n  </tbody>\n</table>\n</div>"
     },
     "execution_count": 120,
     "metadata": {},
     "output_type": "execute_result"
    }
   ],
   "source": [
    "outer"
   ],
   "metadata": {
    "collapsed": false,
    "ExecuteTime": {
     "end_time": "2024-03-12T09:11:57.598364Z",
     "start_time": "2024-03-12T09:11:57.573328Z"
    }
   },
   "id": "6aed362ca64b7610",
   "execution_count": 120
  },
  {
   "cell_type": "code",
   "outputs": [],
   "source": [
    "bapak = pd.DataFrame({\n",
    "    'A': ['A0', 'A1', 'A2'],\n",
    "    'B': ['B0', 'B1', 'B2']},\n",
    "    index=['K0', 'K1', 'K2'])\n",
    "ibu = pd.DataFrame({\n",
    "    'C': ['C0', 'C2', 'C3', ],\n",
    "    'D': ['D0', 'D2', 'D3', ]},\n",
    "    index=['K0', 'K2', 'K3', ])"
   ],
   "metadata": {
    "collapsed": false,
    "ExecuteTime": {
     "end_time": "2024-03-12T09:15:02.139181Z",
     "start_time": "2024-03-12T09:15:02.133183Z"
    }
   },
   "id": "f06a670d1932f068",
   "execution_count": 122
  },
  {
   "cell_type": "code",
   "outputs": [
    {
     "data": {
      "text/plain": "     A   B\nK0  A0  B0\nK1  A1  B1\nK2  A2  B2",
      "text/html": "<div>\n<style scoped>\n    .dataframe tbody tr th:only-of-type {\n        vertical-align: middle;\n    }\n\n    .dataframe tbody tr th {\n        vertical-align: top;\n    }\n\n    .dataframe thead th {\n        text-align: right;\n    }\n</style>\n<table border=\"1\" class=\"dataframe\">\n  <thead>\n    <tr style=\"text-align: right;\">\n      <th></th>\n      <th>A</th>\n      <th>B</th>\n    </tr>\n  </thead>\n  <tbody>\n    <tr>\n      <th>K0</th>\n      <td>A0</td>\n      <td>B0</td>\n    </tr>\n    <tr>\n      <th>K1</th>\n      <td>A1</td>\n      <td>B1</td>\n    </tr>\n    <tr>\n      <th>K2</th>\n      <td>A2</td>\n      <td>B2</td>\n    </tr>\n  </tbody>\n</table>\n</div>"
     },
     "execution_count": 123,
     "metadata": {},
     "output_type": "execute_result"
    }
   ],
   "source": [
    "bapak"
   ],
   "metadata": {
    "collapsed": false,
    "ExecuteTime": {
     "end_time": "2024-03-12T09:15:06.755090Z",
     "start_time": "2024-03-12T09:15:06.645422Z"
    }
   },
   "id": "197c8b2c5ebfecce",
   "execution_count": 123
  },
  {
   "cell_type": "code",
   "outputs": [
    {
     "data": {
      "text/plain": "     C   D\nK0  C0  D0\nK2  C2  D2\nK3  C3  D3",
      "text/html": "<div>\n<style scoped>\n    .dataframe tbody tr th:only-of-type {\n        vertical-align: middle;\n    }\n\n    .dataframe tbody tr th {\n        vertical-align: top;\n    }\n\n    .dataframe thead th {\n        text-align: right;\n    }\n</style>\n<table border=\"1\" class=\"dataframe\">\n  <thead>\n    <tr style=\"text-align: right;\">\n      <th></th>\n      <th>C</th>\n      <th>D</th>\n    </tr>\n  </thead>\n  <tbody>\n    <tr>\n      <th>K0</th>\n      <td>C0</td>\n      <td>D0</td>\n    </tr>\n    <tr>\n      <th>K2</th>\n      <td>C2</td>\n      <td>D2</td>\n    </tr>\n    <tr>\n      <th>K3</th>\n      <td>C3</td>\n      <td>D3</td>\n    </tr>\n  </tbody>\n</table>\n</div>"
     },
     "execution_count": 124,
     "metadata": {},
     "output_type": "execute_result"
    }
   ],
   "source": [
    "ibu"
   ],
   "metadata": {
    "collapsed": false,
    "ExecuteTime": {
     "end_time": "2024-03-12T09:15:10.860135Z",
     "start_time": "2024-03-12T09:15:10.847456Z"
    }
   },
   "id": "e5613ea17ddf8b53",
   "execution_count": 124
  },
  {
   "cell_type": "code",
   "outputs": [],
   "source": [
    "# Join"
   ],
   "metadata": {
    "collapsed": false
   },
   "id": "43d0d194cc410864"
  },
  {
   "cell_type": "code",
   "outputs": [],
   "source": [
    "join=bapak.join(ibu, )"
   ],
   "metadata": {
    "collapsed": false,
    "ExecuteTime": {
     "end_time": "2024-03-12T09:15:41.343674Z",
     "start_time": "2024-03-12T09:15:41.323674Z"
    }
   },
   "id": "335fe90e2e47f842",
   "execution_count": 125
  },
  {
   "cell_type": "code",
   "outputs": [
    {
     "data": {
      "text/plain": "     A   B    C    D\nK0  A0  B0   C0   D0\nK1  A1  B1  NaN  NaN\nK2  A2  B2   C2   D2",
      "text/html": "<div>\n<style scoped>\n    .dataframe tbody tr th:only-of-type {\n        vertical-align: middle;\n    }\n\n    .dataframe tbody tr th {\n        vertical-align: top;\n    }\n\n    .dataframe thead th {\n        text-align: right;\n    }\n</style>\n<table border=\"1\" class=\"dataframe\">\n  <thead>\n    <tr style=\"text-align: right;\">\n      <th></th>\n      <th>A</th>\n      <th>B</th>\n      <th>C</th>\n      <th>D</th>\n    </tr>\n  </thead>\n  <tbody>\n    <tr>\n      <th>K0</th>\n      <td>A0</td>\n      <td>B0</td>\n      <td>C0</td>\n      <td>D0</td>\n    </tr>\n    <tr>\n      <th>K1</th>\n      <td>A1</td>\n      <td>B1</td>\n      <td>NaN</td>\n      <td>NaN</td>\n    </tr>\n    <tr>\n      <th>K2</th>\n      <td>A2</td>\n      <td>B2</td>\n      <td>C2</td>\n      <td>D2</td>\n    </tr>\n  </tbody>\n</table>\n</div>"
     },
     "execution_count": 126,
     "metadata": {},
     "output_type": "execute_result"
    }
   ],
   "source": [
    "join"
   ],
   "metadata": {
    "collapsed": false,
    "ExecuteTime": {
     "end_time": "2024-03-12T09:15:43.569872Z",
     "start_time": "2024-03-12T09:15:43.547445Z"
    }
   },
   "id": "cc93a13a77b09742",
   "execution_count": 126
  },
  {
   "cell_type": "code",
   "outputs": [],
   "source": [
    "joinInner=bapak.join(ibu,how='inner')"
   ],
   "metadata": {
    "collapsed": false,
    "ExecuteTime": {
     "end_time": "2024-03-12T09:16:59.696297Z",
     "start_time": "2024-03-12T09:16:59.688849Z"
    }
   },
   "id": "84c09b936d503fe3",
   "execution_count": 129
  },
  {
   "cell_type": "code",
   "outputs": [
    {
     "data": {
      "text/plain": "     A   B   C   D\nK0  A0  B0  C0  D0\nK2  A2  B2  C2  D2",
      "text/html": "<div>\n<style scoped>\n    .dataframe tbody tr th:only-of-type {\n        vertical-align: middle;\n    }\n\n    .dataframe tbody tr th {\n        vertical-align: top;\n    }\n\n    .dataframe thead th {\n        text-align: right;\n    }\n</style>\n<table border=\"1\" class=\"dataframe\">\n  <thead>\n    <tr style=\"text-align: right;\">\n      <th></th>\n      <th>A</th>\n      <th>B</th>\n      <th>C</th>\n      <th>D</th>\n    </tr>\n  </thead>\n  <tbody>\n    <tr>\n      <th>K0</th>\n      <td>A0</td>\n      <td>B0</td>\n      <td>C0</td>\n      <td>D0</td>\n    </tr>\n    <tr>\n      <th>K2</th>\n      <td>A2</td>\n      <td>B2</td>\n      <td>C2</td>\n      <td>D2</td>\n    </tr>\n  </tbody>\n</table>\n</div>"
     },
     "execution_count": 130,
     "metadata": {},
     "output_type": "execute_result"
    }
   ],
   "source": [
    "joinInner"
   ],
   "metadata": {
    "collapsed": false,
    "ExecuteTime": {
     "end_time": "2024-03-12T09:16:59.993219Z",
     "start_time": "2024-03-12T09:16:59.978191Z"
    }
   },
   "id": "21578f25dad603f3",
   "execution_count": 130
  },
  {
   "cell_type": "code",
   "outputs": [],
   "source": [],
   "metadata": {
    "collapsed": false,
    "ExecuteTime": {
     "end_time": "2024-03-12T09:17:00.345162Z",
     "start_time": "2024-03-12T09:17:00.331353Z"
    }
   },
   "id": "900acc029deb4f07",
   "execution_count": 130
  },
  {
   "cell_type": "code",
   "outputs": [],
   "source": [],
   "metadata": {
    "collapsed": false
   },
   "id": "f129260d94277f14"
  }
 ],
 "metadata": {
  "kernelspec": {
   "display_name": "Python 3",
   "language": "python",
   "name": "python3"
  },
  "language_info": {
   "codemirror_mode": {
    "name": "ipython",
    "version": 2
   },
   "file_extension": ".py",
   "mimetype": "text/x-python",
   "name": "python",
   "nbconvert_exporter": "python",
   "pygments_lexer": "ipython2",
   "version": "2.7.6"
  }
 },
 "nbformat": 4,
 "nbformat_minor": 5
}
